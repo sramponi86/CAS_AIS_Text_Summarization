{
  "nbformat": 4,
  "nbformat_minor": 0,
  "metadata": {
    "colab": {
      "provenance": [],
      "include_colab_link": true
    },
    "kernelspec": {
      "name": "python3",
      "display_name": "Python 3"
    },
    "language_info": {
      "name": "python"
    }
  },
  "cells": [
    {
      "cell_type": "markdown",
      "metadata": {
        "id": "view-in-github",
        "colab_type": "text"
      },
      "source": [
        "<a href=\"https://colab.research.google.com/github/sramponi86/CAS_AIS_Text_Summarization/blob/main/CAS_ExtractiveSummarization_WIP.ipynb\" target=\"_parent\"><img src=\"https://colab.research.google.com/assets/colab-badge.svg\" alt=\"Open In Colab\"/></a>"
      ]
    },
    {
      "cell_type": "markdown",
      "source": [
        "# Introduction\n",
        "\n",
        "This notebook demonstrates the process of extractive summarization using AI techniques. Extractive summarization involves selecting important sentences from a text to create a summary. This can be particularly useful in managing large volumes of information efficiently. We will use natural language processing (NLP) libraries and machine learning models to identify and extract key sentences from a given text.\n",
        "\n",
        "**Important** If you are running this notebook in JupyterHub, please restart the server and choose the environment *ETH_CAS_AIS Jupyter environment for project 5*."
      ],
      "metadata": {
        "id": "OrylZy4t6SHl"
      }
    },
    {
      "cell_type": "markdown",
      "source": [
        "We begin by installing some dependencies. These libraries include tools for processing language data and pre-trained models for generating sentence embeddings, which are numerical representations of sentences' meanings."
      ],
      "metadata": {
        "id": "KY4Hi9UuQUu4"
      }
    },
    {
      "cell_type": "code",
      "source": [
        "!pip install safetensors sentence_transformers ipyplot==1.1.0\n",
        "!pip install transformers --upgrade"
      ],
      "metadata": {
        "colab": {
          "base_uri": "https://localhost:8080/"
        },
        "id": "_QE7TzxCfCFy",
        "outputId": "6570bf66-da7c-45dc-8d57-e385433bc69a"
      },
      "execution_count": 1,
      "outputs": [
        {
          "output_type": "stream",
          "name": "stdout",
          "text": [
            "Requirement already satisfied: safetensors in /usr/local/lib/python3.10/dist-packages (0.4.2)\n",
            "Collecting sentence_transformers\n",
            "  Downloading sentence_transformers-2.5.1-py3-none-any.whl (156 kB)\n",
            "\u001b[2K     \u001b[90m━━━━━━━━━━━━━━━━━━━━━━━━━━━━━━━━━━━━━━━━\u001b[0m \u001b[32m156.5/156.5 kB\u001b[0m \u001b[31m2.5 MB/s\u001b[0m eta \u001b[36m0:00:00\u001b[0m\n",
            "\u001b[?25hCollecting ipyplot==1.1.0\n",
            "  Downloading ipyplot-1.1.0-py3-none-any.whl (13 kB)\n",
            "Requirement already satisfied: IPython in /usr/local/lib/python3.10/dist-packages (from ipyplot==1.1.0) (7.34.0)\n",
            "Requirement already satisfied: numpy in /usr/local/lib/python3.10/dist-packages (from ipyplot==1.1.0) (1.25.2)\n",
            "Requirement already satisfied: pillow in /usr/local/lib/python3.10/dist-packages (from ipyplot==1.1.0) (9.4.0)\n",
            "Collecting shortuuid (from ipyplot==1.1.0)\n",
            "  Downloading shortuuid-1.0.13-py3-none-any.whl (10 kB)\n",
            "Requirement already satisfied: transformers<5.0.0,>=4.32.0 in /usr/local/lib/python3.10/dist-packages (from sentence_transformers) (4.38.2)\n",
            "Requirement already satisfied: tqdm in /usr/local/lib/python3.10/dist-packages (from sentence_transformers) (4.66.2)\n",
            "Requirement already satisfied: torch>=1.11.0 in /usr/local/lib/python3.10/dist-packages (from sentence_transformers) (2.2.1+cu121)\n",
            "Requirement already satisfied: scikit-learn in /usr/local/lib/python3.10/dist-packages (from sentence_transformers) (1.2.2)\n",
            "Requirement already satisfied: scipy in /usr/local/lib/python3.10/dist-packages (from sentence_transformers) (1.11.4)\n",
            "Requirement already satisfied: huggingface-hub>=0.15.1 in /usr/local/lib/python3.10/dist-packages (from sentence_transformers) (0.20.3)\n",
            "Requirement already satisfied: filelock in /usr/local/lib/python3.10/dist-packages (from huggingface-hub>=0.15.1->sentence_transformers) (3.13.1)\n",
            "Requirement already satisfied: fsspec>=2023.5.0 in /usr/local/lib/python3.10/dist-packages (from huggingface-hub>=0.15.1->sentence_transformers) (2023.6.0)\n",
            "Requirement already satisfied: requests in /usr/local/lib/python3.10/dist-packages (from huggingface-hub>=0.15.1->sentence_transformers) (2.31.0)\n",
            "Requirement already satisfied: pyyaml>=5.1 in /usr/local/lib/python3.10/dist-packages (from huggingface-hub>=0.15.1->sentence_transformers) (6.0.1)\n",
            "Requirement already satisfied: typing-extensions>=3.7.4.3 in /usr/local/lib/python3.10/dist-packages (from huggingface-hub>=0.15.1->sentence_transformers) (4.10.0)\n",
            "Requirement already satisfied: packaging>=20.9 in /usr/local/lib/python3.10/dist-packages (from huggingface-hub>=0.15.1->sentence_transformers) (24.0)\n",
            "Requirement already satisfied: sympy in /usr/local/lib/python3.10/dist-packages (from torch>=1.11.0->sentence_transformers) (1.12)\n",
            "Requirement already satisfied: networkx in /usr/local/lib/python3.10/dist-packages (from torch>=1.11.0->sentence_transformers) (3.2.1)\n",
            "Requirement already satisfied: jinja2 in /usr/local/lib/python3.10/dist-packages (from torch>=1.11.0->sentence_transformers) (3.1.3)\n",
            "Collecting nvidia-cuda-nvrtc-cu12==12.1.105 (from torch>=1.11.0->sentence_transformers)\n",
            "  Downloading nvidia_cuda_nvrtc_cu12-12.1.105-py3-none-manylinux1_x86_64.whl (23.7 MB)\n",
            "\u001b[2K     \u001b[90m━━━━━━━━━━━━━━━━━━━━━━━━━━━━━━━━━━━━━━━━\u001b[0m \u001b[32m23.7/23.7 MB\u001b[0m \u001b[31m17.5 MB/s\u001b[0m eta \u001b[36m0:00:00\u001b[0m\n",
            "\u001b[?25hCollecting nvidia-cuda-runtime-cu12==12.1.105 (from torch>=1.11.0->sentence_transformers)\n",
            "  Downloading nvidia_cuda_runtime_cu12-12.1.105-py3-none-manylinux1_x86_64.whl (823 kB)\n",
            "\u001b[2K     \u001b[90m━━━━━━━━━━━━━━━━━━━━━━━━━━━━━━━━━━━━━━━━\u001b[0m \u001b[32m823.6/823.6 kB\u001b[0m \u001b[31m19.7 MB/s\u001b[0m eta \u001b[36m0:00:00\u001b[0m\n",
            "\u001b[?25hCollecting nvidia-cuda-cupti-cu12==12.1.105 (from torch>=1.11.0->sentence_transformers)\n",
            "  Downloading nvidia_cuda_cupti_cu12-12.1.105-py3-none-manylinux1_x86_64.whl (14.1 MB)\n",
            "\u001b[2K     \u001b[90m━━━━━━━━━━━━━━━━━━━━━━━━━━━━━━━━━━━━━━━━\u001b[0m \u001b[32m14.1/14.1 MB\u001b[0m \u001b[31m17.7 MB/s\u001b[0m eta \u001b[36m0:00:00\u001b[0m\n",
            "\u001b[?25hCollecting nvidia-cudnn-cu12==8.9.2.26 (from torch>=1.11.0->sentence_transformers)\n",
            "  Downloading nvidia_cudnn_cu12-8.9.2.26-py3-none-manylinux1_x86_64.whl (731.7 MB)\n",
            "\u001b[2K     \u001b[90m━━━━━━━━━━━━━━━━━━━━━━━━━━━━━━━━━━━━━━━━\u001b[0m \u001b[32m731.7/731.7 MB\u001b[0m \u001b[31m1.1 MB/s\u001b[0m eta \u001b[36m0:00:00\u001b[0m\n",
            "\u001b[?25hCollecting nvidia-cublas-cu12==12.1.3.1 (from torch>=1.11.0->sentence_transformers)\n",
            "  Downloading nvidia_cublas_cu12-12.1.3.1-py3-none-manylinux1_x86_64.whl (410.6 MB)\n",
            "\u001b[2K     \u001b[90m━━━━━━━━━━━━━━━━━━━━━━━━━━━━━━━━━━━━━━━━\u001b[0m \u001b[32m410.6/410.6 MB\u001b[0m \u001b[31m2.8 MB/s\u001b[0m eta \u001b[36m0:00:00\u001b[0m\n",
            "\u001b[?25hCollecting nvidia-cufft-cu12==11.0.2.54 (from torch>=1.11.0->sentence_transformers)\n",
            "  Downloading nvidia_cufft_cu12-11.0.2.54-py3-none-manylinux1_x86_64.whl (121.6 MB)\n",
            "\u001b[2K     \u001b[90m━━━━━━━━━━━━━━━━━━━━━━━━━━━━━━━━━━━━━━━━\u001b[0m \u001b[32m121.6/121.6 MB\u001b[0m \u001b[31m8.8 MB/s\u001b[0m eta \u001b[36m0:00:00\u001b[0m\n",
            "\u001b[?25hCollecting nvidia-curand-cu12==10.3.2.106 (from torch>=1.11.0->sentence_transformers)\n",
            "  Downloading nvidia_curand_cu12-10.3.2.106-py3-none-manylinux1_x86_64.whl (56.5 MB)\n",
            "\u001b[2K     \u001b[90m━━━━━━━━━━━━━━━━━━━━━━━━━━━━━━━━━━━━━━━━\u001b[0m \u001b[32m56.5/56.5 MB\u001b[0m \u001b[31m10.5 MB/s\u001b[0m eta \u001b[36m0:00:00\u001b[0m\n",
            "\u001b[?25hCollecting nvidia-cusolver-cu12==11.4.5.107 (from torch>=1.11.0->sentence_transformers)\n",
            "  Downloading nvidia_cusolver_cu12-11.4.5.107-py3-none-manylinux1_x86_64.whl (124.2 MB)\n",
            "\u001b[2K     \u001b[90m━━━━━━━━━━━━━━━━━━━━━━━━━━━━━━━━━━━━━━━━\u001b[0m \u001b[32m124.2/124.2 MB\u001b[0m \u001b[31m8.3 MB/s\u001b[0m eta \u001b[36m0:00:00\u001b[0m\n",
            "\u001b[?25hCollecting nvidia-cusparse-cu12==12.1.0.106 (from torch>=1.11.0->sentence_transformers)\n",
            "  Downloading nvidia_cusparse_cu12-12.1.0.106-py3-none-manylinux1_x86_64.whl (196.0 MB)\n",
            "\u001b[2K     \u001b[90m━━━━━━━━━━━━━━━━━━━━━━━━━━━━━━━━━━━━━━━━\u001b[0m \u001b[32m196.0/196.0 MB\u001b[0m \u001b[31m2.4 MB/s\u001b[0m eta \u001b[36m0:00:00\u001b[0m\n",
            "\u001b[?25hCollecting nvidia-nccl-cu12==2.19.3 (from torch>=1.11.0->sentence_transformers)\n",
            "  Downloading nvidia_nccl_cu12-2.19.3-py3-none-manylinux1_x86_64.whl (166.0 MB)\n",
            "\u001b[2K     \u001b[90m━━━━━━━━━━━━━━━━━━━━━━━━━━━━━━━━━━━━━━━━\u001b[0m \u001b[32m166.0/166.0 MB\u001b[0m \u001b[31m6.0 MB/s\u001b[0m eta \u001b[36m0:00:00\u001b[0m\n",
            "\u001b[?25hCollecting nvidia-nvtx-cu12==12.1.105 (from torch>=1.11.0->sentence_transformers)\n",
            "  Downloading nvidia_nvtx_cu12-12.1.105-py3-none-manylinux1_x86_64.whl (99 kB)\n",
            "\u001b[2K     \u001b[90m━━━━━━━━━━━━━━━━━━━━━━━━━━━━━━━━━━━━━━━━\u001b[0m \u001b[32m99.1/99.1 kB\u001b[0m \u001b[31m12.5 MB/s\u001b[0m eta \u001b[36m0:00:00\u001b[0m\n",
            "\u001b[?25hRequirement already satisfied: triton==2.2.0 in /usr/local/lib/python3.10/dist-packages (from torch>=1.11.0->sentence_transformers) (2.2.0)\n",
            "Collecting nvidia-nvjitlink-cu12 (from nvidia-cusolver-cu12==11.4.5.107->torch>=1.11.0->sentence_transformers)\n",
            "  Downloading nvidia_nvjitlink_cu12-12.4.99-py3-none-manylinux2014_x86_64.whl (21.1 MB)\n",
            "\u001b[2K     \u001b[90m━━━━━━━━━━━━━━━━━━━━━━━━━━━━━━━━━━━━━━━━\u001b[0m \u001b[32m21.1/21.1 MB\u001b[0m \u001b[31m57.2 MB/s\u001b[0m eta \u001b[36m0:00:00\u001b[0m\n",
            "\u001b[?25hRequirement already satisfied: regex!=2019.12.17 in /usr/local/lib/python3.10/dist-packages (from transformers<5.0.0,>=4.32.0->sentence_transformers) (2023.12.25)\n",
            "Requirement already satisfied: tokenizers<0.19,>=0.14 in /usr/local/lib/python3.10/dist-packages (from transformers<5.0.0,>=4.32.0->sentence_transformers) (0.15.2)\n",
            "Requirement already satisfied: setuptools>=18.5 in /usr/local/lib/python3.10/dist-packages (from IPython->ipyplot==1.1.0) (67.7.2)\n",
            "Collecting jedi>=0.16 (from IPython->ipyplot==1.1.0)\n",
            "  Downloading jedi-0.19.1-py2.py3-none-any.whl (1.6 MB)\n",
            "\u001b[2K     \u001b[90m━━━━━━━━━━━━━━━━━━━━━━━━━━━━━━━━━━━━━━━━\u001b[0m \u001b[32m1.6/1.6 MB\u001b[0m \u001b[31m68.5 MB/s\u001b[0m eta \u001b[36m0:00:00\u001b[0m\n",
            "\u001b[?25hRequirement already satisfied: decorator in /usr/local/lib/python3.10/dist-packages (from IPython->ipyplot==1.1.0) (4.4.2)\n",
            "Requirement already satisfied: pickleshare in /usr/local/lib/python3.10/dist-packages (from IPython->ipyplot==1.1.0) (0.7.5)\n",
            "Requirement already satisfied: traitlets>=4.2 in /usr/local/lib/python3.10/dist-packages (from IPython->ipyplot==1.1.0) (5.7.1)\n",
            "Requirement already satisfied: prompt-toolkit!=3.0.0,!=3.0.1,<3.1.0,>=2.0.0 in /usr/local/lib/python3.10/dist-packages (from IPython->ipyplot==1.1.0) (3.0.43)\n",
            "Requirement already satisfied: pygments in /usr/local/lib/python3.10/dist-packages (from IPython->ipyplot==1.1.0) (2.16.1)\n",
            "Requirement already satisfied: backcall in /usr/local/lib/python3.10/dist-packages (from IPython->ipyplot==1.1.0) (0.2.0)\n",
            "Requirement already satisfied: matplotlib-inline in /usr/local/lib/python3.10/dist-packages (from IPython->ipyplot==1.1.0) (0.1.6)\n",
            "Requirement already satisfied: pexpect>4.3 in /usr/local/lib/python3.10/dist-packages (from IPython->ipyplot==1.1.0) (4.9.0)\n",
            "Requirement already satisfied: joblib>=1.1.1 in /usr/local/lib/python3.10/dist-packages (from scikit-learn->sentence_transformers) (1.3.2)\n",
            "Requirement already satisfied: threadpoolctl>=2.0.0 in /usr/local/lib/python3.10/dist-packages (from scikit-learn->sentence_transformers) (3.3.0)\n",
            "Requirement already satisfied: parso<0.9.0,>=0.8.3 in /usr/local/lib/python3.10/dist-packages (from jedi>=0.16->IPython->ipyplot==1.1.0) (0.8.3)\n",
            "Requirement already satisfied: ptyprocess>=0.5 in /usr/local/lib/python3.10/dist-packages (from pexpect>4.3->IPython->ipyplot==1.1.0) (0.7.0)\n",
            "Requirement already satisfied: wcwidth in /usr/local/lib/python3.10/dist-packages (from prompt-toolkit!=3.0.0,!=3.0.1,<3.1.0,>=2.0.0->IPython->ipyplot==1.1.0) (0.2.13)\n",
            "Requirement already satisfied: MarkupSafe>=2.0 in /usr/local/lib/python3.10/dist-packages (from jinja2->torch>=1.11.0->sentence_transformers) (2.1.5)\n",
            "Requirement already satisfied: charset-normalizer<4,>=2 in /usr/local/lib/python3.10/dist-packages (from requests->huggingface-hub>=0.15.1->sentence_transformers) (3.3.2)\n",
            "Requirement already satisfied: idna<4,>=2.5 in /usr/local/lib/python3.10/dist-packages (from requests->huggingface-hub>=0.15.1->sentence_transformers) (3.6)\n",
            "Requirement already satisfied: urllib3<3,>=1.21.1 in /usr/local/lib/python3.10/dist-packages (from requests->huggingface-hub>=0.15.1->sentence_transformers) (2.0.7)\n",
            "Requirement already satisfied: certifi>=2017.4.17 in /usr/local/lib/python3.10/dist-packages (from requests->huggingface-hub>=0.15.1->sentence_transformers) (2024.2.2)\n",
            "Requirement already satisfied: mpmath>=0.19 in /usr/local/lib/python3.10/dist-packages (from sympy->torch>=1.11.0->sentence_transformers) (1.3.0)\n",
            "Installing collected packages: shortuuid, nvidia-nvtx-cu12, nvidia-nvjitlink-cu12, nvidia-nccl-cu12, nvidia-curand-cu12, nvidia-cufft-cu12, nvidia-cuda-runtime-cu12, nvidia-cuda-nvrtc-cu12, nvidia-cuda-cupti-cu12, nvidia-cublas-cu12, jedi, nvidia-cusparse-cu12, nvidia-cudnn-cu12, nvidia-cusolver-cu12, ipyplot, sentence_transformers\n",
            "Successfully installed ipyplot-1.1.0 jedi-0.19.1 nvidia-cublas-cu12-12.1.3.1 nvidia-cuda-cupti-cu12-12.1.105 nvidia-cuda-nvrtc-cu12-12.1.105 nvidia-cuda-runtime-cu12-12.1.105 nvidia-cudnn-cu12-8.9.2.26 nvidia-cufft-cu12-11.0.2.54 nvidia-curand-cu12-10.3.2.106 nvidia-cusolver-cu12-11.4.5.107 nvidia-cusparse-cu12-12.1.0.106 nvidia-nccl-cu12-2.19.3 nvidia-nvjitlink-cu12-12.4.99 nvidia-nvtx-cu12-12.1.105 sentence_transformers-2.5.1 shortuuid-1.0.13\n",
            "Requirement already satisfied: transformers in /usr/local/lib/python3.10/dist-packages (4.38.2)\n",
            "Requirement already satisfied: filelock in /usr/local/lib/python3.10/dist-packages (from transformers) (3.13.1)\n",
            "Requirement already satisfied: huggingface-hub<1.0,>=0.19.3 in /usr/local/lib/python3.10/dist-packages (from transformers) (0.20.3)\n",
            "Requirement already satisfied: numpy>=1.17 in /usr/local/lib/python3.10/dist-packages (from transformers) (1.25.2)\n",
            "Requirement already satisfied: packaging>=20.0 in /usr/local/lib/python3.10/dist-packages (from transformers) (24.0)\n",
            "Requirement already satisfied: pyyaml>=5.1 in /usr/local/lib/python3.10/dist-packages (from transformers) (6.0.1)\n",
            "Requirement already satisfied: regex!=2019.12.17 in /usr/local/lib/python3.10/dist-packages (from transformers) (2023.12.25)\n",
            "Requirement already satisfied: requests in /usr/local/lib/python3.10/dist-packages (from transformers) (2.31.0)\n",
            "Requirement already satisfied: tokenizers<0.19,>=0.14 in /usr/local/lib/python3.10/dist-packages (from transformers) (0.15.2)\n",
            "Requirement already satisfied: safetensors>=0.4.1 in /usr/local/lib/python3.10/dist-packages (from transformers) (0.4.2)\n",
            "Requirement already satisfied: tqdm>=4.27 in /usr/local/lib/python3.10/dist-packages (from transformers) (4.66.2)\n",
            "Requirement already satisfied: fsspec>=2023.5.0 in /usr/local/lib/python3.10/dist-packages (from huggingface-hub<1.0,>=0.19.3->transformers) (2023.6.0)\n",
            "Requirement already satisfied: typing-extensions>=3.7.4.3 in /usr/local/lib/python3.10/dist-packages (from huggingface-hub<1.0,>=0.19.3->transformers) (4.10.0)\n",
            "Requirement already satisfied: charset-normalizer<4,>=2 in /usr/local/lib/python3.10/dist-packages (from requests->transformers) (3.3.2)\n",
            "Requirement already satisfied: idna<4,>=2.5 in /usr/local/lib/python3.10/dist-packages (from requests->transformers) (3.6)\n",
            "Requirement already satisfied: urllib3<3,>=1.21.1 in /usr/local/lib/python3.10/dist-packages (from requests->transformers) (2.0.7)\n",
            "Requirement already satisfied: certifi>=2017.4.17 in /usr/local/lib/python3.10/dist-packages (from requests->transformers) (2024.2.2)\n"
          ]
        }
      ]
    },
    {
      "cell_type": "markdown",
      "source": [
        "Next, we import the libraries we will be using. `Spacy` is used for sentence tokenization, `SentenceTransformer` for generating sentence embeddings, and `numpy` for mathematical operations."
      ],
      "metadata": {
        "id": "pAu_IPBHQor_"
      }
    },
    {
      "cell_type": "code",
      "source": [
        "from spacy.lang.en import English\n",
        "from sentence_transformers import SentenceTransformer\n",
        "import numpy as np"
      ],
      "metadata": {
        "id": "5nopoAbIQlw7"
      },
      "execution_count": 2,
      "outputs": []
    },
    {
      "cell_type": "markdown",
      "source": [
        "We now initialize Spacy with the English language model and add a sentencizer component. This prepares us to split our text into individual sentences."
      ],
      "metadata": {
        "id": "c74tQ2r8Q0D1"
      }
    },
    {
      "cell_type": "code",
      "source": [
        "spacy = English()\n",
        "spacy.add_pipe(\"sentencizer\")"
      ],
      "metadata": {
        "id": "tLT4y8ikQxfA",
        "colab": {
          "base_uri": "https://localhost:8080/"
        },
        "outputId": "f98f8010-924d-4626-e56a-1256a9ff12dc"
      },
      "execution_count": 3,
      "outputs": [
        {
          "output_type": "execute_result",
          "data": {
            "text/plain": [
              "<spacy.pipeline.sentencizer.Sentencizer at 0x7c7a49da6c40>"
            ]
          },
          "metadata": {},
          "execution_count": 3
        }
      ]
    },
    {
      "cell_type": "markdown",
      "source": [
        "We now define a function to split texts into sentences. It is crucial for preparing our text for summarization."
      ],
      "metadata": {
        "id": "w8q3xilMQ8md"
      }
    },
    {
      "cell_type": "code",
      "source": [
        "def split(text):\n",
        "  \"\"\"\n",
        "  Splits a text into sentences using the Spacy library.\n",
        "\n",
        "  Parameters\n",
        "  ----------\n",
        "  text : str\n",
        "      The text to be split into sentences.\n",
        "\n",
        "  Returns\n",
        "  -------\n",
        "  list\n",
        "      The list of sentences in the text.\n",
        "  \"\"\"\n",
        "  processed_text = spacy(text)\n",
        "  processed_sentences = processed_text.sents\n",
        "\n",
        "  sentences = []\n",
        "  for sentence in processed_sentences:\n",
        "    sentences.append(sentence.text)\n",
        "\n",
        "  return sentences"
      ],
      "metadata": {
        "id": "o_v5d-zQQ5PM"
      },
      "execution_count": 4,
      "outputs": []
    },
    {
      "cell_type": "markdown",
      "source": [
        "We now define a sample text to be summarized. This text will be processed through our summarization pipeline."
      ],
      "metadata": {
        "id": "44tZmV8dRJgC"
      }
    },
    {
      "cell_type": "code",
      "execution_count": 5,
      "metadata": {
        "id": "MJxzdB7HH8Xl"
      },
      "outputs": [],
      "source": [
        "text = \"You will rejoice to hear that no disaster has accompanied the \\\n",
        "commencement of an enterprise which you have regarded with such evil \\\n",
        "forebodings. I arrived here yesterday, and my first task is to assure \\\n",
        "my dear sister of my welfare and increasing confidence in the success \\\n",
        "of my undertaking. \\\n",
        "I am already far north of London, and as I walk in the streets of \\\n",
        "Petersburgh, I feel a cold northern breeze play upon my cheeks, which \\\n",
        "braces my nerves and fills me with delight. Do you understand this \\\n",
        "feeling? This breeze, which has travelled from the regions towards \\\n",
        "which I am advancing, gives me a foretaste of those icy climes. \\\n",
        "Inspirited by this wind of promise, my daydreams become more fervent \\\n",
        "and vivid. I try in vain to be persuaded that the pole is the seat of \\\n",
        "frost and desolation; it ever presents itself to my imagination as the \\\n",
        "region of beauty and delight. There, Margaret, the sun is for ever \\\n",
        "visible, its broad disk just skirting the horizon and diffusing a \\\n",
        "perpetual splendour. There—for with your leave, my sister, I will put \\\n",
        "some trust in preceding navigators—there snow and frost are banished; \\\n",
        "and, sailing over a calm sea, we may be wafted to a land surpassing in \\\n",
        "wonders and in beauty every region hitherto discovered on the habitable \\\n",
        "globe. Its productions and features may be without example, as the \\\n",
        "phenomena of the heavenly bodies undoubtedly are in those undiscovered \\\n",
        "solitudes. What may not be expected in a country of eternal light? I \\\n",
        "may there discover the wondrous power which attracts the needle and may \\\n",
        "regulate a thousand celestial observations that require only this \\\n",
        "voyage to render their seeming eccentricities consistent for ever. I \\\n",
        "shall satiate my ardent curiosity with the sight of a part of the world \\\n",
        "never before visited, and may tread a land never before imprinted by \\\n",
        "the foot of man. These are my enticements, and they are sufficient to \\\n",
        "conquer all fear of danger or death and to induce me to commence this \\\n",
        "laborious voyage with the joy a child feels when he embarks in a little \\\n",
        "boat, with his holiday mates, on an expedition of discovery up his \\\n",
        "native river. But supposing all these conjectures to be false, you \\\n",
        "cannot contest the inestimable benefit which I shall confer on all \\\n",
        "mankind, to the last generation, by discovering a passage near the pole \\\n",
        "to those countries, to reach which at present so many months are \\\n",
        "requisite; or by ascertaining the secret of the magnet, which, if at \\\n",
        "all possible, can only be effected by an undertaking such as mine. \\\n",
        "These reflections have dispelled the agitation with which I began my \\\n",
        "letter, and I feel my heart glow with an enthusiasm which elevates me \\\n",
        "to heaven, for nothing contributes so much to tranquillise the mind as \\\n",
        "a steady purpose—a point on which the soul may fix its intellectual \\\n",
        "eye. This expedition has been the favourite dream of my early years. I \\\n",
        "have read with ardour the accounts of the various voyages which have \\\n",
        "been made in the prospect of arriving at the North Pacific Ocean \\\n",
        "through the seas which surround the pole. You may remember that a \\\n",
        "history of all the voyages made for purposes of discovery composed the \\\n",
        "whole of our good Uncle Thomas’ library. My education was neglected, \\\n",
        "yet I was passionately fond of reading. These volumes were my study \\\n",
        "day and night, and my familiarity with them increased that regret which \\\n",
        "I had felt, as a child, on learning that my father’s dying injunction \\\n",
        "had forbidden my uncle to allow me to embark in a seafaring life. \\\n",
        "These visions faded when I perused, for the first time, those poets \\\n",
        "whose effusions entranced my soul and lifted it to heaven. I also \\\n",
        "became a poet and for one year lived in a paradise of my own creation; \\\n",
        "I imagined that I also might obtain a niche in the temple where the \\\n",
        "names of Homer and Shakespeare are consecrated. You are well \\\n",
        "acquainted with my failure and how heavily I bore the disappointment. \\\n",
        "But just at that time I inherited the fortune of my cousin, and my \\\n",
        "thoughts were turned into the channel of their earlier bent. \\\n",
        "Six years have passed since I resolved on my present undertaking. I \\\n",
        "can, even now, remember the hour from which I dedicated myself to this \\\n",
        "great enterprise. I commenced by inuring my body to hardship. I \\\n",
        "accompanied the whale-fishers on several expeditions to the North Sea; \\\n",
        "I voluntarily endured cold, famine, thirst, and want of sleep; I often \\\n",
        "worked harder than the common sailors during the day and devoted my \\\n",
        "nights to the study of mathematics, the theory of medicine, and those \\\n",
        "branches of physical science from which a naval adventurer might derive \\\n",
        "the greatest practical advantage. Twice I actually hired myself as an \\\n",
        "under-mate in a Greenland whaler, and acquitted myself to admiration. I \\\n",
        "must own I felt a little proud when my captain offered me the second \\\n",
        "dignity in the vessel and entreated me to remain with the greatest \\\n",
        "earnestness, so valuable did he consider my services.\""
      ]
    },
    {
      "cell_type": "code",
      "source": [
        "personal_text = \"The Africa Biofortified Sorghum Project is aimed at resolving the problem of hunger and malnutrition. Also, food security contributes to poverty eradication and the support of economic well-being and development. Therefore, the more general aim of the project was to improve the quality of life in Africa and ensure its sustainable development. \\\n",
        "Food security is not always easily achieved in many African countries, where agriculture has to deal with climate specifics including heat and droughts. Despite its rather low nutritional value, sorghum is tolerant to these conditions, which makes it a typical and even “staple” dietary product for many African countries, including Ethiopia and Sudan (Mastandrea, 2009, p. 111). \\\n",
        "As a result, improving this crop was deemed a suitable strategy for enhancing food stability in Africa. Given the fact that the majority of the African population cannot afford dietary supplements, the improvement of a staple food appears to be a wise choice. \\\n",
        "To successfully deliver the program, modern scientific technology and infrastructure for its transfer were required. Also, education for the stakeholders, as well as other means of providing an enabling environment for the change, was necessary. Both of these requirements also needed funding. No single organization could produce all these factors, which is why an alliance was formed to plan and implement the project. \\\n",
        "The project was created by the Africa Harvest Biotech Foundation International that worked in alliance with a number of “private, public and academic organizations” and received funding from the Bill & Melinda Gates Foundation (Mastandrea, 2009, p. 112). The challenge of organizing the collaboration of the organizations was successfully resolved, and a structure for teamwork was developed. Despite this, the partners “found it challenging” to ensure the engagement of stakeholders, their communication, and the information flow between them (Mastandrea, 2009, p. 113). \\\n",
        "In particular, language and cultural barriers were met in Burkina Faso, but means of resolving them (meetings, training) were found. The political aspect of the work was also challenging: before encountering some difficulties with the permits for the experiments, the organizations had not actively sought the support of governmental figures or the society. The lessons were learned, and the project worked towards ensuring information exchange and vital stakeholder engagement and education. Also, the project found that the best way to motivate stakeholders consists in demonstrating them tangible results. \\\n",
        "The challenges related to the technological part of the project have been appropriately met. The transformation system that was developed for the plant became a useful contribution to the bulk of knowledge of genetic engineering, and it can be used for future projects. In general, I think that the project can indeed be replicated in other countries that suffer from a similar issue because similar problems require similar solutions. However, if it is adjusted, it will be more likely to bring positive results in specific settings that can be different. Also, the implementation lessons and the example of the partnership of public and private organizations from various regions can be of use for future projects. \\\n",
        "\""
      ],
      "metadata": {
        "id": "32ExYpYYEOp5"
      },
      "execution_count": 13,
      "outputs": []
    },
    {
      "cell_type": "markdown",
      "source": [
        "The next cell applies the previously defined `split` function to our text and prints the individual sentences, allowing us to see how the text has been divided."
      ],
      "metadata": {
        "id": "2lrtSZI5RQ0E"
      }
    },
    {
      "cell_type": "code",
      "source": [
        "sentences = split(personal_text)#text)\n",
        "print(\"\\n\\n\".join(sentences))"
      ],
      "metadata": {
        "colab": {
          "base_uri": "https://localhost:8080/"
        },
        "id": "0SdbIPYCeE4b",
        "outputId": "093b0c1b-9360-4f06-f1e6-c4ef517db7c3"
      },
      "execution_count": 14,
      "outputs": [
        {
          "output_type": "stream",
          "name": "stdout",
          "text": [
            "The Africa Biofortified Sorghum Project is aimed at resolving the problem of hunger and malnutrition.\n",
            "\n",
            "Also, food security contributes to poverty eradication and the support of economic well-being and development.\n",
            "\n",
            "Therefore, the more general aim of the project was to improve the quality of life in Africa and ensure its sustainable development.\n",
            "\n",
            "Food security is not always easily achieved in many African countries, where agriculture has to deal with climate specifics including heat and droughts.\n",
            "\n",
            "Despite its rather low nutritional value, sorghum is tolerant to these conditions, which makes it a typical and even “staple” dietary product for many African countries, including Ethiopia and Sudan (Mastandrea, 2009, p. 111).\n",
            "\n",
            "As a result, improving this crop was deemed a suitable strategy for enhancing food stability in Africa.\n",
            "\n",
            "Given the fact that the majority of the African population cannot afford dietary supplements, the improvement of a staple food appears to be a wise choice.\n",
            "\n",
            "To successfully deliver the program, modern scientific technology and infrastructure for its transfer were required.\n",
            "\n",
            "Also, education for the stakeholders, as well as other means of providing an enabling environment for the change, was necessary.\n",
            "\n",
            "Both of these requirements also needed funding.\n",
            "\n",
            "No single organization could produce all these factors, which is why an alliance was formed to plan and implement the project.\n",
            "\n",
            "The project was created by the Africa Harvest Biotech Foundation International that worked in alliance with a number of “private, public and academic organizations” and received funding from the Bill & Melinda Gates Foundation (Mastandrea, 2009, p. 112).\n",
            "\n",
            "The challenge of organizing the collaboration of the organizations was successfully resolved, and a structure for teamwork was developed.\n",
            "\n",
            "Despite this, the partners “found it challenging” to ensure the engagement of stakeholders, their communication, and the information flow between them (Mastandrea, 2009, p. 113).\n",
            "\n",
            "In particular, language and cultural barriers were met in Burkina Faso, but means of resolving them (meetings, training) were found.\n",
            "\n",
            "The political aspect of the work was also challenging: before encountering some difficulties with the permits for the experiments, the organizations had not actively sought the support of governmental figures or the society.\n",
            "\n",
            "The lessons were learned, and the project worked towards ensuring information exchange and vital stakeholder engagement and education.\n",
            "\n",
            "Also, the project found that the best way to motivate stakeholders consists in demonstrating them tangible results.\n",
            "\n",
            "The challenges related to the technological part of the project have been appropriately met.\n",
            "\n",
            "The transformation system that was developed for the plant became a useful contribution to the bulk of knowledge of genetic engineering, and it can be used for future projects.\n",
            "\n",
            "In general, I think that the project can indeed be replicated in other countries that suffer from a similar issue because similar problems require similar solutions.\n",
            "\n",
            "However, if it is adjusted, it will be more likely to bring positive results in specific settings that can be different.\n",
            "\n",
            "Also, the implementation lessons and the example of the partnership of public and private organizations from various regions can be of use for future projects.\n"
          ]
        }
      ]
    },
    {
      "cell_type": "markdown",
      "source": [
        "We now load a pre-trained model to generate embeddings for each sentence. These embeddings capture the semantic meaning of sentences in a high-dimensional space."
      ],
      "metadata": {
        "id": "snubbTP-RX2k"
      }
    },
    {
      "cell_type": "code",
      "source": [
        "model = SentenceTransformer('all-MiniLM-L6-v2')\n",
        "sentence_embeddings = model.encode(sentences)\n",
        "print(f'This {sentence_embeddings[0].shape[0]}-dimensional vector is an abstract representation of the sentence:')\n",
        "print(sentences[0])\n",
        "print(sentence_embeddings[0])"
      ],
      "metadata": {
        "id": "CGixZkLGeOVx",
        "colab": {
          "base_uri": "https://localhost:8080/"
        },
        "outputId": "96b08724-1e2b-42d7-a509-f9653e162b6b"
      },
      "execution_count": 15,
      "outputs": [
        {
          "output_type": "stream",
          "name": "stdout",
          "text": [
            "This 384-dimensional vector is an abstract representation of the sentence:\n",
            "The Africa Biofortified Sorghum Project is aimed at resolving the problem of hunger and malnutrition.\n",
            "[-1.07875615e-02  1.26994878e-01 -9.67401713e-02  3.11500989e-02\n",
            "  2.20988970e-02  4.01049256e-02 -8.81249085e-02  4.82486514e-03\n",
            " -6.96459487e-02 -2.70730387e-02  2.24157535e-02 -4.95855622e-02\n",
            " -5.05971462e-02 -8.44224542e-02 -3.48101258e-02 -1.08739652e-01\n",
            "  8.84409249e-02  3.86687182e-02 -2.44966056e-02 -8.07002559e-02\n",
            "  9.46308374e-02  1.60659868e-02  6.30996898e-02  2.10805843e-03\n",
            " -2.56524198e-02 -1.99511126e-02 -1.43109066e-02 -5.89062274e-02\n",
            " -2.53433175e-02 -1.29279997e-02  1.02433665e-02  8.05621743e-02\n",
            "  9.62898880e-02  2.34145503e-02 -4.35579084e-02  9.00313333e-02\n",
            "  4.13799621e-02  5.27604483e-03 -6.08512983e-02 -6.18001670e-02\n",
            "  5.85442372e-02 -9.51973051e-02  2.11774521e-02 -5.88462427e-02\n",
            " -2.16556452e-02 -5.16627952e-02 -9.70807951e-03  3.96011248e-02\n",
            " -2.04821583e-02 -5.38165271e-02 -2.48041321e-02 -3.77879739e-02\n",
            " -6.53454736e-02 -2.87670605e-02 -1.01167941e-02 -5.69942482e-02\n",
            "  4.38443199e-03 -3.22688334e-02 -6.05775677e-02  1.92898326e-02\n",
            "  2.07714941e-02  2.24265978e-02 -5.25147654e-03  1.80830415e-02\n",
            "  1.23208098e-01  1.79995671e-02 -2.80934609e-02 -1.33401416e-02\n",
            " -9.35801677e-03 -4.50242631e-04  7.42004737e-02 -9.05209780e-02\n",
            "  4.97652218e-02  6.79585114e-02 -1.99926253e-02  1.03747323e-01\n",
            " -2.15388127e-02  4.05074283e-02  5.99739589e-02 -3.36987637e-02\n",
            "  3.04385293e-02  2.76688226e-02  6.59929588e-02 -1.29780946e-02\n",
            " -3.53822298e-02 -7.00774491e-02 -5.22268899e-02  4.05037105e-02\n",
            "  4.93292436e-02 -9.31293443e-02  7.02093765e-02  1.66165468e-03\n",
            " -1.82059093e-03  9.70842838e-02 -6.08118298e-03  8.98846611e-03\n",
            "  4.38616015e-02 -8.77871886e-02  1.21010626e-02 -6.25709519e-02\n",
            " -6.12275824e-02 -8.25803652e-02  4.36079651e-02 -9.38418880e-03\n",
            "  1.54978782e-02  1.92177650e-02 -1.11873113e-01  2.29678247e-02\n",
            "  6.87358603e-02  2.07273941e-03  1.76013242e-02 -6.00107189e-04\n",
            " -7.99431130e-02  2.40971688e-02 -2.46374272e-02  5.43254241e-03\n",
            "  1.19617200e-02 -6.92448914e-02 -1.00977153e-01 -1.39205474e-02\n",
            " -4.58266735e-02 -1.51601154e-02 -1.03838497e-03 -4.38845381e-02\n",
            "  3.50047238e-02 -2.04738025e-02 -2.30303127e-02 -6.00606257e-34\n",
            " -5.26352562e-02 -5.75054996e-02  2.35893819e-02 -2.04615556e-02\n",
            " -4.12159488e-02 -6.34351149e-02  4.81385775e-02  4.54321429e-02\n",
            "  7.14626089e-02 -3.75403464e-02  1.41977081e-02 -5.15396520e-02\n",
            "  4.47212383e-02  9.88814309e-02 -2.16519856e-03 -1.03044011e-01\n",
            " -3.37018408e-02 -1.08210826e-02  7.72573501e-02 -1.18179759e-03\n",
            " -3.12662721e-02 -2.52106953e-02  3.25016901e-02 -6.26655016e-03\n",
            "  1.11948170e-01  3.29563767e-02  5.79644702e-02 -7.78129399e-02\n",
            "  5.29168956e-02  6.38951873e-03  1.37048587e-01 -5.91555275e-02\n",
            " -4.98409159e-02 -1.00015774e-01 -1.24274027e-02  8.67739134e-03\n",
            " -5.60150519e-02  2.48800814e-02 -5.45926467e-02  9.33824759e-03\n",
            " -1.25267645e-02  3.44662294e-02  7.11003914e-02 -1.18666776e-02\n",
            "  1.65032241e-02  5.04401028e-02  3.29804085e-02  4.13841084e-02\n",
            "  6.35581985e-02  3.80144529e-02  6.66491091e-02 -8.77829921e-03\n",
            " -7.00979354e-03  4.18180116e-02  7.17302272e-03  1.24555882e-02\n",
            " -1.17047774e-02  2.53873672e-02 -2.73543820e-02 -1.37833711e-02\n",
            " -4.32911236e-03 -5.07141724e-02  8.44084658e-03  4.23927668e-05\n",
            "  2.15605740e-02  3.30631046e-05 -3.62268351e-02 -2.61413725e-03\n",
            " -2.17408724e-02  1.55881802e-02 -5.05727008e-02 -1.04519226e-01\n",
            "  2.09809598e-02  2.28503477e-02 -9.13871080e-02  5.15979864e-02\n",
            "  1.82990637e-02 -2.69621424e-02 -4.74285446e-02 -1.00761671e-02\n",
            "  4.04719412e-02  4.79397699e-02 -2.09621955e-02  1.25754280e-02\n",
            " -9.13481712e-02  8.62222537e-02 -1.03617147e-01  5.71998954e-02\n",
            " -2.84390729e-02 -5.73992208e-02  4.33346592e-02  9.94865149e-02\n",
            " -4.40279245e-02  2.80197635e-02  3.45319398e-02 -1.26518732e-33\n",
            " -1.52813159e-02 -3.46672209e-03 -3.60831283e-02  6.09418489e-02\n",
            "  8.98348913e-02 -4.26619463e-02  2.45232861e-02 -6.93136454e-02\n",
            "  1.82013549e-02  1.30739003e-01 -1.06654540e-02  8.63424595e-03\n",
            "  4.85777706e-02 -4.90926811e-03 -5.52255735e-02  3.62749696e-02\n",
            " -6.42925128e-02  6.46897480e-02 -2.21469160e-02  9.95644834e-03\n",
            " -7.99154043e-02  9.43747535e-02 -6.39603985e-03 -1.33563504e-01\n",
            " -1.85246281e-02  2.92655975e-02  2.83810534e-02 -5.38830012e-02\n",
            " -3.35300900e-02 -1.49613088e-02  9.18789804e-02 -1.63797792e-02\n",
            " -1.20811105e-01 -6.15452882e-03  6.52989075e-02  3.83883901e-02\n",
            "  5.04326746e-02 -2.60416083e-02 -2.33039986e-02 -3.40291932e-02\n",
            "  1.64643563e-02  4.95571829e-02 -5.34227081e-02  6.90905564e-03\n",
            "  3.62023190e-02 -6.01521879e-03  3.22453417e-02  4.74752598e-02\n",
            "  4.65526283e-02  7.84368366e-02  9.35633704e-02  6.67902455e-03\n",
            "  2.27175839e-02 -2.47186404e-02  1.83505323e-02 -3.34320031e-02\n",
            "  5.04856296e-02 -3.21491025e-02 -6.77059069e-02 -4.39606309e-02\n",
            " -3.34650129e-02  5.76445367e-04  7.48517290e-02 -1.27102565e-02\n",
            "  2.03399286e-02  1.59797538e-02  1.00542856e-02  1.40042650e-02\n",
            "  1.07600112e-02  2.60785241e-02  2.09940076e-02 -8.33150465e-03\n",
            " -1.40547315e-02  2.73622796e-02 -3.24028134e-02  8.74777138e-02\n",
            "  2.81178299e-02  2.19680645e-04 -5.47766052e-02 -1.03972312e-02\n",
            "  7.30557973e-03 -4.21024039e-02  1.08619094e-01  1.68280192e-02\n",
            "  3.78170907e-02  2.62406245e-02 -4.03467612e-03  4.86974567e-02\n",
            "  3.45870070e-02  1.08340390e-01 -9.66339409e-02 -1.34272307e-01\n",
            "  4.13441807e-02  1.19942864e-02  8.68612677e-02 -2.39201761e-08\n",
            "  2.00484470e-02 -2.51327362e-02  3.22599051e-04 -3.93481515e-02\n",
            "  9.33870766e-03  3.83956470e-02 -6.61807060e-02 -3.83470245e-02\n",
            "  4.92460839e-02  5.51750399e-02 -4.57596891e-02  7.24711865e-02\n",
            " -4.22235504e-02  9.29410905e-02 -6.36950657e-02 -6.96876049e-02\n",
            "  1.28681045e-02  3.00640017e-02 -3.93919908e-02 -5.35016954e-02\n",
            " -4.52901144e-03 -5.41757196e-02 -8.69148970e-02 -7.56513029e-02\n",
            "  9.06460956e-02 -2.85677817e-02  2.09106132e-02  4.04254869e-02\n",
            "  1.34333922e-02 -5.92703233e-03  3.46773490e-02  1.21914642e-02\n",
            "  2.86768284e-02  2.73038466e-02  5.57198487e-02 -1.59565173e-02\n",
            " -3.80720235e-02  8.16035122e-02  3.98976505e-02  1.03920931e-03\n",
            " -8.00171122e-02 -1.91176496e-02  6.19299337e-02  4.35954817e-02\n",
            " -1.39687164e-02 -6.36163354e-03 -3.86955217e-02  9.78843868e-02\n",
            " -5.25046401e-02  2.20419466e-02 -1.15132935e-01 -5.06979413e-02\n",
            " -2.43819077e-02 -2.48001926e-02  4.15587388e-02 -2.82078590e-02\n",
            "  3.54713644e-03 -6.18334860e-03  9.14348736e-02 -1.53758889e-02\n",
            "  2.11941339e-02 -2.84613017e-03 -3.29723880e-02 -3.62781845e-02]\n"
          ]
        }
      ]
    },
    {
      "cell_type": "markdown",
      "source": [
        "This section clusters the sentence embeddings into groups using KMeans clustering. This helps in identifying sentences with similar meanings, which can be useful for summarization."
      ],
      "metadata": {
        "id": "egWC317ARuNX"
      }
    },
    {
      "cell_type": "code",
      "source": [
        "from sklearn.cluster import KMeans\n",
        "\n",
        "k = 10#4\n",
        "\n",
        "kmeans = KMeans(n_clusters=k, n_init=\"auto\")\n",
        "cluster_ids = kmeans.fit_predict(sentence_embeddings)\n",
        "\n",
        "clustered_sentences = {i: [] for i in range(k)}\n",
        "clustered_embeddings = {i: [] for i in range(k)}\n",
        "for sentence, embedding, cluster_id in zip(sentences, sentence_embeddings, cluster_ids):\n",
        "  clustered_sentences[cluster_id].append(sentence)\n",
        "  clustered_embeddings[cluster_id].append(embedding)\n",
        "\n",
        "for cluster_id, sentence_list in clustered_sentences.items():\n",
        "  print(f\"Cluster {cluster_id} consists of the following sentences:\")\n",
        "  for sentence in sentence_list:\n",
        "    print(\"   \" + sentence)"
      ],
      "metadata": {
        "id": "-7j5WBMzgH1D",
        "colab": {
          "base_uri": "https://localhost:8080/"
        },
        "outputId": "08ae4f2c-403c-4d38-a300-3ad5b7358783"
      },
      "execution_count": 21,
      "outputs": [
        {
          "output_type": "stream",
          "name": "stdout",
          "text": [
            "Cluster 0 consists of the following sentences:\n",
            "   To successfully deliver the program, modern scientific technology and infrastructure for its transfer were required.\n",
            "   Both of these requirements also needed funding.\n",
            "   The transformation system that was developed for the plant became a useful contribution to the bulk of knowledge of genetic engineering, and it can be used for future projects.\n",
            "Cluster 1 consists of the following sentences:\n",
            "   The Africa Biofortified Sorghum Project is aimed at resolving the problem of hunger and malnutrition.\n",
            "   Despite its rather low nutritional value, sorghum is tolerant to these conditions, which makes it a typical and even “staple” dietary product for many African countries, including Ethiopia and Sudan (Mastandrea, 2009, p. 111).\n",
            "Cluster 2 consists of the following sentences:\n",
            "   Also, education for the stakeholders, as well as other means of providing an enabling environment for the change, was necessary.\n",
            "   No single organization could produce all these factors, which is why an alliance was formed to plan and implement the project.\n",
            "   Also, the implementation lessons and the example of the partnership of public and private organizations from various regions can be of use for future projects.\n",
            "Cluster 3 consists of the following sentences:\n",
            "   However, if it is adjusted, it will be more likely to bring positive results in specific settings that can be different.\n",
            "Cluster 4 consists of the following sentences:\n",
            "   The challenge of organizing the collaboration of the organizations was successfully resolved, and a structure for teamwork was developed.\n",
            "   Despite this, the partners “found it challenging” to ensure the engagement of stakeholders, their communication, and the information flow between them (Mastandrea, 2009, p. 113).\n",
            "   The lessons were learned, and the project worked towards ensuring information exchange and vital stakeholder engagement and education.\n",
            "   Also, the project found that the best way to motivate stakeholders consists in demonstrating them tangible results.\n",
            "   The challenges related to the technological part of the project have been appropriately met.\n",
            "Cluster 5 consists of the following sentences:\n",
            "   Also, food security contributes to poverty eradication and the support of economic well-being and development.\n",
            "   Therefore, the more general aim of the project was to improve the quality of life in Africa and ensure its sustainable development.\n",
            "   Food security is not always easily achieved in many African countries, where agriculture has to deal with climate specifics including heat and droughts.\n",
            "   As a result, improving this crop was deemed a suitable strategy for enhancing food stability in Africa.\n",
            "   Given the fact that the majority of the African population cannot afford dietary supplements, the improvement of a staple food appears to be a wise choice.\n",
            "Cluster 6 consists of the following sentences:\n",
            "   In particular, language and cultural barriers were met in Burkina Faso, but means of resolving them (meetings, training) were found.\n",
            "Cluster 7 consists of the following sentences:\n",
            "   The political aspect of the work was also challenging: before encountering some difficulties with the permits for the experiments, the organizations had not actively sought the support of governmental figures or the society.\n",
            "Cluster 8 consists of the following sentences:\n",
            "   In general, I think that the project can indeed be replicated in other countries that suffer from a similar issue because similar problems require similar solutions.\n",
            "Cluster 9 consists of the following sentences:\n",
            "   The project was created by the Africa Harvest Biotech Foundation International that worked in alliance with a number of “private, public and academic organizations” and received funding from the Bill & Melinda Gates Foundation (Mastandrea, 2009, p. 112).\n"
          ]
        }
      ]
    },
    {
      "cell_type": "markdown",
      "source": [
        "We now compute for each cluster, its *prototypical sentence*. This is the sentence whose embedding is the closest to the cluster's center of mass. In other words, this is the word that is the closest to all other embeddings in the cluster. We begin this by defining two auxiliary functions."
      ],
      "metadata": {
        "id": "trZ-GonySEBO"
      }
    },
    {
      "cell_type": "code",
      "source": [
        "def euclidean_distance(u, v):\n",
        "  return np.linalg.norm(u - v)\n",
        "\n",
        "def find_prototypical(centroid, vectors):\n",
        "  distances = []\n",
        "  for vector in vectors:\n",
        "    d = euclidean_distance(centroid, vector)\n",
        "    distances.append(d)\n",
        "\n",
        "  index_closest_vector = 0\n",
        "  closest_dist = distances[0]\n",
        "  for i, di in enumerate(distances):\n",
        "    if di < closest_dist:\n",
        "      index_closest_vector = i\n",
        "      closest_dist = di\n",
        "\n",
        "  return index_closest_vector"
      ],
      "metadata": {
        "id": "VEpT-5xfhVBU"
      },
      "execution_count": 22,
      "outputs": []
    },
    {
      "cell_type": "code",
      "source": [
        "# Obtain cluster centroids from k-Means\n",
        "cluter_centroids = kmeans.cluster_centers_\n",
        "\n",
        "# This dictionary stores the indices of the prototypical sentences\n",
        "prototypical_sentence_indices = {}\n",
        "\n",
        "# Loop through clusters\n",
        "for cluster_id in range(k):\n",
        "\n",
        "  # Get cluster centroid\n",
        "  cluster_centroid = cluter_centroids[cluster_id]\n",
        "\n",
        "  # Get cluster embeddings\n",
        "  cluster_embeddings = clustered_embeddings[cluster_id]\n",
        "\n",
        "  # Find the prototypical embedding in this cluster\n",
        "  prototypical_index = find_prototypical(cluster_centroid, cluster_embeddings)\n",
        "\n",
        "  # And store its index\n",
        "  prototypical_sentence_indices[cluster_id] = prototypical_index\n",
        "\n",
        "\n",
        "# Now we arrange the sentences accordingly\n",
        "prototypical_sentences = []\n",
        "for cluster_id in range(k):\n",
        "\n",
        "  # Get the sentences in this cluster\n",
        "  cluster_sentences = clustered_sentences[cluster_id]\n",
        "\n",
        "  # Get the index of the prototypical sentence\n",
        "  prototypical_sentence_index = prototypical_sentence_indices[cluster_id]\n",
        "\n",
        "  # Store the prototypical sentence\n",
        "  prototypical_sentences.append(\n",
        "    cluster_sentences[prototypical_sentence_index]\n",
        "  )\n",
        "\n",
        "\n",
        "# We now have the k summary sentences that we were looking for...\n",
        "# but they are shuffled as a result of the clustering\n",
        "original_indices = []\n",
        "for sent in prototypical_sentences:\n",
        "  original_indices.append(sentences.index(sent))\n",
        "\n",
        "# We re-organize them based on their original order in the document\n",
        "new_indices = np.argsort(original_indices)\n",
        "prototypical_sentences = [prototypical_sentences[i] for i in new_indices]\n",
        "\n",
        "extractive_summary_sentences = prototypical_sentences"
      ],
      "metadata": {
        "id": "1rUXcpYXjWmJ"
      },
      "execution_count": 23,
      "outputs": []
    },
    {
      "cell_type": "markdown",
      "source": [
        "Finally, we project the sentence embeddings into a 2-dimensional space and color the embeddings according to the clusters they belong."
      ],
      "metadata": {
        "id": "6gK9F6o7g_bP"
      }
    },
    {
      "cell_type": "code",
      "source": [
        "# Import necessary libraries for PCA and plotting\n",
        "from sklearn.decomposition import PCA\n",
        "import matplotlib.pyplot as plt\n",
        "\n",
        "# Initialize PCA to reduce to 2 dimensions\n",
        "pca = PCA(n_components=2)\n",
        "\n",
        "# Apply PCA to the sentence embeddings\n",
        "sentence_embeddings_2d = pca.fit_transform(sentence_embeddings)\n",
        "\n",
        "# Prepare colors; if you have more than 8 clusters, extend this list of colors\n",
        "colors = ['red', 'green', 'blue', 'cyan', 'magenta', 'yellow', 'black', 'orange', 'grey', 'violet']\n",
        "\n",
        "# Plot each sentence embedding in the 2D space, colored by its cluster\n",
        "plt.figure(figsize=(10, 8))  # Set the figure size\n",
        "for i, embedding in enumerate(sentence_embeddings_2d):\n",
        "    plt.scatter(embedding[0], embedding[1], color=colors[cluster_ids[i]], label=f'Cluster {cluster_ids[i]}')\n",
        "\n",
        "# Optional: add a legend. This might make the plot crowded if there are many points.\n",
        "# To improve the legend, we're creating custom legend entries to avoid duplicates\n",
        "from matplotlib.lines import Line2D\n",
        "legend_elements = [Line2D([0], [0], marker='o', color='w', markerfacecolor=col, markersize=10, label=f'Cluster {i}') for i, col in enumerate(colors[:k])]\n",
        "plt.legend(handles=legend_elements, loc='best', title=\"Clusters\")\n",
        "\n",
        "plt.title('Sentence Embeddings Reduced to 2D by PCA, Colored by Clustering')\n",
        "plt.xlabel('PCA Component 1')\n",
        "plt.ylabel('PCA Component 2')\n",
        "plt.show()\n"
      ],
      "metadata": {
        "colab": {
          "base_uri": "https://localhost:8080/",
          "height": 718
        },
        "id": "Cr5247L-gIYJ",
        "outputId": "a439b453-6f48-4f2c-9a34-3718ad35bea6"
      },
      "execution_count": 26,
      "outputs": [
        {
          "output_type": "display_data",
          "data": {
            "text/plain": [
              "<Figure size 1000x800 with 1 Axes>"
            ],
            "image/png": "[encoded data removed]"
          },
          "metadata": {}
        }
      ]
    },
    {
      "cell_type": "code",
      "source": [
        "print('Summary sentences:\\n')\n",
        "for i, sent in enumerate(extractive_summary_sentences, start=1):\n",
        "  print(i, sent)"
      ],
      "metadata": {
        "colab": {
          "base_uri": "https://localhost:8080/"
        },
        "id": "YR9C510gjbBy",
        "outputId": "bf6fcd24-8c4a-4e52-edfd-d4e2db74769b"
      },
      "execution_count": 27,
      "outputs": [
        {
          "output_type": "stream",
          "name": "stdout",
          "text": [
            "Summary sentences:\n",
            "\n",
            "1 The Africa Biofortified Sorghum Project is aimed at resolving the problem of hunger and malnutrition.\n",
            "2 As a result, improving this crop was deemed a suitable strategy for enhancing food stability in Africa.\n",
            "3 To successfully deliver the program, modern scientific technology and infrastructure for its transfer were required.\n",
            "4 The project was created by the Africa Harvest Biotech Foundation International that worked in alliance with a number of “private, public and academic organizations” and received funding from the Bill & Melinda Gates Foundation (Mastandrea, 2009, p. 112).\n",
            "5 Despite this, the partners “found it challenging” to ensure the engagement of stakeholders, their communication, and the information flow between them (Mastandrea, 2009, p. 113).\n",
            "6 In particular, language and cultural barriers were met in Burkina Faso, but means of resolving them (meetings, training) were found.\n",
            "7 The political aspect of the work was also challenging: before encountering some difficulties with the permits for the experiments, the organizations had not actively sought the support of governmental figures or the society.\n",
            "8 In general, I think that the project can indeed be replicated in other countries that suffer from a similar issue because similar problems require similar solutions.\n",
            "9 However, if it is adjusted, it will be more likely to bring positive results in specific settings that can be different.\n",
            "10 Also, the implementation lessons and the example of the partnership of public and private organizations from various regions can be of use for future projects.\n"
          ]
        }
      ]
    },
    {
      "cell_type": "markdown",
      "source": [
        "## Practical questions\n",
        "\n",
        "1. Use a different text from your own choice. Identify the sentences that, in your opinion, should appear in the final summary. Then run the summarizer and discuss how well this text summarizer works for this text.\n",
        "\n",
        "2. Try different numbers of clusters and see the resulting summary. In your opinion, which number of clusters is ideal for your text of choice?"
      ],
      "metadata": {
        "id": "pmbdLCohg1Hd"
      }
    }
  ]
}