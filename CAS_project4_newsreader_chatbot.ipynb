{
  "cells": [
    {
      "cell_type": "markdown",
      "metadata": {
        "id": "view-in-github",
        "colab_type": "text"
      },
      "source": [
        "<a href=\"https://colab.research.google.com/github/sramponi86/CAS_AIS_Text_Summarization/blob/main/CAS_project4_newsreader_chatbot.ipynb\" target=\"_parent\"><img src=\"https://colab.research.google.com/assets/colab-badge.svg\" alt=\"Open In Colab\"/></a>"
      ]
    },
    {
      "cell_type": "markdown",
      "metadata": {
        "id": "BQdr5vdLyDEP"
      },
      "source": [
        "# The *Newsreader Chatbot*: news retrieval, summarization and question answering\n",
        "\n",
        "In this project, you will build a simple chat-based interface for news consumption, the *Newsreader Chatbot*. This chatbot will feature three modules under the hood:\n",
        "1. a news retrieval system (the corresponding task is generally referred to as **document retrieval**),\n",
        "2. an automatic summarizer (this task is called **summarization** or **summary generation**),\n",
        "3. a question-answering system (the task is simply referred to as **question answering** or, in short, **QA**).\n",
        "\n",
        "In the end, you (the user) will be able to query the *Newsreader Chatbot* with a short sentence indicating the topic you would like to read about. The chatbot will retrieve the most relevant news stories and it will summarise them. You will then be able to select one of the stories and ask questions about it.\n",
        "\n",
        "The main techniques this project will cover are:\n",
        "- *Semantic search*, an approach to information retrieval that relies on text embeddings. You will implement two methods, one based on sentence embeddings and the other based on document embeddings.\n",
        "- *Conditional text generation*, the task of generating a piece of text—for example, a summary or an open-ended answer—given another conditioning piece of text—such as a news story, optionally paired with a question. This task is more generally referred to as Natural Language Generation (NLG) and can serve many use cases, from translation and paraphrasing to storytelling and dialogue response generation. As NLG systems, you will use both general-purpose pre-trained language models and language models specifically fine-tuned on summarization or question answering. You will compare different models using standard NLG evaluation metrics.\n",
        "\n",
        "\n",
        "----\n",
        "Before getting started, let's change the Runtime type to `T4 GPU` (only if you are in Google Colab, using the dropdown menu on the top right). Let's also install and load the necessary libraries and define convenience functions."
      ]
    },
    {
      "cell_type": "code",
      "execution_count": 2,
      "metadata": {
        "cellView": "form",
        "id": "Iyev5KxAr3t5",
        "outputId": "ef7eb729-aaa3-4cac-b126-c5a6d36c7145",
        "colab": {
          "base_uri": "https://localhost:8080/"
        }
      },
      "outputs": [
        {
          "output_type": "stream",
          "name": "stdout",
          "text": [
            "Requirement already satisfied: transformers in /usr/local/lib/python3.10/dist-packages (4.38.2)\n",
            "Collecting transformers\n",
            "  Downloading transformers-4.39.3-py3-none-any.whl (8.8 MB)\n",
            "\u001b[2K     \u001b[90m━━━━━━━━━━━━━━━━━━━━━━━━━━━━━━━━━━━━━━━━\u001b[0m \u001b[32m8.8/8.8 MB\u001b[0m \u001b[31m20.2 MB/s\u001b[0m eta \u001b[36m0:00:00\u001b[0m\n",
            "\u001b[?25hCollecting datasets\n",
            "  Downloading datasets-2.18.0-py3-none-any.whl (510 kB)\n",
            "\u001b[2K     \u001b[90m━━━━━━━━━━━━━━━━━━━━━━━━━━━━━━━━━━━━━━━━\u001b[0m \u001b[32m510.5/510.5 kB\u001b[0m \u001b[31m18.8 MB/s\u001b[0m eta \u001b[36m0:00:00\u001b[0m\n",
            "\u001b[?25hRequirement already satisfied: sentencepiece in /usr/local/lib/python3.10/dist-packages (0.1.99)\n",
            "Collecting sentencepiece\n",
            "  Downloading sentencepiece-0.2.0-cp310-cp310-manylinux_2_17_x86_64.manylinux2014_x86_64.whl (1.3 MB)\n",
            "\u001b[2K     \u001b[90m━━━━━━━━━━━━━━━━━━━━━━━━━━━━━━━━━━━━━━━━\u001b[0m \u001b[32m1.3/1.3 MB\u001b[0m \u001b[31m38.7 MB/s\u001b[0m eta \u001b[36m0:00:00\u001b[0m\n",
            "\u001b[?25hCollecting accelerate\n",
            "  Downloading accelerate-0.29.2-py3-none-any.whl (297 kB)\n",
            "\u001b[2K     \u001b[90m━━━━━━━━━━━━━━━━━━━━━━━━━━━━━━━━━━━━━━━━\u001b[0m \u001b[32m297.4/297.4 kB\u001b[0m \u001b[31m27.4 MB/s\u001b[0m eta \u001b[36m0:00:00\u001b[0m\n",
            "\u001b[?25hCollecting evaluate\n",
            "  Downloading evaluate-0.4.1-py3-none-any.whl (84 kB)\n",
            "\u001b[2K     \u001b[90m━━━━━━━━━━━━━━━━━━━━━━━━━━━━━━━━━━━━━━━━\u001b[0m \u001b[32m84.1/84.1 kB\u001b[0m \u001b[31m10.4 MB/s\u001b[0m eta \u001b[36m0:00:00\u001b[0m\n",
            "\u001b[?25hCollecting rouge_score\n",
            "  Downloading rouge_score-0.1.2.tar.gz (17 kB)\n",
            "  Preparing metadata (setup.py) ... \u001b[?25l\u001b[?25hdone\n",
            "Collecting bert_score\n",
            "  Downloading bert_score-0.3.13-py3-none-any.whl (61 kB)\n",
            "\u001b[2K     \u001b[90m━━━━━━━━━━━━━━━━━━━━━━━━━━━━━━━━━━━━━━━━\u001b[0m \u001b[32m61.1/61.1 kB\u001b[0m \u001b[31m8.4 MB/s\u001b[0m eta \u001b[36m0:00:00\u001b[0m\n",
            "\u001b[?25hCollecting sentence-transformers\n",
            "  Downloading sentence_transformers-2.6.1-py3-none-any.whl (163 kB)\n",
            "\u001b[2K     \u001b[90m━━━━━━━━━━━━━━━━━━━━━━━━━━━━━━━━━━━━━━━━\u001b[0m \u001b[32m163.3/163.3 kB\u001b[0m \u001b[31m20.1 MB/s\u001b[0m eta \u001b[36m0:00:00\u001b[0m\n",
            "\u001b[?25hRequirement already satisfied: filelock in /usr/local/lib/python3.10/dist-packages (from transformers) (3.13.3)\n",
            "Requirement already satisfied: huggingface-hub<1.0,>=0.19.3 in /usr/local/lib/python3.10/dist-packages (from transformers) (0.20.3)\n",
            "Requirement already satisfied: numpy>=1.17 in /usr/local/lib/python3.10/dist-packages (from transformers) (1.25.2)\n",
            "Requirement already satisfied: packaging>=20.0 in /usr/local/lib/python3.10/dist-packages (from transformers) (24.0)\n",
            "Requirement already satisfied: pyyaml>=5.1 in /usr/local/lib/python3.10/dist-packages (from transformers) (6.0.1)\n",
            "Requirement already satisfied: regex!=2019.12.17 in /usr/local/lib/python3.10/dist-packages (from transformers) (2023.12.25)\n",
            "Requirement already satisfied: requests in /usr/local/lib/python3.10/dist-packages (from transformers) (2.31.0)\n",
            "Requirement already satisfied: tokenizers<0.19,>=0.14 in /usr/local/lib/python3.10/dist-packages (from transformers) (0.15.2)\n",
            "Requirement already satisfied: safetensors>=0.4.1 in /usr/local/lib/python3.10/dist-packages (from transformers) (0.4.2)\n",
            "Requirement already satisfied: tqdm>=4.27 in /usr/local/lib/python3.10/dist-packages (from transformers) (4.66.2)\n",
            "Requirement already satisfied: pyarrow>=12.0.0 in /usr/local/lib/python3.10/dist-packages (from datasets) (14.0.2)\n",
            "Requirement already satisfied: pyarrow-hotfix in /usr/local/lib/python3.10/dist-packages (from datasets) (0.6)\n",
            "Collecting dill<0.3.9,>=0.3.0 (from datasets)\n",
            "  Downloading dill-0.3.8-py3-none-any.whl (116 kB)\n",
            "\u001b[2K     \u001b[90m━━━━━━━━━━━━━━━━━━━━━━━━━━━━━━━━━━━━━━━━\u001b[0m \u001b[32m116.3/116.3 kB\u001b[0m \u001b[31m15.4 MB/s\u001b[0m eta \u001b[36m0:00:00\u001b[0m\n",
            "\u001b[?25hRequirement already satisfied: pandas in /usr/local/lib/python3.10/dist-packages (from datasets) (2.0.3)\n",
            "Collecting xxhash (from datasets)\n",
            "  Downloading xxhash-3.4.1-cp310-cp310-manylinux_2_17_x86_64.manylinux2014_x86_64.whl (194 kB)\n",
            "\u001b[2K     \u001b[90m━━━━━━━━━━━━━━━━━━━━━━━━━━━━━━━━━━━━━━━━\u001b[0m \u001b[32m194.1/194.1 kB\u001b[0m \u001b[31m22.8 MB/s\u001b[0m eta \u001b[36m0:00:00\u001b[0m\n",
            "\u001b[?25hCollecting multiprocess (from datasets)\n",
            "  Downloading multiprocess-0.70.16-py310-none-any.whl (134 kB)\n",
            "\u001b[2K     \u001b[90m━━━━━━━━━━━━━━━━━━━━━━━━━━━━━━━━━━━━━━━━\u001b[0m \u001b[32m134.8/134.8 kB\u001b[0m \u001b[31m18.8 MB/s\u001b[0m eta \u001b[36m0:00:00\u001b[0m\n",
            "\u001b[?25hRequirement already satisfied: fsspec[http]<=2024.2.0,>=2023.1.0 in /usr/local/lib/python3.10/dist-packages (from datasets) (2023.6.0)\n",
            "Requirement already satisfied: aiohttp in /usr/local/lib/python3.10/dist-packages (from datasets) (3.9.3)\n",
            "Requirement already satisfied: psutil in /usr/local/lib/python3.10/dist-packages (from accelerate) (5.9.5)\n",
            "Requirement already satisfied: torch>=1.10.0 in /usr/local/lib/python3.10/dist-packages (from accelerate) (2.2.1+cu121)\n",
            "Collecting responses<0.19 (from evaluate)\n",
            "  Downloading responses-0.18.0-py3-none-any.whl (38 kB)\n",
            "Requirement already satisfied: absl-py in /usr/local/lib/python3.10/dist-packages (from rouge_score) (1.4.0)\n",
            "Requirement already satisfied: nltk in /usr/local/lib/python3.10/dist-packages (from rouge_score) (3.8.1)\n",
            "Requirement already satisfied: six>=1.14.0 in /usr/local/lib/python3.10/dist-packages (from rouge_score) (1.16.0)\n",
            "Requirement already satisfied: matplotlib in /usr/local/lib/python3.10/dist-packages (from bert_score) (3.7.1)\n",
            "Requirement already satisfied: scikit-learn in /usr/local/lib/python3.10/dist-packages (from sentence-transformers) (1.2.2)\n",
            "Requirement already satisfied: scipy in /usr/local/lib/python3.10/dist-packages (from sentence-transformers) (1.11.4)\n",
            "Requirement already satisfied: Pillow in /usr/local/lib/python3.10/dist-packages (from sentence-transformers) (9.4.0)\n",
            "Requirement already satisfied: aiosignal>=1.1.2 in /usr/local/lib/python3.10/dist-packages (from aiohttp->datasets) (1.3.1)\n",
            "Requirement already satisfied: attrs>=17.3.0 in /usr/local/lib/python3.10/dist-packages (from aiohttp->datasets) (23.2.0)\n",
            "Requirement already satisfied: frozenlist>=1.1.1 in /usr/local/lib/python3.10/dist-packages (from aiohttp->datasets) (1.4.1)\n",
            "Requirement already satisfied: multidict<7.0,>=4.5 in /usr/local/lib/python3.10/dist-packages (from aiohttp->datasets) (6.0.5)\n",
            "Requirement already satisfied: yarl<2.0,>=1.0 in /usr/local/lib/python3.10/dist-packages (from aiohttp->datasets) (1.9.4)\n",
            "Requirement already satisfied: async-timeout<5.0,>=4.0 in /usr/local/lib/python3.10/dist-packages (from aiohttp->datasets) (4.0.3)\n",
            "Requirement already satisfied: typing-extensions>=3.7.4.3 in /usr/local/lib/python3.10/dist-packages (from huggingface-hub<1.0,>=0.19.3->transformers) (4.10.0)\n",
            "Requirement already satisfied: python-dateutil>=2.8.2 in /usr/local/lib/python3.10/dist-packages (from pandas->datasets) (2.8.2)\n",
            "Requirement already satisfied: pytz>=2020.1 in /usr/local/lib/python3.10/dist-packages (from pandas->datasets) (2023.4)\n",
            "Requirement already satisfied: tzdata>=2022.1 in /usr/local/lib/python3.10/dist-packages (from pandas->datasets) (2024.1)\n",
            "Requirement already satisfied: charset-normalizer<4,>=2 in /usr/local/lib/python3.10/dist-packages (from requests->transformers) (3.3.2)\n",
            "Requirement already satisfied: idna<4,>=2.5 in /usr/local/lib/python3.10/dist-packages (from requests->transformers) (3.6)\n",
            "Requirement already satisfied: urllib3<3,>=1.21.1 in /usr/local/lib/python3.10/dist-packages (from requests->transformers) (2.0.7)\n",
            "Requirement already satisfied: certifi>=2017.4.17 in /usr/local/lib/python3.10/dist-packages (from requests->transformers) (2024.2.2)\n",
            "Requirement already satisfied: sympy in /usr/local/lib/python3.10/dist-packages (from torch>=1.10.0->accelerate) (1.12)\n",
            "Requirement already satisfied: networkx in /usr/local/lib/python3.10/dist-packages (from torch>=1.10.0->accelerate) (3.2.1)\n",
            "Requirement already satisfied: jinja2 in /usr/local/lib/python3.10/dist-packages (from torch>=1.10.0->accelerate) (3.1.3)\n",
            "Collecting nvidia-cuda-nvrtc-cu12==12.1.105 (from torch>=1.10.0->accelerate)\n",
            "  Using cached nvidia_cuda_nvrtc_cu12-12.1.105-py3-none-manylinux1_x86_64.whl (23.7 MB)\n",
            "Collecting nvidia-cuda-runtime-cu12==12.1.105 (from torch>=1.10.0->accelerate)\n",
            "  Using cached nvidia_cuda_runtime_cu12-12.1.105-py3-none-manylinux1_x86_64.whl (823 kB)\n",
            "Collecting nvidia-cuda-cupti-cu12==12.1.105 (from torch>=1.10.0->accelerate)\n",
            "  Using cached nvidia_cuda_cupti_cu12-12.1.105-py3-none-manylinux1_x86_64.whl (14.1 MB)\n",
            "Collecting nvidia-cudnn-cu12==8.9.2.26 (from torch>=1.10.0->accelerate)\n",
            "  Using cached nvidia_cudnn_cu12-8.9.2.26-py3-none-manylinux1_x86_64.whl (731.7 MB)\n",
            "Collecting nvidia-cublas-cu12==12.1.3.1 (from torch>=1.10.0->accelerate)\n",
            "  Using cached nvidia_cublas_cu12-12.1.3.1-py3-none-manylinux1_x86_64.whl (410.6 MB)\n",
            "Collecting nvidia-cufft-cu12==11.0.2.54 (from torch>=1.10.0->accelerate)\n",
            "  Using cached nvidia_cufft_cu12-11.0.2.54-py3-none-manylinux1_x86_64.whl (121.6 MB)\n",
            "Collecting nvidia-curand-cu12==10.3.2.106 (from torch>=1.10.0->accelerate)\n",
            "  Using cached nvidia_curand_cu12-10.3.2.106-py3-none-manylinux1_x86_64.whl (56.5 MB)\n",
            "Collecting nvidia-cusolver-cu12==11.4.5.107 (from torch>=1.10.0->accelerate)\n",
            "  Using cached nvidia_cusolver_cu12-11.4.5.107-py3-none-manylinux1_x86_64.whl (124.2 MB)\n",
            "Collecting nvidia-cusparse-cu12==12.1.0.106 (from torch>=1.10.0->accelerate)\n",
            "  Using cached nvidia_cusparse_cu12-12.1.0.106-py3-none-manylinux1_x86_64.whl (196.0 MB)\n",
            "Collecting nvidia-nccl-cu12==2.19.3 (from torch>=1.10.0->accelerate)\n",
            "  Using cached nvidia_nccl_cu12-2.19.3-py3-none-manylinux1_x86_64.whl (166.0 MB)\n",
            "Collecting nvidia-nvtx-cu12==12.1.105 (from torch>=1.10.0->accelerate)\n",
            "  Using cached nvidia_nvtx_cu12-12.1.105-py3-none-manylinux1_x86_64.whl (99 kB)\n",
            "Requirement already satisfied: triton==2.2.0 in /usr/local/lib/python3.10/dist-packages (from torch>=1.10.0->accelerate) (2.2.0)\n",
            "Collecting nvidia-nvjitlink-cu12 (from nvidia-cusolver-cu12==11.4.5.107->torch>=1.10.0->accelerate)\n",
            "  Using cached nvidia_nvjitlink_cu12-12.4.127-py3-none-manylinux2014_x86_64.whl (21.1 MB)\n",
            "Requirement already satisfied: contourpy>=1.0.1 in /usr/local/lib/python3.10/dist-packages (from matplotlib->bert_score) (1.2.1)\n",
            "Requirement already satisfied: cycler>=0.10 in /usr/local/lib/python3.10/dist-packages (from matplotlib->bert_score) (0.12.1)\n",
            "Requirement already satisfied: fonttools>=4.22.0 in /usr/local/lib/python3.10/dist-packages (from matplotlib->bert_score) (4.50.0)\n",
            "Requirement already satisfied: kiwisolver>=1.0.1 in /usr/local/lib/python3.10/dist-packages (from matplotlib->bert_score) (1.4.5)\n",
            "Requirement already satisfied: pyparsing>=2.3.1 in /usr/local/lib/python3.10/dist-packages (from matplotlib->bert_score) (3.1.2)\n",
            "Requirement already satisfied: click in /usr/local/lib/python3.10/dist-packages (from nltk->rouge_score) (8.1.7)\n",
            "Requirement already satisfied: joblib in /usr/local/lib/python3.10/dist-packages (from nltk->rouge_score) (1.3.2)\n",
            "Requirement already satisfied: threadpoolctl>=2.0.0 in /usr/local/lib/python3.10/dist-packages (from scikit-learn->sentence-transformers) (3.4.0)\n",
            "Requirement already satisfied: MarkupSafe>=2.0 in /usr/local/lib/python3.10/dist-packages (from jinja2->torch>=1.10.0->accelerate) (2.1.5)\n",
            "Requirement already satisfied: mpmath>=0.19 in /usr/local/lib/python3.10/dist-packages (from sympy->torch>=1.10.0->accelerate) (1.3.0)\n",
            "Building wheels for collected packages: rouge_score\n",
            "  Building wheel for rouge_score (setup.py) ... \u001b[?25l\u001b[?25hdone\n",
            "  Created wheel for rouge_score: filename=rouge_score-0.1.2-py3-none-any.whl size=24933 sha256=04a4509b86bd2dfda956bc994fa71d67d3d6aa6a56c101562fa2c85d83fcc394\n",
            "  Stored in directory: /root/.cache/pip/wheels/5f/dd/89/461065a73be61a532ff8599a28e9beef17985c9e9c31e541b4\n",
            "Successfully built rouge_score\n",
            "Installing collected packages: sentencepiece, xxhash, nvidia-nvtx-cu12, nvidia-nvjitlink-cu12, nvidia-nccl-cu12, nvidia-curand-cu12, nvidia-cufft-cu12, nvidia-cuda-runtime-cu12, nvidia-cuda-nvrtc-cu12, nvidia-cuda-cupti-cu12, nvidia-cublas-cu12, dill, rouge_score, responses, nvidia-cusparse-cu12, nvidia-cudnn-cu12, multiprocess, nvidia-cusolver-cu12, transformers, datasets, sentence-transformers, evaluate, bert_score, accelerate\n",
            "  Attempting uninstall: sentencepiece\n",
            "    Found existing installation: sentencepiece 0.1.99\n",
            "    Uninstalling sentencepiece-0.1.99:\n",
            "      Successfully uninstalled sentencepiece-0.1.99\n",
            "  Attempting uninstall: transformers\n",
            "    Found existing installation: transformers 4.38.2\n",
            "    Uninstalling transformers-4.38.2:\n",
            "      Successfully uninstalled transformers-4.38.2\n",
            "Successfully installed accelerate-0.29.2 bert_score-0.3.13 datasets-2.18.0 dill-0.3.8 evaluate-0.4.1 multiprocess-0.70.16 nvidia-cublas-cu12-12.1.3.1 nvidia-cuda-cupti-cu12-12.1.105 nvidia-cuda-nvrtc-cu12-12.1.105 nvidia-cuda-runtime-cu12-12.1.105 nvidia-cudnn-cu12-8.9.2.26 nvidia-cufft-cu12-11.0.2.54 nvidia-curand-cu12-10.3.2.106 nvidia-cusolver-cu12-11.4.5.107 nvidia-cusparse-cu12-12.1.0.106 nvidia-nccl-cu12-2.19.3 nvidia-nvjitlink-cu12-12.4.127 nvidia-nvtx-cu12-12.1.105 responses-0.18.0 rouge_score-0.1.2 sentence-transformers-2.6.1 sentencepiece-0.2.0 transformers-4.39.3 xxhash-3.4.1\n"
          ]
        }
      ],
      "source": [
        "# @title Install libraries\n",
        "# @markdown Please execute this cell.\n",
        "\n",
        "# import locale\n",
        "# locale.getpreferredencoding = lambda: \"UTF-8\"\n",
        "\n",
        "!pip install -U transformers datasets sentencepiece accelerate evaluate rouge_score bert_score sentence-transformers"
      ]
    },
    {
      "cell_type": "code",
      "execution_count": 3,
      "metadata": {
        "id": "02JNfPK5vA4q"
      },
      "outputs": [],
      "source": [
        "## Generic libraries\n",
        "\n",
        "# Dataframes\n",
        "import pandas as pd\n",
        "\n",
        "# Scientific computing\n",
        "import numpy as np\n",
        "\n",
        "# PyTorch, a machine learning framework\n",
        "import torch\n",
        "\n",
        "# Basic Python tools\n",
        "import itertools\n",
        "from collections import defaultdict\n",
        "\n",
        "# Pretty printing\n",
        "import textwrap\n",
        "\n",
        "# A smart progress meter\n",
        "from tqdm.notebook import trange, tqdm\n",
        "\n",
        "\n",
        "## Project-specific libraries\n",
        "\n",
        "# Evaluation metrics (for document retrieval)\n",
        "from sklearn.metrics import accuracy_score, top_k_accuracy_score\n",
        "\n",
        "# Spacy, a multi-use NLP library -- here, for sentence segmentation\n",
        "from spacy.lang.en import English\n",
        "\n",
        "# A library for sentence embeddings\n",
        "from sentence_transformers import SentenceTransformer, util\n",
        "\n",
        "\n",
        "## HuggingFace libraries\n",
        "\n",
        "# A library for easy-to-use Transformer language models (and more)\n",
        "from transformers import pipeline, AutoModelForCausalLM, AutoTokenizer, T5Tokenizer, T5ForConditionalGeneration, BartForConditionalGeneration, BartTokenizer, AutoModelForQuestionAnswering\n",
        "\n",
        "# A library for ready-to-use NLP evaluation metrics\n",
        "import evaluate\n",
        "\n",
        "# A library to easily import datasets from the HuggingFace hub\n",
        "from datasets import load_dataset\n"
      ]
    },
    {
      "cell_type": "code",
      "execution_count": 4,
      "metadata": {
        "id": "GQ6rawS8bwR5"
      },
      "outputs": [],
      "source": [
        "# @title Convenience function for pretty printing\n",
        "# @markdown Please execute this cell.\n",
        "\n",
        "def pprint(string, width=120):\n",
        "  print(textwrap.fill(string, width=width))"
      ]
    },
    {
      "cell_type": "markdown",
      "metadata": {
        "id": "p5oX9R_Oy_iw"
      },
      "source": [
        "## News data: preliminary analysis\n",
        "\n",
        "We have compiled a dataset of over 10,000 CNN news articles for the purpose of this project. It is available through the Hugging Face dataset hub for extra ease of use: [news-qa-summarization](https://huggingface.co/datasets/glnmario/news-qa-summarization). Each article in the dataset is annotated by humans with a summary as well as a list of questions and corresponding answers. We are going to use this dataset for the development and evaluation of the three submodules of the *Newsreader Chatbot*.\n",
        "\n",
        "Let's load the dataset."
      ]
    },
    {
      "cell_type": "code",
      "execution_count": 5,
      "metadata": {
        "id": "80RfsHPdxydb",
        "colab": {
          "base_uri": "https://localhost:8080/",
          "height": 237,
          "referenced_widgets": [
            "e3beb241d82c4c7a886d23d5d141e032",
            "e2dd1d13b8f046228f791deb4872b81c",
            "79b06530ee494fceaf3dfb516fdb8303",
            "ed96bd1b16b94171ba60978e037f1419",
            "17767a881bc54a5c9be80a86ed94fcf8",
            "a5898dfaec384d2cb77afaa3c81e10f9",
            "284ba7371c4743acb8ebedd8326632b9",
            "090a2c83665b446d9904708369b155c6",
            "c287e07d7d8748f1bde65ae3a752536e",
            "a8a55159936844f396a1e80e35fdd9df",
            "dbcc4fdadbd94e4a9c1186068a863c5f",
            "c8e217da505c403db6a4fc77edbbdfd3",
            "b784f0bb696f42b4ad14294a4e80f613",
            "e42fc97b0260418585a106f81b215cd9",
            "99e237155fb74770857ed654f99faf84",
            "8174d713c2a645938f45cebf308c1afd",
            "2b69af45458f446d8030532725908a07",
            "e5d88bc1e34f4a88ac6f487dfa078c0d",
            "95271c85e0174fcd9045e515dd00a5a9",
            "d6704fe0a5da4bba8865e3c55d8b5afa",
            "d0cdd52fdca14cde9705abaceb96b578",
            "659dd4c15c9e4ddfa9123861a7b2e15b",
            "96ad7609adff4a98bdc8c5bccd1d1c41",
            "ef8bad618bda4bee9ab428f789b2b86b",
            "27aeffbfc7e246aca938ed2be8f87a3f",
            "9756cd3aa760413f9ef0a6b4b42113a2",
            "4b830c4452534849b303081d824e35e2",
            "197f93fb02dd43858e329dab9394f87f",
            "41a09c0e48a5449090ecbcb1e49a4a67",
            "38f0bd69de004df59b478c4653f1e033",
            "181001e2265240879865cb73c9fbd4d4",
            "ae9e929efd0c4782bd2183a69d497ded",
            "7274d2ed07ef4d2ab1a4e5fa921ea3f3"
          ]
        },
        "outputId": "9d0a79d2-104a-4782-ca7f-6cd1ca53b5b8"
      },
      "outputs": [
        {
          "output_type": "stream",
          "name": "stderr",
          "text": [
            "/usr/local/lib/python3.10/dist-packages/huggingface_hub/utils/_token.py:88: UserWarning: \n",
            "The secret `HF_TOKEN` does not exist in your Colab secrets.\n",
            "To authenticate with the Hugging Face Hub, create a token in your settings tab (https://huggingface.co/settings/tokens), set it as secret in your Google Colab and restart your session.\n",
            "You will be able to reuse this secret in all of your notebooks.\n",
            "Please note that authentication is recommended but still optional to access public models or datasets.\n",
            "  warnings.warn(\n"
          ]
        },
        {
          "output_type": "display_data",
          "data": {
            "text/plain": [
              "Downloading readme:   0%|          | 0.00/715 [00:00<?, ?B/s]"
            ],
            "application/vnd.jupyter.widget-view+json": {
              "version_major": 2,
              "version_minor": 0,
              "model_id": "e3beb241d82c4c7a886d23d5d141e032"
            }
          },
          "metadata": {}
        },
        {
          "output_type": "display_data",
          "data": {
            "text/plain": [
              "Downloading data:   0%|          | 0.00/40.7M [00:00<?, ?B/s]"
            ],
            "application/vnd.jupyter.widget-view+json": {
              "version_major": 2,
              "version_minor": 0,
              "model_id": "c8e217da505c403db6a4fc77edbbdfd3"
            }
          },
          "metadata": {}
        },
        {
          "output_type": "display_data",
          "data": {
            "text/plain": [
              "Generating train split: 0 examples [00:00, ? examples/s]"
            ],
            "application/vnd.jupyter.widget-view+json": {
              "version_major": 2,
              "version_minor": 0,
              "model_id": "96ad7609adff4a98bdc8c5bccd1d1c41"
            }
          },
          "metadata": {}
        }
      ],
      "source": [
        "dataset = load_dataset(\"glnmario/news-qa-summarization\")"
      ]
    },
    {
      "cell_type": "markdown",
      "metadata": {
        "id": "cBAgOgPZZrdS"
      },
      "source": [
        "The dataset contains a single partition, which is called `train` by default, and consists of four fields:\n",
        "- `story`: the news story\n",
        "- `questions`: a list of questions regarding the news story\n",
        "- `answers`: the list of answers to `questions`\n",
        "- `summary`: a brief summary of the news story"
      ]
    },
    {
      "cell_type": "code",
      "execution_count": 6,
      "metadata": {
        "id": "9gWCvEL7ZpkM",
        "colab": {
          "base_uri": "https://localhost:8080/"
        },
        "outputId": "ab540f02-8c99-4acc-b06d-c68130289369"
      },
      "outputs": [
        {
          "output_type": "execute_result",
          "data": {
            "text/plain": [
              "DatasetDict({\n",
              "    train: Dataset({\n",
              "        features: ['story', 'questions', 'answers', 'summary'],\n",
              "        num_rows: 10388\n",
              "    })\n",
              "})"
            ]
          },
          "metadata": {},
          "execution_count": 6
        }
      ],
      "source": [
        "dataset"
      ]
    },
    {
      "cell_type": "markdown",
      "metadata": {
        "id": "xdB_j1lAbpmd"
      },
      "source": [
        "Let's take a look at one data point."
      ]
    },
    {
      "cell_type": "code",
      "execution_count": 7,
      "metadata": {
        "id": "MsC96wX4a6Yh",
        "colab": {
          "base_uri": "https://localhost:8080/"
        },
        "outputId": "01b0564d-ec68-44d7-d9d3-41aa32d46213"
      },
      "outputs": [
        {
          "output_type": "stream",
          "name": "stdout",
          "text": [
            "(AOL Autos)  -- At the 2009 Detroit Auto Show, Chrysler, Mercedes-Benz, Toyota and MINI showed the world what electric\n",
            "vehicles of the future will look like. And the future of driving looks fun. The Dodge Circuit EV can blast from 0-to-60\n",
            "mph in around 4 seconds. Those in the know realize that sometime in the future, the vast majority of light cars and\n",
            "trucks in the US will feature electric final drive systems. The motors used in these systems will be powered by\n",
            "batteries, fuel cells, on-board generators, and perhaps even the sun. But this open issue doesn't change the\n",
            "inevitability of this reality. Given our current economic times, reality demands practical, tangible, and achievable\n",
            "ideas of what electric vehicles (or \"EVs\" for short) might actually look like. This is it ... Chrysler Three of the four\n",
            "electric vehicles Chrysler showed in Detroit, Michigan, were shown at other events and even to Washington bureaucrats.\n",
            "Each of these vehicles is a running prototype, not some pie-in-the-sky-we'll-never-build that idea. ENVI is the special\n",
            "group of engineers at Chrysler that develops the company's EVs. To date, the ENVI group has developed four electrically\n",
            "powered models, each quite different from the other: a Dodge Circuit EV sports car (rear-wheel drive), a Chrysler Town &\n",
            "Country minivan (front-wheel-drive), a Jeep Wrangler Unlimited (all-wheel-drive), and now a Jeep Patriot (front-wheel-\n",
            "drive). Chrysler promises to offer at least one of these models in 2010, and three more by 2013. AOL Autos: Dodge\n",
            "Circuit EV photos Chrysler approaches electric vehicles with simple plug-and-play engineering. Every one of their\n",
            "vehicles uses similar electric drive motors (only varying in power output), advanced lithium-ion batteries, and a power\n",
            "management controller. Each plugs in to 110- or 220-volt household outlets for recharging. The Chrysler and both Jeeps\n",
            "use an on-board range-extending battery charger (a generator). This generator automatically turns on after the vehicle's\n",
            "initial batter charge has been spent (usually within a range of 40 miles), supplying extra voltage that give these three\n",
            "vehicles an estimated range of approximately 400 miles. The generator is powered by a small gasoline-powered engine that\n",
            "runs with exceptional efficiency. This technology is similar in concept to what General Motors has shown in their\n",
            "Chevrolet Volt, a vehicle that should be ready for production in 2010. AOL Autos: Cadillac Converj photos The Dodge\n",
            "Circuit carries a larger battery pack and no generator, so its range on the charge it carries is approximately 150-200\n",
            "miles. Its large battery pack combined with compact dimensions and the exceptional torque provided by its electric motor\n",
            "blast the car from zero-to-sixty mph in around four seconds, exceptionally fast for any sports car regardless of engine\n",
            "type. Mercedes-Benz Mercedes-Benz used the 2009 Detroit Auto Show to showcase their Concept BlueZERO vehicles. The\n",
            "Mercedes approach was to develop one efficient body style, and then equip it with three different electric drive\n",
            "packages. AOL Autos: Mercedes Stirling Moss photos Much of the hardware for the all-electric front-wheel-drive\n",
            "propulsion units is built into what Mercedes calls \"sandwich-floor\" architecture that the company uses on several\n",
            "production cars. The design helps keep heavy components mounted low on the chassis for better handling, enhanced safety,\n",
            "and maximized interior room. All three Concept BlueZERO vehicles include electric drive and batteries. The E-Cell uses a\n",
            "large battery pack that is said to deliver a range of 120 miles. The F-Cell utilizes a smaller battery pack, but\n",
            "supplements the vehicle's range with a hydrogen fuel cell. The fuel cell produces electricity to recharge the battery\n",
            "pack that extends cruising range to 240 miles. The E-Cell Plus, with a range of approximately 360 miles, is the distance\n",
            "champion. The key is the on-board generator powered by tiny 1-liter turbo-charged three-cylinder gasoline engine.\n"
          ]
        }
      ],
      "source": [
        "# The news story\n",
        "pprint(dataset['train'][1]['story'])"
      ]
    },
    {
      "cell_type": "code",
      "execution_count": 8,
      "metadata": {
        "id": "Gepj7rWrdEwg",
        "colab": {
          "base_uri": "https://localhost:8080/"
        },
        "outputId": "307ec102-e06e-44aa-ffda-14d9855fc2c1"
      },
      "outputs": [
        {
          "output_type": "execute_result",
          "data": {
            "text/plain": [
              "['What debuts at the 2009 Detroit Auto Show?',\n",
              " 'Who shows electric cars?',\n",
              " 'Where is the Detroit Auto Show located?']"
            ]
          },
          "metadata": {},
          "execution_count": 8
        }
      ],
      "source": [
        "# The list of questions\n",
        "dataset['train'][1]['questions']"
      ]
    },
    {
      "cell_type": "code",
      "execution_count": 9,
      "metadata": {
        "id": "rvE2R-ZWdJ6y",
        "colab": {
          "base_uri": "https://localhost:8080/"
        },
        "outputId": "37f14d71-1df5-49e4-9668-dcd8449a5a06"
      },
      "outputs": [
        {
          "output_type": "execute_result",
          "data": {
            "text/plain": [
              "[['electric vehicles'],\n",
              " ['Chrysler, Mercedes-Benz, Toyota and MINI'],\n",
              " ['Michigan,']]"
            ]
          },
          "metadata": {},
          "execution_count": 9
        }
      ],
      "source": [
        "# The corresponding answers\n",
        "dataset['train'][1]['answers']"
      ]
    },
    {
      "cell_type": "markdown",
      "metadata": {
        "id": "YR_kbMMNcHQf"
      },
      "source": [
        "***Write code to print out the summary.***"
      ]
    },
    {
      "cell_type": "code",
      "execution_count": 10,
      "metadata": {
        "id": "6OvnycVbdm0T",
        "colab": {
          "base_uri": "https://localhost:8080/",
          "height": 70
        },
        "outputId": "bb967bcd-011f-43df-f958-11ea60708181"
      },
      "outputs": [
        {
          "output_type": "execute_result",
          "data": {
            "text/plain": [
              "'Latest technologies debut at the 2009 Detroit Auto Show .\\nChrysler, Mercedes-Benz, Toyota and MINI show what electric cars of future will be .\\nToyota confirms plans to add as many as 10 new gas/electric hybrid vehicles .\\nThe \"charged\" MINI E can run up to 150 miles on a full battery pack .'"
            ],
            "application/vnd.google.colaboratory.intrinsic+json": {
              "type": "string"
            }
          },
          "metadata": {},
          "execution_count": 10
        }
      ],
      "source": [
        "# The summary\n",
        "dataset['train'][1]['summary']"
      ]
    },
    {
      "cell_type": "markdown",
      "metadata": {
        "id": "gd4kkYXbeaU2"
      },
      "source": [
        "For a more user-friendly dataset exploration, you can use the Hugging Face dataset hub: [news-qa-summarization](https://huggingface.co/datasets/glnmario/news-qa-summarization)."
      ]
    },
    {
      "cell_type": "markdown",
      "metadata": {
        "id": "YrVednFr3a2d"
      },
      "source": [
        "## News retrieval (semantic search)\n",
        "\n",
        "We will start by implementing a document retrieval system based on *semantic search*. Given a database of documents—in our case, news stories—this system takes in as input a natural language query and outputs a short list of documents matching that query.\n",
        "\n",
        "Roughly, a semantic search system works as follows:\n",
        "\n",
        "1. All the documents in the database are transformed and stored as *document embeddings*, that is, vectors of real numbers that represent the content of documents in an abstract, high-dimensional meaning space. (You can think of these as the document-level equivalent of the word embeddings from Project 3.)\n",
        "2. When a user produces a query, the text of the query, too, is embedded in the same abstract meaning space, producing a *query embedding*.\n",
        "3. The documents in the database are ranked according to the geometric (semantic) distance between their respective document embeddings and the query embedding.\n",
        "\n",
        "We will test two retrieval methods: one with paragraph-level embeddings and one with sentence-level embeddings. These two methods vary with respect to how document embeddings are created.\n"
      ]
    },
    {
      "cell_type": "markdown",
      "metadata": {
        "id": "vHP7cJRdm4r5"
      },
      "source": [
        "**Data.** To develop and evaluate the news retrieval system, we will use news stories as documents and questions as queries. *Run the following cell to create a dataset class.*"
      ]
    },
    {
      "cell_type": "code",
      "execution_count": 11,
      "metadata": {
        "id": "NLvaUk2Rm1k2"
      },
      "outputs": [],
      "source": [
        "# @title RetrievalDataset class\n",
        "# @markdown Please execute this cell.\n",
        "class RetrievalDataset:\n",
        "\n",
        "  def __init__(self, dataset, num_documents=None):\n",
        "    self.dataset = dataset\n",
        "\n",
        "    if num_documents:\n",
        "      self.num_documents = num_documents\n",
        "      self.documents = self.dataset['train']['story'][:self.num_documents]\n",
        "      self.queries = list(itertools.chain.from_iterable(self.dataset['train']['questions'][:self.num_documents]))\n",
        "      self.num_queries = len(self.queries)\n",
        "    else:\n",
        "      self.documents = self.dataset['train']['story']\n",
        "      self.queries = list(itertools.chain.from_iterable(self.dataset['train']['questions']))\n",
        "      self.num_documents = len(self.documents)\n",
        "      self.num_queries = len(self.queries)\n",
        "\n",
        "    self.true_indices = []\n",
        "    for i, qs in enumerate(self.dataset['train']['questions'][:self.num_documents]):\n",
        "      for _ in qs:\n",
        "        self.true_indices.append(i)\n"
      ]
    },
    {
      "cell_type": "markdown",
      "metadata": {
        "id": "_w1TrIjEpGEC"
      },
      "source": [
        "Let's construct the retrieval dataset using stories as documents and questions as queries. Use only a subset of the news stories (e.g., `num_documents = 500`) as a development set for more manageable runtimes.\n",
        "\n"
      ]
    },
    {
      "cell_type": "code",
      "execution_count": 12,
      "metadata": {
        "id": "HFa9xprznVAm"
      },
      "outputs": [],
      "source": [
        "retrieval_dataset = RetrievalDataset(dataset, num_documents=100)"
      ]
    },
    {
      "cell_type": "markdown",
      "metadata": {
        "id": "fN91fOLFqsDw"
      },
      "source": [
        "**Model**. To transform texts (documents or sentences) into embeddings, you will take the nowadays standard approach of using a Transformer language model. For example, you can use the [`multi-qa-MiniLM-L6-cos-v1`](https://huggingface.co/sentence-transformers/multi-qa-MiniLM-L6-cos-v1) Sentence Transformer."
      ]
    },
    {
      "cell_type": "code",
      "execution_count": 13,
      "metadata": {
        "id": "ILe-wqAhqA07",
        "colab": {
          "base_uri": "https://localhost:8080/",
          "height": 369,
          "referenced_widgets": [
            "995d107a19e04a57bb16340f2cd5ce72",
            "83b97df54e2c4dc19236ef63c930cd23",
            "8158091f339a4dee9f5e9e13da367590",
            "7a265aa60fb246daa6ffbc929aaa1508",
            "624a086c4a854f95b0cc5d5ec145e60b",
            "707294edbf494d3491928a4d0d020ba5",
            "76ba14cc17274e728305ef01663b433b",
            "67f3e6f0aa904664b507a2c87d0d064b",
            "30054b4add4f49019e137547eec465cf",
            "07a0f99f5b6a40c58a9e5f6d22788a43",
            "f194883b97694ff58b32d0a004ea64ad",
            "b38eefbfe0eb4d5984d0667f40ea4d32",
            "d8148373cc224b86b7ead3c9d6529c21",
            "e86c27b6804647b8a2979265cd07d2ef",
            "5b30b5121c4847ccbff3f2ce6d5af266",
            "3ea1ea267f79460ca8990c82e1f8f406",
            "ed2877ac4da84690bf56db59ac314049",
            "9dd17008d8614c0094a0ca06c2b659c9",
            "894041dd666146fdba1796f8965fc715",
            "6fbd0c6734ce4787aee59bc4785a671b",
            "4268a956c2d442b992c2230d8a5a65ba",
            "5bcdcac8abc94c30bdcd509d03619540",
            "157cc410fdc54b34a01282c66553b0fa",
            "6cdf88207d5a4c3aaaf1a461f71c7899",
            "f27742603d8f442598bc2d42dfec406b",
            "220d844d9e2844dd9d4f045b7ba89ca0",
            "f761c917fc694732a8aa28a7bf92f1db",
            "5347f5fbbd564ceeaaf80204acf78235",
            "bb0eecbf557c472fa61f8e0307b915e6",
            "0940d93caf574c26a02bf7ee09f0a065",
            "c931c2a6a27c4cf18b64a93e602b390e",
            "bd60ae6fb6dc4be18b79d25d11847955",
            "13db2c3e1f77492487555364df0121b7",
            "7b27bccd79cc465ea3196d15a3f812fd",
            "3ff2fcc25b9d45c88142c8bdd64f3c28",
            "0f73ec281efa42f1a70f95b7d55797f7",
            "d9f696bc9e834305b0fd7b8485388a12",
            "a2f64f0e46eb4ff1954bc07447934a5c",
            "9f024df75503488d8bbb172710e41185",
            "e58faafde9d241e9b33782ae63565e03",
            "a889ce13e63740ceb91d8475a415fca8",
            "cde8c6140ed0424e88e70106fa22f9bd",
            "55a91affb68348d08ae1077a1b6f2e7a",
            "c65980ca991c403092672cfc0dba37f2",
            "1c59dd987c7148df91c19691fa024d09",
            "c9e25d581ac84842a2e6662e1c08c999",
            "0e0bb3ff443d4c94ba722092270b9ca6",
            "8a4d3b8c64154b0498883f4e4b03fcad",
            "f5bb9f3f28004822851d963184b3b116",
            "ed5c5a9816174d5faf5795ec8d5f2204",
            "fb76f87ac0f54eb6b38cf4ed301e5235",
            "5e44f1f87a574c9384f4ea1b0dbc8da9",
            "83119f8c42c14fd5bc139227b871f3ec",
            "dc1ae7675f9c43ba861fbbf41b0ac70f",
            "1ca4963c114a4d6db2fe73b7834aa030",
            "3ef253c6ebb4450088995610e67e77bd",
            "f50f58d3075b4f998ba6ecc39e49e410",
            "9857f91bfa304d848074b0cb5fea5432",
            "f385cbb2ea704d469a92896de5d81887",
            "15a223dac2a242489814ac167218b6e4",
            "33dc1698ff6146bda0e182a28ce794b9",
            "482feb0ffd314d8b97f5b7294bc868ee",
            "e2fa0d9fe63847359159c40ac9c8701a",
            "40ee5e5537fe4e058ca3958fc7d61452",
            "9affa5c147a34ecfb18f50bdb415d7e0",
            "2f8d7eafcfaf4b71bfc39c205076d49e",
            "d145eb71a55944d99854bc6361a29729",
            "94b76191d25447529f07b2992fb19aa8",
            "aacdeb5c7856410dbef1c000cff05685",
            "714b6dfdbb6c4bf581a72f495f12aa16",
            "b2fe60bd2ff84faf9f02320bde92b0b2",
            "11c88c4fe66240fd89129aad03b28989",
            "ea182b4f26f24dcba0e4bcaa35465b9a",
            "4fa043cfd5e44049abe4124b6d7e1576",
            "e031db47c5514547a54271b70dcd576c",
            "d3d054a00d524714a4970bb102fa5cee",
            "6bbb97f21b4e42b3ada1615457ad6d7b",
            "069f114ab83b4e679ca127e57081446d",
            "6cda84de24934333b8d3f203303bd2d9",
            "798277e4ce444f55982f3a1714883069",
            "5da9818073b343c3b3008a538cd4bb33",
            "bd631d9adecb4a918036fcb91c1c0f83",
            "4d14190aaf8740558410bba208ad81c6",
            "2b9ef011651c40138fc52308d295954e",
            "8cf2be99a0904a5195ba3c9f81c4726f",
            "88169f1ff90342ed934b2f79ca7cc2e3",
            "d8e606aea6d34d09b8487a8c06f5c734",
            "c270bd0a0236477d84f66d9744db0608",
            "64464fa329f940e7958b1fe40c5a1ae7",
            "6499d4afe1b7458b8ce70ed11511a63b",
            "da326be098f746e5a719867f1112db3d",
            "534fe9c01b444ed8972e55fd04d05525",
            "c84e46c532f54348abed32c8243d65d7",
            "08945180e0034af089c43ddfd127932e",
            "9f146abc821347e7a37a30864ceb9551",
            "ca69869bcc424e419cb5ee6a61d3ac77",
            "406d20a968a04ba7a8cf7e0399e78d72",
            "45d4b94c9cfc4863bfa1073acc75e72d",
            "f9c0bf800a11404aa9c2d45655c92d95",
            "845faa32168b440ca103be29492933ba",
            "dc033c2f4e2743ab9fbbddcd2924d16a",
            "50367963e05f44e8b6c19ef960b2aa21",
            "f086a06f4d884eb384246ae096731faf",
            "47d495bfd1204d26b978b3a201396252",
            "54d074e7a50a4860a7fcb3122a400eb0",
            "b1a0cc69e3e3484a80c770aaee7f68df",
            "82592a3a942f46c99900635a3634acf8",
            "dadbd2de7dac487ab5d4eefdcaa264d8",
            "f4b5506f0f414de7abe6b4fcd7752058",
            "b6fa8c7601c146c2a0b33f91c911bd40",
            "ff21c77402fd4db4991dc2e73ef22fa9",
            "c2125dc649e34293b7c132bc3e6b6f24",
            "f482a348cbe0473a8d789fb84d369952",
            "c8ba9edb59ce4334bb0625078758561b",
            "bac5b5be11f041d5933268475facf305",
            "773ea5bd1ef84282a788a3048719b137",
            "1ccb154138ff450796e83a8862006f03",
            "351b57b9cf89485ea52e71dc82620d79",
            "e72e666482fd41988f6f30355cdd943f",
            "fa655cc4dc24479bac1dfa9998918672",
            "c8caa5b7a21b4fc2925235ffd2cf5f43"
          ]
        },
        "outputId": "33dd7f9e-0372-49cc-c079-a109cad60399"
      },
      "outputs": [
        {
          "output_type": "display_data",
          "data": {
            "text/plain": [
              "modules.json:   0%|          | 0.00/349 [00:00<?, ?B/s]"
            ],
            "application/vnd.jupyter.widget-view+json": {
              "version_major": 2,
              "version_minor": 0,
              "model_id": "995d107a19e04a57bb16340f2cd5ce72"
            }
          },
          "metadata": {}
        },
        {
          "output_type": "display_data",
          "data": {
            "text/plain": [
              "config_sentence_transformers.json:   0%|          | 0.00/116 [00:00<?, ?B/s]"
            ],
            "application/vnd.jupyter.widget-view+json": {
              "version_major": 2,
              "version_minor": 0,
              "model_id": "b38eefbfe0eb4d5984d0667f40ea4d32"
            }
          },
          "metadata": {}
        },
        {
          "output_type": "display_data",
          "data": {
            "text/plain": [
              "README.md:   0%|          | 0.00/11.6k [00:00<?, ?B/s]"
            ],
            "application/vnd.jupyter.widget-view+json": {
              "version_major": 2,
              "version_minor": 0,
              "model_id": "157cc410fdc54b34a01282c66553b0fa"
            }
          },
          "metadata": {}
        },
        {
          "output_type": "display_data",
          "data": {
            "text/plain": [
              "sentence_bert_config.json:   0%|          | 0.00/53.0 [00:00<?, ?B/s]"
            ],
            "application/vnd.jupyter.widget-view+json": {
              "version_major": 2,
              "version_minor": 0,
              "model_id": "7b27bccd79cc465ea3196d15a3f812fd"
            }
          },
          "metadata": {}
        },
        {
          "output_type": "display_data",
          "data": {
            "text/plain": [
              "config.json:   0%|          | 0.00/612 [00:00<?, ?B/s]"
            ],
            "application/vnd.jupyter.widget-view+json": {
              "version_major": 2,
              "version_minor": 0,
              "model_id": "1c59dd987c7148df91c19691fa024d09"
            }
          },
          "metadata": {}
        },
        {
          "output_type": "display_data",
          "data": {
            "text/plain": [
              "model.safetensors:   0%|          | 0.00/90.9M [00:00<?, ?B/s]"
            ],
            "application/vnd.jupyter.widget-view+json": {
              "version_major": 2,
              "version_minor": 0,
              "model_id": "3ef253c6ebb4450088995610e67e77bd"
            }
          },
          "metadata": {}
        },
        {
          "output_type": "display_data",
          "data": {
            "text/plain": [
              "tokenizer_config.json:   0%|          | 0.00/383 [00:00<?, ?B/s]"
            ],
            "application/vnd.jupyter.widget-view+json": {
              "version_major": 2,
              "version_minor": 0,
              "model_id": "d145eb71a55944d99854bc6361a29729"
            }
          },
          "metadata": {}
        },
        {
          "output_type": "display_data",
          "data": {
            "text/plain": [
              "vocab.txt:   0%|          | 0.00/232k [00:00<?, ?B/s]"
            ],
            "application/vnd.jupyter.widget-view+json": {
              "version_major": 2,
              "version_minor": 0,
              "model_id": "069f114ab83b4e679ca127e57081446d"
            }
          },
          "metadata": {}
        },
        {
          "output_type": "display_data",
          "data": {
            "text/plain": [
              "tokenizer.json:   0%|          | 0.00/466k [00:00<?, ?B/s]"
            ],
            "application/vnd.jupyter.widget-view+json": {
              "version_major": 2,
              "version_minor": 0,
              "model_id": "64464fa329f940e7958b1fe40c5a1ae7"
            }
          },
          "metadata": {}
        },
        {
          "output_type": "display_data",
          "data": {
            "text/plain": [
              "special_tokens_map.json:   0%|          | 0.00/112 [00:00<?, ?B/s]"
            ],
            "application/vnd.jupyter.widget-view+json": {
              "version_major": 2,
              "version_minor": 0,
              "model_id": "845faa32168b440ca103be29492933ba"
            }
          },
          "metadata": {}
        },
        {
          "output_type": "display_data",
          "data": {
            "text/plain": [
              "1_Pooling/config.json:   0%|          | 0.00/190 [00:00<?, ?B/s]"
            ],
            "application/vnd.jupyter.widget-view+json": {
              "version_major": 2,
              "version_minor": 0,
              "model_id": "ff21c77402fd4db4991dc2e73ef22fa9"
            }
          },
          "metadata": {}
        }
      ],
      "source": [
        "# Load the language model\n",
        "model_name = \"multi-qa-MiniLM-L6-cos-v1\"\n",
        "model = SentenceTransformer(model_name)\n"
      ]
    },
    {
      "cell_type": "markdown",
      "metadata": {
        "id": "0yvdznzt3eAS"
      },
      "source": [
        "### Paragraph-level embeddings\n",
        "\n",
        "The first method will rely on paragraph-level embeddings. That is, an entire paragraph (e.g., a whole news story) is passed as an input to a language model, the contextualised word embeddings produced by the language model for all the words in the paragraph are extracted, and the average embedding is taken to be the document representation. Luckily, the SentenceTransformer library used in the cell above automates this process for us.\n"
      ]
    },
    {
      "cell_type": "markdown",
      "metadata": {
        "id": "rTuHfWPNeSLs"
      },
      "source": [
        "First, we embed the news stories."
      ]
    },
    {
      "cell_type": "code",
      "execution_count": 14,
      "metadata": {
        "id": "f2gFoE2Ppo3F"
      },
      "outputs": [],
      "source": [
        "story_embeddings = model.encode(retrieval_dataset.documents)"
      ]
    },
    {
      "cell_type": "markdown",
      "metadata": {
        "id": "O9HbDvJ3eWwn"
      },
      "source": [
        "Then, we embed an example query."
      ]
    },
    {
      "cell_type": "code",
      "execution_count": 15,
      "metadata": {
        "id": "uaZSzQZdtJLu"
      },
      "outputs": [],
      "source": [
        "query_embedding = model.encode('electric vehicles')"
      ]
    },
    {
      "cell_type": "markdown",
      "metadata": {
        "id": "opW_o8oTebLu"
      },
      "source": [
        "Now we can compute the similarity between the query and the story embeddings. We will use the dot product between embedding as a measure of their geometric distance.\n",
        "\n",
        "***Fill in the code below by providing the right arguments to the `dot_score` function.***"
      ]
    },
    {
      "cell_type": "code",
      "execution_count": 16,
      "metadata": {
        "id": "144dhiUQtK5g"
      },
      "outputs": [],
      "source": [
        "# Compute semantic similarity as the dot product between embeddings\n",
        "similarity_scores = util.dot_score(story_embeddings,query_embedding)"
      ]
    },
    {
      "cell_type": "markdown",
      "metadata": {
        "id": "JLr9T83ge9vc"
      },
      "source": [
        "Let's inspect the shape and content of the similarity score vector."
      ]
    },
    {
      "cell_type": "code",
      "execution_count": 17,
      "metadata": {
        "id": "GOsdWiZze954",
        "colab": {
          "base_uri": "https://localhost:8080/"
        },
        "outputId": "6e2006ab-6599-47e7-cddc-818b0e89803f"
      },
      "outputs": [
        {
          "output_type": "stream",
          "name": "stdout",
          "text": [
            "torch.Size([100, 1])\n",
            "tensor([[-3.5164e-02],\n",
            "        [ 7.4932e-01],\n",
            "        [ 4.2309e-01],\n",
            "        [ 3.4363e-01],\n",
            "        [ 2.5842e-01],\n",
            "        [ 1.6174e-01],\n",
            "        [ 2.6500e-01],\n",
            "        [ 2.1440e-01],\n",
            "        [ 1.2893e-01],\n",
            "        [ 3.4044e-01],\n",
            "        [ 1.5525e-01],\n",
            "        [ 4.4081e-01],\n",
            "        [ 1.7460e-01],\n",
            "        [ 3.7609e-02],\n",
            "        [ 2.3579e-01],\n",
            "        [ 2.3579e-01],\n",
            "        [ 1.6344e-01],\n",
            "        [ 4.0172e-01],\n",
            "        [ 1.2528e-01],\n",
            "        [ 2.2745e-01],\n",
            "        [ 3.6874e-01],\n",
            "        [ 2.8882e-01],\n",
            "        [ 2.2444e-01],\n",
            "        [ 3.4821e-01],\n",
            "        [ 2.1760e-01],\n",
            "        [ 3.3167e-01],\n",
            "        [ 4.9821e-01],\n",
            "        [ 3.8450e-01],\n",
            "        [ 3.9013e-01],\n",
            "        [ 1.5539e-01],\n",
            "        [ 3.8754e-01],\n",
            "        [ 3.4203e-01],\n",
            "        [ 2.8183e-01],\n",
            "        [ 1.9025e-01],\n",
            "        [ 3.4600e-01],\n",
            "        [ 3.4600e-01],\n",
            "        [ 3.2338e-01],\n",
            "        [-1.0555e-01],\n",
            "        [-4.2203e-02],\n",
            "        [ 3.2657e-02],\n",
            "        [ 1.3123e-01],\n",
            "        [ 6.5636e-02],\n",
            "        [ 6.0612e-03],\n",
            "        [ 8.0774e-02],\n",
            "        [ 2.6421e-01],\n",
            "        [ 1.5992e-01],\n",
            "        [-4.7375e-02],\n",
            "        [-4.7375e-02],\n",
            "        [-1.0589e-01],\n",
            "        [-1.0589e-01],\n",
            "        [ 9.9840e-02],\n",
            "        [-3.8874e-03],\n",
            "        [ 5.7524e-02],\n",
            "        [ 1.0370e-01],\n",
            "        [ 1.3831e-01],\n",
            "        [ 7.9701e-02],\n",
            "        [ 1.9692e-01],\n",
            "        [-3.2610e-02],\n",
            "        [ 7.1758e-04],\n",
            "        [-8.7852e-02],\n",
            "        [-5.2489e-02],\n",
            "        [ 7.0033e-02],\n",
            "        [ 1.3545e-02],\n",
            "        [ 1.0433e-01],\n",
            "        [ 3.3496e-02],\n",
            "        [ 3.3031e-02],\n",
            "        [ 1.6148e-02],\n",
            "        [ 1.2311e-01],\n",
            "        [ 4.0958e-02],\n",
            "        [ 8.6441e-02],\n",
            "        [ 3.3287e-03],\n",
            "        [-5.1825e-02],\n",
            "        [-1.3481e-01],\n",
            "        [-1.3887e-01],\n",
            "        [-1.5210e-01],\n",
            "        [-9.8821e-02],\n",
            "        [-9.5270e-02],\n",
            "        [-1.0855e-01],\n",
            "        [-4.1019e-02],\n",
            "        [ 2.7619e-02],\n",
            "        [-3.0709e-02],\n",
            "        [ 1.4788e-02],\n",
            "        [ 4.2993e-02],\n",
            "        [ 8.7657e-03],\n",
            "        [ 3.6249e-03],\n",
            "        [-1.0694e-01],\n",
            "        [-3.3620e-02],\n",
            "        [ 8.9359e-02],\n",
            "        [ 8.9359e-02],\n",
            "        [-3.3313e-02],\n",
            "        [-1.0157e-02],\n",
            "        [-2.2729e-02],\n",
            "        [-5.6901e-02],\n",
            "        [-5.0940e-02],\n",
            "        [ 8.0547e-02],\n",
            "        [-1.1757e-01],\n",
            "        [ 1.0669e-01],\n",
            "        [-6.1221e-02],\n",
            "        [-4.0795e-02],\n",
            "        [-4.0795e-02]])\n"
          ]
        }
      ],
      "source": [
        "print(similarity_scores.shape)\n",
        "print(similarity_scores)"
      ]
    },
    {
      "cell_type": "markdown",
      "metadata": {
        "id": "QjnCDDs0fHlb"
      },
      "source": [
        "Next, we obtain the indices of the top 3 ranked documents and their respective similarity scores. These are the documents that best match the query according to our paragraph embeddings."
      ]
    },
    {
      "cell_type": "code",
      "execution_count": 18,
      "metadata": {
        "id": "HFsBynVgtN5X",
        "colab": {
          "base_uri": "https://localhost:8080/"
        },
        "outputId": "c901ddda-7afd-4aaf-b00a-579708cb0ca7"
      },
      "outputs": [
        {
          "output_type": "stream",
          "name": "stdout",
          "text": [
            "Top 3 document ids: tensor([[ 1],\n",
            "        [26],\n",
            "        [11]])\n",
            "Top 3 document similarity scores: tensor([[0.7493],\n",
            "        [0.4982],\n",
            "        [0.4408]])\n"
          ]
        }
      ],
      "source": [
        "# Get the indices of the 3 top ranked documents and their similarity scores\n",
        "top_k_scores, top_k_indices = torch.topk(similarity_scores, 3, dim=0)\n",
        "\n",
        "print(f'Top 3 document ids: {top_k_indices}')\n",
        "print(f'Top 3 document similarity scores: {top_k_scores}')\n"
      ]
    },
    {
      "cell_type": "code",
      "execution_count": 19,
      "metadata": {
        "id": "P8zus-YNx4Pe",
        "colab": {
          "base_uri": "https://localhost:8080/"
        },
        "outputId": "26356d45-f0a9-49c5-89ef-2adae49543df"
      },
      "outputs": [
        {
          "output_type": "stream",
          "name": "stdout",
          "text": [
            "Best matching document:\n",
            "\n",
            "(AOL Autos)  -- At the 2009 Detroit Auto Show, Chrysler, Mercedes-Benz, Toyota and MINI showed the world what electric\n",
            "vehicles of the future will look like. And the future of driving looks fun. The Dodge Circuit EV can blast from 0-to-60\n",
            "mph in around 4 seconds. Those in the know realize that sometime in the future, the vast majority of light cars and\n",
            "trucks in the US will feature electric final drive systems. The motors used in these systems will be powered by\n",
            "batteries, fuel cells, on-board generators, and perhaps even the sun. But this open issue doesn't change the\n",
            "inevitability of this reality. Given our current economic times, reality demands practical, tangible, and achievable\n",
            "ideas of what electric vehicles (or \"EVs\" for short) might actually look like. This is it ... Chrysler Three of the four\n",
            "electric vehicles Chrysler showed in Detroit, Michigan, were shown at other events and even to Washington bureaucrats.\n",
            "Each of these vehicles is a running prototype, not some pie-in-the-sky-we'll-never-build that idea. ENVI is the special\n",
            "group of engineers at Chrysler that develops the company's EVs. To date, the ENVI group has developed four electrically\n",
            "powered models, each quite different from the other: a Dodge Circuit EV sports car (rear-wheel drive), a Chrysler Town &\n",
            "Country minivan (front-wheel-drive), a Jeep Wrangler Unlimited (all-wheel-drive), and now a Jeep Patriot (front-wheel-\n",
            "drive). Chrysler promises to offer at least one of these models in 2010, and three more by 2013. AOL Autos: Dodge\n",
            "Circuit EV photos Chrysler approaches electric vehicles with simple plug-and-play engineering. Every one of their\n",
            "vehicles uses similar electric drive motors (only varying in power output), advanced lithium-ion batteries, and a power\n",
            "management controller. Each plugs in to 110- or 220-volt household outlets for recharging. The Chrysler and both Jeeps\n",
            "use an on-board range-extending battery charger (a generator). This generator automatically turns on after the vehicle's\n",
            "initial batter charge has been spent (usually within a range of 40 miles), supplying extra voltage that give these three\n",
            "vehicles an estimated range of approximately 400 miles. The generator is powered by a small gasoline-powered engine that\n",
            "runs with exceptional efficiency. This technology is similar in concept to what General Motors has shown in their\n",
            "Chevrolet Volt, a vehicle that should be ready for production in 2010. AOL Autos: Cadillac Converj photos The Dodge\n",
            "Circuit carries a larger battery pack and no generator, so its range on the charge it carries is approximately 150-200\n",
            "miles. Its large battery pack combined with compact dimensions and the exceptional torque provided by its electric motor\n",
            "blast the car from zero-to-sixty mph in around four seconds, exceptionally fast for any sports car regardless of engine\n",
            "type. Mercedes-Benz Mercedes-Benz used the 2009 Detroit Auto Show to showcase their Concept BlueZERO vehicles. The\n",
            "Mercedes approach was to develop one efficient body style, and then equip it with three different electric drive\n",
            "packages. AOL Autos: Mercedes Stirling Moss photos Much of the hardware for the all-electric front-wheel-drive\n",
            "propulsion units is built into what Mercedes calls \"sandwich-floor\" architecture that the company uses on several\n",
            "production cars. The design helps keep heavy components mounted low on the chassis for better handling, enhanced safety,\n",
            "and maximized interior room. All three Concept BlueZERO vehicles include electric drive and batteries. The E-Cell uses a\n",
            "large battery pack that is said to deliver a range of 120 miles. The F-Cell utilizes a smaller battery pack, but\n",
            "supplements the vehicle's range with a hydrogen fuel cell. The fuel cell produces electricity to recharge the battery\n",
            "pack that extends cruising range to 240 miles. The E-Cell Plus, with a range of approximately 360 miles, is the distance\n",
            "champion. The key is the on-board generator powered by tiny 1-liter turbo-charged three-cylinder gasoline engine.\n"
          ]
        }
      ],
      "source": [
        "# Print the best matching document\n",
        "print('Best matching document:\\n')\n",
        "best_match_index = top_k_indices[0]\n",
        "pprint(retrieval_dataset.documents[best_match_index])"
      ]
    },
    {
      "cell_type": "markdown",
      "metadata": {
        "id": "NTMMdo3H3r57"
      },
      "source": [
        "#### Putting it all together\n",
        "\n",
        "Now that we have tested all of its components, we can reate a Python class for the document retriever based on paragraph-level document embeddings.\n",
        "\n",
        "***Fill in the code in the cell below.***"
      ]
    },
    {
      "cell_type": "code",
      "execution_count": 20,
      "metadata": {
        "id": "ILcyrKi5y0ad"
      },
      "outputs": [],
      "source": [
        "class ParagraphEmbeddingRetriever:\n",
        "\n",
        "  # Initialise the Retriever object\n",
        "  # with a document database and a language model\n",
        "  def __init__(\n",
        "      self,\n",
        "      documents,  # the list of documents in the database\n",
        "      model_name,  # the name of the language model\n",
        "    ):\n",
        "\n",
        "    # Load language model\n",
        "    self.model = SentenceTransformer(model_name)\n",
        "\n",
        "    # Embed documents\n",
        "    print('Initialization: embedding documents...')\n",
        "    self.doc_embeddings = self.model.encode(documents)\n",
        "\n",
        "  # Retrieving function: it takes as input a query and returns\n",
        "  # the top_k (default top_k = 3) matching documents in the database\n",
        "  def retrieve(\n",
        "      self,\n",
        "      query,\n",
        "      top_k=3\n",
        "    ):\n",
        "\n",
        "    # Embed query\n",
        "    query_embedding = self.model.encode(query)\n",
        "\n",
        "    # Compute semantic similarity\n",
        "    similarity_scores = util.dot_score(self.doc_embeddings, query_embedding)#[0]\n",
        "\n",
        "    # Get top k documents and their similarity scores\n",
        "    top_k_scores, top_k_indices = torch.topk(similarity_scores, top_k, dim=0)\n",
        "    return top_k_indices, top_k_scores, similarity_scores\n"
      ]
    },
    {
      "cell_type": "markdown",
      "metadata": {
        "id": "_PCssQp-WVbY"
      },
      "source": [
        "Let's test our compiled document retriever on the previous example."
      ]
    },
    {
      "cell_type": "code",
      "execution_count": 21,
      "metadata": {
        "id": "Gv5vCEhmWc0E",
        "colab": {
          "base_uri": "https://localhost:8080/"
        },
        "outputId": "e83b25aa-a463-446d-df67-9f76df6a07f4"
      },
      "outputs": [
        {
          "output_type": "stream",
          "name": "stdout",
          "text": [
            "Initialization: embedding documents...\n",
            "\n",
            "Top 3 indices: [[1], [26], [11]]\n",
            "Their scores: [[0.7493173480033875], [0.4982052445411682], [0.4408058524131775]]\n",
            "\n",
            "Best matching document:\n",
            "\n",
            "(AOL Autos)  -- At the 2009 Detroit Auto Show, Chrysler, Mercedes-Benz, Toyota and MINI showed the world what electric\n",
            "vehicles of the future will look like. And the future of driving looks fun. The Dodge Circuit EV can blast from 0-to-60\n",
            "mph in around 4 seconds. Those in the know realize that sometime in the future, the vast majority of light cars and\n",
            "trucks in the US will feature electric final drive systems. The motors used in these systems will be powered by\n",
            "batteries, fuel cells, on-board generators, and perhaps even the sun. But this open issue doesn't change the\n",
            "inevitability of this reality. Given our current economic times, reality demands practical, tangible, and achievable\n",
            "ideas of what electric vehicles (or \"EVs\" for short) might actually look like. This is it ... Chrysler Three of the four\n",
            "electric vehicles Chrysler showed in Detroit, Michigan, were shown at other events and even to Washington bureaucrats.\n",
            "Each of these vehicles is a running prototype, not some pie-in-the-sky-we'll-never-build that idea. ENVI is the special\n",
            "group of engineers at Chrysler that develops the company's EVs. To date, the ENVI group has developed four electrically\n",
            "powered models, each quite different from the other: a Dodge Circuit EV sports car (rear-wheel drive), a Chrysler Town &\n",
            "Country minivan (front-wheel-drive), a Jeep Wrangler Unlimited (all-wheel-drive), and now a Jeep Patriot (front-wheel-\n",
            "drive). Chrysler promises to offer at least one of these models in 2010, and three more by 2013. AOL Autos: Dodge\n",
            "Circuit EV photos Chrysler approaches electric vehicles with simple plug-and-play engineering. Every one of their\n",
            "vehicles uses similar electric drive motors (only varying in power output), advanced lithium-ion batteries, and a power\n",
            "management controller. Each plugs in to 110- or 220-volt household outlets for recharging. The Chrysler and both Jeeps\n",
            "use an on-board range-extending battery charger (a generator). This generator automatically turns on after the vehicle's\n",
            "initial batter charge has been spent (usually within a range of 40 miles), supplying extra voltage that give these three\n",
            "vehicles an estimated range of approximately 400 miles. The generator is powered by a small gasoline-powered engine that\n",
            "runs with exceptional efficiency. This technology is similar in concept to what General Motors has shown in their\n",
            "Chevrolet Volt, a vehicle that should be ready for production in 2010. AOL Autos: Cadillac Converj photos The Dodge\n",
            "Circuit carries a larger battery pack and no generator, so its range on the charge it carries is approximately 150-200\n",
            "miles. Its large battery pack combined with compact dimensions and the exceptional torque provided by its electric motor\n",
            "blast the car from zero-to-sixty mph in around four seconds, exceptionally fast for any sports car regardless of engine\n",
            "type. Mercedes-Benz Mercedes-Benz used the 2009 Detroit Auto Show to showcase their Concept BlueZERO vehicles. The\n",
            "Mercedes approach was to develop one efficient body style, and then equip it with three different electric drive\n",
            "packages. AOL Autos: Mercedes Stirling Moss photos Much of the hardware for the all-electric front-wheel-drive\n",
            "propulsion units is built into what Mercedes calls \"sandwich-floor\" architecture that the company uses on several\n",
            "production cars. The design helps keep heavy components mounted low on the chassis for better handling, enhanced safety,\n",
            "and maximized interior room. All three Concept BlueZERO vehicles include electric drive and batteries. The E-Cell uses a\n",
            "large battery pack that is said to deliver a range of 120 miles. The F-Cell utilizes a smaller battery pack, but\n",
            "supplements the vehicle's range with a hydrogen fuel cell. The fuel cell produces electricity to recharge the battery\n",
            "pack that extends cruising range to 240 miles. The E-Cell Plus, with a range of approximately 360 miles, is the distance\n",
            "champion. The key is the on-board generator powered by tiny 1-liter turbo-charged three-cylinder gasoline engine.\n"
          ]
        }
      ],
      "source": [
        "paragraph_retriever = ParagraphEmbeddingRetriever(\n",
        "    documents=retrieval_dataset.documents,\n",
        "    model_name='multi-qa-MiniLM-L6-cos-v1'\n",
        ")\n",
        "\n",
        "top_3_indices, top_3_scores, _ = paragraph_retriever.retrieve(\n",
        "    query='electric vehicles',\n",
        "    top_k=3\n",
        ")\n",
        "\n",
        "print()\n",
        "print(f'Top 3 indices: {top_3_indices.tolist()}')\n",
        "print(f'Their scores: {top_3_scores.tolist()}')\n",
        "print('\\nBest matching document:\\n')\n",
        "\n",
        "best_match_index = top_3_indices[0]\n",
        "pprint(retrieval_dataset.documents[best_match_index])\n"
      ]
    },
    {
      "cell_type": "markdown",
      "metadata": {
        "id": "VZsKTW9l3ijd"
      },
      "source": [
        "### Sentence-level embeddings\n",
        "\n",
        "News stories consist of many sentences. When a single embedding is used to represent them all, the meaning of each sentence is diluted and the final document embedding may become uninformative.\n",
        "\n",
        "The second method you will implement tries to address this issue by representing documents as a set of sentence-level embeddings. It is more computationally expensive, but it can potentially lead to more accurate retrieval.\n",
        "\n",
        "The method works as follows:\n",
        "1. Every document in the database is split into sentences.\n",
        "2. Each sentence in a document is embedded using a language model, and all the sentence embeddings extracted for a document are stored.\n",
        "3. At retrieval time, the query text is embedded and compared to all of the sentence embeddings of each document. Instead of a single similarity score for a given document, this results in a list of similarity scores, one for each sentence in the document.\n",
        "4. To obtain a single number from this list of similarity scores, a summary statistic is used, such as the mean, minimum or maximum.\n",
        "5. The documents are ranked based on this summary similarity score.\n",
        "\n",
        "We can reuse the same language model as an embedding engine."
      ]
    },
    {
      "cell_type": "markdown",
      "metadata": {
        "id": "_hF2_kjkgnxC"
      },
      "source": [
        "***Write a line of code to load the Sentence Transformer.***"
      ]
    },
    {
      "cell_type": "code",
      "execution_count": 22,
      "metadata": {
        "id": "hV6i9773UML3"
      },
      "outputs": [],
      "source": [
        "model = SentenceTransformer(\"multi-qa-MiniLM-L6-cos-v1\")"
      ]
    },
    {
      "cell_type": "markdown",
      "metadata": {
        "id": "FeKYcPceUhIC"
      },
      "source": [
        "To split documents into sentences, we will use the [spaCy](https://spacy.io/) library with its `sentencizer`, or *sentence segmentation* algorithm."
      ]
    },
    {
      "cell_type": "code",
      "execution_count": 23,
      "metadata": {
        "id": "DtBpq8EbUa5R"
      },
      "outputs": [],
      "source": [
        "spacy = English()\n",
        "spacy.add_pipe(\"sentencizer\")\n",
        "\n",
        "def split(text):\n",
        "  \"\"\"\n",
        "  Splits a text into sentences using the Spacy library.\n",
        "\n",
        "  Parameters\n",
        "  ----------\n",
        "  text : str\n",
        "      The text to be split into sentences.\n",
        "\n",
        "  Returns\n",
        "  -------\n",
        "  list\n",
        "      The list of sentences in the text.\n",
        "  \"\"\"\n",
        "  processed_text = spacy(text)\n",
        "  processed_sentences = processed_text.sents\n",
        "\n",
        "  sentences = []\n",
        "  for sentence in processed_sentences:\n",
        "    sentences.append(sentence.text)\n",
        "\n",
        "  return sentences\n"
      ]
    },
    {
      "cell_type": "markdown",
      "metadata": {
        "id": "UmWeHRn0g5MA"
      },
      "source": [
        "Let's test the sentence segmentation algorithm.\n",
        "\n"
      ]
    },
    {
      "cell_type": "code",
      "execution_count": 24,
      "metadata": {
        "id": "raqUMJA5g_C2",
        "colab": {
          "base_uri": "https://localhost:8080/"
        },
        "outputId": "f73463b9-fa5f-406f-f60c-1f2cc2a3038f"
      },
      "outputs": [
        {
          "output_type": "execute_result",
          "data": {
            "text/plain": [
              "['This is a first test sentence.',\n",
              " 'This is the second test sentence.',\n",
              " 'Will the segmentation algorithm detect all sentences correctly?']"
            ]
          },
          "metadata": {},
          "execution_count": 24
        }
      ],
      "source": [
        "split('This is a first test sentence. This is the second test sentence. Will the segmentation algorithm detect all sentences correctly?')"
      ]
    },
    {
      "cell_type": "markdown",
      "metadata": {
        "id": "pHMxtHTgVBR5"
      },
      "source": [
        "Now that the sentence segmentation is in place, let's build the sentence-based document retriever step by step.\n",
        "\n",
        "***In the cell below, fill in the line to embed the sentences in a story.***"
      ]
    },
    {
      "cell_type": "code",
      "execution_count": 25,
      "metadata": {
        "id": "nE_ZWkrAU2T-",
        "colab": {
          "base_uri": "https://localhost:8080/",
          "height": 49,
          "referenced_widgets": [
            "a6a142756e5e4e858d1932475298ba00",
            "340fe21ef7084096afd34dc25a2cc16b",
            "4bfe191cfb9045828be1752401e32e2d",
            "b83bbc03fc404565836f576ab6e17ac8",
            "710505ade8524efebaa995426fe1d860",
            "97fe7910394c454b8f46d2b56a1637d8",
            "9f0466a589044af49479e05d8e96aab9",
            "71d15027d97f423e90f05cd24822b9a5",
            "77050a1f1ecb4141a6c95a2c4e206f5e",
            "d629e542ed33473b9b05956dd845b51d",
            "886b964d48eb43819f033c5f0a32b1d0"
          ]
        },
        "outputId": "1e92fbd4-852a-42c3-fdb4-c4e1cd63a547"
      },
      "outputs": [
        {
          "output_type": "display_data",
          "data": {
            "text/plain": [
              "  0%|          | 0/100 [00:00<?, ?it/s]"
            ],
            "application/vnd.jupyter.widget-view+json": {
              "version_major": 2,
              "version_minor": 0,
              "model_id": "a6a142756e5e4e858d1932475298ba00"
            }
          },
          "metadata": {}
        }
      ],
      "source": [
        "# Embed news stories\n",
        "\n",
        "story_embeddings = []\n",
        "\n",
        "for story in tqdm(retrieval_dataset.documents):\n",
        "\n",
        "  # Split news story into sentences\n",
        "  sentences = split(story)\n",
        "\n",
        "  # Embed sentences\n",
        "  sentence_embeddings = model.encode(sentences)\n",
        "\n",
        "  story_embeddings.append(sentence_embeddings)"
      ]
    },
    {
      "cell_type": "markdown",
      "metadata": {
        "id": "nCdKzvsnhfHS"
      },
      "source": [
        "\n",
        "***Fill in the code to embed the query sentence.*** You can use the same query sentence as above, \"electric vehicles\"."
      ]
    },
    {
      "cell_type": "code",
      "execution_count": 26,
      "metadata": {
        "id": "fLWHQ8GTV4Qp"
      },
      "outputs": [],
      "source": [
        "# Embed test query\n",
        "query_embedding = model.encode(\"electric vehicles\")"
      ]
    },
    {
      "cell_type": "markdown",
      "metadata": {
        "id": "GZyf3Qqlhv7z"
      },
      "source": [
        "Now we can compute the similarity scores between the query embedding and the sentence embeddings. Remember: this will yield multiple similarity scores for each document, one per sentence. So we will summarise this document-specific list of similarity scores using a summary statistic. Here, we test `mean`, `min`, and `max` as summary statistics."
      ]
    },
    {
      "cell_type": "code",
      "execution_count": 27,
      "metadata": {
        "id": "aX4wEi7ZZsbQ"
      },
      "outputs": [],
      "source": [
        "# Store the similarity scores obtained with different summary statistics\n",
        "similarity_scores = {\n",
        "    'mean': [],\n",
        "    'max': [],\n",
        "    'min': []\n",
        "}\n",
        "\n",
        "for story_sentence_embeddings in (story_embeddings):\n",
        "    sentence_similarities = util.dot_score(\n",
        "        query_embedding,\n",
        "        story_sentence_embeddings\n",
        "    )\n",
        "    similarity_scores['mean'].append(sentence_similarities.mean())\n",
        "    similarity_scores['min'].append(sentence_similarities.min())\n",
        "    similarity_scores['max'].append(sentence_similarities.max())\n"
      ]
    },
    {
      "cell_type": "markdown",
      "metadata": {
        "id": "thdwzjtSiSmU"
      },
      "source": [
        "Let's retrieve the top 3 stories and their similarity scores.\n",
        "\n",
        "***Fill in the line below by providing a value for the parameter $k$.***"
      ]
    },
    {
      "cell_type": "code",
      "execution_count": 28,
      "metadata": {
        "id": "dkzGoXtsaqer"
      },
      "outputs": [],
      "source": [
        "top_3_similarity_scores = dict()\n",
        "top_3_story_indices = dict()\n",
        "\n",
        "for summary_statistic in ['mean', 'min', 'max']:\n",
        "  top_k_scores, top_k_indices = torch.topk(torch.as_tensor(similarity_scores[summary_statistic]),3)\n",
        "\n",
        "  top_3_similarity_scores[summary_statistic] = top_k_scores, top_k_indices\n"
      ]
    },
    {
      "cell_type": "markdown",
      "metadata": {
        "id": "wT2au0C5jJAK"
      },
      "source": [
        "Let's print out the indices of the top 3 matches based on `mean` sentence similarity."
      ]
    },
    {
      "cell_type": "code",
      "execution_count": 29,
      "metadata": {
        "id": "1LqxutwuXehi",
        "colab": {
          "base_uri": "https://localhost:8080/"
        },
        "outputId": "2960fcc4-80bf-41c1-940d-610dba30ac3e"
      },
      "outputs": [
        {
          "output_type": "stream",
          "name": "stdout",
          "text": [
            "Top 3 document ids: tensor([ 1, 23, 30])\n",
            "Top 3 document similarity scores: tensor([0.4343, 0.2930, 0.2875])\n",
            "\n",
            "Best matching document:\n",
            "\n",
            "(AOL Autos)  -- At the 2009 Detroit Auto Show, Chrysler, Mercedes-Benz, Toyota and MINI showed the world what electric\n",
            "vehicles of the future will look like. And the future of driving looks fun. The Dodge Circuit EV can blast from 0-to-60\n",
            "mph in around 4 seconds. Those in the know realize that sometime in the future, the vast majority of light cars and\n",
            "trucks in the US will feature electric final drive systems. The motors used in these systems will be powered by\n",
            "batteries, fuel cells, on-board generators, and perhaps even the sun. But this open issue doesn't change the\n",
            "inevitability of this reality. Given our current economic times, reality demands practical, tangible, and achievable\n",
            "ideas of what electric vehicles (or \"EVs\" for short) might actually look like. This is it ... Chrysler Three of the four\n",
            "electric vehicles Chrysler showed in Detroit, Michigan, were shown at other events and even to Washington bureaucrats.\n",
            "Each of these vehicles is a running prototype, not some pie-in-the-sky-we'll-never-build that idea. ENVI is the special\n",
            "group of engineers at Chrysler that develops the company's EVs. To date, the ENVI group has developed four electrically\n",
            "powered models, each quite different from the other: a Dodge Circuit EV sports car (rear-wheel drive), a Chrysler Town &\n",
            "Country minivan (front-wheel-drive), a Jeep Wrangler Unlimited (all-wheel-drive), and now a Jeep Patriot (front-wheel-\n",
            "drive). Chrysler promises to offer at least one of these models in 2010, and three more by 2013. AOL Autos: Dodge\n",
            "Circuit EV photos Chrysler approaches electric vehicles with simple plug-and-play engineering. Every one of their\n",
            "vehicles uses similar electric drive motors (only varying in power output), advanced lithium-ion batteries, and a power\n",
            "management controller. Each plugs in to 110- or 220-volt household outlets for recharging. The Chrysler and both Jeeps\n",
            "use an on-board range-extending battery charger (a generator). This generator automatically turns on after the vehicle's\n",
            "initial batter charge has been spent (usually within a range of 40 miles), supplying extra voltage that give these three\n",
            "vehicles an estimated range of approximately 400 miles. The generator is powered by a small gasoline-powered engine that\n",
            "runs with exceptional efficiency. This technology is similar in concept to what General Motors has shown in their\n",
            "Chevrolet Volt, a vehicle that should be ready for production in 2010. AOL Autos: Cadillac Converj photos The Dodge\n",
            "Circuit carries a larger battery pack and no generator, so its range on the charge it carries is approximately 150-200\n",
            "miles. Its large battery pack combined with compact dimensions and the exceptional torque provided by its electric motor\n",
            "blast the car from zero-to-sixty mph in around four seconds, exceptionally fast for any sports car regardless of engine\n",
            "type. Mercedes-Benz Mercedes-Benz used the 2009 Detroit Auto Show to showcase their Concept BlueZERO vehicles. The\n",
            "Mercedes approach was to develop one efficient body style, and then equip it with three different electric drive\n",
            "packages. AOL Autos: Mercedes Stirling Moss photos Much of the hardware for the all-electric front-wheel-drive\n",
            "propulsion units is built into what Mercedes calls \"sandwich-floor\" architecture that the company uses on several\n",
            "production cars. The design helps keep heavy components mounted low on the chassis for better handling, enhanced safety,\n",
            "and maximized interior room. All three Concept BlueZERO vehicles include electric drive and batteries. The E-Cell uses a\n",
            "large battery pack that is said to deliver a range of 120 miles. The F-Cell utilizes a smaller battery pack, but\n",
            "supplements the vehicle's range with a hydrogen fuel cell. The fuel cell produces electricity to recharge the battery\n",
            "pack that extends cruising range to 240 miles. The E-Cell Plus, with a range of approximately 360 miles, is the distance\n",
            "champion. The key is the on-board generator powered by tiny 1-liter turbo-charged three-cylinder gasoline engine.\n"
          ]
        }
      ],
      "source": [
        "top_k_scores_mean, top_k_indices_mean = top_3_similarity_scores['mean']\n",
        "print(f'Top 3 document ids: {top_k_indices_mean}')\n",
        "print(f'Top 3 document similarity scores: {top_k_scores_mean}')\n",
        "print('\\nBest matching document:\\n')\n",
        "\n",
        "best_match_index = top_k_indices_mean[0]\n",
        "pprint(retrieval_dataset.documents[best_match_index])\n"
      ]
    },
    {
      "cell_type": "markdown",
      "metadata": {
        "id": "7zl3hr5yjw2O"
      },
      "source": [
        "***In the nest two cells, write code to inspect the top 3 indices and their scores as well as the best matching document for the `min` and `max` sumamry statistics.***"
      ]
    },
    {
      "cell_type": "code",
      "execution_count": 30,
      "metadata": {
        "id": "g-d7yYCDjwVc",
        "colab": {
          "base_uri": "https://localhost:8080/"
        },
        "outputId": "338dfddd-1cd1-4041-b303-98b3612a4f3c"
      },
      "outputs": [
        {
          "output_type": "stream",
          "name": "stdout",
          "text": [
            "Top 3 min document ids: tensor([11, 30, 31])\n",
            "Top 3 min document similarity scores: tensor([0.0815, 0.0447, 0.0440])\n",
            "\n",
            "Best matching document:\n",
            "\n",
            "(AOL Autos) -- Consumer Reports recently announced its annual used cars ratings, and we weren't surprised to see one of\n",
            "the major categories was \"Best in Fuel Economy.\"   With gasoline and oil prices on a seemingly endless upward spiral,\n",
            "that's a key factor these days when choosing a used car -- or even a new one.   The cars that made this list were,\n",
            "according to Consumer Reports, \"the affordable and reliable vehicles [that] returned some of the best results in our\n",
            "real-world fuel-economy tests.\"   What follows is a list of the vehicles that magazine rated \"Best in Fuel Economy\" in\n",
            "the under $10,000 price range, with a short description of each vehicle. The mileage figures stated are the ones\n",
            "calculated by Consumer Reports in their own on-the-road tests.   2000 Honda Insight  Overall MPG: 51   When the Insight\n",
            "hit showrooms in 1999 for the 2000 model year, it was hailed as one of the cleanest and most fuel-efficient vehicles in\n",
            "the world. It was the first gasoline-electric hybrid to be sold in the U.S., and won several design, engineering and\n",
            "technology awards.   The Insight employs Honda's Integrated Motor Assist (IMA) system, combining an extremely\n",
            "lightweight 1.0-liter, three-cylinder gasoline automobile engine with an ultra-thin electric motor. Early models came\n",
            "with a 5-speed manual transmission, but a continuously variable transmission (CVT) was offered starting in '01.   2001 -\n",
            "2002 Toyota Prius  Overall MPG: 41   This was one of the earliest generations of the fuel-sipping Prius, and it\n",
            "certainly has become a green living icon since then. Drawing its power from a combination of a 1.5-liter four-cylinder\n",
            "engine and an electric motor, these earlier editions generated only 70 hp, but muscle isn't the point in a hybrid car.\n",
            "It's pod-like design had a certain retro-futuristic appeal, and was roomier than one might think.   2000 - 2005 Toyota\n",
            "Echo  Overall MPG: 38   The Echo was rolled out in 2000 as a no-frills compact econo-box, for those who wanted Toyota\n",
            "quality but were on a budget that precluded them from snagging a Corolla.   The interior is plain, but the engine is\n",
            "reliable and efficient, and the taut suspension delivers a ride comparable to larger models. This version of the Echo\n",
            "comes with a 1.5-liter four-cylinder 108-hp 16-Valve EFI engine.   1998 - 2002 Chevrolet Prizm  Overall MPG: 32   The\n",
            "Prizm of this era bore some resemblance to the Corolla, since both were built on the same assembly line in a joint\n",
            "GM/Toyota plant. A front-wheel-drive subcompact sedan, the Prizm was initially rolled out under the Geo nameplate, but\n",
            "later became a Chevy model.   Available as a base model and LSi, the Prizm is powered by single twin-cam four-cylinder\n",
            "engines that produced 120 hp in 1998 and 1999, but the addition of VVT in 2000 boosted the ponies to 125.   1998 Mazda\n",
            "Protégé LX  Overall MPG: 32   Mazda redesigned the Protégé in 1995, upgrading it considerably with a more rigid chassis\n",
            "and much-improved ride quality -- not to mention increased interior space.   This edition also offers a silkier ride,\n",
            "crisp handling and solid performance for a small car. This model year has a 92-hp 1.5-liter four-cylinder engine, and\n",
            "comes in three trim levels.   1998 - 2000 Toyota Corolla CE/LE  Overall MPG: 32/31   The Corolla has been a stalwart for\n",
            "more than 40 years, for its quality, dependability and, maybe most importantly, for its fuel economy. The 1998-1999\n",
            "editions are powered by a 1.8 L, 120-hp, four-cylinder 16-Valve EFI, with aluminum alloy block and head.   By 2000,\n",
            "they'd tweaked the engine to deliver 125 ponies. A front-wheel drive job, the Corollas of this period come in three trim\n",
            "levels, but Consumer Reports chose the midline CE and top-end LE.   1998 - 2001 Acura Integra LS  Overall MPG: 32   The\n",
            "Acura Integra sport coupe and sport sedan\n"
          ]
        }
      ],
      "source": [
        "top_k_scores_min, top_k_indices_min = top_3_similarity_scores['min']\n",
        "\n",
        "print(f'Top 3 min document ids: {top_k_indices_min}')\n",
        "print(f'Top 3 min document similarity scores: {top_k_scores_min}')\n",
        "print('\\nBest matching document:\\n')\n",
        "\n",
        "best_min_match_index = top_k_indices_min[0]\n",
        "pprint(retrieval_dataset.documents[best_min_match_index])"
      ]
    },
    {
      "cell_type": "code",
      "execution_count": 31,
      "metadata": {
        "id": "DMjW9N1vjwHS",
        "colab": {
          "base_uri": "https://localhost:8080/"
        },
        "outputId": "7ebee32f-63df-4f0d-bf59-1ecf4c053d9f"
      },
      "outputs": [
        {
          "output_type": "stream",
          "name": "stdout",
          "text": [
            "Top 3 max document ids: tensor([ 1, 26,  2])\n",
            "Top 3 max document similarity scores: tensor([0.7618, 0.5786, 0.4867])\n",
            "\n",
            "Best matching document:\n",
            "\n",
            "(AOL Autos)  -- At the 2009 Detroit Auto Show, Chrysler, Mercedes-Benz, Toyota and MINI showed the world what electric\n",
            "vehicles of the future will look like. And the future of driving looks fun. The Dodge Circuit EV can blast from 0-to-60\n",
            "mph in around 4 seconds. Those in the know realize that sometime in the future, the vast majority of light cars and\n",
            "trucks in the US will feature electric final drive systems. The motors used in these systems will be powered by\n",
            "batteries, fuel cells, on-board generators, and perhaps even the sun. But this open issue doesn't change the\n",
            "inevitability of this reality. Given our current economic times, reality demands practical, tangible, and achievable\n",
            "ideas of what electric vehicles (or \"EVs\" for short) might actually look like. This is it ... Chrysler Three of the four\n",
            "electric vehicles Chrysler showed in Detroit, Michigan, were shown at other events and even to Washington bureaucrats.\n",
            "Each of these vehicles is a running prototype, not some pie-in-the-sky-we'll-never-build that idea. ENVI is the special\n",
            "group of engineers at Chrysler that develops the company's EVs. To date, the ENVI group has developed four electrically\n",
            "powered models, each quite different from the other: a Dodge Circuit EV sports car (rear-wheel drive), a Chrysler Town &\n",
            "Country minivan (front-wheel-drive), a Jeep Wrangler Unlimited (all-wheel-drive), and now a Jeep Patriot (front-wheel-\n",
            "drive). Chrysler promises to offer at least one of these models in 2010, and three more by 2013. AOL Autos: Dodge\n",
            "Circuit EV photos Chrysler approaches electric vehicles with simple plug-and-play engineering. Every one of their\n",
            "vehicles uses similar electric drive motors (only varying in power output), advanced lithium-ion batteries, and a power\n",
            "management controller. Each plugs in to 110- or 220-volt household outlets for recharging. The Chrysler and both Jeeps\n",
            "use an on-board range-extending battery charger (a generator). This generator automatically turns on after the vehicle's\n",
            "initial batter charge has been spent (usually within a range of 40 miles), supplying extra voltage that give these three\n",
            "vehicles an estimated range of approximately 400 miles. The generator is powered by a small gasoline-powered engine that\n",
            "runs with exceptional efficiency. This technology is similar in concept to what General Motors has shown in their\n",
            "Chevrolet Volt, a vehicle that should be ready for production in 2010. AOL Autos: Cadillac Converj photos The Dodge\n",
            "Circuit carries a larger battery pack and no generator, so its range on the charge it carries is approximately 150-200\n",
            "miles. Its large battery pack combined with compact dimensions and the exceptional torque provided by its electric motor\n",
            "blast the car from zero-to-sixty mph in around four seconds, exceptionally fast for any sports car regardless of engine\n",
            "type. Mercedes-Benz Mercedes-Benz used the 2009 Detroit Auto Show to showcase their Concept BlueZERO vehicles. The\n",
            "Mercedes approach was to develop one efficient body style, and then equip it with three different electric drive\n",
            "packages. AOL Autos: Mercedes Stirling Moss photos Much of the hardware for the all-electric front-wheel-drive\n",
            "propulsion units is built into what Mercedes calls \"sandwich-floor\" architecture that the company uses on several\n",
            "production cars. The design helps keep heavy components mounted low on the chassis for better handling, enhanced safety,\n",
            "and maximized interior room. All three Concept BlueZERO vehicles include electric drive and batteries. The E-Cell uses a\n",
            "large battery pack that is said to deliver a range of 120 miles. The F-Cell utilizes a smaller battery pack, but\n",
            "supplements the vehicle's range with a hydrogen fuel cell. The fuel cell produces electricity to recharge the battery\n",
            "pack that extends cruising range to 240 miles. The E-Cell Plus, with a range of approximately 360 miles, is the distance\n",
            "champion. The key is the on-board generator powered by tiny 1-liter turbo-charged three-cylinder gasoline engine.\n"
          ]
        }
      ],
      "source": [
        "top_k_scores_max, top_k_indices_max = top_3_similarity_scores['max']\n",
        "\n",
        "print(f'Top 3 max document ids: {top_k_indices_max}')\n",
        "print(f'Top 3 max document similarity scores: {top_k_scores_max}')\n",
        "print('\\nBest matching document:\\n')\n",
        "\n",
        "best_max_match_index = top_k_indices_max[0]\n",
        "pprint(retrieval_dataset.documents[best_max_match_index])"
      ]
    },
    {
      "cell_type": "markdown",
      "metadata": {
        "id": "lBLrkUCAkatk"
      },
      "source": [
        "Do the different strategies produce different results?\n",
        "\n",
        "Answer: minimal values bring out different indexes and text results, while max is matching on the best retrieval as mean strategy"
      ]
    },
    {
      "cell_type": "markdown",
      "metadata": {
        "id": "L-QUi_-H3uLx"
      },
      "source": [
        "#### Putting it all together\n",
        "\n",
        "Now that we have tested all of its components, we can reate a Python class for the document retriever based on on sentence-level document embeddings.\n",
        "\n",
        "***Fill in the code in the cell below.***"
      ]
    },
    {
      "cell_type": "code",
      "execution_count": 32,
      "metadata": {
        "id": "fYWZc9G5TSha"
      },
      "outputs": [],
      "source": [
        "# SentenceEmbeddingRetriever class\n",
        "\n",
        "class SentenceEmbeddingRetriever:\n",
        "\n",
        "  # Initialise the Retriever object\n",
        "  # with a document database and a language model\n",
        "  def __init__(\n",
        "      self,\n",
        "      documents,\n",
        "      model_name,\n",
        "    ):\n",
        "\n",
        "    # Load language model\n",
        "    self.model = SentenceTransformer(model_name)\n",
        "\n",
        "    # Load the sentence segmentation algorithm\n",
        "    self.spacy = English()\n",
        "    self.spacy.add_pipe(\"sentencizer\")\n",
        "\n",
        "    # Define function to split document into sentences\n",
        "    def _split(document):\n",
        "      return [sent.text for sent in self.spacy(document).sents]\n",
        "\n",
        "    # Embed documents\n",
        "    self.document_embeddings = []\n",
        "    print('Initialization: embedding documents...')\n",
        "    for document in tqdm(documents):\n",
        "\n",
        "      # Split document into sentences\n",
        "      sentences = _split(document)\n",
        "\n",
        "      # Embed sentences\n",
        "      sentence_embeddings = self.model.encode(sentences)\n",
        "\n",
        "      self.document_embeddings.append(sentence_embeddings)\n",
        "\n",
        "  # Retrieving function: it takes as input a query and returns\n",
        "  # the top_k (default top_k = 3) matching documents in the database\n",
        "  def retrieve(\n",
        "      self,\n",
        "      query,\n",
        "      mode,\n",
        "      top_k=3\n",
        "  ):\n",
        "\n",
        "    # Embed query\n",
        "    query_embedding = self.model.encode(query)\n",
        "\n",
        "    # Compute sentence-level similarity scores\n",
        "    similarity_scores = []\n",
        "    for doc_sentence_embeddings in self.document_embeddings:\n",
        "      sentence_similarities = util.dot_score(\n",
        "         doc_sentence_embeddings, query_embedding)[0]\n",
        "\n",
        "      if mode == 'max':\n",
        "        similarity_scores.append(sentence_similarities.max())\n",
        "      elif mode == 'mean':\n",
        "        similarity_scores.append(sentence_similarities.mean())\n",
        "      elif mode == 'min':\n",
        "        similarity_scores.append(sentence_similarities.min())\n",
        "\n",
        "    # Transform scores into a tensor, for compatibility\n",
        "    similarity_scores = torch.as_tensor(similarity_scores)\n",
        "\n",
        "    # Get top k documents and their similarity scores\n",
        "    top_k_scores, top_k_indices = torch.topk(similarity_scores, top_k)\n",
        "    return top_k_indices, top_k_scores, similarity_scores\n"
      ]
    },
    {
      "cell_type": "markdown",
      "metadata": {
        "id": "UOOlufGSW4iD"
      },
      "source": [
        "Now let's test it on the previous example. Use `mode=mean` to define the summary statistic in the `retrieve` function.\n",
        "\n",
        "***Fill in the code in the cell below.***"
      ]
    },
    {
      "cell_type": "code",
      "execution_count": 33,
      "metadata": {
        "id": "-8NnSXVeW_5R",
        "colab": {
          "base_uri": "https://localhost:8080/",
          "height": 781,
          "referenced_widgets": [
            "2710a87451104935afd18e14383b7077",
            "d8b4e0f66c5346dbac11e8d851f20c2d",
            "d25a100b4adf42e498d42a6639d1ae4d",
            "14dce41e25f04601bf0f6319842b19aa",
            "31482e0b25514a139bb29e5b258d6d70",
            "77ce02a728b24a6bbc4d51a01d6fba4d",
            "8384fdd2b43045e7a10df45ea88a99d4",
            "24eceb073f2240b3b1c85bdc97188bc6",
            "5322780232bc4308b48596b09cc65d39",
            "f5137069734e4418852ab895e5575565",
            "a87c36de4cdb4c1c8a3a7f90e8b9014a"
          ]
        },
        "outputId": "9e0e807e-5828-4704-925c-e68d61cc96cf"
      },
      "outputs": [
        {
          "output_type": "stream",
          "name": "stdout",
          "text": [
            "Initialization: embedding documents...\n"
          ]
        },
        {
          "output_type": "display_data",
          "data": {
            "text/plain": [
              "  0%|          | 0/100 [00:00<?, ?it/s]"
            ],
            "application/vnd.jupyter.widget-view+json": {
              "version_major": 2,
              "version_minor": 0,
              "model_id": "2710a87451104935afd18e14383b7077"
            }
          },
          "metadata": {}
        },
        {
          "output_type": "stream",
          "name": "stdout",
          "text": [
            "\n",
            "Top 3 indices: [1, 3, 2]\n",
            "Scores: [0.677107572555542, 0.4829261600971222, 0.4724235534667969]\n",
            "\n",
            "Best matching document:\n",
            "\n",
            "(AOL Autos)  -- At the 2009 Detroit Auto Show, Chrysler, Mercedes-Benz, Toyota and MINI showed the world what electric\n",
            "vehicles of the future will look like. And the future of driving looks fun. The Dodge Circuit EV can blast from 0-to-60\n",
            "mph in around 4 seconds. Those in the know realize that sometime in the future, the vast majority of light cars and\n",
            "trucks in the US will feature electric final drive systems. The motors used in these systems will be powered by\n",
            "batteries, fuel cells, on-board generators, and perhaps even the sun. But this open issue doesn't change the\n",
            "inevitability of this reality. Given our current economic times, reality demands practical, tangible, and achievable\n",
            "ideas of what electric vehicles (or \"EVs\" for short) might actually look like. This is it ... Chrysler Three of the four\n",
            "electric vehicles Chrysler showed in Detroit, Michigan, were shown at other events and even to Washington bureaucrats.\n",
            "Each of these vehicles is a running prototype, not some pie-in-the-sky-we'll-never-build that idea. ENVI is the special\n",
            "group of engineers at Chrysler that develops the company's EVs. To date, the ENVI group has developed four electrically\n",
            "powered models, each quite different from the other: a Dodge Circuit EV sports car (rear-wheel drive), a Chrysler Town &\n",
            "Country minivan (front-wheel-drive), a Jeep Wrangler Unlimited (all-wheel-drive), and now a Jeep Patriot (front-wheel-\n",
            "drive). Chrysler promises to offer at least one of these models in 2010, and three more by 2013. AOL Autos: Dodge\n",
            "Circuit EV photos Chrysler approaches electric vehicles with simple plug-and-play engineering. Every one of their\n",
            "vehicles uses similar electric drive motors (only varying in power output), advanced lithium-ion batteries, and a power\n",
            "management controller. Each plugs in to 110- or 220-volt household outlets for recharging. The Chrysler and both Jeeps\n",
            "use an on-board range-extending battery charger (a generator). This generator automatically turns on after the vehicle's\n",
            "initial batter charge has been spent (usually within a range of 40 miles), supplying extra voltage that give these three\n",
            "vehicles an estimated range of approximately 400 miles. The generator is powered by a small gasoline-powered engine that\n",
            "runs with exceptional efficiency. This technology is similar in concept to what General Motors has shown in their\n",
            "Chevrolet Volt, a vehicle that should be ready for production in 2010. AOL Autos: Cadillac Converj photos The Dodge\n",
            "Circuit carries a larger battery pack and no generator, so its range on the charge it carries is approximately 150-200\n",
            "miles. Its large battery pack combined with compact dimensions and the exceptional torque provided by its electric motor\n",
            "blast the car from zero-to-sixty mph in around four seconds, exceptionally fast for any sports car regardless of engine\n",
            "type. Mercedes-Benz Mercedes-Benz used the 2009 Detroit Auto Show to showcase their Concept BlueZERO vehicles. The\n",
            "Mercedes approach was to develop one efficient body style, and then equip it with three different electric drive\n",
            "packages. AOL Autos: Mercedes Stirling Moss photos Much of the hardware for the all-electric front-wheel-drive\n",
            "propulsion units is built into what Mercedes calls \"sandwich-floor\" architecture that the company uses on several\n",
            "production cars. The design helps keep heavy components mounted low on the chassis for better handling, enhanced safety,\n",
            "and maximized interior room. All three Concept BlueZERO vehicles include electric drive and batteries. The E-Cell uses a\n",
            "large battery pack that is said to deliver a range of 120 miles. The F-Cell utilizes a smaller battery pack, but\n",
            "supplements the vehicle's range with a hydrogen fuel cell. The fuel cell produces electricity to recharge the battery\n",
            "pack that extends cruising range to 240 miles. The E-Cell Plus, with a range of approximately 360 miles, is the distance\n",
            "champion. The key is the on-board generator powered by tiny 1-liter turbo-charged three-cylinder gasoline engine.\n"
          ]
        }
      ],
      "source": [
        "\n",
        "sentence_retriever = SentenceEmbeddingRetriever(\n",
        "    documents=retrieval_dataset.documents,\n",
        "    model_name='multi-qa-MiniLM-L6-cos-v1')\n",
        "\n",
        "top_3_indices, top_3_scores, _ = sentence_retriever.retrieve(\n",
        "    query='electric vehicles',\n",
        "    mode='mean',\n",
        "    top_k=3)\n",
        "\n",
        "print()\n",
        "print(f'Top 3 indices: {top_3_indices.tolist()}')\n",
        "print(f'Scores: {top_3_scores.tolist()}')\n",
        "print('\\nBest matching document:\\n')\n",
        "\n",
        "best_match_index = top_3_indices[0]\n",
        "pprint(retrieval_dataset.documents[best_match_index])"
      ]
    },
    {
      "cell_type": "markdown",
      "metadata": {
        "id": "uBCnHCjDWKAV"
      },
      "source": [
        "### Evaluation"
      ]
    },
    {
      "cell_type": "markdown",
      "metadata": {
        "id": "lJG6rLTOXyig"
      },
      "source": [
        "How to tell whether the sentence-based retriever actually works better than the paragraph-based one? And how to pick the best summary statistic within the sentence-based approach?\n",
        "\n",
        "To assess and compare models, we will use *accuracy@k* (or *top-k accuracy*) as an evaluation metric. This metric computes the number of times when the correct document is among the top `k` documents retrieved. This is a generalized version of accuracy, with accuracy@1 being equivalent to the standard notion of accuracy (how often the correct document is the top document retrieved). We use it because in practice, in a retrieval scenario, you most likely want to return multiple hits to the user (think of a Google search) so it can be considered sufficient for the target document to be in the top `k`.\n",
        "\n",
        "How do we know what the target document for a query is? Remember that our dataset includes news, questions, answers, and summaries. To evaluate the news retrieval system, we will use news stories as target documents and take their respective questions as queries."
      ]
    },
    {
      "cell_type": "markdown",
      "metadata": {
        "id": "43ZdkEY6bmYk"
      },
      "source": [
        "For each value of `k` in [`1`, `3`, `5`, `10`] and for each model type in [`paragraph`, `sentence_mean`, `sentence_min`, `sentence_max`], we will compute the top-`k` accuracy of that model type and store it for convenience in the following data structure (i.e., you will be replacing all the zeros with actual accuracy scores)."
      ]
    },
    {
      "cell_type": "code",
      "execution_count": 34,
      "metadata": {
        "id": "cBv29_ZXazhW"
      },
      "outputs": [],
      "source": [
        "top_k_accuracy = {\n",
        "    1: {\"paragraph\": 0, \"sentence_mean\": 0, \"sentence_min\": 0,  \"sentence_max\": 0},\n",
        "    3: {\"paragraph\": 0, \"sentence_mean\": 0, \"sentence_min\": 0,  \"sentence_max\": 0},\n",
        "    5: {\"paragraph\": 0, \"sentence_mean\": 0, \"sentence_min\": 0,  \"sentence_max\": 0},\n",
        "   10: {\"paragraph\": 0, \"sentence_mean\": 0, \"sentence_min\": 0,  \"sentence_max\": 0},\n",
        "}"
      ]
    },
    {
      "cell_type": "markdown",
      "metadata": {
        "id": "UImuca6lcCst"
      },
      "source": [
        "Let's start from the paragraph-based model."
      ]
    },
    {
      "cell_type": "code",
      "execution_count": 68,
      "metadata": {
        "id": "uvZSAnkycDC3",
        "colab": {
          "base_uri": "https://localhost:8080/"
        },
        "outputId": "5ca19f7c-3106-4670-b1ca-6f503a5b5164"
      },
      "outputs": [
        {
          "output_type": "stream",
          "name": "stdout",
          "text": [
            "Initialization: embedding documents...\n"
          ]
        }
      ],
      "source": [
        "paragraph_retriever = ParagraphEmbeddingRetriever(\n",
        "    documents=retrieval_dataset.documents,\n",
        "    model_name='multi-qa-MiniLM-L6-cos-v1'\n",
        ")\n",
        "\n",
        "# Collect similarity scores for all the queries in the dataset\n",
        "# (so we can measure top k accuracy for any k we want)\n",
        "all_similarity_scores = []\n",
        "\n",
        "for query in retrieval_dataset.queries:\n",
        "  _, _, similarity_scores = paragraph_retriever.retrieve(\n",
        "      query=query\n",
        "  )\n",
        "  all_similarity_scores.append(torch.squeeze(similarity_scores))\n",
        "\n",
        "\n",
        "# Now compute accuracy for each value of k\n",
        "for k in [1, 3, 5, 10]:\n",
        "  acc = top_k_accuracy_score(\n",
        "      retrieval_dataset.true_indices,  # these are the target document indices\n",
        "      all_similarity_scores,\n",
        "      k=k\n",
        "  )\n",
        "\n",
        "  top_k_accuracy[k][\"paragraph\"] = acc\n"
      ]
    },
    {
      "cell_type": "markdown",
      "metadata": {
        "id": "OFFZW7qzp2sE"
      },
      "source": [
        "Now evaluate the three versions of the sentence-based retriever. We only need to load it once."
      ]
    },
    {
      "cell_type": "code",
      "execution_count": 69,
      "metadata": {
        "id": "jATC3zyip3eD",
        "colab": {
          "base_uri": "https://localhost:8080/",
          "height": 66,
          "referenced_widgets": [
            "3c68c3a0d217485987aea901eb494e55",
            "b90cc3fce5df45e4948fa5ca35867705",
            "594517054f56498185e1423afbf4529e",
            "586b6c7b500e446790b6020ebde3af5a",
            "5530139d150c4cebabe4f9fedf88f1e4",
            "1c2bbcde15c74d0f83736e8a61dcd8b9",
            "a6c48baf2cf9418c8d6629e54a7161dd",
            "0279b440f74a41c6add5536dfa2e1cb0",
            "641e667551564565b7e21fb45d84667f",
            "f1f8fe37aee34f5da03e59d5ad733734",
            "12449d949ac64a52ad78ed4d76d87d49"
          ]
        },
        "outputId": "3e4c66db-e38a-4810-a01c-f4815ab3b5b5"
      },
      "outputs": [
        {
          "output_type": "stream",
          "name": "stdout",
          "text": [
            "Initialization: embedding documents...\n"
          ]
        },
        {
          "output_type": "display_data",
          "data": {
            "text/plain": [
              "  0%|          | 0/100 [00:00<?, ?it/s]"
            ],
            "application/vnd.jupyter.widget-view+json": {
              "version_major": 2,
              "version_minor": 0,
              "model_id": "3c68c3a0d217485987aea901eb494e55"
            }
          },
          "metadata": {}
        }
      ],
      "source": [
        "sentence_retriever = SentenceEmbeddingRetriever(\n",
        "    documents=retrieval_dataset.documents,\n",
        "    model_name='multi-qa-MiniLM-L6-cos-v1'\n",
        ")"
      ]
    },
    {
      "cell_type": "markdown",
      "metadata": {
        "id": "EZnA13l1qFbS"
      },
      "source": [
        "***Fill in the missing lines in the cell below.***"
      ]
    },
    {
      "cell_type": "code",
      "execution_count": 71,
      "metadata": {
        "id": "NcPOtte-qECt"
      },
      "outputs": [],
      "source": [
        "for summary_statistic in ['mean', 'min', 'max']:\n",
        "\n",
        "  all_similarity_scores = []\n",
        "\n",
        "  for query in retrieval_dataset.queries:\n",
        "    _, _, similarity_scores = sentence_retriever.retrieve(\n",
        "        query=query,\n",
        "        mode=summary_statistic\n",
        "    )\n",
        "    all_similarity_scores.append(similarity_scores)\n",
        "\n",
        "\n",
        "  # Now compute accuracy for each value of k\n",
        "\n",
        "  for k in [1, 3, 5, 10]:\n",
        "    acc = top_k_accuracy_score(\n",
        "        retrieval_dataset.true_indices,  # these are the target document indices\n",
        "        all_similarity_scores,\n",
        "        k=k\n",
        "    )\n",
        "\n",
        "    # Store the top-k accuracy score in the top_k_accuracy data structure\n",
        "    top_k_accuracy[k][f\"sentence_{summary_statistic}\"] = acc\n"
      ]
    },
    {
      "cell_type": "markdown",
      "metadata": {
        "id": "Zqx4QD8UgSAf"
      },
      "source": [
        "Let's see how the models fair!"
      ]
    },
    {
      "cell_type": "code",
      "execution_count": 72,
      "metadata": {
        "id": "sGQ9TXLQgUnL",
        "colab": {
          "base_uri": "https://localhost:8080/",
          "height": 174
        },
        "outputId": "4aad35f8-5718-46bd-c30c-9498f410fe91"
      },
      "outputs": [
        {
          "output_type": "execute_result",
          "data": {
            "text/plain": [
              "                     1         3         5         10\n",
              "paragraph      0.582278  0.754747  0.805380  0.857595\n",
              "sentence_mean  0.387658  0.533228  0.623418  0.721519\n",
              "sentence_min   0.387658  0.533228  0.623418  0.721519\n",
              "sentence_max   0.387658  0.533228  0.623418  0.721519"
            ],
            "text/html": [
              "\n",
              "  <div id=\"df-826b1469-3a6e-4a2a-93dd-b00d2f2e257a\" class=\"colab-df-container\">\n",
              "    <div>\n",
              "<style scoped>\n",
              "    .dataframe tbody tr th:only-of-type {\n",
              "        vertical-align: middle;\n",
              "    }\n",
              "\n",
              "    .dataframe tbody tr th {\n",
              "        vertical-align: top;\n",
              "    }\n",
              "\n",
              "    .dataframe thead th {\n",
              "        text-align: right;\n",
              "    }\n",
              "</style>\n",
              "<table border=\"1\" class=\"dataframe\">\n",
              "  <thead>\n",
              "    <tr style=\"text-align: right;\">\n",
              "      <th></th>\n",
              "      <th>1</th>\n",
              "      <th>3</th>\n",
              "      <th>5</th>\n",
              "      <th>10</th>\n",
              "    </tr>\n",
              "  </thead>\n",
              "  <tbody>\n",
              "    <tr>\n",
              "      <th>paragraph</th>\n",
              "      <td>0.582278</td>\n",
              "      <td>0.754747</td>\n",
              "      <td>0.805380</td>\n",
              "      <td>0.857595</td>\n",
              "    </tr>\n",
              "    <tr>\n",
              "      <th>sentence_mean</th>\n",
              "      <td>0.387658</td>\n",
              "      <td>0.533228</td>\n",
              "      <td>0.623418</td>\n",
              "      <td>0.721519</td>\n",
              "    </tr>\n",
              "    <tr>\n",
              "      <th>sentence_min</th>\n",
              "      <td>0.387658</td>\n",
              "      <td>0.533228</td>\n",
              "      <td>0.623418</td>\n",
              "      <td>0.721519</td>\n",
              "    </tr>\n",
              "    <tr>\n",
              "      <th>sentence_max</th>\n",
              "      <td>0.387658</td>\n",
              "      <td>0.533228</td>\n",
              "      <td>0.623418</td>\n",
              "      <td>0.721519</td>\n",
              "    </tr>\n",
              "  </tbody>\n",
              "</table>\n",
              "</div>\n",
              "    <div class=\"colab-df-buttons\">\n",
              "\n",
              "  <div class=\"colab-df-container\">\n",
              "    <button class=\"colab-df-convert\" onclick=\"convertToInteractive('df-826b1469-3a6e-4a2a-93dd-b00d2f2e257a')\"\n",
              "            title=\"Convert this dataframe to an interactive table.\"\n",
              "            style=\"display:none;\">\n",
              "\n",
              "  <svg xmlns=\"http://www.w3.org/2000/svg\" height=\"24px\" viewBox=\"0 -960 960 960\">\n",
              "    <path d=\"M120-120v-720h720v720H120Zm60-500h600v-160H180v160Zm220 220h160v-160H400v160Zm0 220h160v-160H400v160ZM180-400h160v-160H180v160Zm440 0h160v-160H620v160ZM180-180h160v-160H180v160Zm440 0h160v-160H620v160Z\"/>\n",
              "  </svg>\n",
              "    </button>\n",
              "\n",
              "  <style>\n",
              "    .colab-df-container {\n",
              "      display:flex;\n",
              "      gap: 12px;\n",
              "    }\n",
              "\n",
              "    .colab-df-convert {\n",
              "      background-color: #E8F0FE;\n",
              "      border: none;\n",
              "      border-radius: 50%;\n",
              "      cursor: pointer;\n",
              "      display: none;\n",
              "      fill: #1967D2;\n",
              "      height: 32px;\n",
              "      padding: 0 0 0 0;\n",
              "      width: 32px;\n",
              "    }\n",
              "\n",
              "    .colab-df-convert:hover {\n",
              "      background-color: #E2EBFA;\n",
              "      box-shadow: 0px 1px 2px rgba(60, 64, 67, 0.3), 0px 1px 3px 1px rgba(60, 64, 67, 0.15);\n",
              "      fill: #174EA6;\n",
              "    }\n",
              "\n",
              "    .colab-df-buttons div {\n",
              "      margin-bottom: 4px;\n",
              "    }\n",
              "\n",
              "    [theme=dark] .colab-df-convert {\n",
              "      background-color: #3B4455;\n",
              "      fill: #D2E3FC;\n",
              "    }\n",
              "\n",
              "    [theme=dark] .colab-df-convert:hover {\n",
              "      background-color: #434B5C;\n",
              "      box-shadow: 0px 1px 3px 1px rgba(0, 0, 0, 0.15);\n",
              "      filter: drop-shadow(0px 1px 2px rgba(0, 0, 0, 0.3));\n",
              "      fill: #FFFFFF;\n",
              "    }\n",
              "  </style>\n",
              "\n",
              "    <script>\n",
              "      const buttonEl =\n",
              "        document.querySelector('#df-826b1469-3a6e-4a2a-93dd-b00d2f2e257a button.colab-df-convert');\n",
              "      buttonEl.style.display =\n",
              "        google.colab.kernel.accessAllowed ? 'block' : 'none';\n",
              "\n",
              "      async function convertToInteractive(key) {\n",
              "        const element = document.querySelector('#df-826b1469-3a6e-4a2a-93dd-b00d2f2e257a');\n",
              "        const dataTable =\n",
              "          await google.colab.kernel.invokeFunction('convertToInteractive',\n",
              "                                                    [key], {});\n",
              "        if (!dataTable) return;\n",
              "\n",
              "        const docLinkHtml = 'Like what you see? Visit the ' +\n",
              "          '<a target=\"_blank\" href=https://colab.research.google.com/notebooks/data_table.ipynb>data table notebook</a>'\n",
              "          + ' to learn more about interactive tables.';\n",
              "        element.innerHTML = '';\n",
              "        dataTable['output_type'] = 'display_data';\n",
              "        await google.colab.output.renderOutput(dataTable, element);\n",
              "        const docLink = document.createElement('div');\n",
              "        docLink.innerHTML = docLinkHtml;\n",
              "        element.appendChild(docLink);\n",
              "      }\n",
              "    </script>\n",
              "  </div>\n",
              "\n",
              "\n",
              "<div id=\"df-58649fb7-589e-4fb1-8ed0-fd0d58578876\">\n",
              "  <button class=\"colab-df-quickchart\" onclick=\"quickchart('df-58649fb7-589e-4fb1-8ed0-fd0d58578876')\"\n",
              "            title=\"Suggest charts\"\n",
              "            style=\"display:none;\">\n",
              "\n",
              "<svg xmlns=\"http://www.w3.org/2000/svg\" height=\"24px\"viewBox=\"0 0 24 24\"\n",
              "     width=\"24px\">\n",
              "    <g>\n",
              "        <path d=\"M19 3H5c-1.1 0-2 .9-2 2v14c0 1.1.9 2 2 2h14c1.1 0 2-.9 2-2V5c0-1.1-.9-2-2-2zM9 17H7v-7h2v7zm4 0h-2V7h2v10zm4 0h-2v-4h2v4z\"/>\n",
              "    </g>\n",
              "</svg>\n",
              "  </button>\n",
              "\n",
              "<style>\n",
              "  .colab-df-quickchart {\n",
              "      --bg-color: #E8F0FE;\n",
              "      --fill-color: #1967D2;\n",
              "      --hover-bg-color: #E2EBFA;\n",
              "      --hover-fill-color: #174EA6;\n",
              "      --disabled-fill-color: #AAA;\n",
              "      --disabled-bg-color: #DDD;\n",
              "  }\n",
              "\n",
              "  [theme=dark] .colab-df-quickchart {\n",
              "      --bg-color: #3B4455;\n",
              "      --fill-color: #D2E3FC;\n",
              "      --hover-bg-color: #434B5C;\n",
              "      --hover-fill-color: #FFFFFF;\n",
              "      --disabled-bg-color: #3B4455;\n",
              "      --disabled-fill-color: #666;\n",
              "  }\n",
              "\n",
              "  .colab-df-quickchart {\n",
              "    background-color: var(--bg-color);\n",
              "    border: none;\n",
              "    border-radius: 50%;\n",
              "    cursor: pointer;\n",
              "    display: none;\n",
              "    fill: var(--fill-color);\n",
              "    height: 32px;\n",
              "    padding: 0;\n",
              "    width: 32px;\n",
              "  }\n",
              "\n",
              "  .colab-df-quickchart:hover {\n",
              "    background-color: var(--hover-bg-color);\n",
              "    box-shadow: 0 1px 2px rgba(60, 64, 67, 0.3), 0 1px 3px 1px rgba(60, 64, 67, 0.15);\n",
              "    fill: var(--button-hover-fill-color);\n",
              "  }\n",
              "\n",
              "  .colab-df-quickchart-complete:disabled,\n",
              "  .colab-df-quickchart-complete:disabled:hover {\n",
              "    background-color: var(--disabled-bg-color);\n",
              "    fill: var(--disabled-fill-color);\n",
              "    box-shadow: none;\n",
              "  }\n",
              "\n",
              "  .colab-df-spinner {\n",
              "    border: 2px solid var(--fill-color);\n",
              "    border-color: transparent;\n",
              "    border-bottom-color: var(--fill-color);\n",
              "    animation:\n",
              "      spin 1s steps(1) infinite;\n",
              "  }\n",
              "\n",
              "  @keyframes spin {\n",
              "    0% {\n",
              "      border-color: transparent;\n",
              "      border-bottom-color: var(--fill-color);\n",
              "      border-left-color: var(--fill-color);\n",
              "    }\n",
              "    20% {\n",
              "      border-color: transparent;\n",
              "      border-left-color: var(--fill-color);\n",
              "      border-top-color: var(--fill-color);\n",
              "    }\n",
              "    30% {\n",
              "      border-color: transparent;\n",
              "      border-left-color: var(--fill-color);\n",
              "      border-top-color: var(--fill-color);\n",
              "      border-right-color: var(--fill-color);\n",
              "    }\n",
              "    40% {\n",
              "      border-color: transparent;\n",
              "      border-right-color: var(--fill-color);\n",
              "      border-top-color: var(--fill-color);\n",
              "    }\n",
              "    60% {\n",
              "      border-color: transparent;\n",
              "      border-right-color: var(--fill-color);\n",
              "    }\n",
              "    80% {\n",
              "      border-color: transparent;\n",
              "      border-right-color: var(--fill-color);\n",
              "      border-bottom-color: var(--fill-color);\n",
              "    }\n",
              "    90% {\n",
              "      border-color: transparent;\n",
              "      border-bottom-color: var(--fill-color);\n",
              "    }\n",
              "  }\n",
              "</style>\n",
              "\n",
              "  <script>\n",
              "    async function quickchart(key) {\n",
              "      const quickchartButtonEl =\n",
              "        document.querySelector('#' + key + ' button');\n",
              "      quickchartButtonEl.disabled = true;  // To prevent multiple clicks.\n",
              "      quickchartButtonEl.classList.add('colab-df-spinner');\n",
              "      try {\n",
              "        const charts = await google.colab.kernel.invokeFunction(\n",
              "            'suggestCharts', [key], {});\n",
              "      } catch (error) {\n",
              "        console.error('Error during call to suggestCharts:', error);\n",
              "      }\n",
              "      quickchartButtonEl.classList.remove('colab-df-spinner');\n",
              "      quickchartButtonEl.classList.add('colab-df-quickchart-complete');\n",
              "    }\n",
              "    (() => {\n",
              "      let quickchartButtonEl =\n",
              "        document.querySelector('#df-58649fb7-589e-4fb1-8ed0-fd0d58578876 button');\n",
              "      quickchartButtonEl.style.display =\n",
              "        google.colab.kernel.accessAllowed ? 'block' : 'none';\n",
              "    })();\n",
              "  </script>\n",
              "</div>\n",
              "    </div>\n",
              "  </div>\n"
            ],
            "application/vnd.google.colaboratory.intrinsic+json": {
              "type": "dataframe",
              "variable_name": "top_k_accuracy_df",
              "summary": "{\n  \"name\": \"top_k_accuracy_df\",\n  \"rows\": 4,\n  \"fields\": [\n    {\n      \"column\": 1,\n      \"properties\": {\n        \"dtype\": \"number\",\n        \"std\": 0.09731012658227847,\n        \"min\": 0.3876582278481013,\n        \"max\": 0.5822784810126582,\n        \"num_unique_values\": 2,\n        \"samples\": [\n          0.3876582278481013,\n          0.5822784810126582\n        ],\n        \"semantic_type\": \"\",\n        \"description\": \"\"\n      }\n    },\n    {\n      \"column\": 3,\n      \"properties\": {\n        \"dtype\": \"number\",\n        \"std\": 0.11075949367088611,\n        \"min\": 0.5332278481012658,\n        \"max\": 0.754746835443038,\n        \"num_unique_values\": 2,\n        \"samples\": [\n          0.5332278481012658,\n          0.754746835443038\n        ],\n        \"semantic_type\": \"\",\n        \"description\": \"\"\n      }\n    },\n    {\n      \"column\": 5,\n      \"properties\": {\n        \"dtype\": \"number\",\n        \"std\": 0.09098101265822782,\n        \"min\": 0.6234177215189873,\n        \"max\": 0.805379746835443,\n        \"num_unique_values\": 2,\n        \"samples\": [\n          0.6234177215189873,\n          0.805379746835443\n        ],\n        \"semantic_type\": \"\",\n        \"description\": \"\"\n      }\n    },\n    {\n      \"column\": 10,\n      \"properties\": {\n        \"dtype\": \"number\",\n        \"std\": 0.06803797468354433,\n        \"min\": 0.7215189873417721,\n        \"max\": 0.8575949367088608,\n        \"num_unique_values\": 2,\n        \"samples\": [\n          0.7215189873417721,\n          0.8575949367088608\n        ],\n        \"semantic_type\": \"\",\n        \"description\": \"\"\n      }\n    }\n  ]\n}"
            }
          },
          "metadata": {},
          "execution_count": 72
        }
      ],
      "source": [
        "top_k_accuracy_df = pd.DataFrame(top_k_accuracy)\n",
        "top_k_accuracy_df"
      ]
    },
    {
      "cell_type": "markdown",
      "metadata": {
        "id": "fIVc1IkFgYBq"
      },
      "source": [
        "**[Optional]** In the experiments above, we picked a language model and kept it fixed. However, the language model is itself an experimental variable—and a very important one, as the choice of language model determines the quality of the embeddings.\n",
        "\n",
        "Compare the retrieval systems above against systems based on two alternative language models: [`all-MiniLM-L6-v2`](https://huggingface.co/sentence-transformers/all-MiniLM-L6-v2) and [`msmarco-distilbert-base-v4`](https://huggingface.co/sentence-transformers/msmarco-distilbert-base-v4). For the sentence-based model, you don't need to evaluate all three versions. Pick only the one with the summary statistic that performed best.\n",
        "\n",
        "**[Optional]** ***Write code to reproduce the experiments above using alternative language models.***"
      ]
    },
    {
      "cell_type": "code",
      "execution_count": 77,
      "metadata": {
        "id": "OIYaNB5thf95",
        "colab": {
          "base_uri": "https://localhost:8080/",
          "height": 84,
          "referenced_widgets": [
            "54baa14cfcc448acb4da724c04e367a1",
            "5f82d06dc79844db9170fdb088011338",
            "8072e22b551e40a68721d6ad1facaf43",
            "063bd19245a54572b629b605887e4668",
            "c14c1a283c284001899e84277f5e9d51",
            "ca74b92b01fa4ca7b3afedf452d33e8d",
            "1d04f08004ce482591f6684f05f34535",
            "b6321f800cda4e649cb544a695e7761c",
            "0c134391c16e46e6a590b785889ab58e",
            "8288efd09a6744508e117d8d521c83f2",
            "eed5f31e085c43b8a75f7f67ec6ee3a7"
          ]
        },
        "outputId": "b5c3676e-5614-4e29-de5a-aad01d755c37"
      },
      "outputs": [
        {
          "output_type": "stream",
          "name": "stdout",
          "text": [
            "Initialization: embedding documents...\n"
          ]
        },
        {
          "output_type": "display_data",
          "data": {
            "text/plain": [
              "  0%|          | 0/100 [00:00<?, ?it/s]"
            ],
            "application/vnd.jupyter.widget-view+json": {
              "version_major": 2,
              "version_minor": 0,
              "model_id": "54baa14cfcc448acb4da724c04e367a1"
            }
          },
          "metadata": {}
        },
        {
          "output_type": "stream",
          "name": "stdout",
          "text": [
            "Initialization: embedding documents...\n"
          ]
        }
      ],
      "source": [
        "sentence_retriever_msmarco = SentenceEmbeddingRetriever(\n",
        "    documents=retrieval_dataset.documents,\n",
        "    model_name='msmarco-distilbert-base-v4'\n",
        ")\n",
        "\n",
        "paragraph_retriever_msmarco = ParagraphEmbeddingRetriever(\n",
        "    documents=retrieval_dataset.documents,\n",
        "    model_name='msmarco-distilbert-base-v4'\n",
        ")\n"
      ]
    },
    {
      "cell_type": "code",
      "source": [
        "top_k_accuracy_msm = {\n",
        "    1: {\"paragraph\": 0, \"sentence_mean\": 0, \"sentence_min\": 0,  \"sentence_max\": 0},\n",
        "    3: {\"paragraph\": 0, \"sentence_mean\": 0, \"sentence_min\": 0,  \"sentence_max\": 0},\n",
        "    5: {\"paragraph\": 0, \"sentence_mean\": 0, \"sentence_min\": 0,  \"sentence_max\": 0},\n",
        "   10: {\"paragraph\": 0, \"sentence_mean\": 0, \"sentence_min\": 0,  \"sentence_max\": 0},\n",
        "}"
      ],
      "metadata": {
        "id": "w_oEa8os5wZJ"
      },
      "execution_count": 78,
      "outputs": []
    },
    {
      "cell_type": "code",
      "source": [
        "# Collect similarity scores for all the queries in the dataset\n",
        "# (so we can measure top k accuracy for any k we want)\n",
        "all_similarity_scores_msmarco = []\n",
        "\n",
        "for query in retrieval_dataset.queries:\n",
        "  _, _, similarity_scores = paragraph_retriever_msmarco.retrieve(\n",
        "      query=query\n",
        "  )\n",
        "  all_similarity_scores_msmarco.append(torch.squeeze(similarity_scores))\n",
        "\n",
        "\n",
        "# Now compute accuracy for each value of k\n",
        "for k in [1, 3, 5, 10]:\n",
        "  acc = top_k_accuracy_score(\n",
        "      retrieval_dataset.true_indices,  # these are the target document indices\n",
        "      all_similarity_scores_msmarco,\n",
        "      k=k\n",
        "  )\n",
        "\n",
        "  top_k_accuracy_msm[k][\"paragraph\"] = acc"
      ],
      "metadata": {
        "id": "2Ym_GSyP5xsY"
      },
      "execution_count": 79,
      "outputs": []
    },
    {
      "cell_type": "code",
      "execution_count": 80,
      "metadata": {
        "id": "NeTTv-CAhg_u"
      },
      "outputs": [],
      "source": [
        "for summary_statistic in ['mean', 'min', 'max']:\n",
        "\n",
        "  all_similarity_scores_msmarco = []\n",
        "\n",
        "  for query in retrieval_dataset.queries:\n",
        "    _, _, similarity_scores = sentence_retriever_msmarco.retrieve(\n",
        "        query=query,\n",
        "        mode=summary_statistic\n",
        "    )\n",
        "    all_similarity_scores_msmarco.append(similarity_scores)\n",
        "\n",
        "\n",
        "  # Now compute accuracy for each value of k\n",
        "\n",
        "  for k in [1, 3, 5, 10]:\n",
        "    acc = top_k_accuracy_score(\n",
        "        retrieval_dataset.true_indices,  # these are the target document indices\n",
        "        all_similarity_scores_msmarco,\n",
        "        k=k\n",
        "    )\n",
        "\n",
        "    # Store the top-k accuracy score in the top_k_accuracy data structure\n",
        "    top_k_accuracy_msm[k][f\"sentence_{summary_statistic}\"] = acc"
      ]
    },
    {
      "cell_type": "code",
      "execution_count": 81,
      "metadata": {
        "id": "6dPhUvH0rP88",
        "colab": {
          "base_uri": "https://localhost:8080/",
          "height": 174
        },
        "outputId": "5a7c603b-5f73-4064-8f72-723612606527"
      },
      "outputs": [
        {
          "output_type": "execute_result",
          "data": {
            "text/plain": [
              "                     1         3         5         10\n",
              "paragraph      0.566456  0.702532  0.767405  0.830696\n",
              "sentence_mean  0.363924  0.492089  0.555380  0.672468\n",
              "sentence_min   0.363924  0.492089  0.555380  0.672468\n",
              "sentence_max   0.363924  0.492089  0.555380  0.672468"
            ],
            "text/html": [
              "\n",
              "  <div id=\"df-6b3176c6-f8db-4b0c-96be-9b6b8995b17b\" class=\"colab-df-container\">\n",
              "    <div>\n",
              "<style scoped>\n",
              "    .dataframe tbody tr th:only-of-type {\n",
              "        vertical-align: middle;\n",
              "    }\n",
              "\n",
              "    .dataframe tbody tr th {\n",
              "        vertical-align: top;\n",
              "    }\n",
              "\n",
              "    .dataframe thead th {\n",
              "        text-align: right;\n",
              "    }\n",
              "</style>\n",
              "<table border=\"1\" class=\"dataframe\">\n",
              "  <thead>\n",
              "    <tr style=\"text-align: right;\">\n",
              "      <th></th>\n",
              "      <th>1</th>\n",
              "      <th>3</th>\n",
              "      <th>5</th>\n",
              "      <th>10</th>\n",
              "    </tr>\n",
              "  </thead>\n",
              "  <tbody>\n",
              "    <tr>\n",
              "      <th>paragraph</th>\n",
              "      <td>0.566456</td>\n",
              "      <td>0.702532</td>\n",
              "      <td>0.767405</td>\n",
              "      <td>0.830696</td>\n",
              "    </tr>\n",
              "    <tr>\n",
              "      <th>sentence_mean</th>\n",
              "      <td>0.363924</td>\n",
              "      <td>0.492089</td>\n",
              "      <td>0.555380</td>\n",
              "      <td>0.672468</td>\n",
              "    </tr>\n",
              "    <tr>\n",
              "      <th>sentence_min</th>\n",
              "      <td>0.363924</td>\n",
              "      <td>0.492089</td>\n",
              "      <td>0.555380</td>\n",
              "      <td>0.672468</td>\n",
              "    </tr>\n",
              "    <tr>\n",
              "      <th>sentence_max</th>\n",
              "      <td>0.363924</td>\n",
              "      <td>0.492089</td>\n",
              "      <td>0.555380</td>\n",
              "      <td>0.672468</td>\n",
              "    </tr>\n",
              "  </tbody>\n",
              "</table>\n",
              "</div>\n",
              "    <div class=\"colab-df-buttons\">\n",
              "\n",
              "  <div class=\"colab-df-container\">\n",
              "    <button class=\"colab-df-convert\" onclick=\"convertToInteractive('df-6b3176c6-f8db-4b0c-96be-9b6b8995b17b')\"\n",
              "            title=\"Convert this dataframe to an interactive table.\"\n",
              "            style=\"display:none;\">\n",
              "\n",
              "  <svg xmlns=\"http://www.w3.org/2000/svg\" height=\"24px\" viewBox=\"0 -960 960 960\">\n",
              "    <path d=\"M120-120v-720h720v720H120Zm60-500h600v-160H180v160Zm220 220h160v-160H400v160Zm0 220h160v-160H400v160ZM180-400h160v-160H180v160Zm440 0h160v-160H620v160ZM180-180h160v-160H180v160Zm440 0h160v-160H620v160Z\"/>\n",
              "  </svg>\n",
              "    </button>\n",
              "\n",
              "  <style>\n",
              "    .colab-df-container {\n",
              "      display:flex;\n",
              "      gap: 12px;\n",
              "    }\n",
              "\n",
              "    .colab-df-convert {\n",
              "      background-color: #E8F0FE;\n",
              "      border: none;\n",
              "      border-radius: 50%;\n",
              "      cursor: pointer;\n",
              "      display: none;\n",
              "      fill: #1967D2;\n",
              "      height: 32px;\n",
              "      padding: 0 0 0 0;\n",
              "      width: 32px;\n",
              "    }\n",
              "\n",
              "    .colab-df-convert:hover {\n",
              "      background-color: #E2EBFA;\n",
              "      box-shadow: 0px 1px 2px rgba(60, 64, 67, 0.3), 0px 1px 3px 1px rgba(60, 64, 67, 0.15);\n",
              "      fill: #174EA6;\n",
              "    }\n",
              "\n",
              "    .colab-df-buttons div {\n",
              "      margin-bottom: 4px;\n",
              "    }\n",
              "\n",
              "    [theme=dark] .colab-df-convert {\n",
              "      background-color: #3B4455;\n",
              "      fill: #D2E3FC;\n",
              "    }\n",
              "\n",
              "    [theme=dark] .colab-df-convert:hover {\n",
              "      background-color: #434B5C;\n",
              "      box-shadow: 0px 1px 3px 1px rgba(0, 0, 0, 0.15);\n",
              "      filter: drop-shadow(0px 1px 2px rgba(0, 0, 0, 0.3));\n",
              "      fill: #FFFFFF;\n",
              "    }\n",
              "  </style>\n",
              "\n",
              "    <script>\n",
              "      const buttonEl =\n",
              "        document.querySelector('#df-6b3176c6-f8db-4b0c-96be-9b6b8995b17b button.colab-df-convert');\n",
              "      buttonEl.style.display =\n",
              "        google.colab.kernel.accessAllowed ? 'block' : 'none';\n",
              "\n",
              "      async function convertToInteractive(key) {\n",
              "        const element = document.querySelector('#df-6b3176c6-f8db-4b0c-96be-9b6b8995b17b');\n",
              "        const dataTable =\n",
              "          await google.colab.kernel.invokeFunction('convertToInteractive',\n",
              "                                                    [key], {});\n",
              "        if (!dataTable) return;\n",
              "\n",
              "        const docLinkHtml = 'Like what you see? Visit the ' +\n",
              "          '<a target=\"_blank\" href=https://colab.research.google.com/notebooks/data_table.ipynb>data table notebook</a>'\n",
              "          + ' to learn more about interactive tables.';\n",
              "        element.innerHTML = '';\n",
              "        dataTable['output_type'] = 'display_data';\n",
              "        await google.colab.output.renderOutput(dataTable, element);\n",
              "        const docLink = document.createElement('div');\n",
              "        docLink.innerHTML = docLinkHtml;\n",
              "        element.appendChild(docLink);\n",
              "      }\n",
              "    </script>\n",
              "  </div>\n",
              "\n",
              "\n",
              "<div id=\"df-b229e47b-e83f-428a-b449-1f120e4c5695\">\n",
              "  <button class=\"colab-df-quickchart\" onclick=\"quickchart('df-b229e47b-e83f-428a-b449-1f120e4c5695')\"\n",
              "            title=\"Suggest charts\"\n",
              "            style=\"display:none;\">\n",
              "\n",
              "<svg xmlns=\"http://www.w3.org/2000/svg\" height=\"24px\"viewBox=\"0 0 24 24\"\n",
              "     width=\"24px\">\n",
              "    <g>\n",
              "        <path d=\"M19 3H5c-1.1 0-2 .9-2 2v14c0 1.1.9 2 2 2h14c1.1 0 2-.9 2-2V5c0-1.1-.9-2-2-2zM9 17H7v-7h2v7zm4 0h-2V7h2v10zm4 0h-2v-4h2v4z\"/>\n",
              "    </g>\n",
              "</svg>\n",
              "  </button>\n",
              "\n",
              "<style>\n",
              "  .colab-df-quickchart {\n",
              "      --bg-color: #E8F0FE;\n",
              "      --fill-color: #1967D2;\n",
              "      --hover-bg-color: #E2EBFA;\n",
              "      --hover-fill-color: #174EA6;\n",
              "      --disabled-fill-color: #AAA;\n",
              "      --disabled-bg-color: #DDD;\n",
              "  }\n",
              "\n",
              "  [theme=dark] .colab-df-quickchart {\n",
              "      --bg-color: #3B4455;\n",
              "      --fill-color: #D2E3FC;\n",
              "      --hover-bg-color: #434B5C;\n",
              "      --hover-fill-color: #FFFFFF;\n",
              "      --disabled-bg-color: #3B4455;\n",
              "      --disabled-fill-color: #666;\n",
              "  }\n",
              "\n",
              "  .colab-df-quickchart {\n",
              "    background-color: var(--bg-color);\n",
              "    border: none;\n",
              "    border-radius: 50%;\n",
              "    cursor: pointer;\n",
              "    display: none;\n",
              "    fill: var(--fill-color);\n",
              "    height: 32px;\n",
              "    padding: 0;\n",
              "    width: 32px;\n",
              "  }\n",
              "\n",
              "  .colab-df-quickchart:hover {\n",
              "    background-color: var(--hover-bg-color);\n",
              "    box-shadow: 0 1px 2px rgba(60, 64, 67, 0.3), 0 1px 3px 1px rgba(60, 64, 67, 0.15);\n",
              "    fill: var(--button-hover-fill-color);\n",
              "  }\n",
              "\n",
              "  .colab-df-quickchart-complete:disabled,\n",
              "  .colab-df-quickchart-complete:disabled:hover {\n",
              "    background-color: var(--disabled-bg-color);\n",
              "    fill: var(--disabled-fill-color);\n",
              "    box-shadow: none;\n",
              "  }\n",
              "\n",
              "  .colab-df-spinner {\n",
              "    border: 2px solid var(--fill-color);\n",
              "    border-color: transparent;\n",
              "    border-bottom-color: var(--fill-color);\n",
              "    animation:\n",
              "      spin 1s steps(1) infinite;\n",
              "  }\n",
              "\n",
              "  @keyframes spin {\n",
              "    0% {\n",
              "      border-color: transparent;\n",
              "      border-bottom-color: var(--fill-color);\n",
              "      border-left-color: var(--fill-color);\n",
              "    }\n",
              "    20% {\n",
              "      border-color: transparent;\n",
              "      border-left-color: var(--fill-color);\n",
              "      border-top-color: var(--fill-color);\n",
              "    }\n",
              "    30% {\n",
              "      border-color: transparent;\n",
              "      border-left-color: var(--fill-color);\n",
              "      border-top-color: var(--fill-color);\n",
              "      border-right-color: var(--fill-color);\n",
              "    }\n",
              "    40% {\n",
              "      border-color: transparent;\n",
              "      border-right-color: var(--fill-color);\n",
              "      border-top-color: var(--fill-color);\n",
              "    }\n",
              "    60% {\n",
              "      border-color: transparent;\n",
              "      border-right-color: var(--fill-color);\n",
              "    }\n",
              "    80% {\n",
              "      border-color: transparent;\n",
              "      border-right-color: var(--fill-color);\n",
              "      border-bottom-color: var(--fill-color);\n",
              "    }\n",
              "    90% {\n",
              "      border-color: transparent;\n",
              "      border-bottom-color: var(--fill-color);\n",
              "    }\n",
              "  }\n",
              "</style>\n",
              "\n",
              "  <script>\n",
              "    async function quickchart(key) {\n",
              "      const quickchartButtonEl =\n",
              "        document.querySelector('#' + key + ' button');\n",
              "      quickchartButtonEl.disabled = true;  // To prevent multiple clicks.\n",
              "      quickchartButtonEl.classList.add('colab-df-spinner');\n",
              "      try {\n",
              "        const charts = await google.colab.kernel.invokeFunction(\n",
              "            'suggestCharts', [key], {});\n",
              "      } catch (error) {\n",
              "        console.error('Error during call to suggestCharts:', error);\n",
              "      }\n",
              "      quickchartButtonEl.classList.remove('colab-df-spinner');\n",
              "      quickchartButtonEl.classList.add('colab-df-quickchart-complete');\n",
              "    }\n",
              "    (() => {\n",
              "      let quickchartButtonEl =\n",
              "        document.querySelector('#df-b229e47b-e83f-428a-b449-1f120e4c5695 button');\n",
              "      quickchartButtonEl.style.display =\n",
              "        google.colab.kernel.accessAllowed ? 'block' : 'none';\n",
              "    })();\n",
              "  </script>\n",
              "</div>\n",
              "    </div>\n",
              "  </div>\n"
            ],
            "application/vnd.google.colaboratory.intrinsic+json": {
              "type": "dataframe",
              "variable_name": "top_k_accuracy_df_msm",
              "summary": "{\n  \"name\": \"top_k_accuracy_df_msm\",\n  \"rows\": 4,\n  \"fields\": [\n    {\n      \"column\": 1,\n      \"properties\": {\n        \"dtype\": \"number\",\n        \"std\": 0.10126582278481014,\n        \"min\": 0.3639240506329114,\n        \"max\": 0.5664556962025317,\n        \"num_unique_values\": 2,\n        \"samples\": [\n          0.3639240506329114,\n          0.5664556962025317\n        ],\n        \"semantic_type\": \"\",\n        \"description\": \"\"\n      }\n    },\n    {\n      \"column\": 3,\n      \"properties\": {\n        \"dtype\": \"number\",\n        \"std\": 0.10522151898734175,\n        \"min\": 0.4920886075949367,\n        \"max\": 0.7025316455696202,\n        \"num_unique_values\": 2,\n        \"samples\": [\n          0.4920886075949367,\n          0.7025316455696202\n        ],\n        \"semantic_type\": \"\",\n        \"description\": \"\"\n      }\n    },\n    {\n      \"column\": 5,\n      \"properties\": {\n        \"dtype\": \"number\",\n        \"std\": 0.10601265822784811,\n        \"min\": 0.555379746835443,\n        \"max\": 0.7674050632911392,\n        \"num_unique_values\": 2,\n        \"samples\": [\n          0.555379746835443,\n          0.7674050632911392\n        ],\n        \"semantic_type\": \"\",\n        \"description\": \"\"\n      }\n    },\n    {\n      \"column\": 10,\n      \"properties\": {\n        \"dtype\": \"number\",\n        \"std\": 0.07911392405063289,\n        \"min\": 0.6724683544303798,\n        \"max\": 0.8306962025316456,\n        \"num_unique_values\": 2,\n        \"samples\": [\n          0.6724683544303798,\n          0.8306962025316456\n        ],\n        \"semantic_type\": \"\",\n        \"description\": \"\"\n      }\n    }\n  ]\n}"
            }
          },
          "metadata": {},
          "execution_count": 81
        }
      ],
      "source": [
        "top_k_accuracy_df_msm = pd.DataFrame(top_k_accuracy_msm)\n",
        "top_k_accuracy_df_msm"
      ]
    },
    {
      "cell_type": "markdown",
      "metadata": {
        "id": "dkCYnFmXhnn-"
      },
      "source": [
        "**[Optional]** In the experiments above, we used news stories as documents and their respective questions as queries. However, it is reasonable to think that summaries might be better proxies of users' queries in some real-world scenarios.\n"
      ]
    },
    {
      "cell_type": "markdown",
      "metadata": {
        "id": "eRWNlqDurpPe"
      },
      "source": [
        "For covenience, we provide a Dataset class analogous to the RetrievalDataset class above"
      ]
    },
    {
      "cell_type": "code",
      "execution_count": null,
      "metadata": {
        "id": "rDjoiYmYiTvK"
      },
      "outputs": [],
      "source": [
        "# @title RetrievalDatasetWithSummaries class\n",
        "# @markdown Please execute this cell.\n",
        "\n",
        "class RetrievalDatasetWithSummaries:\n",
        "\n",
        "  def __init__(self, dataset, num_documents=None):\n",
        "    self.dataset = dataset\n",
        "\n",
        "    if num_documents:\n",
        "      self.num_documents = num_documents\n",
        "      self.documents = self.dataset['train']['story'][:self.num_documents]\n",
        "      self.queries = self.dataset['train']['summary'][:self.num_documents]\n",
        "      self.num_queries = len(self.queries)\n",
        "    else:\n",
        "      self.documents = self.dataset['train']['story']\n",
        "      self.queries = self.dataset['train']['summary']\n",
        "      self.num_documents = len(self.documents)\n",
        "      self.num_queries = len(self.queries)\n",
        "\n",
        "    self.true_indices = []\n",
        "    for i, qs in enumerate(self.dataset['train']['summary'][:self.num_documents]):\n",
        "      for _ in qs:\n",
        "        self.true_indices.append(i)\n"
      ]
    },
    {
      "cell_type": "code",
      "execution_count": null,
      "metadata": {
        "id": "rJPCIluqimz9"
      },
      "outputs": [],
      "source": [
        "retrieval_dataset = RetrievalDatasetWithSummaries(dataset, num_documents=100)"
      ]
    },
    {
      "cell_type": "markdown",
      "metadata": {
        "id": "2IhT7iw8ruiT"
      },
      "source": [
        "**[Optional]** ***Repeat the experiments above using summaries as queries.***"
      ]
    },
    {
      "cell_type": "code",
      "execution_count": null,
      "metadata": {
        "id": "8U7ik_-r_-q1"
      },
      "outputs": [],
      "source": []
    },
    {
      "cell_type": "code",
      "execution_count": null,
      "metadata": {
        "id": "16PurmpJrv_4"
      },
      "outputs": [],
      "source": []
    },
    {
      "cell_type": "code",
      "execution_count": null,
      "metadata": {
        "id": "g9cPbsC4rv2h"
      },
      "outputs": [],
      "source": []
    },
    {
      "cell_type": "markdown",
      "metadata": {
        "id": "SHKNV8Sk__qs"
      },
      "source": [
        "------"
      ]
    },
    {
      "cell_type": "markdown",
      "metadata": {
        "id": "wQD8VVnpzDUc"
      },
      "source": [
        "## Summarization\n",
        "\n",
        "The second module is an automatic summarizer: it takes as input a news story and it generates a short summary.\n",
        "\n",
        "We will test two types of summarizers:\n",
        "1. an instruction fine-tuned (multi-task) language model: this is a language model first pre-trained on the next-word prediction task, then fine-tuned on a dataset of instruction-execution pairs for a large variety of tasks\n",
        "2. a language model fine-tuned specifically for summarization: this is a language model first pre-trained on the next-word prediction task, then fine-tuned on text-summary pairs.\n"
      ]
    },
    {
      "cell_type": "markdown",
      "metadata": {
        "id": "L_v-g6qBzILk"
      },
      "source": [
        "### Instruction fine-tuned summarizer\n",
        "\n",
        "As a multi-task instruction fine-tuned language model, we will use [`google/flan-t5-large`](https://huggingface.co/google/flan-t5-large).\n",
        "\n",
        "This model has been trained on 1.8K tasks, including summarization, phrased as instructions.\n"
      ]
    },
    {
      "cell_type": "code",
      "execution_count": null,
      "metadata": {
        "id": "L5_bn2whx6iF"
      },
      "outputs": [],
      "source": [
        "model_name_t5 = \"google/flan-t5-large\"\n",
        "tokenizer_t5 = T5Tokenizer.from_pretrained(model_name_t5)\n",
        "model_t5 = T5ForConditionalGeneration.from_pretrained(model_name_t5, device_map=\"auto\")\n"
      ]
    },
    {
      "cell_type": "markdown",
      "metadata": {
        "id": "5ehJyEtAnEBS"
      },
      "source": [
        "Let's see it at work on a news story!\n"
      ]
    },
    {
      "cell_type": "code",
      "execution_count": null,
      "metadata": {
        "id": "lnt32s0znIeV"
      },
      "outputs": [],
      "source": [
        "test_news_story = dataset[\"train\"][3][\"story\"]"
      ]
    },
    {
      "cell_type": "markdown",
      "metadata": {
        "id": "AcslTLLUnJ9x"
      },
      "source": [
        "As this is an instruction fine-tuned model, we can simply kindly ask it to summarize the story in plain words:"
      ]
    },
    {
      "cell_type": "code",
      "execution_count": null,
      "metadata": {
        "id": "_dOnKug-nUoA"
      },
      "outputs": [],
      "source": [
        "print('Instruction:\\n')\n",
        "input_text = f\"Summarize: {test_news_story}\"\n",
        "pprint(input_text)"
      ]
    },
    {
      "cell_type": "markdown",
      "metadata": {
        "id": "4AtrSWnU1vyn"
      },
      "source": [
        "Now we tokenize the instruction text."
      ]
    },
    {
      "cell_type": "code",
      "execution_count": null,
      "metadata": {
        "id": "EpIk2-gn1y2E"
      },
      "outputs": [],
      "source": [
        "device = \"cuda\" if torch.cuda.is_available() else \"cpu\"\n",
        "\n",
        "# Tokenize input\n",
        "input_ids = tokenizer_t5(input_text, return_tensors=\"pt\").input_ids.to(device)"
      ]
    },
    {
      "cell_type": "markdown",
      "metadata": {
        "id": "wB7qgQdk16nj"
      },
      "source": [
        "Then, we generate a summary. We set the minimum and maximum length of the summary to 30 and 100 tokens, respectively.\n",
        "\n",
        "***Experiment with different minimum and maximum length values by changing the parameters of the `generate` function below.***"
      ]
    },
    {
      "cell_type": "code",
      "execution_count": null,
      "metadata": {
        "id": "waT8dmzBx7sV"
      },
      "outputs": [],
      "source": [
        "# Generate summary conditioned on instruction and original news story\n",
        "outputs = model_t5.generate(\n",
        "    input_ids,\n",
        "    min_new_tokens=30,   # minimum summary length\n",
        "    max_new_tokens=100,  # maximum summary length\n",
        "    do_sample=False      # so we obtain the same sample every time\n",
        ")\n",
        "\n",
        "print(\"Summary:\\n\")\n",
        "pprint(tokenizer_t5.decode(outputs[0], skip_special_tokens=True))"
      ]
    },
    {
      "cell_type": "markdown",
      "metadata": {
        "id": "inwH99Vozk_T"
      },
      "source": [
        "#### Putting it all together\n",
        "\n",
        "Now that we have tested and understood the components of the summarizer, we can compile them in a Python class.\n",
        "\n",
        "***Fill in the minimum and maximum length based on your experiments in the cell above.***"
      ]
    },
    {
      "cell_type": "code",
      "execution_count": null,
      "metadata": {
        "id": "KxgN48Sgzvjz"
      },
      "outputs": [],
      "source": [
        "class InstructionFinetunedSummarizer:\n",
        "\n",
        "  # Initialize model and tokenizer\n",
        "  def __init__(\n",
        "      self,\n",
        "      model_name=\"google/flan-t5-large\",\n",
        "      device=None\n",
        "  ):\n",
        "    self.model = T5ForConditionalGeneration.from_pretrained(model_name).to(device)\n",
        "    self.tokenizer = T5Tokenizer.from_pretrained(model_name)\n",
        "    self.device = device\n",
        "\n",
        "\n",
        "  # Summarizing function\n",
        "  def summarize(self, input_texts):\n",
        "\n",
        "    # Tokenize texts\n",
        "    summariser_inputs = []\n",
        "    for input_text in input_texts:\n",
        "      summariser_inputs.append(\n",
        "          self.tokenizer(input_text, return_tensors=\"pt\").input_ids.to(self.device)\n",
        "      )\n",
        "\n",
        "    # Generate summaries\n",
        "    outputs = []\n",
        "    for input_ids in summariser_inputs:\n",
        "      outputs.append(\n",
        "        self.model.generate(\n",
        "          input_ids,\n",
        "          min_new_tokens=...   # set this value by experimenting with the cell above\n",
        "          max_new_tokens=...,  # set this value by experimenting with the cell above\n",
        "          do_sample=False\n",
        "        )[0]\n",
        "      )\n",
        "\n",
        "    # Transform token ids into actual words\n",
        "    summaries = self.tokenizer.batch_decode(outputs, skip_special_tokens=True)\n",
        "\n",
        "    return summaries"
      ]
    },
    {
      "cell_type": "markdown",
      "metadata": {
        "id": "OhwwNnyo3jvo"
      },
      "source": [
        "The summarizer is ready! We will evaluate it later, together with the fine-tuned summarizer below."
      ]
    },
    {
      "cell_type": "markdown",
      "metadata": {
        "id": "ViB9AzXgzOfx"
      },
      "source": [
        "### Fine-tuned summarizer\n",
        "\n",
        "As a fine-tuned summarizer, you will use [`facebook/bart-large`](https://huggingface.co/facebook/bart-large-cnn). This is a language model that has been finetuned specifically on summaries of CNN and DailyMail news stories."
      ]
    },
    {
      "cell_type": "markdown",
      "metadata": {
        "id": "pBSgxijn3xiK"
      },
      "source": [
        "Let's load the model using the Hugging Face `pipeline` functionality, which makes the code more concise."
      ]
    },
    {
      "cell_type": "code",
      "execution_count": null,
      "metadata": {
        "id": "ryZy2mWE0EEo"
      },
      "outputs": [],
      "source": [
        "summarizer = pipeline(\"summarization\", model=\"facebook/bart-large-cnn\", tokenizer=\"facebook/bart-large-cnn\")"
      ]
    },
    {
      "cell_type": "markdown",
      "metadata": {
        "id": "bbXehD3R5TW2"
      },
      "source": [
        "Generate a summary for our test news story."
      ]
    },
    {
      "cell_type": "code",
      "execution_count": null,
      "metadata": {
        "id": "_pEz40Fw5Tr_"
      },
      "outputs": [],
      "source": [
        "test_summary = summarizer(test_news_story)[0][\"summary_text\"]\n",
        "\n",
        "print('Summary:\\n')\n",
        "pprint(test_summary)"
      ]
    },
    {
      "cell_type": "markdown",
      "metadata": {
        "id": "yG7HkIpF0J2P"
      },
      "source": [
        "#### Putting it all together\n",
        "\n",
        "The `pipeline` tool already compiles different components together, but let's define a Python class for this fine-tuned summarizer for extra comfort."
      ]
    },
    {
      "cell_type": "code",
      "execution_count": null,
      "metadata": {
        "id": "8knmmmr50FR8"
      },
      "outputs": [],
      "source": [
        "class FinetunedSummarizer:\n",
        "\n",
        "  # Initialize model and tokenizer\n",
        "  def __init__(\n",
        "      self,\n",
        "      model_name=\"facebook/bart-large-cnn\",\n",
        "      device=None\n",
        "    ):\n",
        "    self.summarizer = pipeline(\"summarization\", model=model_name, tokenizer=model_name)\n",
        "    self.device = device\n",
        "    if self.device is None:\n",
        "      self.device = \"cuda\" if torch.cuda.is_available() else \"cpu\"\n",
        "\n",
        "\n",
        "  # Summmarizing function\n",
        "  # It takes texts as input and it returns summaries\n",
        "  def summarize(self, input_texts):\n",
        "    outputs = self.summarizer(input_texts)\n",
        "    summaries = [output[\"summary_text\"] for output in outputs]\n",
        "    return summaries\n"
      ]
    },
    {
      "cell_type": "markdown",
      "metadata": {
        "id": "vDkycZQC0cx9"
      },
      "source": [
        "### Evaluation\n",
        "\n",
        "How good are the summaries produced by these two models? Is the fine-tuned model better, as we would probably expect given its task-specific training data?\n",
        "\n",
        "To assess and compare summarizers, you will use two standard natural language generation (NLG) metrics that are thought to produce good proxies of summary quality:\n",
        "- **BERTScore**: BERTScore leverages contextualised word embeddings extracted from a pre-trained language model and matches words in candidate and reference sentences by cosine similarity. It has been shown to correlate with human judgment on sentence-level and system-level evaluation. BERTScore can be computed as precision, recall, and F1, which can be useful for evaluating different language generation tasks.\n",
        "- **ROUGE**: Recall-Oriented Understudy for Gisting Evaluation (ROUGE) is a set of metrics used for evaluating automatic summarization and machine translation. You will use only ROUGE-L, which measures the longest common subsequence between a generated summary and a reference summary.\n",
        "\n",
        "Both metrics are *reference-based*, i.e., they assess the quality of a summary in terms of its closeness to a reference summary, typically produced by a human. Here, you are going to use the summaries in the dataset as references."
      ]
    },
    {
      "cell_type": "markdown",
      "metadata": {
        "id": "OP4Uyoxi6l65"
      },
      "source": [
        "We define convenience functions for the evaluation metrics."
      ]
    },
    {
      "cell_type": "code",
      "execution_count": null,
      "metadata": {
        "id": "ZNix_cPV0uKX"
      },
      "outputs": [],
      "source": [
        "# @title Evaluation metrics\n",
        "# @markdown Please execute this cell.\n",
        "\n",
        "bertscore = evaluate.load(\"bertscore\")\n",
        "rouge = evaluate.load('rouge')\n",
        "\n",
        "def evaluate_summaries(predictions, references):\n",
        "\n",
        "  # Compute BERTScore\n",
        "  bertscores = bertscore.compute(\n",
        "      predictions=predictions,\n",
        "      references=references,\n",
        "      lang=\"en\"\n",
        "  )\n",
        "\n",
        "  # Take the average BERTScore over all summaries\n",
        "  result_dict = {\n",
        "      f'bertscore_{stat}': np.mean(bertscores[stat]) for stat in bertscores if stat != 'hashcode'\n",
        "  }\n",
        "\n",
        "  # Compute ROUGE (average over all summaries taken automatically)\n",
        "  rouge_scores = rouge.compute(\n",
        "      predictions=predictions,\n",
        "      references=references\n",
        "  )\n",
        "\n",
        "  result_dict['rougeL'] = rouge_scores['rougeL']\n",
        "\n",
        "  return result_dict\n"
      ]
    },
    {
      "cell_type": "markdown",
      "metadata": {
        "id": "ePtzzn2i2QrZ"
      },
      "source": [
        "#### Model comparison\n",
        "\n",
        "Let's compare the instruction fine-tuned model against the summarization fine-tuned one using BERTScore and ROUGE."
      ]
    },
    {
      "cell_type": "markdown",
      "metadata": {
        "id": "7RbYBbRX68M0"
      },
      "source": [
        "Load models and data. We will only use a subset of the data to speed up evaluation. *Feel free to use a larger subset, but beware of the longer runtimes.*"
      ]
    },
    {
      "cell_type": "code",
      "execution_count": null,
      "metadata": {
        "id": "k7U7gBZH0jLH"
      },
      "outputs": [],
      "source": [
        "instruction_model = InstructionFinetunedSummarizer()\n",
        "finetuned_model = FinetunedSummarizer()\n",
        "\n",
        "dev_set_news_stories = dataset['train']['story'][:30]\n",
        "dev_set_summaries = dataset['train']['summary'][:30]"
      ]
    },
    {
      "cell_type": "markdown",
      "metadata": {
        "id": "UHSek_uP7BrX"
      },
      "source": [
        "Generate summaries."
      ]
    },
    {
      "cell_type": "code",
      "execution_count": null,
      "metadata": {
        "id": "SlJuDa3M0ktz"
      },
      "outputs": [],
      "source": [
        "summaries_instruction = instruction_model.summarize(dev_set_news_stories)\n",
        "summaries_finetuned = finetuned_model.summarize(dev_set_news_stories)\n"
      ]
    },
    {
      "cell_type": "markdown",
      "metadata": {
        "id": "BfI6HB5a7EZt"
      },
      "source": [
        "Print out the evaluation results."
      ]
    },
    {
      "cell_type": "code",
      "execution_count": null,
      "metadata": {
        "id": "LnMdVxOJx6YL"
      },
      "outputs": [],
      "source": [
        "instruction_results = evaluate_summaries(summaries_instruction, dev_set_summaries)\n",
        "finetuned_results = evaluate_summaries(summaries_finetuned, dev_set_summaries)\n",
        "\n",
        "print('\\nInstruction Fine-Tuned Summarizer')\n",
        "print(instruction_results)\n",
        "\n",
        "print('\\nFine-Tuned Summarizer')\n",
        "print(finetuned_results)"
      ]
    },
    {
      "cell_type": "markdown",
      "metadata": {
        "id": "UOHZZipe2Kj6"
      },
      "source": [
        "#### Evaluating the evaluation metrics\n",
        "\n",
        "NLG metrics are far from perfect. They act as a proxy for human feedback when this is not available. We well now evaluate the evaluation metrics themselves by testing whether their produced scores correspond to human intuition.\n",
        "\n",
        "***Evaluate a few summaries produced by the fine-tuned model giving them a score from 1 to 4***, where:\n",
        "1. the summary doesn't match the content of the story\n",
        "2. the summary partially matches to content of the story but it doesn't convey the story's main points\n",
        "3. the summary partially matches the content of the story and it conveys the story's main points\n",
        "4. the summary matches the content of the story and it conveys the story's main points\n"
      ]
    },
    {
      "cell_type": "markdown",
      "metadata": {
        "id": "VFe8TYdC_QIY"
      },
      "source": [
        "Here, we print 5 stories and their respective summaries generated by the summary fine-tuned model. Feel free to evaluate more than 5."
      ]
    },
    {
      "cell_type": "code",
      "execution_count": null,
      "metadata": {
        "id": "W0uVoYIpysJQ"
      },
      "outputs": [],
      "source": [
        "# feel free to evaluate more than 5 summaries,\n",
        "# it will give you a better sense of the metrics' flaws\n",
        "N_manual = 5\n",
        "\n",
        "for i in range(N_manual):\n",
        "  pprint(f\"STORY {i+1}:\\n {dev_set_news_stories[i]}\")\n",
        "  print()\n",
        "  pprint(f\"SUMMARY {i+1}: {summaries_finetuned[i]}\")\n",
        "  print('\\n------------------------\\n')"
      ]
    },
    {
      "cell_type": "markdown",
      "metadata": {
        "id": "eMYEN7-0_dtE"
      },
      "source": [
        "***Provide your scores for the summaries in order in the list below.***"
      ]
    },
    {
      "cell_type": "code",
      "execution_count": null,
      "metadata": {
        "id": "DGgsFE6UyxUA"
      },
      "outputs": [],
      "source": [
        "your_scores = [\n",
        "    _, _, _, _, _\n",
        "]"
      ]
    },
    {
      "cell_type": "markdown",
      "metadata": {
        "id": "etJnDxr99wKT"
      },
      "source": [
        "Now let's see what automatic evaluation scores they get. Do they match your judgements?"
      ]
    },
    {
      "cell_type": "code",
      "execution_count": null,
      "metadata": {
        "id": "zI6l7KleyJVR"
      },
      "outputs": [],
      "source": [
        "bertscores = bertscore.compute(\n",
        "  predictions=summaries_finetuned[:N_manual],\n",
        "  references=dev_set_summaries[:N_manual],\n",
        "  lang=\"en\"\n",
        ")\n",
        "\n",
        "rouge_scores = rouge.compute(\n",
        "      predictions=summaries_finetuned[:N_manual],\n",
        "      references=dev_set_summaries[:N_manual],\n",
        "      use_aggregator=False\n",
        ")\n",
        "\n",
        "print('BertScore:')\n",
        "for score_name, score in bertscores.items():\n",
        "  print(f'  {score_name}: {score}')\n",
        "\n",
        "print()\n",
        "print('Rouge:')\n",
        "print(f'  {rouge_scores[\"rougeL\"]}')"
      ]
    },
    {
      "cell_type": "markdown",
      "metadata": {
        "id": "GwGCOr_q_u4q"
      },
      "source": [
        "This is exactly how evaluation metrics are evaluated in NLP research. Human quality judgements are collected and then their correlation with the evaluation metric scores is computed. Here, we do not compute correlations as the number of scores to compare is too low."
      ]
    },
    {
      "cell_type": "markdown",
      "metadata": {
        "id": "4YViVDY8ADJg"
      },
      "source": [
        "------"
      ]
    },
    {
      "cell_type": "markdown",
      "metadata": {
        "id": "GdByYtb02jEv"
      },
      "source": [
        "## Question Answering\n",
        "\n",
        "The third module is a Question Answering system: it takes as input a news story and a question and it generates a short answer.\n",
        "\n",
        "You will test two types of QA systems:\n",
        "1. an instruction fine-tuned (multi-task) language model\n",
        "2. a language model fine-tuned specifically for question answering\n"
      ]
    },
    {
      "cell_type": "markdown",
      "metadata": {
        "id": "JIVtNPCv2ltr"
      },
      "source": [
        "### Instruction Fine-Tuned\n",
        "\n",
        "As a multi-task instruction fine-tuned language model, you will again use [`google/flan-t5-large`](https://huggingface.co/google/flan-t5-large). Question answering is among the 1.8K tasks this model was trained on.\n"
      ]
    },
    {
      "cell_type": "code",
      "execution_count": null,
      "metadata": {
        "id": "aLchXTA3AtNL"
      },
      "outputs": [],
      "source": [
        "model_name_t5 = \"google/flan-t5-large\"\n",
        "tokenizer_t5 = T5Tokenizer.from_pretrained(model_name_t5)\n",
        "model_t5 = T5ForConditionalGeneration.from_pretrained(model_name_t5, device_map=\"auto\")\n"
      ]
    },
    {
      "cell_type": "markdown",
      "metadata": {
        "id": "v5qJ6uaSAtNO"
      },
      "source": [
        "Let's see it at work on a sample question!\n"
      ]
    },
    {
      "cell_type": "code",
      "execution_count": null,
      "metadata": {
        "id": "qrxVfx1pAtNP"
      },
      "outputs": [],
      "source": [
        "test_news_story = dataset[\"train\"][1][\"story\"]"
      ]
    },
    {
      "cell_type": "code",
      "execution_count": null,
      "metadata": {
        "id": "WSbibgjoBgVn"
      },
      "outputs": [],
      "source": [
        "question = \"What will power the motors used in electric cars and trucks?\""
      ]
    },
    {
      "cell_type": "markdown",
      "metadata": {
        "id": "zXoUyh2PAtNP"
      },
      "source": [
        "Again, as this is an instruction fine-tuned model, we can simply provide it with a news story and ask it a question."
      ]
    },
    {
      "cell_type": "code",
      "execution_count": null,
      "metadata": {
        "id": "RkaVwv_eAtNQ"
      },
      "outputs": [],
      "source": [
        "input_text = f\"Context: {test_news_story}\\n Question: {question}\"  # \\n is the newline symbol\n",
        "input_text"
      ]
    },
    {
      "cell_type": "markdown",
      "metadata": {
        "id": "PxKbznLJAPI6"
      },
      "source": [
        "Now let's tokenize the instruction text and pass it to the model for conditional generation.\n",
        "\n",
        "We set the minimum and maximum length of the generated answer to 5 and 30 tokens, respectively.  ***Experiment with different minimum and maximum length values by changing the parameters of the `generate` function below.***"
      ]
    },
    {
      "cell_type": "code",
      "execution_count": null,
      "metadata": {
        "id": "FXjDLGFGAtNQ"
      },
      "outputs": [],
      "source": [
        "# Tokenize input\n",
        "device = \"cuda\" if torch.cuda.is_available() else \"cpu\"\n",
        "input_ids = tokenizer_t5(input_text, return_tensors=\"pt\").input_ids.to(device)\n",
        "\n",
        "# Generate summary conditioned on instruction and original news story\n",
        "outputs = model_t5.generate(\n",
        "    input_ids,\n",
        "    min_new_tokens=5,   # minimum answer length\n",
        "    max_new_tokens=30,  # maximum summary length\n",
        "    do_sample=False     # so we obtain the same sample every time\n",
        ")\n",
        "\n",
        "pprint(tokenizer_t5.decode(outputs[0], skip_special_tokens=True))"
      ]
    },
    {
      "cell_type": "markdown",
      "metadata": {
        "id": "oq4hMHJj2vEM"
      },
      "source": [
        "#### Putting it all together\n",
        "\n",
        "Now that we have tested and understood the components of the QA system, we can compile them in a Python class.\n",
        "\n",
        "***Fill in the minimum and maximum length based on your experiments in the cell above.***"
      ]
    },
    {
      "cell_type": "code",
      "execution_count": null,
      "metadata": {
        "id": "EF0FHXkJCCMv"
      },
      "outputs": [],
      "source": [
        "class InstructionFinetunedQA:\n",
        "\n",
        "  # Initialize model and tokenizer\n",
        "  def __init__(\n",
        "    self,\n",
        "    model_name=\"google/flan-t5-large\",\n",
        "    device=None\n",
        "  ):\n",
        "    self.model = T5ForConditionalGeneration.from_pretrained(model_name).to(device)\n",
        "    self.tokenizer = T5Tokenizer.from_pretrained(model_name)\n",
        "    self.device = device\n",
        "    if self.device is None:\n",
        "      self.device = \"cuda\" if torch.cuda.is_available() else \"cpu\"\n",
        "\n",
        "\n",
        "\n",
        "  # Question answering function\n",
        "  # It takes as input multiple texts and multiple questions\n",
        "  # (one per text) and it returns the corresponding answers\n",
        "  def qa(self, input_texts, questions):\n",
        "    assert len(input_texts) == len(questions)\n",
        "\n",
        "    # Tokenize input text: news stories and questions\n",
        "    qa_inputs = []\n",
        "    for text, question in zip(input_texts, questions):\n",
        "      qa_inputs.append(\n",
        "        self.tokenizer(\n",
        "          f\"Context: {text}\\n Question: {question}\",\n",
        "          return_tensors=\"pt\"\n",
        "        ).input_ids.to(self.device)\n",
        "      )\n",
        "\n",
        "    # Generate answers\n",
        "    outputs = []\n",
        "    for qa_input in qa_inputs:\n",
        "      outputs.append(\n",
        "        self.model.generate(\n",
        "          qa_input,\n",
        "          min_new_tokens=...   # set this value by experimenting with the cell above\n",
        "          max_new_tokens=...,  # set this value by experimenting with the cell above\n",
        "          do_sample=False\n",
        "        )[0]\n",
        "      )\n",
        "\n",
        "    # Transform token ids into actual words\n",
        "    answers = self.tokenizer.batch_decode(outputs, skip_special_tokens=True)\n",
        "\n",
        "    return answers\n",
        "\n"
      ]
    },
    {
      "cell_type": "markdown",
      "metadata": {
        "id": "yEkfNRWE2riO"
      },
      "source": [
        "### Fine-tuned QA\n",
        "\n",
        "As a fine-tuned summarizer, you will use [`deepset/roberta-base-squad2`](https://huggingface.co/deepset/roberta-base-squad2). This is a language model fine-tuned on question-answer pairs."
      ]
    },
    {
      "cell_type": "code",
      "execution_count": null,
      "metadata": {
        "id": "ivZJtUCDFDCD"
      },
      "outputs": [],
      "source": [
        "model_name_qa = \"deepset/roberta-base-squad2\"\n",
        "qa_pipeline = pipeline('question-answering', model=model_name_qa, tokenizer=model_name_qa)"
      ]
    },
    {
      "cell_type": "markdown",
      "metadata": {
        "id": "TyB1XZOnFxVU"
      },
      "source": [
        "Let's test it on the same question as above."
      ]
    },
    {
      "cell_type": "code",
      "execution_count": null,
      "metadata": {
        "id": "U-LZFnPbFyVc"
      },
      "outputs": [],
      "source": [
        "test_news_story = dataset[\"train\"][1][\"story\"]\n",
        "question = \"What will power the motors used in electric cars and trucks?\""
      ]
    },
    {
      "cell_type": "markdown",
      "metadata": {
        "id": "_Nd3eDCbGZ3C"
      },
      "source": [
        "Here, we need to provide text and question in a dictionary but they are used as a single string of text under the hood, just like before. After all, this is a language model too."
      ]
    },
    {
      "cell_type": "code",
      "execution_count": null,
      "metadata": {
        "id": "mdXaZICZF5k0"
      },
      "outputs": [],
      "source": [
        "qa_input = {\n",
        "    'question': question,\n",
        "    'context': test_news_story\n",
        "}\n",
        "\n",
        "qa_output = qa_pipeline(qa_input)\n",
        "\n",
        "pprint(qa_output['answer'])"
      ]
    },
    {
      "cell_type": "markdown",
      "metadata": {
        "id": "6mEryJA22tzf"
      },
      "source": [
        "#### Putting it all together\n",
        "\n",
        "Let's compile the fine-tuned QA system into a Python class for ease of use."
      ]
    },
    {
      "cell_type": "code",
      "execution_count": null,
      "metadata": {
        "id": "axztinI1GC3U"
      },
      "outputs": [],
      "source": [
        "class FinetunedQA:\n",
        "\n",
        "  # Initialize model and tokenizer\n",
        "  def __init__(\n",
        "    self,\n",
        "    model_name=\"deepset/roberta-base-squad2\",\n",
        "    device=None\n",
        "  ):\n",
        "    self.qa_pipeline = pipeline('question-answering', model=model_name, tokenizer=model_name)\n",
        "    self.device = device\n",
        "    if self.device is None:\n",
        "      self.device = \"cuda\" if torch.cuda.is_available() else \"cpu\"\n",
        "\n",
        "\n",
        "\n",
        "  # Question answering function\n",
        "  # It takes as input multiple texts and multiple questions\n",
        "  # (one per text) and it returns the corresponding answers\n",
        "  def qa(self, input_texts, questions):\n",
        "    assert len(input_texts) == len(questions)\n",
        "\n",
        "    # Prepare input: texts + questions\n",
        "    qa_inputs = []\n",
        "    for text, question in zip(input_texts, questions):\n",
        "      qa_inputs.append({\n",
        "        'context': text,\n",
        "        'question': question\n",
        "      })\n",
        "\n",
        "    # Generate answers\n",
        "    outputs = self.qa_pipeline(qa_inputs)\n",
        "\n",
        "    # Deal with the special case where only one\n",
        "    # text-question pair is provided as input\n",
        "    if type(outputs) is dict:\n",
        "      answers = outputs[\"answer\"]\n",
        "    else:\n",
        "      answers = [output[\"answer\"] for output in outputs]\n",
        "\n",
        "    return answers\n"
      ]
    },
    {
      "cell_type": "markdown",
      "metadata": {
        "id": "j3WgYJdw24H3"
      },
      "source": [
        "### Evaluation\n",
        "\n",
        "\n",
        "How good are the questions produced by these two models? Is the fine-tuned model better?\n",
        "\n",
        "To assess and compare QA systems, you will use two reference-based NLG evaluation metrics:\n",
        "- **BERTScore**: Remember, BERTScore leverages contextualised word embeddings extracted from a pre-trained language model and matches words in candidate and reference sentences by cosine similarity. It is a general way to measure the similarity between two pieces of text, so it be useful for evaluating different language generation tasks.\n",
        "- **Exact Match**: Because answers are typically short, it is reasonable to expect them to exactly match the human reference. This is what Exact Match does: it is 1 when the generated answer matches the reference, and 0 otherwise. We will report the relative amount of exact matches across all question-answer pairs.\n"
      ]
    },
    {
      "cell_type": "code",
      "execution_count": null,
      "metadata": {
        "id": "DGCshFTvHFud"
      },
      "outputs": [],
      "source": [
        "# @title Evaluation metrics\n",
        "# @markdown Please execute this cell.\n",
        "\n",
        "bertscore = evaluate.load(\"bertscore\")\n",
        "exact_match = evaluate.load('exact_match')\n",
        "\n",
        "def evaluate_qa(predictions, references):\n",
        "\n",
        "   # Compute BERTScore\n",
        "  bertscores = bertscore.compute(\n",
        "      predictions=predictions,\n",
        "      references=references,\n",
        "      lang=\"en\"\n",
        "  )\n",
        "\n",
        "  # Take the average BERTScore over all summaries\n",
        "  result_dict = {\n",
        "      f'bertscore_{stat}': np.mean(bertscores[stat]) for stat in bertscores if stat != 'hashcode'\n",
        "  }\n",
        "\n",
        "  # Compute percentage of exact matches\n",
        "  exact_match_scores = exact_match.compute(predictions=predictions, references=references)\n",
        "\n",
        "  result_dict['exact_match'] = exact_match_scores['exact_match']\n",
        "\n",
        "  return result_dict"
      ]
    },
    {
      "cell_type": "markdown",
      "metadata": {
        "id": "eLk9pDx_Ic0L"
      },
      "source": [
        "#### Model comparison\n",
        "\n",
        "Let's compare the instruction fine-tuned model against the fine-tuned one."
      ]
    },
    {
      "cell_type": "markdown",
      "metadata": {
        "id": "sUGzrhf5BRyU"
      },
      "source": [
        "Load the models."
      ]
    },
    {
      "cell_type": "code",
      "execution_count": null,
      "metadata": {
        "id": "6aD4toZJIc0N"
      },
      "outputs": [],
      "source": [
        "instruction_model = InstructionFinetunedQA()\n",
        "finetuned_model = FinetunedQA()\n"
      ]
    },
    {
      "cell_type": "markdown",
      "metadata": {
        "id": "YhRYjrBRBV1I"
      },
      "source": [
        "Load the data. Multiple question-answer pairs are available for each story. For simplicity, you'll only use one."
      ]
    },
    {
      "cell_type": "code",
      "execution_count": null,
      "metadata": {
        "id": "79ZJGrJDJK04"
      },
      "outputs": [],
      "source": [
        "dev_set_news_stories = dataset['train']['story']\n",
        "\n",
        "# For each story, take the first question and first answer only\n",
        "dev_set_questions = [dataset['train'][i]['questions'][0] for i in range(len(dev_set_news_stories))]\n",
        "dev_set_answers = [dataset['train'][i]['answers'][0][0] for i in range(len(dev_set_news_stories))]"
      ]
    },
    {
      "cell_type": "markdown",
      "metadata": {
        "id": "XTSd4rzIBbsO"
      },
      "source": [
        "We'll limit the data to a subset of the original dataset consisting of 30 data points. *Feel free to use a larger subset, but beware of the longer runtimes.*"
      ]
    },
    {
      "cell_type": "code",
      "execution_count": null,
      "metadata": {
        "id": "dhiDntAiBlIa"
      },
      "outputs": [],
      "source": [
        "dev_set_news_stories = dev_set_news_stories[:30]\n",
        "dev_set_questions = dev_set_questions[:30]\n",
        "dev_set_answers = dev_set_answers[:3L0]"
      ]
    },
    {
      "cell_type": "markdown",
      "metadata": {
        "id": "HtsV50KYBsv8"
      },
      "source": [
        "Conditionally generate answers."
      ]
    },
    {
      "cell_type": "code",
      "execution_count": null,
      "metadata": {
        "id": "ZIg2mNEOIc0O"
      },
      "outputs": [],
      "source": [
        "answers_instruction = instruction_model.qa(dev_set_news_stories, dev_set_questions)\n",
        "answers_finetuned = finetuned_model.qa(dev_set_news_stories, dev_set_questions)\n"
      ]
    },
    {
      "cell_type": "markdown",
      "metadata": {
        "id": "9FDUTo1dBwVV"
      },
      "source": [
        "Print out the evaluation results."
      ]
    },
    {
      "cell_type": "code",
      "execution_count": null,
      "metadata": {
        "id": "YQiiadQTIc0O"
      },
      "outputs": [],
      "source": [
        "print('Instruction Fine-Tuned QA')\n",
        "print(evaluate_qa(answers_instruction, dev_set_answers))\n",
        "\n",
        "print()\n",
        "\n",
        "print('Fine-Tuned QA')\n",
        "print(evaluate_qa(answers_finetuned, dev_set_answers))"
      ]
    },
    {
      "cell_type": "markdown",
      "metadata": {
        "id": "vqZaSNoEIc0P"
      },
      "source": [
        "#### Evaluating the evaluation metrics\n",
        "\n",
        "Evaluate a few answers produced by the fine-tuned model giving them a score from 1 to 4, where:\n",
        "1. the answer is completely off\n",
        "2. the answer is partially correct but not fluent\n",
        "3. the answer is partially correct but fluent\n",
        "4. the answer is correct and fluent\n",
        "\n",
        "\n",
        "Here, we print 5 stories and their respective question-answer pairs, generated by both humans and the QA fine-tuned model. Feel free to evaluate more than 5.\n"
      ]
    },
    {
      "cell_type": "code",
      "execution_count": null,
      "metadata": {
        "id": "QoHKBE09Ic0P"
      },
      "outputs": [],
      "source": [
        "# feel free to evaluate more than 5 generated answers,\n",
        "# it will give you a better sense of the metrics' flaws\n",
        "N_manual = 5\n",
        "\n",
        "for i in range(N_manual):\n",
        "  pprint(f\"STORY {i+1}: {dev_set_news_stories[i]}\")\n",
        "  print()\n",
        "  pprint(f\"QUESTION {i+1}: {dev_set_questions[i]}\")\n",
        "  print()\n",
        "  pprint(f\"GENERATED ANSWER {i+1}: {answers_finetuned[i]}\")\n",
        "  print()\n",
        "  pprint(f\"HUMAN ANSWER {i+1}: {dev_set_answers[i]}\")\n",
        "  print('\\n------------------------\\n')"
      ]
    },
    {
      "cell_type": "markdown",
      "metadata": {
        "id": "sNa8WEHrCMI2"
      },
      "source": [
        "***Provide your scores for the summaries in order in the list below.***"
      ]
    },
    {
      "cell_type": "code",
      "execution_count": null,
      "metadata": {
        "id": "UEr4Uq8QIc0P"
      },
      "outputs": [],
      "source": [
        "your_scores = [\n",
        "    _, _, _, _, _\n",
        "]"
      ]
    },
    {
      "cell_type": "markdown",
      "metadata": {
        "id": "VpOpwveJIc0Q"
      },
      "source": [
        "Now let's see what BERTScores they get. Do they match your judgements?"
      ]
    },
    {
      "cell_type": "code",
      "execution_count": null,
      "metadata": {
        "id": "OuSuqMBDIc0Q"
      },
      "outputs": [],
      "source": [
        "bertscores = bertscore.compute(\n",
        "  predictions=answers_finetuned[:N_manual],\n",
        "  references=dev_set_answers[:N_manual],\n",
        "  lang=\"en\"\n",
        ")\n",
        "\n",
        "print(f'BertScore: {bertscores}')\n"
      ]
    },
    {
      "cell_type": "markdown",
      "metadata": {
        "id": "-dpOcS0G3zFC"
      },
      "source": [
        "## The *Newsreader Chatbot*\n",
        "\n",
        "Finally all three modules are ready and we can assembled them into our *Newsreader Chatbot*. Enjoy!"
      ]
    },
    {
      "cell_type": "code",
      "execution_count": null,
      "metadata": {
        "id": "UN4xWSzq4Lp8"
      },
      "outputs": [],
      "source": [
        "class NewsReader:\n",
        "\n",
        "  def __init__(self, database_size=500, num_retrieved_articles=3):\n",
        "    self.dataset = load_dataset(\"glnmario/news-qa-summarization\")\n",
        "    self.articles = self.dataset['train']['story'][:database_size]\n",
        "\n",
        "    self.summarizer = FinetunedSummarizer()\n",
        "    self.retriever = SentenceEmbeddingRetriever(self.articles, model_name=\"multi-qa-MiniLM-L6-cos-v1\")\n",
        "    self.answerer = FinetunedQA()\n",
        "\n",
        "    self.num_retrieved_articles = num_retrieved_articles\n",
        "\n",
        "\n",
        "  def _ask_for_article_number_and_show_article(self, message, selected_articles):\n",
        "    target_article_idx = input(message)\n",
        "    while target_article_idx not in map(str, range(1, self.num_retrieved_articles+1)):\n",
        "      target_article_idx = input('\\nPlease just enter the article number.\\n\\n')\n",
        "\n",
        "    selected_article = selected_articles[int(target_article_idx) - 1]\n",
        "    pprint(selected_articles[int(target_article_idx) - 1])\n",
        "    return selected_article\n",
        "\n",
        "\n",
        "  def chat(self):\n",
        "    query = input('What news topic do you want to look for?\\n\\n')\n",
        "    print(f\"\\nOk! I am searching and summarizing news stories about {query}...\")\n",
        "\n",
        "    top_indices, top_scores, _ = self.retriever.retrieve(query, top_k=self.num_retrieved_articles, mode='max')\n",
        "    selected_articles = [self.articles[i] for i in top_indices]\n",
        "    summaries = self.summarizer.summarize(selected_articles)\n",
        "\n",
        "    print('These are summaries of the three news stories that best match your search.\\n')\n",
        "    for i, summary in enumerate(summaries, start=1):\n",
        "      pprint(f'{i}: {summary}')\n",
        "      print()\n",
        "\n",
        "    selected_article = self._ask_for_article_number_and_show_article(\n",
        "        '\\nWhich article would you like to read? Please enter the article number.\\n\\n',\n",
        "        selected_articles\n",
        "    )\n",
        "\n",
        "    question = input('\\n\\nDo you have any questions?\\n\\n')\n",
        "    while question.lower() in ['no', 'no.', 'nope', \"i don't\", 'i do not']:\n",
        "      selected_article = self._ask_for_article_number_and_show_article(\n",
        "          '\\nWould you like to read another article? If so, which one? Please enter the article number.\\n\\n',\n",
        "          selected_articles\n",
        "      )\n",
        "      question = input('\\n\\nDo you have any questions?\\n\\n')\n",
        "\n",
        "    print()\n",
        "    print(self.answerer.qa([selected_article], [question]))\n",
        "\n",
        "    question = input('\\n\\nDo you have another question?\\n\\n')\n",
        "    while question.lower() not in ['no', 'no.', 'nope', \"i don't\", 'i do not']:\n",
        "      print(self.answerer.qa([selected_article], [question]))\n",
        "      question = input('\\n\\nDo you have another question?\\n\\n')\n",
        "\n",
        "\n",
        "    print('\\nI hope I have been helpful. Talk again soon!')\n"
      ]
    },
    {
      "cell_type": "code",
      "execution_count": null,
      "metadata": {
        "id": "4HgsiS084Nja"
      },
      "outputs": [],
      "source": [
        "bot = NewsReader(database_size=10)\n",
        "bot.chat()"
      ]
    },
    {
      "cell_type": "code",
      "execution_count": null,
      "metadata": {
        "id": "Ws3WVyrqc00H"
      },
      "outputs": [],
      "source": []
    }
  ],
  "metadata": {
    "colab": {
      "provenance": [],
      "toc_visible": true,
      "include_colab_link": true
    },
    "kernelspec": {
      "display_name": "Python 3 (ipykernel)",
      "language": "python",
      "name": "python3"
    },
    "language_info": {
      "codemirror_mode": {
        "name": "ipython",
        "version": 3
      },
      "file_extension": ".py",
      "mimetype": "text/x-python",
      "name": "python",
      "nbconvert_exporter": "python",
      "pygments_lexer": "ipython3",
      "version": "3.11.5"
    },
    "widgets": {
      "application/vnd.jupyter.widget-state+json": {
        "e3beb241d82c4c7a886d23d5d141e032": {
          "model_module": "@jupyter-widgets/controls",
          "model_name": "HBoxModel",
          "model_module_version": "1.5.0",
          "state": {
            "_dom_classes": [],
            "_model_module": "@jupyter-widgets/controls",
            "_model_module_version": "1.5.0",
            "_model_name": "HBoxModel",
            "_view_count": null,
            "_view_module": "@jupyter-widgets/controls",
            "_view_module_version": "1.5.0",
            "_view_name": "HBoxView",
            "box_style": "",
            "children": [
              "IPY_MODEL_e2dd1d13b8f046228f791deb4872b81c",
              "IPY_MODEL_79b06530ee494fceaf3dfb516fdb8303",
              "IPY_MODEL_ed96bd1b16b94171ba60978e037f1419"
            ],
            "layout": "IPY_MODEL_17767a881bc54a5c9be80a86ed94fcf8"
          }
        },
        "e2dd1d13b8f046228f791deb4872b81c": {
          "model_module": "@jupyter-widgets/controls",
          "model_name": "HTMLModel",
          "model_module_version": "1.5.0",
          "state": {
            "_dom_classes": [],
            "_model_module": "@jupyter-widgets/controls",
            "_model_module_version": "1.5.0",
            "_model_name": "HTMLModel",
            "_view_count": null,
            "_view_module": "@jupyter-widgets/controls",
            "_view_module_version": "1.5.0",
            "_view_name": "HTMLView",
            "description": "",
            "description_tooltip": null,
            "layout": "IPY_MODEL_a5898dfaec384d2cb77afaa3c81e10f9",
            "placeholder": "​",
            "style": "IPY_MODEL_284ba7371c4743acb8ebedd8326632b9",
            "value": "Downloading readme: 100%"
          }
        },
        "79b06530ee494fceaf3dfb516fdb8303": {
          "model_module": "@jupyter-widgets/controls",
          "model_name": "FloatProgressModel",
          "model_module_version": "1.5.0",
          "state": {
            "_dom_classes": [],
            "_model_module": "@jupyter-widgets/controls",
            "_model_module_version": "1.5.0",
            "_model_name": "FloatProgressModel",
            "_view_count": null,
            "_view_module": "@jupyter-widgets/controls",
            "_view_module_version": "1.5.0",
            "_view_name": "ProgressView",
            "bar_style": "success",
            "description": "",
            "description_tooltip": null,
            "layout": "IPY_MODEL_090a2c83665b446d9904708369b155c6",
            "max": 715,
            "min": 0,
            "orientation": "horizontal",
            "style": "IPY_MODEL_c287e07d7d8748f1bde65ae3a752536e",
            "value": 715
          }
        },
        "ed96bd1b16b94171ba60978e037f1419": {
          "model_module": "@jupyter-widgets/controls",
          "model_name": "HTMLModel",
          "model_module_version": "1.5.0",
          "state": {
            "_dom_classes": [],
            "_model_module": "@jupyter-widgets/controls",
            "_model_module_version": "1.5.0",
            "_model_name": "HTMLModel",
            "_view_count": null,
            "_view_module": "@jupyter-widgets/controls",
            "_view_module_version": "1.5.0",
            "_view_name": "HTMLView",
            "description": "",
            "description_tooltip": null,
            "layout": "IPY_MODEL_a8a55159936844f396a1e80e35fdd9df",
            "placeholder": "​",
            "style": "IPY_MODEL_dbcc4fdadbd94e4a9c1186068a863c5f",
            "value": " 715/715 [00:00&lt;00:00, 37.6kB/s]"
          }
        },
        "17767a881bc54a5c9be80a86ed94fcf8": {
          "model_module": "@jupyter-widgets/base",
          "model_name": "LayoutModel",
          "model_module_version": "1.2.0",
          "state": {
            "_model_module": "@jupyter-widgets/base",
            "_model_module_version": "1.2.0",
            "_model_name": "LayoutModel",
            "_view_count": null,
            "_view_module": "@jupyter-widgets/base",
            "_view_module_version": "1.2.0",
            "_view_name": "LayoutView",
            "align_content": null,
            "align_items": null,
            "align_self": null,
            "border": null,
            "bottom": null,
            "display": null,
            "flex": null,
            "flex_flow": null,
            "grid_area": null,
            "grid_auto_columns": null,
            "grid_auto_flow": null,
            "grid_auto_rows": null,
            "grid_column": null,
            "grid_gap": null,
            "grid_row": null,
            "grid_template_areas": null,
            "grid_template_columns": null,
            "grid_template_rows": null,
            "height": null,
            "justify_content": null,
            "justify_items": null,
            "left": null,
            "margin": null,
            "max_height": null,
            "max_width": null,
            "min_height": null,
            "min_width": null,
            "object_fit": null,
            "object_position": null,
            "order": null,
            "overflow": null,
            "overflow_x": null,
            "overflow_y": null,
            "padding": null,
            "right": null,
            "top": null,
            "visibility": null,
            "width": null
          }
        },
        "a5898dfaec384d2cb77afaa3c81e10f9": {
          "model_module": "@jupyter-widgets/base",
          "model_name": "LayoutModel",
          "model_module_version": "1.2.0",
          "state": {
            "_model_module": "@jupyter-widgets/base",
            "_model_module_version": "1.2.0",
            "_model_name": "LayoutModel",
            "_view_count": null,
            "_view_module": "@jupyter-widgets/base",
            "_view_module_version": "1.2.0",
            "_view_name": "LayoutView",
            "align_content": null,
            "align_items": null,
            "align_self": null,
            "border": null,
            "bottom": null,
            "display": null,
            "flex": null,
            "flex_flow": null,
            "grid_area": null,
            "grid_auto_columns": null,
            "grid_auto_flow": null,
            "grid_auto_rows": null,
            "grid_column": null,
            "grid_gap": null,
            "grid_row": null,
            "grid_template_areas": null,
            "grid_template_columns": null,
            "grid_template_rows": null,
            "height": null,
            "justify_content": null,
            "justify_items": null,
            "left": null,
            "margin": null,
            "max_height": null,
            "max_width": null,
            "min_height": null,
            "min_width": null,
            "object_fit": null,
            "object_position": null,
            "order": null,
            "overflow": null,
            "overflow_x": null,
            "overflow_y": null,
            "padding": null,
            "right": null,
            "top": null,
            "visibility": null,
            "width": null
          }
        },
        "284ba7371c4743acb8ebedd8326632b9": {
          "model_module": "@jupyter-widgets/controls",
          "model_name": "DescriptionStyleModel",
          "model_module_version": "1.5.0",
          "state": {
            "_model_module": "@jupyter-widgets/controls",
            "_model_module_version": "1.5.0",
            "_model_name": "DescriptionStyleModel",
            "_view_count": null,
            "_view_module": "@jupyter-widgets/base",
            "_view_module_version": "1.2.0",
            "_view_name": "StyleView",
            "description_width": ""
          }
        },
        "090a2c83665b446d9904708369b155c6": {
          "model_module": "@jupyter-widgets/base",
          "model_name": "LayoutModel",
          "model_module_version": "1.2.0",
          "state": {
            "_model_module": "@jupyter-widgets/base",
            "_model_module_version": "1.2.0",
            "_model_name": "LayoutModel",
            "_view_count": null,
            "_view_module": "@jupyter-widgets/base",
            "_view_module_version": "1.2.0",
            "_view_name": "LayoutView",
            "align_content": null,
            "align_items": null,
            "align_self": null,
            "border": null,
            "bottom": null,
            "display": null,
            "flex": null,
            "flex_flow": null,
            "grid_area": null,
            "grid_auto_columns": null,
            "grid_auto_flow": null,
            "grid_auto_rows": null,
            "grid_column": null,
            "grid_gap": null,
            "grid_row": null,
            "grid_template_areas": null,
            "grid_template_columns": null,
            "grid_template_rows": null,
            "height": null,
            "justify_content": null,
            "justify_items": null,
            "left": null,
            "margin": null,
            "max_height": null,
            "max_width": null,
            "min_height": null,
            "min_width": null,
            "object_fit": null,
            "object_position": null,
            "order": null,
            "overflow": null,
            "overflow_x": null,
            "overflow_y": null,
            "padding": null,
            "right": null,
            "top": null,
            "visibility": null,
            "width": null
          }
        },
        "c287e07d7d8748f1bde65ae3a752536e": {
          "model_module": "@jupyter-widgets/controls",
          "model_name": "ProgressStyleModel",
          "model_module_version": "1.5.0",
          "state": {
            "_model_module": "@jupyter-widgets/controls",
            "_model_module_version": "1.5.0",
            "_model_name": "ProgressStyleModel",
            "_view_count": null,
            "_view_module": "@jupyter-widgets/base",
            "_view_module_version": "1.2.0",
            "_view_name": "StyleView",
            "bar_color": null,
            "description_width": ""
          }
        },
        "a8a55159936844f396a1e80e35fdd9df": {
          "model_module": "@jupyter-widgets/base",
          "model_name": "LayoutModel",
          "model_module_version": "1.2.0",
          "state": {
            "_model_module": "@jupyter-widgets/base",
            "_model_module_version": "1.2.0",
            "_model_name": "LayoutModel",
            "_view_count": null,
            "_view_module": "@jupyter-widgets/base",
            "_view_module_version": "1.2.0",
            "_view_name": "LayoutView",
            "align_content": null,
            "align_items": null,
            "align_self": null,
            "border": null,
            "bottom": null,
            "display": null,
            "flex": null,
            "flex_flow": null,
            "grid_area": null,
            "grid_auto_columns": null,
            "grid_auto_flow": null,
            "grid_auto_rows": null,
            "grid_column": null,
            "grid_gap": null,
            "grid_row": null,
            "grid_template_areas": null,
            "grid_template_columns": null,
            "grid_template_rows": null,
            "height": null,
            "justify_content": null,
            "justify_items": null,
            "left": null,
            "margin": null,
            "max_height": null,
            "max_width": null,
            "min_height": null,
            "min_width": null,
            "object_fit": null,
            "object_position": null,
            "order": null,
            "overflow": null,
            "overflow_x": null,
            "overflow_y": null,
            "padding": null,
            "right": null,
            "top": null,
            "visibility": null,
            "width": null
          }
        },
        "dbcc4fdadbd94e4a9c1186068a863c5f": {
          "model_module": "@jupyter-widgets/controls",
          "model_name": "DescriptionStyleModel",
          "model_module_version": "1.5.0",
          "state": {
            "_model_module": "@jupyter-widgets/controls",
            "_model_module_version": "1.5.0",
            "_model_name": "DescriptionStyleModel",
            "_view_count": null,
            "_view_module": "@jupyter-widgets/base",
            "_view_module_version": "1.2.0",
            "_view_name": "StyleView",
            "description_width": ""
          }
        },
        "c8e217da505c403db6a4fc77edbbdfd3": {
          "model_module": "@jupyter-widgets/controls",
          "model_name": "HBoxModel",
          "model_module_version": "1.5.0",
          "state": {
            "_dom_classes": [],
            "_model_module": "@jupyter-widgets/controls",
            "_model_module_version": "1.5.0",
            "_model_name": "HBoxModel",
            "_view_count": null,
            "_view_module": "@jupyter-widgets/controls",
            "_view_module_version": "1.5.0",
            "_view_name": "HBoxView",
            "box_style": "",
            "children": [
              "IPY_MODEL_b784f0bb696f42b4ad14294a4e80f613",
              "IPY_MODEL_e42fc97b0260418585a106f81b215cd9",
              "IPY_MODEL_99e237155fb74770857ed654f99faf84"
            ],
            "layout": "IPY_MODEL_8174d713c2a645938f45cebf308c1afd"
          }
        },
        "b784f0bb696f42b4ad14294a4e80f613": {
          "model_module": "@jupyter-widgets/controls",
          "model_name": "HTMLModel",
          "model_module_version": "1.5.0",
          "state": {
            "_dom_classes": [],
            "_model_module": "@jupyter-widgets/controls",
            "_model_module_version": "1.5.0",
            "_model_name": "HTMLModel",
            "_view_count": null,
            "_view_module": "@jupyter-widgets/controls",
            "_view_module_version": "1.5.0",
            "_view_name": "HTMLView",
            "description": "",
            "description_tooltip": null,
            "layout": "IPY_MODEL_2b69af45458f446d8030532725908a07",
            "placeholder": "​",
            "style": "IPY_MODEL_e5d88bc1e34f4a88ac6f487dfa078c0d",
            "value": "Downloading data: 100%"
          }
        },
        "e42fc97b0260418585a106f81b215cd9": {
          "model_module": "@jupyter-widgets/controls",
          "model_name": "FloatProgressModel",
          "model_module_version": "1.5.0",
          "state": {
            "_dom_classes": [],
            "_model_module": "@jupyter-widgets/controls",
            "_model_module_version": "1.5.0",
            "_model_name": "FloatProgressModel",
            "_view_count": null,
            "_view_module": "@jupyter-widgets/controls",
            "_view_module_version": "1.5.0",
            "_view_name": "ProgressView",
            "bar_style": "success",
            "description": "",
            "description_tooltip": null,
            "layout": "IPY_MODEL_95271c85e0174fcd9045e515dd00a5a9",
            "max": 40685252,
            "min": 0,
            "orientation": "horizontal",
            "style": "IPY_MODEL_d6704fe0a5da4bba8865e3c55d8b5afa",
            "value": 40685252
          }
        },
        "99e237155fb74770857ed654f99faf84": {
          "model_module": "@jupyter-widgets/controls",
          "model_name": "HTMLModel",
          "model_module_version": "1.5.0",
          "state": {
            "_dom_classes": [],
            "_model_module": "@jupyter-widgets/controls",
            "_model_module_version": "1.5.0",
            "_model_name": "HTMLModel",
            "_view_count": null,
            "_view_module": "@jupyter-widgets/controls",
            "_view_module_version": "1.5.0",
            "_view_name": "HTMLView",
            "description": "",
            "description_tooltip": null,
            "layout": "IPY_MODEL_d0cdd52fdca14cde9705abaceb96b578",
            "placeholder": "​",
            "style": "IPY_MODEL_659dd4c15c9e4ddfa9123861a7b2e15b",
            "value": " 40.7M/40.7M [00:01&lt;00:00, 37.2MB/s]"
          }
        },
        "8174d713c2a645938f45cebf308c1afd": {
          "model_module": "@jupyter-widgets/base",
          "model_name": "LayoutModel",
          "model_module_version": "1.2.0",
          "state": {
            "_model_module": "@jupyter-widgets/base",
            "_model_module_version": "1.2.0",
            "_model_name": "LayoutModel",
            "_view_count": null,
            "_view_module": "@jupyter-widgets/base",
            "_view_module_version": "1.2.0",
            "_view_name": "LayoutView",
            "align_content": null,
            "align_items": null,
            "align_self": null,
            "border": null,
            "bottom": null,
            "display": null,
            "flex": null,
            "flex_flow": null,
            "grid_area": null,
            "grid_auto_columns": null,
            "grid_auto_flow": null,
            "grid_auto_rows": null,
            "grid_column": null,
            "grid_gap": null,
            "grid_row": null,
            "grid_template_areas": null,
            "grid_template_columns": null,
            "grid_template_rows": null,
            "height": null,
            "justify_content": null,
            "justify_items": null,
            "left": null,
            "margin": null,
            "max_height": null,
            "max_width": null,
            "min_height": null,
            "min_width": null,
            "object_fit": null,
            "object_position": null,
            "order": null,
            "overflow": null,
            "overflow_x": null,
            "overflow_y": null,
            "padding": null,
            "right": null,
            "top": null,
            "visibility": null,
            "width": null
          }
        },
        "2b69af45458f446d8030532725908a07": {
          "model_module": "@jupyter-widgets/base",
          "model_name": "LayoutModel",
          "model_module_version": "1.2.0",
          "state": {
            "_model_module": "@jupyter-widgets/base",
            "_model_module_version": "1.2.0",
            "_model_name": "LayoutModel",
            "_view_count": null,
            "_view_module": "@jupyter-widgets/base",
            "_view_module_version": "1.2.0",
            "_view_name": "LayoutView",
            "align_content": null,
            "align_items": null,
            "align_self": null,
            "border": null,
            "bottom": null,
            "display": null,
            "flex": null,
            "flex_flow": null,
            "grid_area": null,
            "grid_auto_columns": null,
            "grid_auto_flow": null,
            "grid_auto_rows": null,
            "grid_column": null,
            "grid_gap": null,
            "grid_row": null,
            "grid_template_areas": null,
            "grid_template_columns": null,
            "grid_template_rows": null,
            "height": null,
            "justify_content": null,
            "justify_items": null,
            "left": null,
            "margin": null,
            "max_height": null,
            "max_width": null,
            "min_height": null,
            "min_width": null,
            "object_fit": null,
            "object_position": null,
            "order": null,
            "overflow": null,
            "overflow_x": null,
            "overflow_y": null,
            "padding": null,
            "right": null,
            "top": null,
            "visibility": null,
            "width": null
          }
        },
        "e5d88bc1e34f4a88ac6f487dfa078c0d": {
          "model_module": "@jupyter-widgets/controls",
          "model_name": "DescriptionStyleModel",
          "model_module_version": "1.5.0",
          "state": {
            "_model_module": "@jupyter-widgets/controls",
            "_model_module_version": "1.5.0",
            "_model_name": "DescriptionStyleModel",
            "_view_count": null,
            "_view_module": "@jupyter-widgets/base",
            "_view_module_version": "1.2.0",
            "_view_name": "StyleView",
            "description_width": ""
          }
        },
        "95271c85e0174fcd9045e515dd00a5a9": {
          "model_module": "@jupyter-widgets/base",
          "model_name": "LayoutModel",
          "model_module_version": "1.2.0",
          "state": {
            "_model_module": "@jupyter-widgets/base",
            "_model_module_version": "1.2.0",
            "_model_name": "LayoutModel",
            "_view_count": null,
            "_view_module": "@jupyter-widgets/base",
            "_view_module_version": "1.2.0",
            "_view_name": "LayoutView",
            "align_content": null,
            "align_items": null,
            "align_self": null,
            "border": null,
            "bottom": null,
            "display": null,
            "flex": null,
            "flex_flow": null,
            "grid_area": null,
            "grid_auto_columns": null,
            "grid_auto_flow": null,
            "grid_auto_rows": null,
            "grid_column": null,
            "grid_gap": null,
            "grid_row": null,
            "grid_template_areas": null,
            "grid_template_columns": null,
            "grid_template_rows": null,
            "height": null,
            "justify_content": null,
            "justify_items": null,
            "left": null,
            "margin": null,
            "max_height": null,
            "max_width": null,
            "min_height": null,
            "min_width": null,
            "object_fit": null,
            "object_position": null,
            "order": null,
            "overflow": null,
            "overflow_x": null,
            "overflow_y": null,
            "padding": null,
            "right": null,
            "top": null,
            "visibility": null,
            "width": null
          }
        },
        "d6704fe0a5da4bba8865e3c55d8b5afa": {
          "model_module": "@jupyter-widgets/controls",
          "model_name": "ProgressStyleModel",
          "model_module_version": "1.5.0",
          "state": {
            "_model_module": "@jupyter-widgets/controls",
            "_model_module_version": "1.5.0",
            "_model_name": "ProgressStyleModel",
            "_view_count": null,
            "_view_module": "@jupyter-widgets/base",
            "_view_module_version": "1.2.0",
            "_view_name": "StyleView",
            "bar_color": null,
            "description_width": ""
          }
        },
        "d0cdd52fdca14cde9705abaceb96b578": {
          "model_module": "@jupyter-widgets/base",
          "model_name": "LayoutModel",
          "model_module_version": "1.2.0",
          "state": {
            "_model_module": "@jupyter-widgets/base",
            "_model_module_version": "1.2.0",
            "_model_name": "LayoutModel",
            "_view_count": null,
            "_view_module": "@jupyter-widgets/base",
            "_view_module_version": "1.2.0",
            "_view_name": "LayoutView",
            "align_content": null,
            "align_items": null,
            "align_self": null,
            "border": null,
            "bottom": null,
            "display": null,
            "flex": null,
            "flex_flow": null,
            "grid_area": null,
            "grid_auto_columns": null,
            "grid_auto_flow": null,
            "grid_auto_rows": null,
            "grid_column": null,
            "grid_gap": null,
            "grid_row": null,
            "grid_template_areas": null,
            "grid_template_columns": null,
            "grid_template_rows": null,
            "height": null,
            "justify_content": null,
            "justify_items": null,
            "left": null,
            "margin": null,
            "max_height": null,
            "max_width": null,
            "min_height": null,
            "min_width": null,
            "object_fit": null,
            "object_position": null,
            "order": null,
            "overflow": null,
            "overflow_x": null,
            "overflow_y": null,
            "padding": null,
            "right": null,
            "top": null,
            "visibility": null,
            "width": null
          }
        },
        "659dd4c15c9e4ddfa9123861a7b2e15b": {
          "model_module": "@jupyter-widgets/controls",
          "model_name": "DescriptionStyleModel",
          "model_module_version": "1.5.0",
          "state": {
            "_model_module": "@jupyter-widgets/controls",
            "_model_module_version": "1.5.0",
            "_model_name": "DescriptionStyleModel",
            "_view_count": null,
            "_view_module": "@jupyter-widgets/base",
            "_view_module_version": "1.2.0",
            "_view_name": "StyleView",
            "description_width": ""
          }
        },
        "96ad7609adff4a98bdc8c5bccd1d1c41": {
          "model_module": "@jupyter-widgets/controls",
          "model_name": "HBoxModel",
          "model_module_version": "1.5.0",
          "state": {
            "_dom_classes": [],
            "_model_module": "@jupyter-widgets/controls",
            "_model_module_version": "1.5.0",
            "_model_name": "HBoxModel",
            "_view_count": null,
            "_view_module": "@jupyter-widgets/controls",
            "_view_module_version": "1.5.0",
            "_view_name": "HBoxView",
            "box_style": "",
            "children": [
              "IPY_MODEL_ef8bad618bda4bee9ab428f789b2b86b",
              "IPY_MODEL_27aeffbfc7e246aca938ed2be8f87a3f",
              "IPY_MODEL_9756cd3aa760413f9ef0a6b4b42113a2"
            ],
            "layout": "IPY_MODEL_4b830c4452534849b303081d824e35e2"
          }
        },
        "ef8bad618bda4bee9ab428f789b2b86b": {
          "model_module": "@jupyter-widgets/controls",
          "model_name": "HTMLModel",
          "model_module_version": "1.5.0",
          "state": {
            "_dom_classes": [],
            "_model_module": "@jupyter-widgets/controls",
            "_model_module_version": "1.5.0",
            "_model_name": "HTMLModel",
            "_view_count": null,
            "_view_module": "@jupyter-widgets/controls",
            "_view_module_version": "1.5.0",
            "_view_name": "HTMLView",
            "description": "",
            "description_tooltip": null,
            "layout": "IPY_MODEL_197f93fb02dd43858e329dab9394f87f",
            "placeholder": "​",
            "style": "IPY_MODEL_41a09c0e48a5449090ecbcb1e49a4a67",
            "value": "Generating train split: "
          }
        },
        "27aeffbfc7e246aca938ed2be8f87a3f": {
          "model_module": "@jupyter-widgets/controls",
          "model_name": "FloatProgressModel",
          "model_module_version": "1.5.0",
          "state": {
            "_dom_classes": [],
            "_model_module": "@jupyter-widgets/controls",
            "_model_module_version": "1.5.0",
            "_model_name": "FloatProgressModel",
            "_view_count": null,
            "_view_module": "@jupyter-widgets/controls",
            "_view_module_version": "1.5.0",
            "_view_name": "ProgressView",
            "bar_style": "success",
            "description": "",
            "description_tooltip": null,
            "layout": "IPY_MODEL_38f0bd69de004df59b478c4653f1e033",
            "max": 1,
            "min": 0,
            "orientation": "horizontal",
            "style": "IPY_MODEL_181001e2265240879865cb73c9fbd4d4",
            "value": 1
          }
        },
        "9756cd3aa760413f9ef0a6b4b42113a2": {
          "model_module": "@jupyter-widgets/controls",
          "model_name": "HTMLModel",
          "model_module_version": "1.5.0",
          "state": {
            "_dom_classes": [],
            "_model_module": "@jupyter-widgets/controls",
            "_model_module_version": "1.5.0",
            "_model_name": "HTMLModel",
            "_view_count": null,
            "_view_module": "@jupyter-widgets/controls",
            "_view_module_version": "1.5.0",
            "_view_name": "HTMLView",
            "description": "",
            "description_tooltip": null,
            "layout": "IPY_MODEL_ae9e929efd0c4782bd2183a69d497ded",
            "placeholder": "​",
            "style": "IPY_MODEL_7274d2ed07ef4d2ab1a4e5fa921ea3f3",
            "value": " 10388/0 [00:00&lt;00:00, 29140.22 examples/s]"
          }
        },
        "4b830c4452534849b303081d824e35e2": {
          "model_module": "@jupyter-widgets/base",
          "model_name": "LayoutModel",
          "model_module_version": "1.2.0",
          "state": {
            "_model_module": "@jupyter-widgets/base",
            "_model_module_version": "1.2.0",
            "_model_name": "LayoutModel",
            "_view_count": null,
            "_view_module": "@jupyter-widgets/base",
            "_view_module_version": "1.2.0",
            "_view_name": "LayoutView",
            "align_content": null,
            "align_items": null,
            "align_self": null,
            "border": null,
            "bottom": null,
            "display": null,
            "flex": null,
            "flex_flow": null,
            "grid_area": null,
            "grid_auto_columns": null,
            "grid_auto_flow": null,
            "grid_auto_rows": null,
            "grid_column": null,
            "grid_gap": null,
            "grid_row": null,
            "grid_template_areas": null,
            "grid_template_columns": null,
            "grid_template_rows": null,
            "height": null,
            "justify_content": null,
            "justify_items": null,
            "left": null,
            "margin": null,
            "max_height": null,
            "max_width": null,
            "min_height": null,
            "min_width": null,
            "object_fit": null,
            "object_position": null,
            "order": null,
            "overflow": null,
            "overflow_x": null,
            "overflow_y": null,
            "padding": null,
            "right": null,
            "top": null,
            "visibility": null,
            "width": null
          }
        },
        "197f93fb02dd43858e329dab9394f87f": {
          "model_module": "@jupyter-widgets/base",
          "model_name": "LayoutModel",
          "model_module_version": "1.2.0",
          "state": {
            "_model_module": "@jupyter-widgets/base",
            "_model_module_version": "1.2.0",
            "_model_name": "LayoutModel",
            "_view_count": null,
            "_view_module": "@jupyter-widgets/base",
            "_view_module_version": "1.2.0",
            "_view_name": "LayoutView",
            "align_content": null,
            "align_items": null,
            "align_self": null,
            "border": null,
            "bottom": null,
            "display": null,
            "flex": null,
            "flex_flow": null,
            "grid_area": null,
            "grid_auto_columns": null,
            "grid_auto_flow": null,
            "grid_auto_rows": null,
            "grid_column": null,
            "grid_gap": null,
            "grid_row": null,
            "grid_template_areas": null,
            "grid_template_columns": null,
            "grid_template_rows": null,
            "height": null,
            "justify_content": null,
            "justify_items": null,
            "left": null,
            "margin": null,
            "max_height": null,
            "max_width": null,
            "min_height": null,
            "min_width": null,
            "object_fit": null,
            "object_position": null,
            "order": null,
            "overflow": null,
            "overflow_x": null,
            "overflow_y": null,
            "padding": null,
            "right": null,
            "top": null,
            "visibility": null,
            "width": null
          }
        },
        "41a09c0e48a5449090ecbcb1e49a4a67": {
          "model_module": "@jupyter-widgets/controls",
          "model_name": "DescriptionStyleModel",
          "model_module_version": "1.5.0",
          "state": {
            "_model_module": "@jupyter-widgets/controls",
            "_model_module_version": "1.5.0",
            "_model_name": "DescriptionStyleModel",
            "_view_count": null,
            "_view_module": "@jupyter-widgets/base",
            "_view_module_version": "1.2.0",
            "_view_name": "StyleView",
            "description_width": ""
          }
        },
        "38f0bd69de004df59b478c4653f1e033": {
          "model_module": "@jupyter-widgets/base",
          "model_name": "LayoutModel",
          "model_module_version": "1.2.0",
          "state": {
            "_model_module": "@jupyter-widgets/base",
            "_model_module_version": "1.2.0",
            "_model_name": "LayoutModel",
            "_view_count": null,
            "_view_module": "@jupyter-widgets/base",
            "_view_module_version": "1.2.0",
            "_view_name": "LayoutView",
            "align_content": null,
            "align_items": null,
            "align_self": null,
            "border": null,
            "bottom": null,
            "display": null,
            "flex": null,
            "flex_flow": null,
            "grid_area": null,
            "grid_auto_columns": null,
            "grid_auto_flow": null,
            "grid_auto_rows": null,
            "grid_column": null,
            "grid_gap": null,
            "grid_row": null,
            "grid_template_areas": null,
            "grid_template_columns": null,
            "grid_template_rows": null,
            "height": null,
            "justify_content": null,
            "justify_items": null,
            "left": null,
            "margin": null,
            "max_height": null,
            "max_width": null,
            "min_height": null,
            "min_width": null,
            "object_fit": null,
            "object_position": null,
            "order": null,
            "overflow": null,
            "overflow_x": null,
            "overflow_y": null,
            "padding": null,
            "right": null,
            "top": null,
            "visibility": null,
            "width": "20px"
          }
        },
        "181001e2265240879865cb73c9fbd4d4": {
          "model_module": "@jupyter-widgets/controls",
          "model_name": "ProgressStyleModel",
          "model_module_version": "1.5.0",
          "state": {
            "_model_module": "@jupyter-widgets/controls",
            "_model_module_version": "1.5.0",
            "_model_name": "ProgressStyleModel",
            "_view_count": null,
            "_view_module": "@jupyter-widgets/base",
            "_view_module_version": "1.2.0",
            "_view_name": "StyleView",
            "bar_color": null,
            "description_width": ""
          }
        },
        "ae9e929efd0c4782bd2183a69d497ded": {
          "model_module": "@jupyter-widgets/base",
          "model_name": "LayoutModel",
          "model_module_version": "1.2.0",
          "state": {
            "_model_module": "@jupyter-widgets/base",
            "_model_module_version": "1.2.0",
            "_model_name": "LayoutModel",
            "_view_count": null,
            "_view_module": "@jupyter-widgets/base",
            "_view_module_version": "1.2.0",
            "_view_name": "LayoutView",
            "align_content": null,
            "align_items": null,
            "align_self": null,
            "border": null,
            "bottom": null,
            "display": null,
            "flex": null,
            "flex_flow": null,
            "grid_area": null,
            "grid_auto_columns": null,
            "grid_auto_flow": null,
            "grid_auto_rows": null,
            "grid_column": null,
            "grid_gap": null,
            "grid_row": null,
            "grid_template_areas": null,
            "grid_template_columns": null,
            "grid_template_rows": null,
            "height": null,
            "justify_content": null,
            "justify_items": null,
            "left": null,
            "margin": null,
            "max_height": null,
            "max_width": null,
            "min_height": null,
            "min_width": null,
            "object_fit": null,
            "object_position": null,
            "order": null,
            "overflow": null,
            "overflow_x": null,
            "overflow_y": null,
            "padding": null,
            "right": null,
            "top": null,
            "visibility": null,
            "width": null
          }
        },
        "7274d2ed07ef4d2ab1a4e5fa921ea3f3": {
          "model_module": "@jupyter-widgets/controls",
          "model_name": "DescriptionStyleModel",
          "model_module_version": "1.5.0",
          "state": {
            "_model_module": "@jupyter-widgets/controls",
            "_model_module_version": "1.5.0",
            "_model_name": "DescriptionStyleModel",
            "_view_count": null,
            "_view_module": "@jupyter-widgets/base",
            "_view_module_version": "1.2.0",
            "_view_name": "StyleView",
            "description_width": ""
          }
        },
        "995d107a19e04a57bb16340f2cd5ce72": {
          "model_module": "@jupyter-widgets/controls",
          "model_name": "HBoxModel",
          "model_module_version": "1.5.0",
          "state": {
            "_dom_classes": [],
            "_model_module": "@jupyter-widgets/controls",
            "_model_module_version": "1.5.0",
            "_model_name": "HBoxModel",
            "_view_count": null,
            "_view_module": "@jupyter-widgets/controls",
            "_view_module_version": "1.5.0",
            "_view_name": "HBoxView",
            "box_style": "",
            "children": [
              "IPY_MODEL_83b97df54e2c4dc19236ef63c930cd23",
              "IPY_MODEL_8158091f339a4dee9f5e9e13da367590",
              "IPY_MODEL_7a265aa60fb246daa6ffbc929aaa1508"
            ],
            "layout": "IPY_MODEL_624a086c4a854f95b0cc5d5ec145e60b"
          }
        },
        "83b97df54e2c4dc19236ef63c930cd23": {
          "model_module": "@jupyter-widgets/controls",
          "model_name": "HTMLModel",
          "model_module_version": "1.5.0",
          "state": {
            "_dom_classes": [],
            "_model_module": "@jupyter-widgets/controls",
            "_model_module_version": "1.5.0",
            "_model_name": "HTMLModel",
            "_view_count": null,
            "_view_module": "@jupyter-widgets/controls",
            "_view_module_version": "1.5.0",
            "_view_name": "HTMLView",
            "description": "",
            "description_tooltip": null,
            "layout": "IPY_MODEL_707294edbf494d3491928a4d0d020ba5",
            "placeholder": "​",
            "style": "IPY_MODEL_76ba14cc17274e728305ef01663b433b",
            "value": "modules.json: 100%"
          }
        },
        "8158091f339a4dee9f5e9e13da367590": {
          "model_module": "@jupyter-widgets/controls",
          "model_name": "FloatProgressModel",
          "model_module_version": "1.5.0",
          "state": {
            "_dom_classes": [],
            "_model_module": "@jupyter-widgets/controls",
            "_model_module_version": "1.5.0",
            "_model_name": "FloatProgressModel",
            "_view_count": null,
            "_view_module": "@jupyter-widgets/controls",
            "_view_module_version": "1.5.0",
            "_view_name": "ProgressView",
            "bar_style": "success",
            "description": "",
            "description_tooltip": null,
            "layout": "IPY_MODEL_67f3e6f0aa904664b507a2c87d0d064b",
            "max": 349,
            "min": 0,
            "orientation": "horizontal",
            "style": "IPY_MODEL_30054b4add4f49019e137547eec465cf",
            "value": 349
          }
        },
        "7a265aa60fb246daa6ffbc929aaa1508": {
          "model_module": "@jupyter-widgets/controls",
          "model_name": "HTMLModel",
          "model_module_version": "1.5.0",
          "state": {
            "_dom_classes": [],
            "_model_module": "@jupyter-widgets/controls",
            "_model_module_version": "1.5.0",
            "_model_name": "HTMLModel",
            "_view_count": null,
            "_view_module": "@jupyter-widgets/controls",
            "_view_module_version": "1.5.0",
            "_view_name": "HTMLView",
            "description": "",
            "description_tooltip": null,
            "layout": "IPY_MODEL_07a0f99f5b6a40c58a9e5f6d22788a43",
            "placeholder": "​",
            "style": "IPY_MODEL_f194883b97694ff58b32d0a004ea64ad",
            "value": " 349/349 [00:00&lt;00:00, 24.0kB/s]"
          }
        },
        "624a086c4a854f95b0cc5d5ec145e60b": {
          "model_module": "@jupyter-widgets/base",
          "model_name": "LayoutModel",
          "model_module_version": "1.2.0",
          "state": {
            "_model_module": "@jupyter-widgets/base",
            "_model_module_version": "1.2.0",
            "_model_name": "LayoutModel",
            "_view_count": null,
            "_view_module": "@jupyter-widgets/base",
            "_view_module_version": "1.2.0",
            "_view_name": "LayoutView",
            "align_content": null,
            "align_items": null,
            "align_self": null,
            "border": null,
            "bottom": null,
            "display": null,
            "flex": null,
            "flex_flow": null,
            "grid_area": null,
            "grid_auto_columns": null,
            "grid_auto_flow": null,
            "grid_auto_rows": null,
            "grid_column": null,
            "grid_gap": null,
            "grid_row": null,
            "grid_template_areas": null,
            "grid_template_columns": null,
            "grid_template_rows": null,
            "height": null,
            "justify_content": null,
            "justify_items": null,
            "left": null,
            "margin": null,
            "max_height": null,
            "max_width": null,
            "min_height": null,
            "min_width": null,
            "object_fit": null,
            "object_position": null,
            "order": null,
            "overflow": null,
            "overflow_x": null,
            "overflow_y": null,
            "padding": null,
            "right": null,
            "top": null,
            "visibility": null,
            "width": null
          }
        },
        "707294edbf494d3491928a4d0d020ba5": {
          "model_module": "@jupyter-widgets/base",
          "model_name": "LayoutModel",
          "model_module_version": "1.2.0",
          "state": {
            "_model_module": "@jupyter-widgets/base",
            "_model_module_version": "1.2.0",
            "_model_name": "LayoutModel",
            "_view_count": null,
            "_view_module": "@jupyter-widgets/base",
            "_view_module_version": "1.2.0",
            "_view_name": "LayoutView",
            "align_content": null,
            "align_items": null,
            "align_self": null,
            "border": null,
            "bottom": null,
            "display": null,
            "flex": null,
            "flex_flow": null,
            "grid_area": null,
            "grid_auto_columns": null,
            "grid_auto_flow": null,
            "grid_auto_rows": null,
            "grid_column": null,
            "grid_gap": null,
            "grid_row": null,
            "grid_template_areas": null,
            "grid_template_columns": null,
            "grid_template_rows": null,
            "height": null,
            "justify_content": null,
            "justify_items": null,
            "left": null,
            "margin": null,
            "max_height": null,
            "max_width": null,
            "min_height": null,
            "min_width": null,
            "object_fit": null,
            "object_position": null,
            "order": null,
            "overflow": null,
            "overflow_x": null,
            "overflow_y": null,
            "padding": null,
            "right": null,
            "top": null,
            "visibility": null,
            "width": null
          }
        },
        "76ba14cc17274e728305ef01663b433b": {
          "model_module": "@jupyter-widgets/controls",
          "model_name": "DescriptionStyleModel",
          "model_module_version": "1.5.0",
          "state": {
            "_model_module": "@jupyter-widgets/controls",
            "_model_module_version": "1.5.0",
            "_model_name": "DescriptionStyleModel",
            "_view_count": null,
            "_view_module": "@jupyter-widgets/base",
            "_view_module_version": "1.2.0",
            "_view_name": "StyleView",
            "description_width": ""
          }
        },
        "67f3e6f0aa904664b507a2c87d0d064b": {
          "model_module": "@jupyter-widgets/base",
          "model_name": "LayoutModel",
          "model_module_version": "1.2.0",
          "state": {
            "_model_module": "@jupyter-widgets/base",
            "_model_module_version": "1.2.0",
            "_model_name": "LayoutModel",
            "_view_count": null,
            "_view_module": "@jupyter-widgets/base",
            "_view_module_version": "1.2.0",
            "_view_name": "LayoutView",
            "align_content": null,
            "align_items": null,
            "align_self": null,
            "border": null,
            "bottom": null,
            "display": null,
            "flex": null,
            "flex_flow": null,
            "grid_area": null,
            "grid_auto_columns": null,
            "grid_auto_flow": null,
            "grid_auto_rows": null,
            "grid_column": null,
            "grid_gap": null,
            "grid_row": null,
            "grid_template_areas": null,
            "grid_template_columns": null,
            "grid_template_rows": null,
            "height": null,
            "justify_content": null,
            "justify_items": null,
            "left": null,
            "margin": null,
            "max_height": null,
            "max_width": null,
            "min_height": null,
            "min_width": null,
            "object_fit": null,
            "object_position": null,
            "order": null,
            "overflow": null,
            "overflow_x": null,
            "overflow_y": null,
            "padding": null,
            "right": null,
            "top": null,
            "visibility": null,
            "width": null
          }
        },
        "30054b4add4f49019e137547eec465cf": {
          "model_module": "@jupyter-widgets/controls",
          "model_name": "ProgressStyleModel",
          "model_module_version": "1.5.0",
          "state": {
            "_model_module": "@jupyter-widgets/controls",
            "_model_module_version": "1.5.0",
            "_model_name": "ProgressStyleModel",
            "_view_count": null,
            "_view_module": "@jupyter-widgets/base",
            "_view_module_version": "1.2.0",
            "_view_name": "StyleView",
            "bar_color": null,
            "description_width": ""
          }
        },
        "07a0f99f5b6a40c58a9e5f6d22788a43": {
          "model_module": "@jupyter-widgets/base",
          "model_name": "LayoutModel",
          "model_module_version": "1.2.0",
          "state": {
            "_model_module": "@jupyter-widgets/base",
            "_model_module_version": "1.2.0",
            "_model_name": "LayoutModel",
            "_view_count": null,
            "_view_module": "@jupyter-widgets/base",
            "_view_module_version": "1.2.0",
            "_view_name": "LayoutView",
            "align_content": null,
            "align_items": null,
            "align_self": null,
            "border": null,
            "bottom": null,
            "display": null,
            "flex": null,
            "flex_flow": null,
            "grid_area": null,
            "grid_auto_columns": null,
            "grid_auto_flow": null,
            "grid_auto_rows": null,
            "grid_column": null,
            "grid_gap": null,
            "grid_row": null,
            "grid_template_areas": null,
            "grid_template_columns": null,
            "grid_template_rows": null,
            "height": null,
            "justify_content": null,
            "justify_items": null,
            "left": null,
            "margin": null,
            "max_height": null,
            "max_width": null,
            "min_height": null,
            "min_width": null,
            "object_fit": null,
            "object_position": null,
            "order": null,
            "overflow": null,
            "overflow_x": null,
            "overflow_y": null,
            "padding": null,
            "right": null,
            "top": null,
            "visibility": null,
            "width": null
          }
        },
        "f194883b97694ff58b32d0a004ea64ad": {
          "model_module": "@jupyter-widgets/controls",
          "model_name": "DescriptionStyleModel",
          "model_module_version": "1.5.0",
          "state": {
            "_model_module": "@jupyter-widgets/controls",
            "_model_module_version": "1.5.0",
            "_model_name": "DescriptionStyleModel",
            "_view_count": null,
            "_view_module": "@jupyter-widgets/base",
            "_view_module_version": "1.2.0",
            "_view_name": "StyleView",
            "description_width": ""
          }
        },
        "b38eefbfe0eb4d5984d0667f40ea4d32": {
          "model_module": "@jupyter-widgets/controls",
          "model_name": "HBoxModel",
          "model_module_version": "1.5.0",
          "state": {
            "_dom_classes": [],
            "_model_module": "@jupyter-widgets/controls",
            "_model_module_version": "1.5.0",
            "_model_name": "HBoxModel",
            "_view_count": null,
            "_view_module": "@jupyter-widgets/controls",
            "_view_module_version": "1.5.0",
            "_view_name": "HBoxView",
            "box_style": "",
            "children": [
              "IPY_MODEL_d8148373cc224b86b7ead3c9d6529c21",
              "IPY_MODEL_e86c27b6804647b8a2979265cd07d2ef",
              "IPY_MODEL_5b30b5121c4847ccbff3f2ce6d5af266"
            ],
            "layout": "IPY_MODEL_3ea1ea267f79460ca8990c82e1f8f406"
          }
        },
        "d8148373cc224b86b7ead3c9d6529c21": {
          "model_module": "@jupyter-widgets/controls",
          "model_name": "HTMLModel",
          "model_module_version": "1.5.0",
          "state": {
            "_dom_classes": [],
            "_model_module": "@jupyter-widgets/controls",
            "_model_module_version": "1.5.0",
            "_model_name": "HTMLModel",
            "_view_count": null,
            "_view_module": "@jupyter-widgets/controls",
            "_view_module_version": "1.5.0",
            "_view_name": "HTMLView",
            "description": "",
            "description_tooltip": null,
            "layout": "IPY_MODEL_ed2877ac4da84690bf56db59ac314049",
            "placeholder": "​",
            "style": "IPY_MODEL_9dd17008d8614c0094a0ca06c2b659c9",
            "value": "config_sentence_transformers.json: 100%"
          }
        },
        "e86c27b6804647b8a2979265cd07d2ef": {
          "model_module": "@jupyter-widgets/controls",
          "model_name": "FloatProgressModel",
          "model_module_version": "1.5.0",
          "state": {
            "_dom_classes": [],
            "_model_module": "@jupyter-widgets/controls",
            "_model_module_version": "1.5.0",
            "_model_name": "FloatProgressModel",
            "_view_count": null,
            "_view_module": "@jupyter-widgets/controls",
            "_view_module_version": "1.5.0",
            "_view_name": "ProgressView",
            "bar_style": "success",
            "description": "",
            "description_tooltip": null,
            "layout": "IPY_MODEL_894041dd666146fdba1796f8965fc715",
            "max": 116,
            "min": 0,
            "orientation": "horizontal",
            "style": "IPY_MODEL_6fbd0c6734ce4787aee59bc4785a671b",
            "value": 116
          }
        },
        "5b30b5121c4847ccbff3f2ce6d5af266": {
          "model_module": "@jupyter-widgets/controls",
          "model_name": "HTMLModel",
          "model_module_version": "1.5.0",
          "state": {
            "_dom_classes": [],
            "_model_module": "@jupyter-widgets/controls",
            "_model_module_version": "1.5.0",
            "_model_name": "HTMLModel",
            "_view_count": null,
            "_view_module": "@jupyter-widgets/controls",
            "_view_module_version": "1.5.0",
            "_view_name": "HTMLView",
            "description": "",
            "description_tooltip": null,
            "layout": "IPY_MODEL_4268a956c2d442b992c2230d8a5a65ba",
            "placeholder": "​",
            "style": "IPY_MODEL_5bcdcac8abc94c30bdcd509d03619540",
            "value": " 116/116 [00:00&lt;00:00, 3.58kB/s]"
          }
        },
        "3ea1ea267f79460ca8990c82e1f8f406": {
          "model_module": "@jupyter-widgets/base",
          "model_name": "LayoutModel",
          "model_module_version": "1.2.0",
          "state": {
            "_model_module": "@jupyter-widgets/base",
            "_model_module_version": "1.2.0",
            "_model_name": "LayoutModel",
            "_view_count": null,
            "_view_module": "@jupyter-widgets/base",
            "_view_module_version": "1.2.0",
            "_view_name": "LayoutView",
            "align_content": null,
            "align_items": null,
            "align_self": null,
            "border": null,
            "bottom": null,
            "display": null,
            "flex": null,
            "flex_flow": null,
            "grid_area": null,
            "grid_auto_columns": null,
            "grid_auto_flow": null,
            "grid_auto_rows": null,
            "grid_column": null,
            "grid_gap": null,
            "grid_row": null,
            "grid_template_areas": null,
            "grid_template_columns": null,
            "grid_template_rows": null,
            "height": null,
            "justify_content": null,
            "justify_items": null,
            "left": null,
            "margin": null,
            "max_height": null,
            "max_width": null,
            "min_height": null,
            "min_width": null,
            "object_fit": null,
            "object_position": null,
            "order": null,
            "overflow": null,
            "overflow_x": null,
            "overflow_y": null,
            "padding": null,
            "right": null,
            "top": null,
            "visibility": null,
            "width": null
          }
        },
        "ed2877ac4da84690bf56db59ac314049": {
          "model_module": "@jupyter-widgets/base",
          "model_name": "LayoutModel",
          "model_module_version": "1.2.0",
          "state": {
            "_model_module": "@jupyter-widgets/base",
            "_model_module_version": "1.2.0",
            "_model_name": "LayoutModel",
            "_view_count": null,
            "_view_module": "@jupyter-widgets/base",
            "_view_module_version": "1.2.0",
            "_view_name": "LayoutView",
            "align_content": null,
            "align_items": null,
            "align_self": null,
            "border": null,
            "bottom": null,
            "display": null,
            "flex": null,
            "flex_flow": null,
            "grid_area": null,
            "grid_auto_columns": null,
            "grid_auto_flow": null,
            "grid_auto_rows": null,
            "grid_column": null,
            "grid_gap": null,
            "grid_row": null,
            "grid_template_areas": null,
            "grid_template_columns": null,
            "grid_template_rows": null,
            "height": null,
            "justify_content": null,
            "justify_items": null,
            "left": null,
            "margin": null,
            "max_height": null,
            "max_width": null,
            "min_height": null,
            "min_width": null,
            "object_fit": null,
            "object_position": null,
            "order": null,
            "overflow": null,
            "overflow_x": null,
            "overflow_y": null,
            "padding": null,
            "right": null,
            "top": null,
            "visibility": null,
            "width": null
          }
        },
        "9dd17008d8614c0094a0ca06c2b659c9": {
          "model_module": "@jupyter-widgets/controls",
          "model_name": "DescriptionStyleModel",
          "model_module_version": "1.5.0",
          "state": {
            "_model_module": "@jupyter-widgets/controls",
            "_model_module_version": "1.5.0",
            "_model_name": "DescriptionStyleModel",
            "_view_count": null,
            "_view_module": "@jupyter-widgets/base",
            "_view_module_version": "1.2.0",
            "_view_name": "StyleView",
            "description_width": ""
          }
        },
        "894041dd666146fdba1796f8965fc715": {
          "model_module": "@jupyter-widgets/base",
          "model_name": "LayoutModel",
          "model_module_version": "1.2.0",
          "state": {
            "_model_module": "@jupyter-widgets/base",
            "_model_module_version": "1.2.0",
            "_model_name": "LayoutModel",
            "_view_count": null,
            "_view_module": "@jupyter-widgets/base",
            "_view_module_version": "1.2.0",
            "_view_name": "LayoutView",
            "align_content": null,
            "align_items": null,
            "align_self": null,
            "border": null,
            "bottom": null,
            "display": null,
            "flex": null,
            "flex_flow": null,
            "grid_area": null,
            "grid_auto_columns": null,
            "grid_auto_flow": null,
            "grid_auto_rows": null,
            "grid_column": null,
            "grid_gap": null,
            "grid_row": null,
            "grid_template_areas": null,
            "grid_template_columns": null,
            "grid_template_rows": null,
            "height": null,
            "justify_content": null,
            "justify_items": null,
            "left": null,
            "margin": null,
            "max_height": null,
            "max_width": null,
            "min_height": null,
            "min_width": null,
            "object_fit": null,
            "object_position": null,
            "order": null,
            "overflow": null,
            "overflow_x": null,
            "overflow_y": null,
            "padding": null,
            "right": null,
            "top": null,
            "visibility": null,
            "width": null
          }
        },
        "6fbd0c6734ce4787aee59bc4785a671b": {
          "model_module": "@jupyter-widgets/controls",
          "model_name": "ProgressStyleModel",
          "model_module_version": "1.5.0",
          "state": {
            "_model_module": "@jupyter-widgets/controls",
            "_model_module_version": "1.5.0",
            "_model_name": "ProgressStyleModel",
            "_view_count": null,
            "_view_module": "@jupyter-widgets/base",
            "_view_module_version": "1.2.0",
            "_view_name": "StyleView",
            "bar_color": null,
            "description_width": ""
          }
        },
        "4268a956c2d442b992c2230d8a5a65ba": {
          "model_module": "@jupyter-widgets/base",
          "model_name": "LayoutModel",
          "model_module_version": "1.2.0",
          "state": {
            "_model_module": "@jupyter-widgets/base",
            "_model_module_version": "1.2.0",
            "_model_name": "LayoutModel",
            "_view_count": null,
            "_view_module": "@jupyter-widgets/base",
            "_view_module_version": "1.2.0",
            "_view_name": "LayoutView",
            "align_content": null,
            "align_items": null,
            "align_self": null,
            "border": null,
            "bottom": null,
            "display": null,
            "flex": null,
            "flex_flow": null,
            "grid_area": null,
            "grid_auto_columns": null,
            "grid_auto_flow": null,
            "grid_auto_rows": null,
            "grid_column": null,
            "grid_gap": null,
            "grid_row": null,
            "grid_template_areas": null,
            "grid_template_columns": null,
            "grid_template_rows": null,
            "height": null,
            "justify_content": null,
            "justify_items": null,
            "left": null,
            "margin": null,
            "max_height": null,
            "max_width": null,
            "min_height": null,
            "min_width": null,
            "object_fit": null,
            "object_position": null,
            "order": null,
            "overflow": null,
            "overflow_x": null,
            "overflow_y": null,
            "padding": null,
            "right": null,
            "top": null,
            "visibility": null,
            "width": null
          }
        },
        "5bcdcac8abc94c30bdcd509d03619540": {
          "model_module": "@jupyter-widgets/controls",
          "model_name": "DescriptionStyleModel",
          "model_module_version": "1.5.0",
          "state": {
            "_model_module": "@jupyter-widgets/controls",
            "_model_module_version": "1.5.0",
            "_model_name": "DescriptionStyleModel",
            "_view_count": null,
            "_view_module": "@jupyter-widgets/base",
            "_view_module_version": "1.2.0",
            "_view_name": "StyleView",
            "description_width": ""
          }
        },
        "157cc410fdc54b34a01282c66553b0fa": {
          "model_module": "@jupyter-widgets/controls",
          "model_name": "HBoxModel",
          "model_module_version": "1.5.0",
          "state": {
            "_dom_classes": [],
            "_model_module": "@jupyter-widgets/controls",
            "_model_module_version": "1.5.0",
            "_model_name": "HBoxModel",
            "_view_count": null,
            "_view_module": "@jupyter-widgets/controls",
            "_view_module_version": "1.5.0",
            "_view_name": "HBoxView",
            "box_style": "",
            "children": [
              "IPY_MODEL_6cdf88207d5a4c3aaaf1a461f71c7899",
              "IPY_MODEL_f27742603d8f442598bc2d42dfec406b",
              "IPY_MODEL_220d844d9e2844dd9d4f045b7ba89ca0"
            ],
            "layout": "IPY_MODEL_f761c917fc694732a8aa28a7bf92f1db"
          }
        },
        "6cdf88207d5a4c3aaaf1a461f71c7899": {
          "model_module": "@jupyter-widgets/controls",
          "model_name": "HTMLModel",
          "model_module_version": "1.5.0",
          "state": {
            "_dom_classes": [],
            "_model_module": "@jupyter-widgets/controls",
            "_model_module_version": "1.5.0",
            "_model_name": "HTMLModel",
            "_view_count": null,
            "_view_module": "@jupyter-widgets/controls",
            "_view_module_version": "1.5.0",
            "_view_name": "HTMLView",
            "description": "",
            "description_tooltip": null,
            "layout": "IPY_MODEL_5347f5fbbd564ceeaaf80204acf78235",
            "placeholder": "​",
            "style": "IPY_MODEL_bb0eecbf557c472fa61f8e0307b915e6",
            "value": "README.md: 100%"
          }
        },
        "f27742603d8f442598bc2d42dfec406b": {
          "model_module": "@jupyter-widgets/controls",
          "model_name": "FloatProgressModel",
          "model_module_version": "1.5.0",
          "state": {
            "_dom_classes": [],
            "_model_module": "@jupyter-widgets/controls",
            "_model_module_version": "1.5.0",
            "_model_name": "FloatProgressModel",
            "_view_count": null,
            "_view_module": "@jupyter-widgets/controls",
            "_view_module_version": "1.5.0",
            "_view_name": "ProgressView",
            "bar_style": "success",
            "description": "",
            "description_tooltip": null,
            "layout": "IPY_MODEL_0940d93caf574c26a02bf7ee09f0a065",
            "max": 11586,
            "min": 0,
            "orientation": "horizontal",
            "style": "IPY_MODEL_c931c2a6a27c4cf18b64a93e602b390e",
            "value": 11586
          }
        },
        "220d844d9e2844dd9d4f045b7ba89ca0": {
          "model_module": "@jupyter-widgets/controls",
          "model_name": "HTMLModel",
          "model_module_version": "1.5.0",
          "state": {
            "_dom_classes": [],
            "_model_module": "@jupyter-widgets/controls",
            "_model_module_version": "1.5.0",
            "_model_name": "HTMLModel",
            "_view_count": null,
            "_view_module": "@jupyter-widgets/controls",
            "_view_module_version": "1.5.0",
            "_view_name": "HTMLView",
            "description": "",
            "description_tooltip": null,
            "layout": "IPY_MODEL_bd60ae6fb6dc4be18b79d25d11847955",
            "placeholder": "​",
            "style": "IPY_MODEL_13db2c3e1f77492487555364df0121b7",
            "value": " 11.6k/11.6k [00:00&lt;00:00, 235kB/s]"
          }
        },
        "f761c917fc694732a8aa28a7bf92f1db": {
          "model_module": "@jupyter-widgets/base",
          "model_name": "LayoutModel",
          "model_module_version": "1.2.0",
          "state": {
            "_model_module": "@jupyter-widgets/base",
            "_model_module_version": "1.2.0",
            "_model_name": "LayoutModel",
            "_view_count": null,
            "_view_module": "@jupyter-widgets/base",
            "_view_module_version": "1.2.0",
            "_view_name": "LayoutView",
            "align_content": null,
            "align_items": null,
            "align_self": null,
            "border": null,
            "bottom": null,
            "display": null,
            "flex": null,
            "flex_flow": null,
            "grid_area": null,
            "grid_auto_columns": null,
            "grid_auto_flow": null,
            "grid_auto_rows": null,
            "grid_column": null,
            "grid_gap": null,
            "grid_row": null,
            "grid_template_areas": null,
            "grid_template_columns": null,
            "grid_template_rows": null,
            "height": null,
            "justify_content": null,
            "justify_items": null,
            "left": null,
            "margin": null,
            "max_height": null,
            "max_width": null,
            "min_height": null,
            "min_width": null,
            "object_fit": null,
            "object_position": null,
            "order": null,
            "overflow": null,
            "overflow_x": null,
            "overflow_y": null,
            "padding": null,
            "right": null,
            "top": null,
            "visibility": null,
            "width": null
          }
        },
        "5347f5fbbd564ceeaaf80204acf78235": {
          "model_module": "@jupyter-widgets/base",
          "model_name": "LayoutModel",
          "model_module_version": "1.2.0",
          "state": {
            "_model_module": "@jupyter-widgets/base",
            "_model_module_version": "1.2.0",
            "_model_name": "LayoutModel",
            "_view_count": null,
            "_view_module": "@jupyter-widgets/base",
            "_view_module_version": "1.2.0",
            "_view_name": "LayoutView",
            "align_content": null,
            "align_items": null,
            "align_self": null,
            "border": null,
            "bottom": null,
            "display": null,
            "flex": null,
            "flex_flow": null,
            "grid_area": null,
            "grid_auto_columns": null,
            "grid_auto_flow": null,
            "grid_auto_rows": null,
            "grid_column": null,
            "grid_gap": null,
            "grid_row": null,
            "grid_template_areas": null,
            "grid_template_columns": null,
            "grid_template_rows": null,
            "height": null,
            "justify_content": null,
            "justify_items": null,
            "left": null,
            "margin": null,
            "max_height": null,
            "max_width": null,
            "min_height": null,
            "min_width": null,
            "object_fit": null,
            "object_position": null,
            "order": null,
            "overflow": null,
            "overflow_x": null,
            "overflow_y": null,
            "padding": null,
            "right": null,
            "top": null,
            "visibility": null,
            "width": null
          }
        },
        "bb0eecbf557c472fa61f8e0307b915e6": {
          "model_module": "@jupyter-widgets/controls",
          "model_name": "DescriptionStyleModel",
          "model_module_version": "1.5.0",
          "state": {
            "_model_module": "@jupyter-widgets/controls",
            "_model_module_version": "1.5.0",
            "_model_name": "DescriptionStyleModel",
            "_view_count": null,
            "_view_module": "@jupyter-widgets/base",
            "_view_module_version": "1.2.0",
            "_view_name": "StyleView",
            "description_width": ""
          }
        },
        "0940d93caf574c26a02bf7ee09f0a065": {
          "model_module": "@jupyter-widgets/base",
          "model_name": "LayoutModel",
          "model_module_version": "1.2.0",
          "state": {
            "_model_module": "@jupyter-widgets/base",
            "_model_module_version": "1.2.0",
            "_model_name": "LayoutModel",
            "_view_count": null,
            "_view_module": "@jupyter-widgets/base",
            "_view_module_version": "1.2.0",
            "_view_name": "LayoutView",
            "align_content": null,
            "align_items": null,
            "align_self": null,
            "border": null,
            "bottom": null,
            "display": null,
            "flex": null,
            "flex_flow": null,
            "grid_area": null,
            "grid_auto_columns": null,
            "grid_auto_flow": null,
            "grid_auto_rows": null,
            "grid_column": null,
            "grid_gap": null,
            "grid_row": null,
            "grid_template_areas": null,
            "grid_template_columns": null,
            "grid_template_rows": null,
            "height": null,
            "justify_content": null,
            "justify_items": null,
            "left": null,
            "margin": null,
            "max_height": null,
            "max_width": null,
            "min_height": null,
            "min_width": null,
            "object_fit": null,
            "object_position": null,
            "order": null,
            "overflow": null,
            "overflow_x": null,
            "overflow_y": null,
            "padding": null,
            "right": null,
            "top": null,
            "visibility": null,
            "width": null
          }
        },
        "c931c2a6a27c4cf18b64a93e602b390e": {
          "model_module": "@jupyter-widgets/controls",
          "model_name": "ProgressStyleModel",
          "model_module_version": "1.5.0",
          "state": {
            "_model_module": "@jupyter-widgets/controls",
            "_model_module_version": "1.5.0",
            "_model_name": "ProgressStyleModel",
            "_view_count": null,
            "_view_module": "@jupyter-widgets/base",
            "_view_module_version": "1.2.0",
            "_view_name": "StyleView",
            "bar_color": null,
            "description_width": ""
          }
        },
        "bd60ae6fb6dc4be18b79d25d11847955": {
          "model_module": "@jupyter-widgets/base",
          "model_name": "LayoutModel",
          "model_module_version": "1.2.0",
          "state": {
            "_model_module": "@jupyter-widgets/base",
            "_model_module_version": "1.2.0",
            "_model_name": "LayoutModel",
            "_view_count": null,
            "_view_module": "@jupyter-widgets/base",
            "_view_module_version": "1.2.0",
            "_view_name": "LayoutView",
            "align_content": null,
            "align_items": null,
            "align_self": null,
            "border": null,
            "bottom": null,
            "display": null,
            "flex": null,
            "flex_flow": null,
            "grid_area": null,
            "grid_auto_columns": null,
            "grid_auto_flow": null,
            "grid_auto_rows": null,
            "grid_column": null,
            "grid_gap": null,
            "grid_row": null,
            "grid_template_areas": null,
            "grid_template_columns": null,
            "grid_template_rows": null,
            "height": null,
            "justify_content": null,
            "justify_items": null,
            "left": null,
            "margin": null,
            "max_height": null,
            "max_width": null,
            "min_height": null,
            "min_width": null,
            "object_fit": null,
            "object_position": null,
            "order": null,
            "overflow": null,
            "overflow_x": null,
            "overflow_y": null,
            "padding": null,
            "right": null,
            "top": null,
            "visibility": null,
            "width": null
          }
        },
        "13db2c3e1f77492487555364df0121b7": {
          "model_module": "@jupyter-widgets/controls",
          "model_name": "DescriptionStyleModel",
          "model_module_version": "1.5.0",
          "state": {
            "_model_module": "@jupyter-widgets/controls",
            "_model_module_version": "1.5.0",
            "_model_name": "DescriptionStyleModel",
            "_view_count": null,
            "_view_module": "@jupyter-widgets/base",
            "_view_module_version": "1.2.0",
            "_view_name": "StyleView",
            "description_width": ""
          }
        },
        "7b27bccd79cc465ea3196d15a3f812fd": {
          "model_module": "@jupyter-widgets/controls",
          "model_name": "HBoxModel",
          "model_module_version": "1.5.0",
          "state": {
            "_dom_classes": [],
            "_model_module": "@jupyter-widgets/controls",
            "_model_module_version": "1.5.0",
            "_model_name": "HBoxModel",
            "_view_count": null,
            "_view_module": "@jupyter-widgets/controls",
            "_view_module_version": "1.5.0",
            "_view_name": "HBoxView",
            "box_style": "",
            "children": [
              "IPY_MODEL_3ff2fcc25b9d45c88142c8bdd64f3c28",
              "IPY_MODEL_0f73ec281efa42f1a70f95b7d55797f7",
              "IPY_MODEL_d9f696bc9e834305b0fd7b8485388a12"
            ],
            "layout": "IPY_MODEL_a2f64f0e46eb4ff1954bc07447934a5c"
          }
        },
        "3ff2fcc25b9d45c88142c8bdd64f3c28": {
          "model_module": "@jupyter-widgets/controls",
          "model_name": "HTMLModel",
          "model_module_version": "1.5.0",
          "state": {
            "_dom_classes": [],
            "_model_module": "@jupyter-widgets/controls",
            "_model_module_version": "1.5.0",
            "_model_name": "HTMLModel",
            "_view_count": null,
            "_view_module": "@jupyter-widgets/controls",
            "_view_module_version": "1.5.0",
            "_view_name": "HTMLView",
            "description": "",
            "description_tooltip": null,
            "layout": "IPY_MODEL_9f024df75503488d8bbb172710e41185",
            "placeholder": "​",
            "style": "IPY_MODEL_e58faafde9d241e9b33782ae63565e03",
            "value": "sentence_bert_config.json: 100%"
          }
        },
        "0f73ec281efa42f1a70f95b7d55797f7": {
          "model_module": "@jupyter-widgets/controls",
          "model_name": "FloatProgressModel",
          "model_module_version": "1.5.0",
          "state": {
            "_dom_classes": [],
            "_model_module": "@jupyter-widgets/controls",
            "_model_module_version": "1.5.0",
            "_model_name": "FloatProgressModel",
            "_view_count": null,
            "_view_module": "@jupyter-widgets/controls",
            "_view_module_version": "1.5.0",
            "_view_name": "ProgressView",
            "bar_style": "success",
            "description": "",
            "description_tooltip": null,
            "layout": "IPY_MODEL_a889ce13e63740ceb91d8475a415fca8",
            "max": 53,
            "min": 0,
            "orientation": "horizontal",
            "style": "IPY_MODEL_cde8c6140ed0424e88e70106fa22f9bd",
            "value": 53
          }
        },
        "d9f696bc9e834305b0fd7b8485388a12": {
          "model_module": "@jupyter-widgets/controls",
          "model_name": "HTMLModel",
          "model_module_version": "1.5.0",
          "state": {
            "_dom_classes": [],
            "_model_module": "@jupyter-widgets/controls",
            "_model_module_version": "1.5.0",
            "_model_name": "HTMLModel",
            "_view_count": null,
            "_view_module": "@jupyter-widgets/controls",
            "_view_module_version": "1.5.0",
            "_view_name": "HTMLView",
            "description": "",
            "description_tooltip": null,
            "layout": "IPY_MODEL_55a91affb68348d08ae1077a1b6f2e7a",
            "placeholder": "​",
            "style": "IPY_MODEL_c65980ca991c403092672cfc0dba37f2",
            "value": " 53.0/53.0 [00:00&lt;00:00, 1.98kB/s]"
          }
        },
        "a2f64f0e46eb4ff1954bc07447934a5c": {
          "model_module": "@jupyter-widgets/base",
          "model_name": "LayoutModel",
          "model_module_version": "1.2.0",
          "state": {
            "_model_module": "@jupyter-widgets/base",
            "_model_module_version": "1.2.0",
            "_model_name": "LayoutModel",
            "_view_count": null,
            "_view_module": "@jupyter-widgets/base",
            "_view_module_version": "1.2.0",
            "_view_name": "LayoutView",
            "align_content": null,
            "align_items": null,
            "align_self": null,
            "border": null,
            "bottom": null,
            "display": null,
            "flex": null,
            "flex_flow": null,
            "grid_area": null,
            "grid_auto_columns": null,
            "grid_auto_flow": null,
            "grid_auto_rows": null,
            "grid_column": null,
            "grid_gap": null,
            "grid_row": null,
            "grid_template_areas": null,
            "grid_template_columns": null,
            "grid_template_rows": null,
            "height": null,
            "justify_content": null,
            "justify_items": null,
            "left": null,
            "margin": null,
            "max_height": null,
            "max_width": null,
            "min_height": null,
            "min_width": null,
            "object_fit": null,
            "object_position": null,
            "order": null,
            "overflow": null,
            "overflow_x": null,
            "overflow_y": null,
            "padding": null,
            "right": null,
            "top": null,
            "visibility": null,
            "width": null
          }
        },
        "9f024df75503488d8bbb172710e41185": {
          "model_module": "@jupyter-widgets/base",
          "model_name": "LayoutModel",
          "model_module_version": "1.2.0",
          "state": {
            "_model_module": "@jupyter-widgets/base",
            "_model_module_version": "1.2.0",
            "_model_name": "LayoutModel",
            "_view_count": null,
            "_view_module": "@jupyter-widgets/base",
            "_view_module_version": "1.2.0",
            "_view_name": "LayoutView",
            "align_content": null,
            "align_items": null,
            "align_self": null,
            "border": null,
            "bottom": null,
            "display": null,
            "flex": null,
            "flex_flow": null,
            "grid_area": null,
            "grid_auto_columns": null,
            "grid_auto_flow": null,
            "grid_auto_rows": null,
            "grid_column": null,
            "grid_gap": null,
            "grid_row": null,
            "grid_template_areas": null,
            "grid_template_columns": null,
            "grid_template_rows": null,
            "height": null,
            "justify_content": null,
            "justify_items": null,
            "left": null,
            "margin": null,
            "max_height": null,
            "max_width": null,
            "min_height": null,
            "min_width": null,
            "object_fit": null,
            "object_position": null,
            "order": null,
            "overflow": null,
            "overflow_x": null,
            "overflow_y": null,
            "padding": null,
            "right": null,
            "top": null,
            "visibility": null,
            "width": null
          }
        },
        "e58faafde9d241e9b33782ae63565e03": {
          "model_module": "@jupyter-widgets/controls",
          "model_name": "DescriptionStyleModel",
          "model_module_version": "1.5.0",
          "state": {
            "_model_module": "@jupyter-widgets/controls",
            "_model_module_version": "1.5.0",
            "_model_name": "DescriptionStyleModel",
            "_view_count": null,
            "_view_module": "@jupyter-widgets/base",
            "_view_module_version": "1.2.0",
            "_view_name": "StyleView",
            "description_width": ""
          }
        },
        "a889ce13e63740ceb91d8475a415fca8": {
          "model_module": "@jupyter-widgets/base",
          "model_name": "LayoutModel",
          "model_module_version": "1.2.0",
          "state": {
            "_model_module": "@jupyter-widgets/base",
            "_model_module_version": "1.2.0",
            "_model_name": "LayoutModel",
            "_view_count": null,
            "_view_module": "@jupyter-widgets/base",
            "_view_module_version": "1.2.0",
            "_view_name": "LayoutView",
            "align_content": null,
            "align_items": null,
            "align_self": null,
            "border": null,
            "bottom": null,
            "display": null,
            "flex": null,
            "flex_flow": null,
            "grid_area": null,
            "grid_auto_columns": null,
            "grid_auto_flow": null,
            "grid_auto_rows": null,
            "grid_column": null,
            "grid_gap": null,
            "grid_row": null,
            "grid_template_areas": null,
            "grid_template_columns": null,
            "grid_template_rows": null,
            "height": null,
            "justify_content": null,
            "justify_items": null,
            "left": null,
            "margin": null,
            "max_height": null,
            "max_width": null,
            "min_height": null,
            "min_width": null,
            "object_fit": null,
            "object_position": null,
            "order": null,
            "overflow": null,
            "overflow_x": null,
            "overflow_y": null,
            "padding": null,
            "right": null,
            "top": null,
            "visibility": null,
            "width": null
          }
        },
        "cde8c6140ed0424e88e70106fa22f9bd": {
          "model_module": "@jupyter-widgets/controls",
          "model_name": "ProgressStyleModel",
          "model_module_version": "1.5.0",
          "state": {
            "_model_module": "@jupyter-widgets/controls",
            "_model_module_version": "1.5.0",
            "_model_name": "ProgressStyleModel",
            "_view_count": null,
            "_view_module": "@jupyter-widgets/base",
            "_view_module_version": "1.2.0",
            "_view_name": "StyleView",
            "bar_color": null,
            "description_width": ""
          }
        },
        "55a91affb68348d08ae1077a1b6f2e7a": {
          "model_module": "@jupyter-widgets/base",
          "model_name": "LayoutModel",
          "model_module_version": "1.2.0",
          "state": {
            "_model_module": "@jupyter-widgets/base",
            "_model_module_version": "1.2.0",
            "_model_name": "LayoutModel",
            "_view_count": null,
            "_view_module": "@jupyter-widgets/base",
            "_view_module_version": "1.2.0",
            "_view_name": "LayoutView",
            "align_content": null,
            "align_items": null,
            "align_self": null,
            "border": null,
            "bottom": null,
            "display": null,
            "flex": null,
            "flex_flow": null,
            "grid_area": null,
            "grid_auto_columns": null,
            "grid_auto_flow": null,
            "grid_auto_rows": null,
            "grid_column": null,
            "grid_gap": null,
            "grid_row": null,
            "grid_template_areas": null,
            "grid_template_columns": null,
            "grid_template_rows": null,
            "height": null,
            "justify_content": null,
            "justify_items": null,
            "left": null,
            "margin": null,
            "max_height": null,
            "max_width": null,
            "min_height": null,
            "min_width": null,
            "object_fit": null,
            "object_position": null,
            "order": null,
            "overflow": null,
            "overflow_x": null,
            "overflow_y": null,
            "padding": null,
            "right": null,
            "top": null,
            "visibility": null,
            "width": null
          }
        },
        "c65980ca991c403092672cfc0dba37f2": {
          "model_module": "@jupyter-widgets/controls",
          "model_name": "DescriptionStyleModel",
          "model_module_version": "1.5.0",
          "state": {
            "_model_module": "@jupyter-widgets/controls",
            "_model_module_version": "1.5.0",
            "_model_name": "DescriptionStyleModel",
            "_view_count": null,
            "_view_module": "@jupyter-widgets/base",
            "_view_module_version": "1.2.0",
            "_view_name": "StyleView",
            "description_width": ""
          }
        },
        "1c59dd987c7148df91c19691fa024d09": {
          "model_module": "@jupyter-widgets/controls",
          "model_name": "HBoxModel",
          "model_module_version": "1.5.0",
          "state": {
            "_dom_classes": [],
            "_model_module": "@jupyter-widgets/controls",
            "_model_module_version": "1.5.0",
            "_model_name": "HBoxModel",
            "_view_count": null,
            "_view_module": "@jupyter-widgets/controls",
            "_view_module_version": "1.5.0",
            "_view_name": "HBoxView",
            "box_style": "",
            "children": [
              "IPY_MODEL_c9e25d581ac84842a2e6662e1c08c999",
              "IPY_MODEL_0e0bb3ff443d4c94ba722092270b9ca6",
              "IPY_MODEL_8a4d3b8c64154b0498883f4e4b03fcad"
            ],
            "layout": "IPY_MODEL_f5bb9f3f28004822851d963184b3b116"
          }
        },
        "c9e25d581ac84842a2e6662e1c08c999": {
          "model_module": "@jupyter-widgets/controls",
          "model_name": "HTMLModel",
          "model_module_version": "1.5.0",
          "state": {
            "_dom_classes": [],
            "_model_module": "@jupyter-widgets/controls",
            "_model_module_version": "1.5.0",
            "_model_name": "HTMLModel",
            "_view_count": null,
            "_view_module": "@jupyter-widgets/controls",
            "_view_module_version": "1.5.0",
            "_view_name": "HTMLView",
            "description": "",
            "description_tooltip": null,
            "layout": "IPY_MODEL_ed5c5a9816174d5faf5795ec8d5f2204",
            "placeholder": "​",
            "style": "IPY_MODEL_fb76f87ac0f54eb6b38cf4ed301e5235",
            "value": "config.json: 100%"
          }
        },
        "0e0bb3ff443d4c94ba722092270b9ca6": {
          "model_module": "@jupyter-widgets/controls",
          "model_name": "FloatProgressModel",
          "model_module_version": "1.5.0",
          "state": {
            "_dom_classes": [],
            "_model_module": "@jupyter-widgets/controls",
            "_model_module_version": "1.5.0",
            "_model_name": "FloatProgressModel",
            "_view_count": null,
            "_view_module": "@jupyter-widgets/controls",
            "_view_module_version": "1.5.0",
            "_view_name": "ProgressView",
            "bar_style": "success",
            "description": "",
            "description_tooltip": null,
            "layout": "IPY_MODEL_5e44f1f87a574c9384f4ea1b0dbc8da9",
            "max": 612,
            "min": 0,
            "orientation": "horizontal",
            "style": "IPY_MODEL_83119f8c42c14fd5bc139227b871f3ec",
            "value": 612
          }
        },
        "8a4d3b8c64154b0498883f4e4b03fcad": {
          "model_module": "@jupyter-widgets/controls",
          "model_name": "HTMLModel",
          "model_module_version": "1.5.0",
          "state": {
            "_dom_classes": [],
            "_model_module": "@jupyter-widgets/controls",
            "_model_module_version": "1.5.0",
            "_model_name": "HTMLModel",
            "_view_count": null,
            "_view_module": "@jupyter-widgets/controls",
            "_view_module_version": "1.5.0",
            "_view_name": "HTMLView",
            "description": "",
            "description_tooltip": null,
            "layout": "IPY_MODEL_dc1ae7675f9c43ba861fbbf41b0ac70f",
            "placeholder": "​",
            "style": "IPY_MODEL_1ca4963c114a4d6db2fe73b7834aa030",
            "value": " 612/612 [00:00&lt;00:00, 31.6kB/s]"
          }
        },
        "f5bb9f3f28004822851d963184b3b116": {
          "model_module": "@jupyter-widgets/base",
          "model_name": "LayoutModel",
          "model_module_version": "1.2.0",
          "state": {
            "_model_module": "@jupyter-widgets/base",
            "_model_module_version": "1.2.0",
            "_model_name": "LayoutModel",
            "_view_count": null,
            "_view_module": "@jupyter-widgets/base",
            "_view_module_version": "1.2.0",
            "_view_name": "LayoutView",
            "align_content": null,
            "align_items": null,
            "align_self": null,
            "border": null,
            "bottom": null,
            "display": null,
            "flex": null,
            "flex_flow": null,
            "grid_area": null,
            "grid_auto_columns": null,
            "grid_auto_flow": null,
            "grid_auto_rows": null,
            "grid_column": null,
            "grid_gap": null,
            "grid_row": null,
            "grid_template_areas": null,
            "grid_template_columns": null,
            "grid_template_rows": null,
            "height": null,
            "justify_content": null,
            "justify_items": null,
            "left": null,
            "margin": null,
            "max_height": null,
            "max_width": null,
            "min_height": null,
            "min_width": null,
            "object_fit": null,
            "object_position": null,
            "order": null,
            "overflow": null,
            "overflow_x": null,
            "overflow_y": null,
            "padding": null,
            "right": null,
            "top": null,
            "visibility": null,
            "width": null
          }
        },
        "ed5c5a9816174d5faf5795ec8d5f2204": {
          "model_module": "@jupyter-widgets/base",
          "model_name": "LayoutModel",
          "model_module_version": "1.2.0",
          "state": {
            "_model_module": "@jupyter-widgets/base",
            "_model_module_version": "1.2.0",
            "_model_name": "LayoutModel",
            "_view_count": null,
            "_view_module": "@jupyter-widgets/base",
            "_view_module_version": "1.2.0",
            "_view_name": "LayoutView",
            "align_content": null,
            "align_items": null,
            "align_self": null,
            "border": null,
            "bottom": null,
            "display": null,
            "flex": null,
            "flex_flow": null,
            "grid_area": null,
            "grid_auto_columns": null,
            "grid_auto_flow": null,
            "grid_auto_rows": null,
            "grid_column": null,
            "grid_gap": null,
            "grid_row": null,
            "grid_template_areas": null,
            "grid_template_columns": null,
            "grid_template_rows": null,
            "height": null,
            "justify_content": null,
            "justify_items": null,
            "left": null,
            "margin": null,
            "max_height": null,
            "max_width": null,
            "min_height": null,
            "min_width": null,
            "object_fit": null,
            "object_position": null,
            "order": null,
            "overflow": null,
            "overflow_x": null,
            "overflow_y": null,
            "padding": null,
            "right": null,
            "top": null,
            "visibility": null,
            "width": null
          }
        },
        "fb76f87ac0f54eb6b38cf4ed301e5235": {
          "model_module": "@jupyter-widgets/controls",
          "model_name": "DescriptionStyleModel",
          "model_module_version": "1.5.0",
          "state": {
            "_model_module": "@jupyter-widgets/controls",
            "_model_module_version": "1.5.0",
            "_model_name": "DescriptionStyleModel",
            "_view_count": null,
            "_view_module": "@jupyter-widgets/base",
            "_view_module_version": "1.2.0",
            "_view_name": "StyleView",
            "description_width": ""
          }
        },
        "5e44f1f87a574c9384f4ea1b0dbc8da9": {
          "model_module": "@jupyter-widgets/base",
          "model_name": "LayoutModel",
          "model_module_version": "1.2.0",
          "state": {
            "_model_module": "@jupyter-widgets/base",
            "_model_module_version": "1.2.0",
            "_model_name": "LayoutModel",
            "_view_count": null,
            "_view_module": "@jupyter-widgets/base",
            "_view_module_version": "1.2.0",
            "_view_name": "LayoutView",
            "align_content": null,
            "align_items": null,
            "align_self": null,
            "border": null,
            "bottom": null,
            "display": null,
            "flex": null,
            "flex_flow": null,
            "grid_area": null,
            "grid_auto_columns": null,
            "grid_auto_flow": null,
            "grid_auto_rows": null,
            "grid_column": null,
            "grid_gap": null,
            "grid_row": null,
            "grid_template_areas": null,
            "grid_template_columns": null,
            "grid_template_rows": null,
            "height": null,
            "justify_content": null,
            "justify_items": null,
            "left": null,
            "margin": null,
            "max_height": null,
            "max_width": null,
            "min_height": null,
            "min_width": null,
            "object_fit": null,
            "object_position": null,
            "order": null,
            "overflow": null,
            "overflow_x": null,
            "overflow_y": null,
            "padding": null,
            "right": null,
            "top": null,
            "visibility": null,
            "width": null
          }
        },
        "83119f8c42c14fd5bc139227b871f3ec": {
          "model_module": "@jupyter-widgets/controls",
          "model_name": "ProgressStyleModel",
          "model_module_version": "1.5.0",
          "state": {
            "_model_module": "@jupyter-widgets/controls",
            "_model_module_version": "1.5.0",
            "_model_name": "ProgressStyleModel",
            "_view_count": null,
            "_view_module": "@jupyter-widgets/base",
            "_view_module_version": "1.2.0",
            "_view_name": "StyleView",
            "bar_color": null,
            "description_width": ""
          }
        },
        "dc1ae7675f9c43ba861fbbf41b0ac70f": {
          "model_module": "@jupyter-widgets/base",
          "model_name": "LayoutModel",
          "model_module_version": "1.2.0",
          "state": {
            "_model_module": "@jupyter-widgets/base",
            "_model_module_version": "1.2.0",
            "_model_name": "LayoutModel",
            "_view_count": null,
            "_view_module": "@jupyter-widgets/base",
            "_view_module_version": "1.2.0",
            "_view_name": "LayoutView",
            "align_content": null,
            "align_items": null,
            "align_self": null,
            "border": null,
            "bottom": null,
            "display": null,
            "flex": null,
            "flex_flow": null,
            "grid_area": null,
            "grid_auto_columns": null,
            "grid_auto_flow": null,
            "grid_auto_rows": null,
            "grid_column": null,
            "grid_gap": null,
            "grid_row": null,
            "grid_template_areas": null,
            "grid_template_columns": null,
            "grid_template_rows": null,
            "height": null,
            "justify_content": null,
            "justify_items": null,
            "left": null,
            "margin": null,
            "max_height": null,
            "max_width": null,
            "min_height": null,
            "min_width": null,
            "object_fit": null,
            "object_position": null,
            "order": null,
            "overflow": null,
            "overflow_x": null,
            "overflow_y": null,
            "padding": null,
            "right": null,
            "top": null,
            "visibility": null,
            "width": null
          }
        },
        "1ca4963c114a4d6db2fe73b7834aa030": {
          "model_module": "@jupyter-widgets/controls",
          "model_name": "DescriptionStyleModel",
          "model_module_version": "1.5.0",
          "state": {
            "_model_module": "@jupyter-widgets/controls",
            "_model_module_version": "1.5.0",
            "_model_name": "DescriptionStyleModel",
            "_view_count": null,
            "_view_module": "@jupyter-widgets/base",
            "_view_module_version": "1.2.0",
            "_view_name": "StyleView",
            "description_width": ""
          }
        },
        "3ef253c6ebb4450088995610e67e77bd": {
          "model_module": "@jupyter-widgets/controls",
          "model_name": "HBoxModel",
          "model_module_version": "1.5.0",
          "state": {
            "_dom_classes": [],
            "_model_module": "@jupyter-widgets/controls",
            "_model_module_version": "1.5.0",
            "_model_name": "HBoxModel",
            "_view_count": null,
            "_view_module": "@jupyter-widgets/controls",
            "_view_module_version": "1.5.0",
            "_view_name": "HBoxView",
            "box_style": "",
            "children": [
              "IPY_MODEL_f50f58d3075b4f998ba6ecc39e49e410",
              "IPY_MODEL_9857f91bfa304d848074b0cb5fea5432",
              "IPY_MODEL_f385cbb2ea704d469a92896de5d81887"
            ],
            "layout": "IPY_MODEL_15a223dac2a242489814ac167218b6e4"
          }
        },
        "f50f58d3075b4f998ba6ecc39e49e410": {
          "model_module": "@jupyter-widgets/controls",
          "model_name": "HTMLModel",
          "model_module_version": "1.5.0",
          "state": {
            "_dom_classes": [],
            "_model_module": "@jupyter-widgets/controls",
            "_model_module_version": "1.5.0",
            "_model_name": "HTMLModel",
            "_view_count": null,
            "_view_module": "@jupyter-widgets/controls",
            "_view_module_version": "1.5.0",
            "_view_name": "HTMLView",
            "description": "",
            "description_tooltip": null,
            "layout": "IPY_MODEL_33dc1698ff6146bda0e182a28ce794b9",
            "placeholder": "​",
            "style": "IPY_MODEL_482feb0ffd314d8b97f5b7294bc868ee",
            "value": "model.safetensors: 100%"
          }
        },
        "9857f91bfa304d848074b0cb5fea5432": {
          "model_module": "@jupyter-widgets/controls",
          "model_name": "FloatProgressModel",
          "model_module_version": "1.5.0",
          "state": {
            "_dom_classes": [],
            "_model_module": "@jupyter-widgets/controls",
            "_model_module_version": "1.5.0",
            "_model_name": "FloatProgressModel",
            "_view_count": null,
            "_view_module": "@jupyter-widgets/controls",
            "_view_module_version": "1.5.0",
            "_view_name": "ProgressView",
            "bar_style": "success",
            "description": "",
            "description_tooltip": null,
            "layout": "IPY_MODEL_e2fa0d9fe63847359159c40ac9c8701a",
            "max": 90868376,
            "min": 0,
            "orientation": "horizontal",
            "style": "IPY_MODEL_40ee5e5537fe4e058ca3958fc7d61452",
            "value": 90868376
          }
        },
        "f385cbb2ea704d469a92896de5d81887": {
          "model_module": "@jupyter-widgets/controls",
          "model_name": "HTMLModel",
          "model_module_version": "1.5.0",
          "state": {
            "_dom_classes": [],
            "_model_module": "@jupyter-widgets/controls",
            "_model_module_version": "1.5.0",
            "_model_name": "HTMLModel",
            "_view_count": null,
            "_view_module": "@jupyter-widgets/controls",
            "_view_module_version": "1.5.0",
            "_view_name": "HTMLView",
            "description": "",
            "description_tooltip": null,
            "layout": "IPY_MODEL_9affa5c147a34ecfb18f50bdb415d7e0",
            "placeholder": "​",
            "style": "IPY_MODEL_2f8d7eafcfaf4b71bfc39c205076d49e",
            "value": " 90.9M/90.9M [00:00&lt;00:00, 130MB/s]"
          }
        },
        "15a223dac2a242489814ac167218b6e4": {
          "model_module": "@jupyter-widgets/base",
          "model_name": "LayoutModel",
          "model_module_version": "1.2.0",
          "state": {
            "_model_module": "@jupyter-widgets/base",
            "_model_module_version": "1.2.0",
            "_model_name": "LayoutModel",
            "_view_count": null,
            "_view_module": "@jupyter-widgets/base",
            "_view_module_version": "1.2.0",
            "_view_name": "LayoutView",
            "align_content": null,
            "align_items": null,
            "align_self": null,
            "border": null,
            "bottom": null,
            "display": null,
            "flex": null,
            "flex_flow": null,
            "grid_area": null,
            "grid_auto_columns": null,
            "grid_auto_flow": null,
            "grid_auto_rows": null,
            "grid_column": null,
            "grid_gap": null,
            "grid_row": null,
            "grid_template_areas": null,
            "grid_template_columns": null,
            "grid_template_rows": null,
            "height": null,
            "justify_content": null,
            "justify_items": null,
            "left": null,
            "margin": null,
            "max_height": null,
            "max_width": null,
            "min_height": null,
            "min_width": null,
            "object_fit": null,
            "object_position": null,
            "order": null,
            "overflow": null,
            "overflow_x": null,
            "overflow_y": null,
            "padding": null,
            "right": null,
            "top": null,
            "visibility": null,
            "width": null
          }
        },
        "33dc1698ff6146bda0e182a28ce794b9": {
          "model_module": "@jupyter-widgets/base",
          "model_name": "LayoutModel",
          "model_module_version": "1.2.0",
          "state": {
            "_model_module": "@jupyter-widgets/base",
            "_model_module_version": "1.2.0",
            "_model_name": "LayoutModel",
            "_view_count": null,
            "_view_module": "@jupyter-widgets/base",
            "_view_module_version": "1.2.0",
            "_view_name": "LayoutView",
            "align_content": null,
            "align_items": null,
            "align_self": null,
            "border": null,
            "bottom": null,
            "display": null,
            "flex": null,
            "flex_flow": null,
            "grid_area": null,
            "grid_auto_columns": null,
            "grid_auto_flow": null,
            "grid_auto_rows": null,
            "grid_column": null,
            "grid_gap": null,
            "grid_row": null,
            "grid_template_areas": null,
            "grid_template_columns": null,
            "grid_template_rows": null,
            "height": null,
            "justify_content": null,
            "justify_items": null,
            "left": null,
            "margin": null,
            "max_height": null,
            "max_width": null,
            "min_height": null,
            "min_width": null,
            "object_fit": null,
            "object_position": null,
            "order": null,
            "overflow": null,
            "overflow_x": null,
            "overflow_y": null,
            "padding": null,
            "right": null,
            "top": null,
            "visibility": null,
            "width": null
          }
        },
        "482feb0ffd314d8b97f5b7294bc868ee": {
          "model_module": "@jupyter-widgets/controls",
          "model_name": "DescriptionStyleModel",
          "model_module_version": "1.5.0",
          "state": {
            "_model_module": "@jupyter-widgets/controls",
            "_model_module_version": "1.5.0",
            "_model_name": "DescriptionStyleModel",
            "_view_count": null,
            "_view_module": "@jupyter-widgets/base",
            "_view_module_version": "1.2.0",
            "_view_name": "StyleView",
            "description_width": ""
          }
        },
        "e2fa0d9fe63847359159c40ac9c8701a": {
          "model_module": "@jupyter-widgets/base",
          "model_name": "LayoutModel",
          "model_module_version": "1.2.0",
          "state": {
            "_model_module": "@jupyter-widgets/base",
            "_model_module_version": "1.2.0",
            "_model_name": "LayoutModel",
            "_view_count": null,
            "_view_module": "@jupyter-widgets/base",
            "_view_module_version": "1.2.0",
            "_view_name": "LayoutView",
            "align_content": null,
            "align_items": null,
            "align_self": null,
            "border": null,
            "bottom": null,
            "display": null,
            "flex": null,
            "flex_flow": null,
            "grid_area": null,
            "grid_auto_columns": null,
            "grid_auto_flow": null,
            "grid_auto_rows": null,
            "grid_column": null,
            "grid_gap": null,
            "grid_row": null,
            "grid_template_areas": null,
            "grid_template_columns": null,
            "grid_template_rows": null,
            "height": null,
            "justify_content": null,
            "justify_items": null,
            "left": null,
            "margin": null,
            "max_height": null,
            "max_width": null,
            "min_height": null,
            "min_width": null,
            "object_fit": null,
            "object_position": null,
            "order": null,
            "overflow": null,
            "overflow_x": null,
            "overflow_y": null,
            "padding": null,
            "right": null,
            "top": null,
            "visibility": null,
            "width": null
          }
        },
        "40ee5e5537fe4e058ca3958fc7d61452": {
          "model_module": "@jupyter-widgets/controls",
          "model_name": "ProgressStyleModel",
          "model_module_version": "1.5.0",
          "state": {
            "_model_module": "@jupyter-widgets/controls",
            "_model_module_version": "1.5.0",
            "_model_name": "ProgressStyleModel",
            "_view_count": null,
            "_view_module": "@jupyter-widgets/base",
            "_view_module_version": "1.2.0",
            "_view_name": "StyleView",
            "bar_color": null,
            "description_width": ""
          }
        },
        "9affa5c147a34ecfb18f50bdb415d7e0": {
          "model_module": "@jupyter-widgets/base",
          "model_name": "LayoutModel",
          "model_module_version": "1.2.0",
          "state": {
            "_model_module": "@jupyter-widgets/base",
            "_model_module_version": "1.2.0",
            "_model_name": "LayoutModel",
            "_view_count": null,
            "_view_module": "@jupyter-widgets/base",
            "_view_module_version": "1.2.0",
            "_view_name": "LayoutView",
            "align_content": null,
            "align_items": null,
            "align_self": null,
            "border": null,
            "bottom": null,
            "display": null,
            "flex": null,
            "flex_flow": null,
            "grid_area": null,
            "grid_auto_columns": null,
            "grid_auto_flow": null,
            "grid_auto_rows": null,
            "grid_column": null,
            "grid_gap": null,
            "grid_row": null,
            "grid_template_areas": null,
            "grid_template_columns": null,
            "grid_template_rows": null,
            "height": null,
            "justify_content": null,
            "justify_items": null,
            "left": null,
            "margin": null,
            "max_height": null,
            "max_width": null,
            "min_height": null,
            "min_width": null,
            "object_fit": null,
            "object_position": null,
            "order": null,
            "overflow": null,
            "overflow_x": null,
            "overflow_y": null,
            "padding": null,
            "right": null,
            "top": null,
            "visibility": null,
            "width": null
          }
        },
        "2f8d7eafcfaf4b71bfc39c205076d49e": {
          "model_module": "@jupyter-widgets/controls",
          "model_name": "DescriptionStyleModel",
          "model_module_version": "1.5.0",
          "state": {
            "_model_module": "@jupyter-widgets/controls",
            "_model_module_version": "1.5.0",
            "_model_name": "DescriptionStyleModel",
            "_view_count": null,
            "_view_module": "@jupyter-widgets/base",
            "_view_module_version": "1.2.0",
            "_view_name": "StyleView",
            "description_width": ""
          }
        },
        "d145eb71a55944d99854bc6361a29729": {
          "model_module": "@jupyter-widgets/controls",
          "model_name": "HBoxModel",
          "model_module_version": "1.5.0",
          "state": {
            "_dom_classes": [],
            "_model_module": "@jupyter-widgets/controls",
            "_model_module_version": "1.5.0",
            "_model_name": "HBoxModel",
            "_view_count": null,
            "_view_module": "@jupyter-widgets/controls",
            "_view_module_version": "1.5.0",
            "_view_name": "HBoxView",
            "box_style": "",
            "children": [
              "IPY_MODEL_94b76191d25447529f07b2992fb19aa8",
              "IPY_MODEL_aacdeb5c7856410dbef1c000cff05685",
              "IPY_MODEL_714b6dfdbb6c4bf581a72f495f12aa16"
            ],
            "layout": "IPY_MODEL_b2fe60bd2ff84faf9f02320bde92b0b2"
          }
        },
        "94b76191d25447529f07b2992fb19aa8": {
          "model_module": "@jupyter-widgets/controls",
          "model_name": "HTMLModel",
          "model_module_version": "1.5.0",
          "state": {
            "_dom_classes": [],
            "_model_module": "@jupyter-widgets/controls",
            "_model_module_version": "1.5.0",
            "_model_name": "HTMLModel",
            "_view_count": null,
            "_view_module": "@jupyter-widgets/controls",
            "_view_module_version": "1.5.0",
            "_view_name": "HTMLView",
            "description": "",
            "description_tooltip": null,
            "layout": "IPY_MODEL_11c88c4fe66240fd89129aad03b28989",
            "placeholder": "​",
            "style": "IPY_MODEL_ea182b4f26f24dcba0e4bcaa35465b9a",
            "value": "tokenizer_config.json: 100%"
          }
        },
        "aacdeb5c7856410dbef1c000cff05685": {
          "model_module": "@jupyter-widgets/controls",
          "model_name": "FloatProgressModel",
          "model_module_version": "1.5.0",
          "state": {
            "_dom_classes": [],
            "_model_module": "@jupyter-widgets/controls",
            "_model_module_version": "1.5.0",
            "_model_name": "FloatProgressModel",
            "_view_count": null,
            "_view_module": "@jupyter-widgets/controls",
            "_view_module_version": "1.5.0",
            "_view_name": "ProgressView",
            "bar_style": "success",
            "description": "",
            "description_tooltip": null,
            "layout": "IPY_MODEL_4fa043cfd5e44049abe4124b6d7e1576",
            "max": 383,
            "min": 0,
            "orientation": "horizontal",
            "style": "IPY_MODEL_e031db47c5514547a54271b70dcd576c",
            "value": 383
          }
        },
        "714b6dfdbb6c4bf581a72f495f12aa16": {
          "model_module": "@jupyter-widgets/controls",
          "model_name": "HTMLModel",
          "model_module_version": "1.5.0",
          "state": {
            "_dom_classes": [],
            "_model_module": "@jupyter-widgets/controls",
            "_model_module_version": "1.5.0",
            "_model_name": "HTMLModel",
            "_view_count": null,
            "_view_module": "@jupyter-widgets/controls",
            "_view_module_version": "1.5.0",
            "_view_name": "HTMLView",
            "description": "",
            "description_tooltip": null,
            "layout": "IPY_MODEL_d3d054a00d524714a4970bb102fa5cee",
            "placeholder": "​",
            "style": "IPY_MODEL_6bbb97f21b4e42b3ada1615457ad6d7b",
            "value": " 383/383 [00:00&lt;00:00, 8.48kB/s]"
          }
        },
        "b2fe60bd2ff84faf9f02320bde92b0b2": {
          "model_module": "@jupyter-widgets/base",
          "model_name": "LayoutModel",
          "model_module_version": "1.2.0",
          "state": {
            "_model_module": "@jupyter-widgets/base",
            "_model_module_version": "1.2.0",
            "_model_name": "LayoutModel",
            "_view_count": null,
            "_view_module": "@jupyter-widgets/base",
            "_view_module_version": "1.2.0",
            "_view_name": "LayoutView",
            "align_content": null,
            "align_items": null,
            "align_self": null,
            "border": null,
            "bottom": null,
            "display": null,
            "flex": null,
            "flex_flow": null,
            "grid_area": null,
            "grid_auto_columns": null,
            "grid_auto_flow": null,
            "grid_auto_rows": null,
            "grid_column": null,
            "grid_gap": null,
            "grid_row": null,
            "grid_template_areas": null,
            "grid_template_columns": null,
            "grid_template_rows": null,
            "height": null,
            "justify_content": null,
            "justify_items": null,
            "left": null,
            "margin": null,
            "max_height": null,
            "max_width": null,
            "min_height": null,
            "min_width": null,
            "object_fit": null,
            "object_position": null,
            "order": null,
            "overflow": null,
            "overflow_x": null,
            "overflow_y": null,
            "padding": null,
            "right": null,
            "top": null,
            "visibility": null,
            "width": null
          }
        },
        "11c88c4fe66240fd89129aad03b28989": {
          "model_module": "@jupyter-widgets/base",
          "model_name": "LayoutModel",
          "model_module_version": "1.2.0",
          "state": {
            "_model_module": "@jupyter-widgets/base",
            "_model_module_version": "1.2.0",
            "_model_name": "LayoutModel",
            "_view_count": null,
            "_view_module": "@jupyter-widgets/base",
            "_view_module_version": "1.2.0",
            "_view_name": "LayoutView",
            "align_content": null,
            "align_items": null,
            "align_self": null,
            "border": null,
            "bottom": null,
            "display": null,
            "flex": null,
            "flex_flow": null,
            "grid_area": null,
            "grid_auto_columns": null,
            "grid_auto_flow": null,
            "grid_auto_rows": null,
            "grid_column": null,
            "grid_gap": null,
            "grid_row": null,
            "grid_template_areas": null,
            "grid_template_columns": null,
            "grid_template_rows": null,
            "height": null,
            "justify_content": null,
            "justify_items": null,
            "left": null,
            "margin": null,
            "max_height": null,
            "max_width": null,
            "min_height": null,
            "min_width": null,
            "object_fit": null,
            "object_position": null,
            "order": null,
            "overflow": null,
            "overflow_x": null,
            "overflow_y": null,
            "padding": null,
            "right": null,
            "top": null,
            "visibility": null,
            "width": null
          }
        },
        "ea182b4f26f24dcba0e4bcaa35465b9a": {
          "model_module": "@jupyter-widgets/controls",
          "model_name": "DescriptionStyleModel",
          "model_module_version": "1.5.0",
          "state": {
            "_model_module": "@jupyter-widgets/controls",
            "_model_module_version": "1.5.0",
            "_model_name": "DescriptionStyleModel",
            "_view_count": null,
            "_view_module": "@jupyter-widgets/base",
            "_view_module_version": "1.2.0",
            "_view_name": "StyleView",
            "description_width": ""
          }
        },
        "4fa043cfd5e44049abe4124b6d7e1576": {
          "model_module": "@jupyter-widgets/base",
          "model_name": "LayoutModel",
          "model_module_version": "1.2.0",
          "state": {
            "_model_module": "@jupyter-widgets/base",
            "_model_module_version": "1.2.0",
            "_model_name": "LayoutModel",
            "_view_count": null,
            "_view_module": "@jupyter-widgets/base",
            "_view_module_version": "1.2.0",
            "_view_name": "LayoutView",
            "align_content": null,
            "align_items": null,
            "align_self": null,
            "border": null,
            "bottom": null,
            "display": null,
            "flex": null,
            "flex_flow": null,
            "grid_area": null,
            "grid_auto_columns": null,
            "grid_auto_flow": null,
            "grid_auto_rows": null,
            "grid_column": null,
            "grid_gap": null,
            "grid_row": null,
            "grid_template_areas": null,
            "grid_template_columns": null,
            "grid_template_rows": null,
            "height": null,
            "justify_content": null,
            "justify_items": null,
            "left": null,
            "margin": null,
            "max_height": null,
            "max_width": null,
            "min_height": null,
            "min_width": null,
            "object_fit": null,
            "object_position": null,
            "order": null,
            "overflow": null,
            "overflow_x": null,
            "overflow_y": null,
            "padding": null,
            "right": null,
            "top": null,
            "visibility": null,
            "width": null
          }
        },
        "e031db47c5514547a54271b70dcd576c": {
          "model_module": "@jupyter-widgets/controls",
          "model_name": "ProgressStyleModel",
          "model_module_version": "1.5.0",
          "state": {
            "_model_module": "@jupyter-widgets/controls",
            "_model_module_version": "1.5.0",
            "_model_name": "ProgressStyleModel",
            "_view_count": null,
            "_view_module": "@jupyter-widgets/base",
            "_view_module_version": "1.2.0",
            "_view_name": "StyleView",
            "bar_color": null,
            "description_width": ""
          }
        },
        "d3d054a00d524714a4970bb102fa5cee": {
          "model_module": "@jupyter-widgets/base",
          "model_name": "LayoutModel",
          "model_module_version": "1.2.0",
          "state": {
            "_model_module": "@jupyter-widgets/base",
            "_model_module_version": "1.2.0",
            "_model_name": "LayoutModel",
            "_view_count": null,
            "_view_module": "@jupyter-widgets/base",
            "_view_module_version": "1.2.0",
            "_view_name": "LayoutView",
            "align_content": null,
            "align_items": null,
            "align_self": null,
            "border": null,
            "bottom": null,
            "display": null,
            "flex": null,
            "flex_flow": null,
            "grid_area": null,
            "grid_auto_columns": null,
            "grid_auto_flow": null,
            "grid_auto_rows": null,
            "grid_column": null,
            "grid_gap": null,
            "grid_row": null,
            "grid_template_areas": null,
            "grid_template_columns": null,
            "grid_template_rows": null,
            "height": null,
            "justify_content": null,
            "justify_items": null,
            "left": null,
            "margin": null,
            "max_height": null,
            "max_width": null,
            "min_height": null,
            "min_width": null,
            "object_fit": null,
            "object_position": null,
            "order": null,
            "overflow": null,
            "overflow_x": null,
            "overflow_y": null,
            "padding": null,
            "right": null,
            "top": null,
            "visibility": null,
            "width": null
          }
        },
        "6bbb97f21b4e42b3ada1615457ad6d7b": {
          "model_module": "@jupyter-widgets/controls",
          "model_name": "DescriptionStyleModel",
          "model_module_version": "1.5.0",
          "state": {
            "_model_module": "@jupyter-widgets/controls",
            "_model_module_version": "1.5.0",
            "_model_name": "DescriptionStyleModel",
            "_view_count": null,
            "_view_module": "@jupyter-widgets/base",
            "_view_module_version": "1.2.0",
            "_view_name": "StyleView",
            "description_width": ""
          }
        },
        "069f114ab83b4e679ca127e57081446d": {
          "model_module": "@jupyter-widgets/controls",
          "model_name": "HBoxModel",
          "model_module_version": "1.5.0",
          "state": {
            "_dom_classes": [],
            "_model_module": "@jupyter-widgets/controls",
            "_model_module_version": "1.5.0",
            "_model_name": "HBoxModel",
            "_view_count": null,
            "_view_module": "@jupyter-widgets/controls",
            "_view_module_version": "1.5.0",
            "_view_name": "HBoxView",
            "box_style": "",
            "children": [
              "IPY_MODEL_6cda84de24934333b8d3f203303bd2d9",
              "IPY_MODEL_798277e4ce444f55982f3a1714883069",
              "IPY_MODEL_5da9818073b343c3b3008a538cd4bb33"
            ],
            "layout": "IPY_MODEL_bd631d9adecb4a918036fcb91c1c0f83"
          }
        },
        "6cda84de24934333b8d3f203303bd2d9": {
          "model_module": "@jupyter-widgets/controls",
          "model_name": "HTMLModel",
          "model_module_version": "1.5.0",
          "state": {
            "_dom_classes": [],
            "_model_module": "@jupyter-widgets/controls",
            "_model_module_version": "1.5.0",
            "_model_name": "HTMLModel",
            "_view_count": null,
            "_view_module": "@jupyter-widgets/controls",
            "_view_module_version": "1.5.0",
            "_view_name": "HTMLView",
            "description": "",
            "description_tooltip": null,
            "layout": "IPY_MODEL_4d14190aaf8740558410bba208ad81c6",
            "placeholder": "​",
            "style": "IPY_MODEL_2b9ef011651c40138fc52308d295954e",
            "value": "vocab.txt: 100%"
          }
        },
        "798277e4ce444f55982f3a1714883069": {
          "model_module": "@jupyter-widgets/controls",
          "model_name": "FloatProgressModel",
          "model_module_version": "1.5.0",
          "state": {
            "_dom_classes": [],
            "_model_module": "@jupyter-widgets/controls",
            "_model_module_version": "1.5.0",
            "_model_name": "FloatProgressModel",
            "_view_count": null,
            "_view_module": "@jupyter-widgets/controls",
            "_view_module_version": "1.5.0",
            "_view_name": "ProgressView",
            "bar_style": "success",
            "description": "",
            "description_tooltip": null,
            "layout": "IPY_MODEL_8cf2be99a0904a5195ba3c9f81c4726f",
            "max": 231508,
            "min": 0,
            "orientation": "horizontal",
            "style": "IPY_MODEL_88169f1ff90342ed934b2f79ca7cc2e3",
            "value": 231508
          }
        },
        "5da9818073b343c3b3008a538cd4bb33": {
          "model_module": "@jupyter-widgets/controls",
          "model_name": "HTMLModel",
          "model_module_version": "1.5.0",
          "state": {
            "_dom_classes": [],
            "_model_module": "@jupyter-widgets/controls",
            "_model_module_version": "1.5.0",
            "_model_name": "HTMLModel",
            "_view_count": null,
            "_view_module": "@jupyter-widgets/controls",
            "_view_module_version": "1.5.0",
            "_view_name": "HTMLView",
            "description": "",
            "description_tooltip": null,
            "layout": "IPY_MODEL_d8e606aea6d34d09b8487a8c06f5c734",
            "placeholder": "​",
            "style": "IPY_MODEL_c270bd0a0236477d84f66d9744db0608",
            "value": " 232k/232k [00:00&lt;00:00, 3.48MB/s]"
          }
        },
        "bd631d9adecb4a918036fcb91c1c0f83": {
          "model_module": "@jupyter-widgets/base",
          "model_name": "LayoutModel",
          "model_module_version": "1.2.0",
          "state": {
            "_model_module": "@jupyter-widgets/base",
            "_model_module_version": "1.2.0",
            "_model_name": "LayoutModel",
            "_view_count": null,
            "_view_module": "@jupyter-widgets/base",
            "_view_module_version": "1.2.0",
            "_view_name": "LayoutView",
            "align_content": null,
            "align_items": null,
            "align_self": null,
            "border": null,
            "bottom": null,
            "display": null,
            "flex": null,
            "flex_flow": null,
            "grid_area": null,
            "grid_auto_columns": null,
            "grid_auto_flow": null,
            "grid_auto_rows": null,
            "grid_column": null,
            "grid_gap": null,
            "grid_row": null,
            "grid_template_areas": null,
            "grid_template_columns": null,
            "grid_template_rows": null,
            "height": null,
            "justify_content": null,
            "justify_items": null,
            "left": null,
            "margin": null,
            "max_height": null,
            "max_width": null,
            "min_height": null,
            "min_width": null,
            "object_fit": null,
            "object_position": null,
            "order": null,
            "overflow": null,
            "overflow_x": null,
            "overflow_y": null,
            "padding": null,
            "right": null,
            "top": null,
            "visibility": null,
            "width": null
          }
        },
        "4d14190aaf8740558410bba208ad81c6": {
          "model_module": "@jupyter-widgets/base",
          "model_name": "LayoutModel",
          "model_module_version": "1.2.0",
          "state": {
            "_model_module": "@jupyter-widgets/base",
            "_model_module_version": "1.2.0",
            "_model_name": "LayoutModel",
            "_view_count": null,
            "_view_module": "@jupyter-widgets/base",
            "_view_module_version": "1.2.0",
            "_view_name": "LayoutView",
            "align_content": null,
            "align_items": null,
            "align_self": null,
            "border": null,
            "bottom": null,
            "display": null,
            "flex": null,
            "flex_flow": null,
            "grid_area": null,
            "grid_auto_columns": null,
            "grid_auto_flow": null,
            "grid_auto_rows": null,
            "grid_column": null,
            "grid_gap": null,
            "grid_row": null,
            "grid_template_areas": null,
            "grid_template_columns": null,
            "grid_template_rows": null,
            "height": null,
            "justify_content": null,
            "justify_items": null,
            "left": null,
            "margin": null,
            "max_height": null,
            "max_width": null,
            "min_height": null,
            "min_width": null,
            "object_fit": null,
            "object_position": null,
            "order": null,
            "overflow": null,
            "overflow_x": null,
            "overflow_y": null,
            "padding": null,
            "right": null,
            "top": null,
            "visibility": null,
            "width": null
          }
        },
        "2b9ef011651c40138fc52308d295954e": {
          "model_module": "@jupyter-widgets/controls",
          "model_name": "DescriptionStyleModel",
          "model_module_version": "1.5.0",
          "state": {
            "_model_module": "@jupyter-widgets/controls",
            "_model_module_version": "1.5.0",
            "_model_name": "DescriptionStyleModel",
            "_view_count": null,
            "_view_module": "@jupyter-widgets/base",
            "_view_module_version": "1.2.0",
            "_view_name": "StyleView",
            "description_width": ""
          }
        },
        "8cf2be99a0904a5195ba3c9f81c4726f": {
          "model_module": "@jupyter-widgets/base",
          "model_name": "LayoutModel",
          "model_module_version": "1.2.0",
          "state": {
            "_model_module": "@jupyter-widgets/base",
            "_model_module_version": "1.2.0",
            "_model_name": "LayoutModel",
            "_view_count": null,
            "_view_module": "@jupyter-widgets/base",
            "_view_module_version": "1.2.0",
            "_view_name": "LayoutView",
            "align_content": null,
            "align_items": null,
            "align_self": null,
            "border": null,
            "bottom": null,
            "display": null,
            "flex": null,
            "flex_flow": null,
            "grid_area": null,
            "grid_auto_columns": null,
            "grid_auto_flow": null,
            "grid_auto_rows": null,
            "grid_column": null,
            "grid_gap": null,
            "grid_row": null,
            "grid_template_areas": null,
            "grid_template_columns": null,
            "grid_template_rows": null,
            "height": null,
            "justify_content": null,
            "justify_items": null,
            "left": null,
            "margin": null,
            "max_height": null,
            "max_width": null,
            "min_height": null,
            "min_width": null,
            "object_fit": null,
            "object_position": null,
            "order": null,
            "overflow": null,
            "overflow_x": null,
            "overflow_y": null,
            "padding": null,
            "right": null,
            "top": null,
            "visibility": null,
            "width": null
          }
        },
        "88169f1ff90342ed934b2f79ca7cc2e3": {
          "model_module": "@jupyter-widgets/controls",
          "model_name": "ProgressStyleModel",
          "model_module_version": "1.5.0",
          "state": {
            "_model_module": "@jupyter-widgets/controls",
            "_model_module_version": "1.5.0",
            "_model_name": "ProgressStyleModel",
            "_view_count": null,
            "_view_module": "@jupyter-widgets/base",
            "_view_module_version": "1.2.0",
            "_view_name": "StyleView",
            "bar_color": null,
            "description_width": ""
          }
        },
        "d8e606aea6d34d09b8487a8c06f5c734": {
          "model_module": "@jupyter-widgets/base",
          "model_name": "LayoutModel",
          "model_module_version": "1.2.0",
          "state": {
            "_model_module": "@jupyter-widgets/base",
            "_model_module_version": "1.2.0",
            "_model_name": "LayoutModel",
            "_view_count": null,
            "_view_module": "@jupyter-widgets/base",
            "_view_module_version": "1.2.0",
            "_view_name": "LayoutView",
            "align_content": null,
            "align_items": null,
            "align_self": null,
            "border": null,
            "bottom": null,
            "display": null,
            "flex": null,
            "flex_flow": null,
            "grid_area": null,
            "grid_auto_columns": null,
            "grid_auto_flow": null,
            "grid_auto_rows": null,
            "grid_column": null,
            "grid_gap": null,
            "grid_row": null,
            "grid_template_areas": null,
            "grid_template_columns": null,
            "grid_template_rows": null,
            "height": null,
            "justify_content": null,
            "justify_items": null,
            "left": null,
            "margin": null,
            "max_height": null,
            "max_width": null,
            "min_height": null,
            "min_width": null,
            "object_fit": null,
            "object_position": null,
            "order": null,
            "overflow": null,
            "overflow_x": null,
            "overflow_y": null,
            "padding": null,
            "right": null,
            "top": null,
            "visibility": null,
            "width": null
          }
        },
        "c270bd0a0236477d84f66d9744db0608": {
          "model_module": "@jupyter-widgets/controls",
          "model_name": "DescriptionStyleModel",
          "model_module_version": "1.5.0",
          "state": {
            "_model_module": "@jupyter-widgets/controls",
            "_model_module_version": "1.5.0",
            "_model_name": "DescriptionStyleModel",
            "_view_count": null,
            "_view_module": "@jupyter-widgets/base",
            "_view_module_version": "1.2.0",
            "_view_name": "StyleView",
            "description_width": ""
          }
        },
        "64464fa329f940e7958b1fe40c5a1ae7": {
          "model_module": "@jupyter-widgets/controls",
          "model_name": "HBoxModel",
          "model_module_version": "1.5.0",
          "state": {
            "_dom_classes": [],
            "_model_module": "@jupyter-widgets/controls",
            "_model_module_version": "1.5.0",
            "_model_name": "HBoxModel",
            "_view_count": null,
            "_view_module": "@jupyter-widgets/controls",
            "_view_module_version": "1.5.0",
            "_view_name": "HBoxView",
            "box_style": "",
            "children": [
              "IPY_MODEL_6499d4afe1b7458b8ce70ed11511a63b",
              "IPY_MODEL_da326be098f746e5a719867f1112db3d",
              "IPY_MODEL_534fe9c01b444ed8972e55fd04d05525"
            ],
            "layout": "IPY_MODEL_c84e46c532f54348abed32c8243d65d7"
          }
        },
        "6499d4afe1b7458b8ce70ed11511a63b": {
          "model_module": "@jupyter-widgets/controls",
          "model_name": "HTMLModel",
          "model_module_version": "1.5.0",
          "state": {
            "_dom_classes": [],
            "_model_module": "@jupyter-widgets/controls",
            "_model_module_version": "1.5.0",
            "_model_name": "HTMLModel",
            "_view_count": null,
            "_view_module": "@jupyter-widgets/controls",
            "_view_module_version": "1.5.0",
            "_view_name": "HTMLView",
            "description": "",
            "description_tooltip": null,
            "layout": "IPY_MODEL_08945180e0034af089c43ddfd127932e",
            "placeholder": "​",
            "style": "IPY_MODEL_9f146abc821347e7a37a30864ceb9551",
            "value": "tokenizer.json: 100%"
          }
        },
        "da326be098f746e5a719867f1112db3d": {
          "model_module": "@jupyter-widgets/controls",
          "model_name": "FloatProgressModel",
          "model_module_version": "1.5.0",
          "state": {
            "_dom_classes": [],
            "_model_module": "@jupyter-widgets/controls",
            "_model_module_version": "1.5.0",
            "_model_name": "FloatProgressModel",
            "_view_count": null,
            "_view_module": "@jupyter-widgets/controls",
            "_view_module_version": "1.5.0",
            "_view_name": "ProgressView",
            "bar_style": "success",
            "description": "",
            "description_tooltip": null,
            "layout": "IPY_MODEL_ca69869bcc424e419cb5ee6a61d3ac77",
            "max": 466247,
            "min": 0,
            "orientation": "horizontal",
            "style": "IPY_MODEL_406d20a968a04ba7a8cf7e0399e78d72",
            "value": 466247
          }
        },
        "534fe9c01b444ed8972e55fd04d05525": {
          "model_module": "@jupyter-widgets/controls",
          "model_name": "HTMLModel",
          "model_module_version": "1.5.0",
          "state": {
            "_dom_classes": [],
            "_model_module": "@jupyter-widgets/controls",
            "_model_module_version": "1.5.0",
            "_model_name": "HTMLModel",
            "_view_count": null,
            "_view_module": "@jupyter-widgets/controls",
            "_view_module_version": "1.5.0",
            "_view_name": "HTMLView",
            "description": "",
            "description_tooltip": null,
            "layout": "IPY_MODEL_45d4b94c9cfc4863bfa1073acc75e72d",
            "placeholder": "​",
            "style": "IPY_MODEL_f9c0bf800a11404aa9c2d45655c92d95",
            "value": " 466k/466k [00:00&lt;00:00, 9.47MB/s]"
          }
        },
        "c84e46c532f54348abed32c8243d65d7": {
          "model_module": "@jupyter-widgets/base",
          "model_name": "LayoutModel",
          "model_module_version": "1.2.0",
          "state": {
            "_model_module": "@jupyter-widgets/base",
            "_model_module_version": "1.2.0",
            "_model_name": "LayoutModel",
            "_view_count": null,
            "_view_module": "@jupyter-widgets/base",
            "_view_module_version": "1.2.0",
            "_view_name": "LayoutView",
            "align_content": null,
            "align_items": null,
            "align_self": null,
            "border": null,
            "bottom": null,
            "display": null,
            "flex": null,
            "flex_flow": null,
            "grid_area": null,
            "grid_auto_columns": null,
            "grid_auto_flow": null,
            "grid_auto_rows": null,
            "grid_column": null,
            "grid_gap": null,
            "grid_row": null,
            "grid_template_areas": null,
            "grid_template_columns": null,
            "grid_template_rows": null,
            "height": null,
            "justify_content": null,
            "justify_items": null,
            "left": null,
            "margin": null,
            "max_height": null,
            "max_width": null,
            "min_height": null,
            "min_width": null,
            "object_fit": null,
            "object_position": null,
            "order": null,
            "overflow": null,
            "overflow_x": null,
            "overflow_y": null,
            "padding": null,
            "right": null,
            "top": null,
            "visibility": null,
            "width": null
          }
        },
        "08945180e0034af089c43ddfd127932e": {
          "model_module": "@jupyter-widgets/base",
          "model_name": "LayoutModel",
          "model_module_version": "1.2.0",
          "state": {
            "_model_module": "@jupyter-widgets/base",
            "_model_module_version": "1.2.0",
            "_model_name": "LayoutModel",
            "_view_count": null,
            "_view_module": "@jupyter-widgets/base",
            "_view_module_version": "1.2.0",
            "_view_name": "LayoutView",
            "align_content": null,
            "align_items": null,
            "align_self": null,
            "border": null,
            "bottom": null,
            "display": null,
            "flex": null,
            "flex_flow": null,
            "grid_area": null,
            "grid_auto_columns": null,
            "grid_auto_flow": null,
            "grid_auto_rows": null,
            "grid_column": null,
            "grid_gap": null,
            "grid_row": null,
            "grid_template_areas": null,
            "grid_template_columns": null,
            "grid_template_rows": null,
            "height": null,
            "justify_content": null,
            "justify_items": null,
            "left": null,
            "margin": null,
            "max_height": null,
            "max_width": null,
            "min_height": null,
            "min_width": null,
            "object_fit": null,
            "object_position": null,
            "order": null,
            "overflow": null,
            "overflow_x": null,
            "overflow_y": null,
            "padding": null,
            "right": null,
            "top": null,
            "visibility": null,
            "width": null
          }
        },
        "9f146abc821347e7a37a30864ceb9551": {
          "model_module": "@jupyter-widgets/controls",
          "model_name": "DescriptionStyleModel",
          "model_module_version": "1.5.0",
          "state": {
            "_model_module": "@jupyter-widgets/controls",
            "_model_module_version": "1.5.0",
            "_model_name": "DescriptionStyleModel",
            "_view_count": null,
            "_view_module": "@jupyter-widgets/base",
            "_view_module_version": "1.2.0",
            "_view_name": "StyleView",
            "description_width": ""
          }
        },
        "ca69869bcc424e419cb5ee6a61d3ac77": {
          "model_module": "@jupyter-widgets/base",
          "model_name": "LayoutModel",
          "model_module_version": "1.2.0",
          "state": {
            "_model_module": "@jupyter-widgets/base",
            "_model_module_version": "1.2.0",
            "_model_name": "LayoutModel",
            "_view_count": null,
            "_view_module": "@jupyter-widgets/base",
            "_view_module_version": "1.2.0",
            "_view_name": "LayoutView",
            "align_content": null,
            "align_items": null,
            "align_self": null,
            "border": null,
            "bottom": null,
            "display": null,
            "flex": null,
            "flex_flow": null,
            "grid_area": null,
            "grid_auto_columns": null,
            "grid_auto_flow": null,
            "grid_auto_rows": null,
            "grid_column": null,
            "grid_gap": null,
            "grid_row": null,
            "grid_template_areas": null,
            "grid_template_columns": null,
            "grid_template_rows": null,
            "height": null,
            "justify_content": null,
            "justify_items": null,
            "left": null,
            "margin": null,
            "max_height": null,
            "max_width": null,
            "min_height": null,
            "min_width": null,
            "object_fit": null,
            "object_position": null,
            "order": null,
            "overflow": null,
            "overflow_x": null,
            "overflow_y": null,
            "padding": null,
            "right": null,
            "top": null,
            "visibility": null,
            "width": null
          }
        },
        "406d20a968a04ba7a8cf7e0399e78d72": {
          "model_module": "@jupyter-widgets/controls",
          "model_name": "ProgressStyleModel",
          "model_module_version": "1.5.0",
          "state": {
            "_model_module": "@jupyter-widgets/controls",
            "_model_module_version": "1.5.0",
            "_model_name": "ProgressStyleModel",
            "_view_count": null,
            "_view_module": "@jupyter-widgets/base",
            "_view_module_version": "1.2.0",
            "_view_name": "StyleView",
            "bar_color": null,
            "description_width": ""
          }
        },
        "45d4b94c9cfc4863bfa1073acc75e72d": {
          "model_module": "@jupyter-widgets/base",
          "model_name": "LayoutModel",
          "model_module_version": "1.2.0",
          "state": {
            "_model_module": "@jupyter-widgets/base",
            "_model_module_version": "1.2.0",
            "_model_name": "LayoutModel",
            "_view_count": null,
            "_view_module": "@jupyter-widgets/base",
            "_view_module_version": "1.2.0",
            "_view_name": "LayoutView",
            "align_content": null,
            "align_items": null,
            "align_self": null,
            "border": null,
            "bottom": null,
            "display": null,
            "flex": null,
            "flex_flow": null,
            "grid_area": null,
            "grid_auto_columns": null,
            "grid_auto_flow": null,
            "grid_auto_rows": null,
            "grid_column": null,
            "grid_gap": null,
            "grid_row": null,
            "grid_template_areas": null,
            "grid_template_columns": null,
            "grid_template_rows": null,
            "height": null,
            "justify_content": null,
            "justify_items": null,
            "left": null,
            "margin": null,
            "max_height": null,
            "max_width": null,
            "min_height": null,
            "min_width": null,
            "object_fit": null,
            "object_position": null,
            "order": null,
            "overflow": null,
            "overflow_x": null,
            "overflow_y": null,
            "padding": null,
            "right": null,
            "top": null,
            "visibility": null,
            "width": null
          }
        },
        "f9c0bf800a11404aa9c2d45655c92d95": {
          "model_module": "@jupyter-widgets/controls",
          "model_name": "DescriptionStyleModel",
          "model_module_version": "1.5.0",
          "state": {
            "_model_module": "@jupyter-widgets/controls",
            "_model_module_version": "1.5.0",
            "_model_name": "DescriptionStyleModel",
            "_view_count": null,
            "_view_module": "@jupyter-widgets/base",
            "_view_module_version": "1.2.0",
            "_view_name": "StyleView",
            "description_width": ""
          }
        },
        "845faa32168b440ca103be29492933ba": {
          "model_module": "@jupyter-widgets/controls",
          "model_name": "HBoxModel",
          "model_module_version": "1.5.0",
          "state": {
            "_dom_classes": [],
            "_model_module": "@jupyter-widgets/controls",
            "_model_module_version": "1.5.0",
            "_model_name": "HBoxModel",
            "_view_count": null,
            "_view_module": "@jupyter-widgets/controls",
            "_view_module_version": "1.5.0",
            "_view_name": "HBoxView",
            "box_style": "",
            "children": [
              "IPY_MODEL_dc033c2f4e2743ab9fbbddcd2924d16a",
              "IPY_MODEL_50367963e05f44e8b6c19ef960b2aa21",
              "IPY_MODEL_f086a06f4d884eb384246ae096731faf"
            ],
            "layout": "IPY_MODEL_47d495bfd1204d26b978b3a201396252"
          }
        },
        "dc033c2f4e2743ab9fbbddcd2924d16a": {
          "model_module": "@jupyter-widgets/controls",
          "model_name": "HTMLModel",
          "model_module_version": "1.5.0",
          "state": {
            "_dom_classes": [],
            "_model_module": "@jupyter-widgets/controls",
            "_model_module_version": "1.5.0",
            "_model_name": "HTMLModel",
            "_view_count": null,
            "_view_module": "@jupyter-widgets/controls",
            "_view_module_version": "1.5.0",
            "_view_name": "HTMLView",
            "description": "",
            "description_tooltip": null,
            "layout": "IPY_MODEL_54d074e7a50a4860a7fcb3122a400eb0",
            "placeholder": "​",
            "style": "IPY_MODEL_b1a0cc69e3e3484a80c770aaee7f68df",
            "value": "special_tokens_map.json: 100%"
          }
        },
        "50367963e05f44e8b6c19ef960b2aa21": {
          "model_module": "@jupyter-widgets/controls",
          "model_name": "FloatProgressModel",
          "model_module_version": "1.5.0",
          "state": {
            "_dom_classes": [],
            "_model_module": "@jupyter-widgets/controls",
            "_model_module_version": "1.5.0",
            "_model_name": "FloatProgressModel",
            "_view_count": null,
            "_view_module": "@jupyter-widgets/controls",
            "_view_module_version": "1.5.0",
            "_view_name": "ProgressView",
            "bar_style": "success",
            "description": "",
            "description_tooltip": null,
            "layout": "IPY_MODEL_82592a3a942f46c99900635a3634acf8",
            "max": 112,
            "min": 0,
            "orientation": "horizontal",
            "style": "IPY_MODEL_dadbd2de7dac487ab5d4eefdcaa264d8",
            "value": 112
          }
        },
        "f086a06f4d884eb384246ae096731faf": {
          "model_module": "@jupyter-widgets/controls",
          "model_name": "HTMLModel",
          "model_module_version": "1.5.0",
          "state": {
            "_dom_classes": [],
            "_model_module": "@jupyter-widgets/controls",
            "_model_module_version": "1.5.0",
            "_model_name": "HTMLModel",
            "_view_count": null,
            "_view_module": "@jupyter-widgets/controls",
            "_view_module_version": "1.5.0",
            "_view_name": "HTMLView",
            "description": "",
            "description_tooltip": null,
            "layout": "IPY_MODEL_f4b5506f0f414de7abe6b4fcd7752058",
            "placeholder": "​",
            "style": "IPY_MODEL_b6fa8c7601c146c2a0b33f91c911bd40",
            "value": " 112/112 [00:00&lt;00:00, 2.33kB/s]"
          }
        },
        "47d495bfd1204d26b978b3a201396252": {
          "model_module": "@jupyter-widgets/base",
          "model_name": "LayoutModel",
          "model_module_version": "1.2.0",
          "state": {
            "_model_module": "@jupyter-widgets/base",
            "_model_module_version": "1.2.0",
            "_model_name": "LayoutModel",
            "_view_count": null,
            "_view_module": "@jupyter-widgets/base",
            "_view_module_version": "1.2.0",
            "_view_name": "LayoutView",
            "align_content": null,
            "align_items": null,
            "align_self": null,
            "border": null,
            "bottom": null,
            "display": null,
            "flex": null,
            "flex_flow": null,
            "grid_area": null,
            "grid_auto_columns": null,
            "grid_auto_flow": null,
            "grid_auto_rows": null,
            "grid_column": null,
            "grid_gap": null,
            "grid_row": null,
            "grid_template_areas": null,
            "grid_template_columns": null,
            "grid_template_rows": null,
            "height": null,
            "justify_content": null,
            "justify_items": null,
            "left": null,
            "margin": null,
            "max_height": null,
            "max_width": null,
            "min_height": null,
            "min_width": null,
            "object_fit": null,
            "object_position": null,
            "order": null,
            "overflow": null,
            "overflow_x": null,
            "overflow_y": null,
            "padding": null,
            "right": null,
            "top": null,
            "visibility": null,
            "width": null
          }
        },
        "54d074e7a50a4860a7fcb3122a400eb0": {
          "model_module": "@jupyter-widgets/base",
          "model_name": "LayoutModel",
          "model_module_version": "1.2.0",
          "state": {
            "_model_module": "@jupyter-widgets/base",
            "_model_module_version": "1.2.0",
            "_model_name": "LayoutModel",
            "_view_count": null,
            "_view_module": "@jupyter-widgets/base",
            "_view_module_version": "1.2.0",
            "_view_name": "LayoutView",
            "align_content": null,
            "align_items": null,
            "align_self": null,
            "border": null,
            "bottom": null,
            "display": null,
            "flex": null,
            "flex_flow": null,
            "grid_area": null,
            "grid_auto_columns": null,
            "grid_auto_flow": null,
            "grid_auto_rows": null,
            "grid_column": null,
            "grid_gap": null,
            "grid_row": null,
            "grid_template_areas": null,
            "grid_template_columns": null,
            "grid_template_rows": null,
            "height": null,
            "justify_content": null,
            "justify_items": null,
            "left": null,
            "margin": null,
            "max_height": null,
            "max_width": null,
            "min_height": null,
            "min_width": null,
            "object_fit": null,
            "object_position": null,
            "order": null,
            "overflow": null,
            "overflow_x": null,
            "overflow_y": null,
            "padding": null,
            "right": null,
            "top": null,
            "visibility": null,
            "width": null
          }
        },
        "b1a0cc69e3e3484a80c770aaee7f68df": {
          "model_module": "@jupyter-widgets/controls",
          "model_name": "DescriptionStyleModel",
          "model_module_version": "1.5.0",
          "state": {
            "_model_module": "@jupyter-widgets/controls",
            "_model_module_version": "1.5.0",
            "_model_name": "DescriptionStyleModel",
            "_view_count": null,
            "_view_module": "@jupyter-widgets/base",
            "_view_module_version": "1.2.0",
            "_view_name": "StyleView",
            "description_width": ""
          }
        },
        "82592a3a942f46c99900635a3634acf8": {
          "model_module": "@jupyter-widgets/base",
          "model_name": "LayoutModel",
          "model_module_version": "1.2.0",
          "state": {
            "_model_module": "@jupyter-widgets/base",
            "_model_module_version": "1.2.0",
            "_model_name": "LayoutModel",
            "_view_count": null,
            "_view_module": "@jupyter-widgets/base",
            "_view_module_version": "1.2.0",
            "_view_name": "LayoutView",
            "align_content": null,
            "align_items": null,
            "align_self": null,
            "border": null,
            "bottom": null,
            "display": null,
            "flex": null,
            "flex_flow": null,
            "grid_area": null,
            "grid_auto_columns": null,
            "grid_auto_flow": null,
            "grid_auto_rows": null,
            "grid_column": null,
            "grid_gap": null,
            "grid_row": null,
            "grid_template_areas": null,
            "grid_template_columns": null,
            "grid_template_rows": null,
            "height": null,
            "justify_content": null,
            "justify_items": null,
            "left": null,
            "margin": null,
            "max_height": null,
            "max_width": null,
            "min_height": null,
            "min_width": null,
            "object_fit": null,
            "object_position": null,
            "order": null,
            "overflow": null,
            "overflow_x": null,
            "overflow_y": null,
            "padding": null,
            "right": null,
            "top": null,
            "visibility": null,
            "width": null
          }
        },
        "dadbd2de7dac487ab5d4eefdcaa264d8": {
          "model_module": "@jupyter-widgets/controls",
          "model_name": "ProgressStyleModel",
          "model_module_version": "1.5.0",
          "state": {
            "_model_module": "@jupyter-widgets/controls",
            "_model_module_version": "1.5.0",
            "_model_name": "ProgressStyleModel",
            "_view_count": null,
            "_view_module": "@jupyter-widgets/base",
            "_view_module_version": "1.2.0",
            "_view_name": "StyleView",
            "bar_color": null,
            "description_width": ""
          }
        },
        "f4b5506f0f414de7abe6b4fcd7752058": {
          "model_module": "@jupyter-widgets/base",
          "model_name": "LayoutModel",
          "model_module_version": "1.2.0",
          "state": {
            "_model_module": "@jupyter-widgets/base",
            "_model_module_version": "1.2.0",
            "_model_name": "LayoutModel",
            "_view_count": null,
            "_view_module": "@jupyter-widgets/base",
            "_view_module_version": "1.2.0",
            "_view_name": "LayoutView",
            "align_content": null,
            "align_items": null,
            "align_self": null,
            "border": null,
            "bottom": null,
            "display": null,
            "flex": null,
            "flex_flow": null,
            "grid_area": null,
            "grid_auto_columns": null,
            "grid_auto_flow": null,
            "grid_auto_rows": null,
            "grid_column": null,
            "grid_gap": null,
            "grid_row": null,
            "grid_template_areas": null,
            "grid_template_columns": null,
            "grid_template_rows": null,
            "height": null,
            "justify_content": null,
            "justify_items": null,
            "left": null,
            "margin": null,
            "max_height": null,
            "max_width": null,
            "min_height": null,
            "min_width": null,
            "object_fit": null,
            "object_position": null,
            "order": null,
            "overflow": null,
            "overflow_x": null,
            "overflow_y": null,
            "padding": null,
            "right": null,
            "top": null,
            "visibility": null,
            "width": null
          }
        },
        "b6fa8c7601c146c2a0b33f91c911bd40": {
          "model_module": "@jupyter-widgets/controls",
          "model_name": "DescriptionStyleModel",
          "model_module_version": "1.5.0",
          "state": {
            "_model_module": "@jupyter-widgets/controls",
            "_model_module_version": "1.5.0",
            "_model_name": "DescriptionStyleModel",
            "_view_count": null,
            "_view_module": "@jupyter-widgets/base",
            "_view_module_version": "1.2.0",
            "_view_name": "StyleView",
            "description_width": ""
          }
        },
        "ff21c77402fd4db4991dc2e73ef22fa9": {
          "model_module": "@jupyter-widgets/controls",
          "model_name": "HBoxModel",
          "model_module_version": "1.5.0",
          "state": {
            "_dom_classes": [],
            "_model_module": "@jupyter-widgets/controls",
            "_model_module_version": "1.5.0",
            "_model_name": "HBoxModel",
            "_view_count": null,
            "_view_module": "@jupyter-widgets/controls",
            "_view_module_version": "1.5.0",
            "_view_name": "HBoxView",
            "box_style": "",
            "children": [
              "IPY_MODEL_c2125dc649e34293b7c132bc3e6b6f24",
              "IPY_MODEL_f482a348cbe0473a8d789fb84d369952",
              "IPY_MODEL_c8ba9edb59ce4334bb0625078758561b"
            ],
            "layout": "IPY_MODEL_bac5b5be11f041d5933268475facf305"
          }
        },
        "c2125dc649e34293b7c132bc3e6b6f24": {
          "model_module": "@jupyter-widgets/controls",
          "model_name": "HTMLModel",
          "model_module_version": "1.5.0",
          "state": {
            "_dom_classes": [],
            "_model_module": "@jupyter-widgets/controls",
            "_model_module_version": "1.5.0",
            "_model_name": "HTMLModel",
            "_view_count": null,
            "_view_module": "@jupyter-widgets/controls",
            "_view_module_version": "1.5.0",
            "_view_name": "HTMLView",
            "description": "",
            "description_tooltip": null,
            "layout": "IPY_MODEL_773ea5bd1ef84282a788a3048719b137",
            "placeholder": "​",
            "style": "IPY_MODEL_1ccb154138ff450796e83a8862006f03",
            "value": "1_Pooling/config.json: 100%"
          }
        },
        "f482a348cbe0473a8d789fb84d369952": {
          "model_module": "@jupyter-widgets/controls",
          "model_name": "FloatProgressModel",
          "model_module_version": "1.5.0",
          "state": {
            "_dom_classes": [],
            "_model_module": "@jupyter-widgets/controls",
            "_model_module_version": "1.5.0",
            "_model_name": "FloatProgressModel",
            "_view_count": null,
            "_view_module": "@jupyter-widgets/controls",
            "_view_module_version": "1.5.0",
            "_view_name": "ProgressView",
            "bar_style": "success",
            "description": "",
            "description_tooltip": null,
            "layout": "IPY_MODEL_351b57b9cf89485ea52e71dc82620d79",
            "max": 190,
            "min": 0,
            "orientation": "horizontal",
            "style": "IPY_MODEL_e72e666482fd41988f6f30355cdd943f",
            "value": 190
          }
        },
        "c8ba9edb59ce4334bb0625078758561b": {
          "model_module": "@jupyter-widgets/controls",
          "model_name": "HTMLModel",
          "model_module_version": "1.5.0",
          "state": {
            "_dom_classes": [],
            "_model_module": "@jupyter-widgets/controls",
            "_model_module_version": "1.5.0",
            "_model_name": "HTMLModel",
            "_view_count": null,
            "_view_module": "@jupyter-widgets/controls",
            "_view_module_version": "1.5.0",
            "_view_name": "HTMLView",
            "description": "",
            "description_tooltip": null,
            "layout": "IPY_MODEL_fa655cc4dc24479bac1dfa9998918672",
            "placeholder": "​",
            "style": "IPY_MODEL_c8caa5b7a21b4fc2925235ffd2cf5f43",
            "value": " 190/190 [00:00&lt;00:00, 11.3kB/s]"
          }
        },
        "bac5b5be11f041d5933268475facf305": {
          "model_module": "@jupyter-widgets/base",
          "model_name": "LayoutModel",
          "model_module_version": "1.2.0",
          "state": {
            "_model_module": "@jupyter-widgets/base",
            "_model_module_version": "1.2.0",
            "_model_name": "LayoutModel",
            "_view_count": null,
            "_view_module": "@jupyter-widgets/base",
            "_view_module_version": "1.2.0",
            "_view_name": "LayoutView",
            "align_content": null,
            "align_items": null,
            "align_self": null,
            "border": null,
            "bottom": null,
            "display": null,
            "flex": null,
            "flex_flow": null,
            "grid_area": null,
            "grid_auto_columns": null,
            "grid_auto_flow": null,
            "grid_auto_rows": null,
            "grid_column": null,
            "grid_gap": null,
            "grid_row": null,
            "grid_template_areas": null,
            "grid_template_columns": null,
            "grid_template_rows": null,
            "height": null,
            "justify_content": null,
            "justify_items": null,
            "left": null,
            "margin": null,
            "max_height": null,
            "max_width": null,
            "min_height": null,
            "min_width": null,
            "object_fit": null,
            "object_position": null,
            "order": null,
            "overflow": null,
            "overflow_x": null,
            "overflow_y": null,
            "padding": null,
            "right": null,
            "top": null,
            "visibility": null,
            "width": null
          }
        },
        "773ea5bd1ef84282a788a3048719b137": {
          "model_module": "@jupyter-widgets/base",
          "model_name": "LayoutModel",
          "model_module_version": "1.2.0",
          "state": {
            "_model_module": "@jupyter-widgets/base",
            "_model_module_version": "1.2.0",
            "_model_name": "LayoutModel",
            "_view_count": null,
            "_view_module": "@jupyter-widgets/base",
            "_view_module_version": "1.2.0",
            "_view_name": "LayoutView",
            "align_content": null,
            "align_items": null,
            "align_self": null,
            "border": null,
            "bottom": null,
            "display": null,
            "flex": null,
            "flex_flow": null,
            "grid_area": null,
            "grid_auto_columns": null,
            "grid_auto_flow": null,
            "grid_auto_rows": null,
            "grid_column": null,
            "grid_gap": null,
            "grid_row": null,
            "grid_template_areas": null,
            "grid_template_columns": null,
            "grid_template_rows": null,
            "height": null,
            "justify_content": null,
            "justify_items": null,
            "left": null,
            "margin": null,
            "max_height": null,
            "max_width": null,
            "min_height": null,
            "min_width": null,
            "object_fit": null,
            "object_position": null,
            "order": null,
            "overflow": null,
            "overflow_x": null,
            "overflow_y": null,
            "padding": null,
            "right": null,
            "top": null,
            "visibility": null,
            "width": null
          }
        },
        "1ccb154138ff450796e83a8862006f03": {
          "model_module": "@jupyter-widgets/controls",
          "model_name": "DescriptionStyleModel",
          "model_module_version": "1.5.0",
          "state": {
            "_model_module": "@jupyter-widgets/controls",
            "_model_module_version": "1.5.0",
            "_model_name": "DescriptionStyleModel",
            "_view_count": null,
            "_view_module": "@jupyter-widgets/base",
            "_view_module_version": "1.2.0",
            "_view_name": "StyleView",
            "description_width": ""
          }
        },
        "351b57b9cf89485ea52e71dc82620d79": {
          "model_module": "@jupyter-widgets/base",
          "model_name": "LayoutModel",
          "model_module_version": "1.2.0",
          "state": {
            "_model_module": "@jupyter-widgets/base",
            "_model_module_version": "1.2.0",
            "_model_name": "LayoutModel",
            "_view_count": null,
            "_view_module": "@jupyter-widgets/base",
            "_view_module_version": "1.2.0",
            "_view_name": "LayoutView",
            "align_content": null,
            "align_items": null,
            "align_self": null,
            "border": null,
            "bottom": null,
            "display": null,
            "flex": null,
            "flex_flow": null,
            "grid_area": null,
            "grid_auto_columns": null,
            "grid_auto_flow": null,
            "grid_auto_rows": null,
            "grid_column": null,
            "grid_gap": null,
            "grid_row": null,
            "grid_template_areas": null,
            "grid_template_columns": null,
            "grid_template_rows": null,
            "height": null,
            "justify_content": null,
            "justify_items": null,
            "left": null,
            "margin": null,
            "max_height": null,
            "max_width": null,
            "min_height": null,
            "min_width": null,
            "object_fit": null,
            "object_position": null,
            "order": null,
            "overflow": null,
            "overflow_x": null,
            "overflow_y": null,
            "padding": null,
            "right": null,
            "top": null,
            "visibility": null,
            "width": null
          }
        },
        "e72e666482fd41988f6f30355cdd943f": {
          "model_module": "@jupyter-widgets/controls",
          "model_name": "ProgressStyleModel",
          "model_module_version": "1.5.0",
          "state": {
            "_model_module": "@jupyter-widgets/controls",
            "_model_module_version": "1.5.0",
            "_model_name": "ProgressStyleModel",
            "_view_count": null,
            "_view_module": "@jupyter-widgets/base",
            "_view_module_version": "1.2.0",
            "_view_name": "StyleView",
            "bar_color": null,
            "description_width": ""
          }
        },
        "fa655cc4dc24479bac1dfa9998918672": {
          "model_module": "@jupyter-widgets/base",
          "model_name": "LayoutModel",
          "model_module_version": "1.2.0",
          "state": {
            "_model_module": "@jupyter-widgets/base",
            "_model_module_version": "1.2.0",
            "_model_name": "LayoutModel",
            "_view_count": null,
            "_view_module": "@jupyter-widgets/base",
            "_view_module_version": "1.2.0",
            "_view_name": "LayoutView",
            "align_content": null,
            "align_items": null,
            "align_self": null,
            "border": null,
            "bottom": null,
            "display": null,
            "flex": null,
            "flex_flow": null,
            "grid_area": null,
            "grid_auto_columns": null,
            "grid_auto_flow": null,
            "grid_auto_rows": null,
            "grid_column": null,
            "grid_gap": null,
            "grid_row": null,
            "grid_template_areas": null,
            "grid_template_columns": null,
            "grid_template_rows": null,
            "height": null,
            "justify_content": null,
            "justify_items": null,
            "left": null,
            "margin": null,
            "max_height": null,
            "max_width": null,
            "min_height": null,
            "min_width": null,
            "object_fit": null,
            "object_position": null,
            "order": null,
            "overflow": null,
            "overflow_x": null,
            "overflow_y": null,
            "padding": null,
            "right": null,
            "top": null,
            "visibility": null,
            "width": null
          }
        },
        "c8caa5b7a21b4fc2925235ffd2cf5f43": {
          "model_module": "@jupyter-widgets/controls",
          "model_name": "DescriptionStyleModel",
          "model_module_version": "1.5.0",
          "state": {
            "_model_module": "@jupyter-widgets/controls",
            "_model_module_version": "1.5.0",
            "_model_name": "DescriptionStyleModel",
            "_view_count": null,
            "_view_module": "@jupyter-widgets/base",
            "_view_module_version": "1.2.0",
            "_view_name": "StyleView",
            "description_width": ""
          }
        },
        "a6a142756e5e4e858d1932475298ba00": {
          "model_module": "@jupyter-widgets/controls",
          "model_name": "HBoxModel",
          "model_module_version": "1.5.0",
          "state": {
            "_dom_classes": [],
            "_model_module": "@jupyter-widgets/controls",
            "_model_module_version": "1.5.0",
            "_model_name": "HBoxModel",
            "_view_count": null,
            "_view_module": "@jupyter-widgets/controls",
            "_view_module_version": "1.5.0",
            "_view_name": "HBoxView",
            "box_style": "",
            "children": [
              "IPY_MODEL_340fe21ef7084096afd34dc25a2cc16b",
              "IPY_MODEL_4bfe191cfb9045828be1752401e32e2d",
              "IPY_MODEL_b83bbc03fc404565836f576ab6e17ac8"
            ],
            "layout": "IPY_MODEL_710505ade8524efebaa995426fe1d860"
          }
        },
        "340fe21ef7084096afd34dc25a2cc16b": {
          "model_module": "@jupyter-widgets/controls",
          "model_name": "HTMLModel",
          "model_module_version": "1.5.0",
          "state": {
            "_dom_classes": [],
            "_model_module": "@jupyter-widgets/controls",
            "_model_module_version": "1.5.0",
            "_model_name": "HTMLModel",
            "_view_count": null,
            "_view_module": "@jupyter-widgets/controls",
            "_view_module_version": "1.5.0",
            "_view_name": "HTMLView",
            "description": "",
            "description_tooltip": null,
            "layout": "IPY_MODEL_97fe7910394c454b8f46d2b56a1637d8",
            "placeholder": "​",
            "style": "IPY_MODEL_9f0466a589044af49479e05d8e96aab9",
            "value": "100%"
          }
        },
        "4bfe191cfb9045828be1752401e32e2d": {
          "model_module": "@jupyter-widgets/controls",
          "model_name": "FloatProgressModel",
          "model_module_version": "1.5.0",
          "state": {
            "_dom_classes": [],
            "_model_module": "@jupyter-widgets/controls",
            "_model_module_version": "1.5.0",
            "_model_name": "FloatProgressModel",
            "_view_count": null,
            "_view_module": "@jupyter-widgets/controls",
            "_view_module_version": "1.5.0",
            "_view_name": "ProgressView",
            "bar_style": "success",
            "description": "",
            "description_tooltip": null,
            "layout": "IPY_MODEL_71d15027d97f423e90f05cd24822b9a5",
            "max": 100,
            "min": 0,
            "orientation": "horizontal",
            "style": "IPY_MODEL_77050a1f1ecb4141a6c95a2c4e206f5e",
            "value": 100
          }
        },
        "b83bbc03fc404565836f576ab6e17ac8": {
          "model_module": "@jupyter-widgets/controls",
          "model_name": "HTMLModel",
          "model_module_version": "1.5.0",
          "state": {
            "_dom_classes": [],
            "_model_module": "@jupyter-widgets/controls",
            "_model_module_version": "1.5.0",
            "_model_name": "HTMLModel",
            "_view_count": null,
            "_view_module": "@jupyter-widgets/controls",
            "_view_module_version": "1.5.0",
            "_view_name": "HTMLView",
            "description": "",
            "description_tooltip": null,
            "layout": "IPY_MODEL_d629e542ed33473b9b05956dd845b51d",
            "placeholder": "​",
            "style": "IPY_MODEL_886b964d48eb43819f033c5f0a32b1d0",
            "value": " 100/100 [00:54&lt;00:00,  2.72it/s]"
          }
        },
        "710505ade8524efebaa995426fe1d860": {
          "model_module": "@jupyter-widgets/base",
          "model_name": "LayoutModel",
          "model_module_version": "1.2.0",
          "state": {
            "_model_module": "@jupyter-widgets/base",
            "_model_module_version": "1.2.0",
            "_model_name": "LayoutModel",
            "_view_count": null,
            "_view_module": "@jupyter-widgets/base",
            "_view_module_version": "1.2.0",
            "_view_name": "LayoutView",
            "align_content": null,
            "align_items": null,
            "align_self": null,
            "border": null,
            "bottom": null,
            "display": null,
            "flex": null,
            "flex_flow": null,
            "grid_area": null,
            "grid_auto_columns": null,
            "grid_auto_flow": null,
            "grid_auto_rows": null,
            "grid_column": null,
            "grid_gap": null,
            "grid_row": null,
            "grid_template_areas": null,
            "grid_template_columns": null,
            "grid_template_rows": null,
            "height": null,
            "justify_content": null,
            "justify_items": null,
            "left": null,
            "margin": null,
            "max_height": null,
            "max_width": null,
            "min_height": null,
            "min_width": null,
            "object_fit": null,
            "object_position": null,
            "order": null,
            "overflow": null,
            "overflow_x": null,
            "overflow_y": null,
            "padding": null,
            "right": null,
            "top": null,
            "visibility": null,
            "width": null
          }
        },
        "97fe7910394c454b8f46d2b56a1637d8": {
          "model_module": "@jupyter-widgets/base",
          "model_name": "LayoutModel",
          "model_module_version": "1.2.0",
          "state": {
            "_model_module": "@jupyter-widgets/base",
            "_model_module_version": "1.2.0",
            "_model_name": "LayoutModel",
            "_view_count": null,
            "_view_module": "@jupyter-widgets/base",
            "_view_module_version": "1.2.0",
            "_view_name": "LayoutView",
            "align_content": null,
            "align_items": null,
            "align_self": null,
            "border": null,
            "bottom": null,
            "display": null,
            "flex": null,
            "flex_flow": null,
            "grid_area": null,
            "grid_auto_columns": null,
            "grid_auto_flow": null,
            "grid_auto_rows": null,
            "grid_column": null,
            "grid_gap": null,
            "grid_row": null,
            "grid_template_areas": null,
            "grid_template_columns": null,
            "grid_template_rows": null,
            "height": null,
            "justify_content": null,
            "justify_items": null,
            "left": null,
            "margin": null,
            "max_height": null,
            "max_width": null,
            "min_height": null,
            "min_width": null,
            "object_fit": null,
            "object_position": null,
            "order": null,
            "overflow": null,
            "overflow_x": null,
            "overflow_y": null,
            "padding": null,
            "right": null,
            "top": null,
            "visibility": null,
            "width": null
          }
        },
        "9f0466a589044af49479e05d8e96aab9": {
          "model_module": "@jupyter-widgets/controls",
          "model_name": "DescriptionStyleModel",
          "model_module_version": "1.5.0",
          "state": {
            "_model_module": "@jupyter-widgets/controls",
            "_model_module_version": "1.5.0",
            "_model_name": "DescriptionStyleModel",
            "_view_count": null,
            "_view_module": "@jupyter-widgets/base",
            "_view_module_version": "1.2.0",
            "_view_name": "StyleView",
            "description_width": ""
          }
        },
        "71d15027d97f423e90f05cd24822b9a5": {
          "model_module": "@jupyter-widgets/base",
          "model_name": "LayoutModel",
          "model_module_version": "1.2.0",
          "state": {
            "_model_module": "@jupyter-widgets/base",
            "_model_module_version": "1.2.0",
            "_model_name": "LayoutModel",
            "_view_count": null,
            "_view_module": "@jupyter-widgets/base",
            "_view_module_version": "1.2.0",
            "_view_name": "LayoutView",
            "align_content": null,
            "align_items": null,
            "align_self": null,
            "border": null,
            "bottom": null,
            "display": null,
            "flex": null,
            "flex_flow": null,
            "grid_area": null,
            "grid_auto_columns": null,
            "grid_auto_flow": null,
            "grid_auto_rows": null,
            "grid_column": null,
            "grid_gap": null,
            "grid_row": null,
            "grid_template_areas": null,
            "grid_template_columns": null,
            "grid_template_rows": null,
            "height": null,
            "justify_content": null,
            "justify_items": null,
            "left": null,
            "margin": null,
            "max_height": null,
            "max_width": null,
            "min_height": null,
            "min_width": null,
            "object_fit": null,
            "object_position": null,
            "order": null,
            "overflow": null,
            "overflow_x": null,
            "overflow_y": null,
            "padding": null,
            "right": null,
            "top": null,
            "visibility": null,
            "width": null
          }
        },
        "77050a1f1ecb4141a6c95a2c4e206f5e": {
          "model_module": "@jupyter-widgets/controls",
          "model_name": "ProgressStyleModel",
          "model_module_version": "1.5.0",
          "state": {
            "_model_module": "@jupyter-widgets/controls",
            "_model_module_version": "1.5.0",
            "_model_name": "ProgressStyleModel",
            "_view_count": null,
            "_view_module": "@jupyter-widgets/base",
            "_view_module_version": "1.2.0",
            "_view_name": "StyleView",
            "bar_color": null,
            "description_width": ""
          }
        },
        "d629e542ed33473b9b05956dd845b51d": {
          "model_module": "@jupyter-widgets/base",
          "model_name": "LayoutModel",
          "model_module_version": "1.2.0",
          "state": {
            "_model_module": "@jupyter-widgets/base",
            "_model_module_version": "1.2.0",
            "_model_name": "LayoutModel",
            "_view_count": null,
            "_view_module": "@jupyter-widgets/base",
            "_view_module_version": "1.2.0",
            "_view_name": "LayoutView",
            "align_content": null,
            "align_items": null,
            "align_self": null,
            "border": null,
            "bottom": null,
            "display": null,
            "flex": null,
            "flex_flow": null,
            "grid_area": null,
            "grid_auto_columns": null,
            "grid_auto_flow": null,
            "grid_auto_rows": null,
            "grid_column": null,
            "grid_gap": null,
            "grid_row": null,
            "grid_template_areas": null,
            "grid_template_columns": null,
            "grid_template_rows": null,
            "height": null,
            "justify_content": null,
            "justify_items": null,
            "left": null,
            "margin": null,
            "max_height": null,
            "max_width": null,
            "min_height": null,
            "min_width": null,
            "object_fit": null,
            "object_position": null,
            "order": null,
            "overflow": null,
            "overflow_x": null,
            "overflow_y": null,
            "padding": null,
            "right": null,
            "top": null,
            "visibility": null,
            "width": null
          }
        },
        "886b964d48eb43819f033c5f0a32b1d0": {
          "model_module": "@jupyter-widgets/controls",
          "model_name": "DescriptionStyleModel",
          "model_module_version": "1.5.0",
          "state": {
            "_model_module": "@jupyter-widgets/controls",
            "_model_module_version": "1.5.0",
            "_model_name": "DescriptionStyleModel",
            "_view_count": null,
            "_view_module": "@jupyter-widgets/base",
            "_view_module_version": "1.2.0",
            "_view_name": "StyleView",
            "description_width": ""
          }
        },
        "2710a87451104935afd18e14383b7077": {
          "model_module": "@jupyter-widgets/controls",
          "model_name": "HBoxModel",
          "model_module_version": "1.5.0",
          "state": {
            "_dom_classes": [],
            "_model_module": "@jupyter-widgets/controls",
            "_model_module_version": "1.5.0",
            "_model_name": "HBoxModel",
            "_view_count": null,
            "_view_module": "@jupyter-widgets/controls",
            "_view_module_version": "1.5.0",
            "_view_name": "HBoxView",
            "box_style": "",
            "children": [
              "IPY_MODEL_d8b4e0f66c5346dbac11e8d851f20c2d",
              "IPY_MODEL_d25a100b4adf42e498d42a6639d1ae4d",
              "IPY_MODEL_14dce41e25f04601bf0f6319842b19aa"
            ],
            "layout": "IPY_MODEL_31482e0b25514a139bb29e5b258d6d70"
          }
        },
        "d8b4e0f66c5346dbac11e8d851f20c2d": {
          "model_module": "@jupyter-widgets/controls",
          "model_name": "HTMLModel",
          "model_module_version": "1.5.0",
          "state": {
            "_dom_classes": [],
            "_model_module": "@jupyter-widgets/controls",
            "_model_module_version": "1.5.0",
            "_model_name": "HTMLModel",
            "_view_count": null,
            "_view_module": "@jupyter-widgets/controls",
            "_view_module_version": "1.5.0",
            "_view_name": "HTMLView",
            "description": "",
            "description_tooltip": null,
            "layout": "IPY_MODEL_77ce02a728b24a6bbc4d51a01d6fba4d",
            "placeholder": "​",
            "style": "IPY_MODEL_8384fdd2b43045e7a10df45ea88a99d4",
            "value": "100%"
          }
        },
        "d25a100b4adf42e498d42a6639d1ae4d": {
          "model_module": "@jupyter-widgets/controls",
          "model_name": "FloatProgressModel",
          "model_module_version": "1.5.0",
          "state": {
            "_dom_classes": [],
            "_model_module": "@jupyter-widgets/controls",
            "_model_module_version": "1.5.0",
            "_model_name": "FloatProgressModel",
            "_view_count": null,
            "_view_module": "@jupyter-widgets/controls",
            "_view_module_version": "1.5.0",
            "_view_name": "ProgressView",
            "bar_style": "success",
            "description": "",
            "description_tooltip": null,
            "layout": "IPY_MODEL_24eceb073f2240b3b1c85bdc97188bc6",
            "max": 100,
            "min": 0,
            "orientation": "horizontal",
            "style": "IPY_MODEL_5322780232bc4308b48596b09cc65d39",
            "value": 100
          }
        },
        "14dce41e25f04601bf0f6319842b19aa": {
          "model_module": "@jupyter-widgets/controls",
          "model_name": "HTMLModel",
          "model_module_version": "1.5.0",
          "state": {
            "_dom_classes": [],
            "_model_module": "@jupyter-widgets/controls",
            "_model_module_version": "1.5.0",
            "_model_name": "HTMLModel",
            "_view_count": null,
            "_view_module": "@jupyter-widgets/controls",
            "_view_module_version": "1.5.0",
            "_view_name": "HTMLView",
            "description": "",
            "description_tooltip": null,
            "layout": "IPY_MODEL_f5137069734e4418852ab895e5575565",
            "placeholder": "​",
            "style": "IPY_MODEL_a87c36de4cdb4c1c8a3a7f90e8b9014a",
            "value": " 100/100 [00:56&lt;00:00,  2.43it/s]"
          }
        },
        "31482e0b25514a139bb29e5b258d6d70": {
          "model_module": "@jupyter-widgets/base",
          "model_name": "LayoutModel",
          "model_module_version": "1.2.0",
          "state": {
            "_model_module": "@jupyter-widgets/base",
            "_model_module_version": "1.2.0",
            "_model_name": "LayoutModel",
            "_view_count": null,
            "_view_module": "@jupyter-widgets/base",
            "_view_module_version": "1.2.0",
            "_view_name": "LayoutView",
            "align_content": null,
            "align_items": null,
            "align_self": null,
            "border": null,
            "bottom": null,
            "display": null,
            "flex": null,
            "flex_flow": null,
            "grid_area": null,
            "grid_auto_columns": null,
            "grid_auto_flow": null,
            "grid_auto_rows": null,
            "grid_column": null,
            "grid_gap": null,
            "grid_row": null,
            "grid_template_areas": null,
            "grid_template_columns": null,
            "grid_template_rows": null,
            "height": null,
            "justify_content": null,
            "justify_items": null,
            "left": null,
            "margin": null,
            "max_height": null,
            "max_width": null,
            "min_height": null,
            "min_width": null,
            "object_fit": null,
            "object_position": null,
            "order": null,
            "overflow": null,
            "overflow_x": null,
            "overflow_y": null,
            "padding": null,
            "right": null,
            "top": null,
            "visibility": null,
            "width": null
          }
        },
        "77ce02a728b24a6bbc4d51a01d6fba4d": {
          "model_module": "@jupyter-widgets/base",
          "model_name": "LayoutModel",
          "model_module_version": "1.2.0",
          "state": {
            "_model_module": "@jupyter-widgets/base",
            "_model_module_version": "1.2.0",
            "_model_name": "LayoutModel",
            "_view_count": null,
            "_view_module": "@jupyter-widgets/base",
            "_view_module_version": "1.2.0",
            "_view_name": "LayoutView",
            "align_content": null,
            "align_items": null,
            "align_self": null,
            "border": null,
            "bottom": null,
            "display": null,
            "flex": null,
            "flex_flow": null,
            "grid_area": null,
            "grid_auto_columns": null,
            "grid_auto_flow": null,
            "grid_auto_rows": null,
            "grid_column": null,
            "grid_gap": null,
            "grid_row": null,
            "grid_template_areas": null,
            "grid_template_columns": null,
            "grid_template_rows": null,
            "height": null,
            "justify_content": null,
            "justify_items": null,
            "left": null,
            "margin": null,
            "max_height": null,
            "max_width": null,
            "min_height": null,
            "min_width": null,
            "object_fit": null,
            "object_position": null,
            "order": null,
            "overflow": null,
            "overflow_x": null,
            "overflow_y": null,
            "padding": null,
            "right": null,
            "top": null,
            "visibility": null,
            "width": null
          }
        },
        "8384fdd2b43045e7a10df45ea88a99d4": {
          "model_module": "@jupyter-widgets/controls",
          "model_name": "DescriptionStyleModel",
          "model_module_version": "1.5.0",
          "state": {
            "_model_module": "@jupyter-widgets/controls",
            "_model_module_version": "1.5.0",
            "_model_name": "DescriptionStyleModel",
            "_view_count": null,
            "_view_module": "@jupyter-widgets/base",
            "_view_module_version": "1.2.0",
            "_view_name": "StyleView",
            "description_width": ""
          }
        },
        "24eceb073f2240b3b1c85bdc97188bc6": {
          "model_module": "@jupyter-widgets/base",
          "model_name": "LayoutModel",
          "model_module_version": "1.2.0",
          "state": {
            "_model_module": "@jupyter-widgets/base",
            "_model_module_version": "1.2.0",
            "_model_name": "LayoutModel",
            "_view_count": null,
            "_view_module": "@jupyter-widgets/base",
            "_view_module_version": "1.2.0",
            "_view_name": "LayoutView",
            "align_content": null,
            "align_items": null,
            "align_self": null,
            "border": null,
            "bottom": null,
            "display": null,
            "flex": null,
            "flex_flow": null,
            "grid_area": null,
            "grid_auto_columns": null,
            "grid_auto_flow": null,
            "grid_auto_rows": null,
            "grid_column": null,
            "grid_gap": null,
            "grid_row": null,
            "grid_template_areas": null,
            "grid_template_columns": null,
            "grid_template_rows": null,
            "height": null,
            "justify_content": null,
            "justify_items": null,
            "left": null,
            "margin": null,
            "max_height": null,
            "max_width": null,
            "min_height": null,
            "min_width": null,
            "object_fit": null,
            "object_position": null,
            "order": null,
            "overflow": null,
            "overflow_x": null,
            "overflow_y": null,
            "padding": null,
            "right": null,
            "top": null,
            "visibility": null,
            "width": null
          }
        },
        "5322780232bc4308b48596b09cc65d39": {
          "model_module": "@jupyter-widgets/controls",
          "model_name": "ProgressStyleModel",
          "model_module_version": "1.5.0",
          "state": {
            "_model_module": "@jupyter-widgets/controls",
            "_model_module_version": "1.5.0",
            "_model_name": "ProgressStyleModel",
            "_view_count": null,
            "_view_module": "@jupyter-widgets/base",
            "_view_module_version": "1.2.0",
            "_view_name": "StyleView",
            "bar_color": null,
            "description_width": ""
          }
        },
        "f5137069734e4418852ab895e5575565": {
          "model_module": "@jupyter-widgets/base",
          "model_name": "LayoutModel",
          "model_module_version": "1.2.0",
          "state": {
            "_model_module": "@jupyter-widgets/base",
            "_model_module_version": "1.2.0",
            "_model_name": "LayoutModel",
            "_view_count": null,
            "_view_module": "@jupyter-widgets/base",
            "_view_module_version": "1.2.0",
            "_view_name": "LayoutView",
            "align_content": null,
            "align_items": null,
            "align_self": null,
            "border": null,
            "bottom": null,
            "display": null,
            "flex": null,
            "flex_flow": null,
            "grid_area": null,
            "grid_auto_columns": null,
            "grid_auto_flow": null,
            "grid_auto_rows": null,
            "grid_column": null,
            "grid_gap": null,
            "grid_row": null,
            "grid_template_areas": null,
            "grid_template_columns": null,
            "grid_template_rows": null,
            "height": null,
            "justify_content": null,
            "justify_items": null,
            "left": null,
            "margin": null,
            "max_height": null,
            "max_width": null,
            "min_height": null,
            "min_width": null,
            "object_fit": null,
            "object_position": null,
            "order": null,
            "overflow": null,
            "overflow_x": null,
            "overflow_y": null,
            "padding": null,
            "right": null,
            "top": null,
            "visibility": null,
            "width": null
          }
        },
        "a87c36de4cdb4c1c8a3a7f90e8b9014a": {
          "model_module": "@jupyter-widgets/controls",
          "model_name": "DescriptionStyleModel",
          "model_module_version": "1.5.0",
          "state": {
            "_model_module": "@jupyter-widgets/controls",
            "_model_module_version": "1.5.0",
            "_model_name": "DescriptionStyleModel",
            "_view_count": null,
            "_view_module": "@jupyter-widgets/base",
            "_view_module_version": "1.2.0",
            "_view_name": "StyleView",
            "description_width": ""
          }
        },
        "3c68c3a0d217485987aea901eb494e55": {
          "model_module": "@jupyter-widgets/controls",
          "model_name": "HBoxModel",
          "model_module_version": "1.5.0",
          "state": {
            "_dom_classes": [],
            "_model_module": "@jupyter-widgets/controls",
            "_model_module_version": "1.5.0",
            "_model_name": "HBoxModel",
            "_view_count": null,
            "_view_module": "@jupyter-widgets/controls",
            "_view_module_version": "1.5.0",
            "_view_name": "HBoxView",
            "box_style": "",
            "children": [
              "IPY_MODEL_b90cc3fce5df45e4948fa5ca35867705",
              "IPY_MODEL_594517054f56498185e1423afbf4529e",
              "IPY_MODEL_586b6c7b500e446790b6020ebde3af5a"
            ],
            "layout": "IPY_MODEL_5530139d150c4cebabe4f9fedf88f1e4"
          }
        },
        "b90cc3fce5df45e4948fa5ca35867705": {
          "model_module": "@jupyter-widgets/controls",
          "model_name": "HTMLModel",
          "model_module_version": "1.5.0",
          "state": {
            "_dom_classes": [],
            "_model_module": "@jupyter-widgets/controls",
            "_model_module_version": "1.5.0",
            "_model_name": "HTMLModel",
            "_view_count": null,
            "_view_module": "@jupyter-widgets/controls",
            "_view_module_version": "1.5.0",
            "_view_name": "HTMLView",
            "description": "",
            "description_tooltip": null,
            "layout": "IPY_MODEL_1c2bbcde15c74d0f83736e8a61dcd8b9",
            "placeholder": "​",
            "style": "IPY_MODEL_a6c48baf2cf9418c8d6629e54a7161dd",
            "value": "100%"
          }
        },
        "594517054f56498185e1423afbf4529e": {
          "model_module": "@jupyter-widgets/controls",
          "model_name": "FloatProgressModel",
          "model_module_version": "1.5.0",
          "state": {
            "_dom_classes": [],
            "_model_module": "@jupyter-widgets/controls",
            "_model_module_version": "1.5.0",
            "_model_name": "FloatProgressModel",
            "_view_count": null,
            "_view_module": "@jupyter-widgets/controls",
            "_view_module_version": "1.5.0",
            "_view_name": "ProgressView",
            "bar_style": "success",
            "description": "",
            "description_tooltip": null,
            "layout": "IPY_MODEL_0279b440f74a41c6add5536dfa2e1cb0",
            "max": 100,
            "min": 0,
            "orientation": "horizontal",
            "style": "IPY_MODEL_641e667551564565b7e21fb45d84667f",
            "value": 100
          }
        },
        "586b6c7b500e446790b6020ebde3af5a": {
          "model_module": "@jupyter-widgets/controls",
          "model_name": "HTMLModel",
          "model_module_version": "1.5.0",
          "state": {
            "_dom_classes": [],
            "_model_module": "@jupyter-widgets/controls",
            "_model_module_version": "1.5.0",
            "_model_name": "HTMLModel",
            "_view_count": null,
            "_view_module": "@jupyter-widgets/controls",
            "_view_module_version": "1.5.0",
            "_view_name": "HTMLView",
            "description": "",
            "description_tooltip": null,
            "layout": "IPY_MODEL_f1f8fe37aee34f5da03e59d5ad733734",
            "placeholder": "​",
            "style": "IPY_MODEL_12449d949ac64a52ad78ed4d76d87d49",
            "value": " 100/100 [00:55&lt;00:00,  2.42it/s]"
          }
        },
        "5530139d150c4cebabe4f9fedf88f1e4": {
          "model_module": "@jupyter-widgets/base",
          "model_name": "LayoutModel",
          "model_module_version": "1.2.0",
          "state": {
            "_model_module": "@jupyter-widgets/base",
            "_model_module_version": "1.2.0",
            "_model_name": "LayoutModel",
            "_view_count": null,
            "_view_module": "@jupyter-widgets/base",
            "_view_module_version": "1.2.0",
            "_view_name": "LayoutView",
            "align_content": null,
            "align_items": null,
            "align_self": null,
            "border": null,
            "bottom": null,
            "display": null,
            "flex": null,
            "flex_flow": null,
            "grid_area": null,
            "grid_auto_columns": null,
            "grid_auto_flow": null,
            "grid_auto_rows": null,
            "grid_column": null,
            "grid_gap": null,
            "grid_row": null,
            "grid_template_areas": null,
            "grid_template_columns": null,
            "grid_template_rows": null,
            "height": null,
            "justify_content": null,
            "justify_items": null,
            "left": null,
            "margin": null,
            "max_height": null,
            "max_width": null,
            "min_height": null,
            "min_width": null,
            "object_fit": null,
            "object_position": null,
            "order": null,
            "overflow": null,
            "overflow_x": null,
            "overflow_y": null,
            "padding": null,
            "right": null,
            "top": null,
            "visibility": null,
            "width": null
          }
        },
        "1c2bbcde15c74d0f83736e8a61dcd8b9": {
          "model_module": "@jupyter-widgets/base",
          "model_name": "LayoutModel",
          "model_module_version": "1.2.0",
          "state": {
            "_model_module": "@jupyter-widgets/base",
            "_model_module_version": "1.2.0",
            "_model_name": "LayoutModel",
            "_view_count": null,
            "_view_module": "@jupyter-widgets/base",
            "_view_module_version": "1.2.0",
            "_view_name": "LayoutView",
            "align_content": null,
            "align_items": null,
            "align_self": null,
            "border": null,
            "bottom": null,
            "display": null,
            "flex": null,
            "flex_flow": null,
            "grid_area": null,
            "grid_auto_columns": null,
            "grid_auto_flow": null,
            "grid_auto_rows": null,
            "grid_column": null,
            "grid_gap": null,
            "grid_row": null,
            "grid_template_areas": null,
            "grid_template_columns": null,
            "grid_template_rows": null,
            "height": null,
            "justify_content": null,
            "justify_items": null,
            "left": null,
            "margin": null,
            "max_height": null,
            "max_width": null,
            "min_height": null,
            "min_width": null,
            "object_fit": null,
            "object_position": null,
            "order": null,
            "overflow": null,
            "overflow_x": null,
            "overflow_y": null,
            "padding": null,
            "right": null,
            "top": null,
            "visibility": null,
            "width": null
          }
        },
        "a6c48baf2cf9418c8d6629e54a7161dd": {
          "model_module": "@jupyter-widgets/controls",
          "model_name": "DescriptionStyleModel",
          "model_module_version": "1.5.0",
          "state": {
            "_model_module": "@jupyter-widgets/controls",
            "_model_module_version": "1.5.0",
            "_model_name": "DescriptionStyleModel",
            "_view_count": null,
            "_view_module": "@jupyter-widgets/base",
            "_view_module_version": "1.2.0",
            "_view_name": "StyleView",
            "description_width": ""
          }
        },
        "0279b440f74a41c6add5536dfa2e1cb0": {
          "model_module": "@jupyter-widgets/base",
          "model_name": "LayoutModel",
          "model_module_version": "1.2.0",
          "state": {
            "_model_module": "@jupyter-widgets/base",
            "_model_module_version": "1.2.0",
            "_model_name": "LayoutModel",
            "_view_count": null,
            "_view_module": "@jupyter-widgets/base",
            "_view_module_version": "1.2.0",
            "_view_name": "LayoutView",
            "align_content": null,
            "align_items": null,
            "align_self": null,
            "border": null,
            "bottom": null,
            "display": null,
            "flex": null,
            "flex_flow": null,
            "grid_area": null,
            "grid_auto_columns": null,
            "grid_auto_flow": null,
            "grid_auto_rows": null,
            "grid_column": null,
            "grid_gap": null,
            "grid_row": null,
            "grid_template_areas": null,
            "grid_template_columns": null,
            "grid_template_rows": null,
            "height": null,
            "justify_content": null,
            "justify_items": null,
            "left": null,
            "margin": null,
            "max_height": null,
            "max_width": null,
            "min_height": null,
            "min_width": null,
            "object_fit": null,
            "object_position": null,
            "order": null,
            "overflow": null,
            "overflow_x": null,
            "overflow_y": null,
            "padding": null,
            "right": null,
            "top": null,
            "visibility": null,
            "width": null
          }
        },
        "641e667551564565b7e21fb45d84667f": {
          "model_module": "@jupyter-widgets/controls",
          "model_name": "ProgressStyleModel",
          "model_module_version": "1.5.0",
          "state": {
            "_model_module": "@jupyter-widgets/controls",
            "_model_module_version": "1.5.0",
            "_model_name": "ProgressStyleModel",
            "_view_count": null,
            "_view_module": "@jupyter-widgets/base",
            "_view_module_version": "1.2.0",
            "_view_name": "StyleView",
            "bar_color": null,
            "description_width": ""
          }
        },
        "f1f8fe37aee34f5da03e59d5ad733734": {
          "model_module": "@jupyter-widgets/base",
          "model_name": "LayoutModel",
          "model_module_version": "1.2.0",
          "state": {
            "_model_module": "@jupyter-widgets/base",
            "_model_module_version": "1.2.0",
            "_model_name": "LayoutModel",
            "_view_count": null,
            "_view_module": "@jupyter-widgets/base",
            "_view_module_version": "1.2.0",
            "_view_name": "LayoutView",
            "align_content": null,
            "align_items": null,
            "align_self": null,
            "border": null,
            "bottom": null,
            "display": null,
            "flex": null,
            "flex_flow": null,
            "grid_area": null,
            "grid_auto_columns": null,
            "grid_auto_flow": null,
            "grid_auto_rows": null,
            "grid_column": null,
            "grid_gap": null,
            "grid_row": null,
            "grid_template_areas": null,
            "grid_template_columns": null,
            "grid_template_rows": null,
            "height": null,
            "justify_content": null,
            "justify_items": null,
            "left": null,
            "margin": null,
            "max_height": null,
            "max_width": null,
            "min_height": null,
            "min_width": null,
            "object_fit": null,
            "object_position": null,
            "order": null,
            "overflow": null,
            "overflow_x": null,
            "overflow_y": null,
            "padding": null,
            "right": null,
            "top": null,
            "visibility": null,
            "width": null
          }
        },
        "12449d949ac64a52ad78ed4d76d87d49": {
          "model_module": "@jupyter-widgets/controls",
          "model_name": "DescriptionStyleModel",
          "model_module_version": "1.5.0",
          "state": {
            "_model_module": "@jupyter-widgets/controls",
            "_model_module_version": "1.5.0",
            "_model_name": "DescriptionStyleModel",
            "_view_count": null,
            "_view_module": "@jupyter-widgets/base",
            "_view_module_version": "1.2.0",
            "_view_name": "StyleView",
            "description_width": ""
          }
        },
        "54baa14cfcc448acb4da724c04e367a1": {
          "model_module": "@jupyter-widgets/controls",
          "model_name": "HBoxModel",
          "model_module_version": "1.5.0",
          "state": {
            "_dom_classes": [],
            "_model_module": "@jupyter-widgets/controls",
            "_model_module_version": "1.5.0",
            "_model_name": "HBoxModel",
            "_view_count": null,
            "_view_module": "@jupyter-widgets/controls",
            "_view_module_version": "1.5.0",
            "_view_name": "HBoxView",
            "box_style": "",
            "children": [
              "IPY_MODEL_5f82d06dc79844db9170fdb088011338",
              "IPY_MODEL_8072e22b551e40a68721d6ad1facaf43",
              "IPY_MODEL_063bd19245a54572b629b605887e4668"
            ],
            "layout": "IPY_MODEL_c14c1a283c284001899e84277f5e9d51"
          }
        },
        "5f82d06dc79844db9170fdb088011338": {
          "model_module": "@jupyter-widgets/controls",
          "model_name": "HTMLModel",
          "model_module_version": "1.5.0",
          "state": {
            "_dom_classes": [],
            "_model_module": "@jupyter-widgets/controls",
            "_model_module_version": "1.5.0",
            "_model_name": "HTMLModel",
            "_view_count": null,
            "_view_module": "@jupyter-widgets/controls",
            "_view_module_version": "1.5.0",
            "_view_name": "HTMLView",
            "description": "",
            "description_tooltip": null,
            "layout": "IPY_MODEL_ca74b92b01fa4ca7b3afedf452d33e8d",
            "placeholder": "​",
            "style": "IPY_MODEL_1d04f08004ce482591f6684f05f34535",
            "value": "100%"
          }
        },
        "8072e22b551e40a68721d6ad1facaf43": {
          "model_module": "@jupyter-widgets/controls",
          "model_name": "FloatProgressModel",
          "model_module_version": "1.5.0",
          "state": {
            "_dom_classes": [],
            "_model_module": "@jupyter-widgets/controls",
            "_model_module_version": "1.5.0",
            "_model_name": "FloatProgressModel",
            "_view_count": null,
            "_view_module": "@jupyter-widgets/controls",
            "_view_module_version": "1.5.0",
            "_view_name": "ProgressView",
            "bar_style": "success",
            "description": "",
            "description_tooltip": null,
            "layout": "IPY_MODEL_b6321f800cda4e649cb544a695e7761c",
            "max": 100,
            "min": 0,
            "orientation": "horizontal",
            "style": "IPY_MODEL_0c134391c16e46e6a590b785889ab58e",
            "value": 100
          }
        },
        "063bd19245a54572b629b605887e4668": {
          "model_module": "@jupyter-widgets/controls",
          "model_name": "HTMLModel",
          "model_module_version": "1.5.0",
          "state": {
            "_dom_classes": [],
            "_model_module": "@jupyter-widgets/controls",
            "_model_module_version": "1.5.0",
            "_model_name": "HTMLModel",
            "_view_count": null,
            "_view_module": "@jupyter-widgets/controls",
            "_view_module_version": "1.5.0",
            "_view_name": "HTMLView",
            "description": "",
            "description_tooltip": null,
            "layout": "IPY_MODEL_8288efd09a6744508e117d8d521c83f2",
            "placeholder": "​",
            "style": "IPY_MODEL_eed5f31e085c43b8a75f7f67ec6ee3a7",
            "value": " 100/100 [03:14&lt;00:00,  1.43s/it]"
          }
        },
        "c14c1a283c284001899e84277f5e9d51": {
          "model_module": "@jupyter-widgets/base",
          "model_name": "LayoutModel",
          "model_module_version": "1.2.0",
          "state": {
            "_model_module": "@jupyter-widgets/base",
            "_model_module_version": "1.2.0",
            "_model_name": "LayoutModel",
            "_view_count": null,
            "_view_module": "@jupyter-widgets/base",
            "_view_module_version": "1.2.0",
            "_view_name": "LayoutView",
            "align_content": null,
            "align_items": null,
            "align_self": null,
            "border": null,
            "bottom": null,
            "display": null,
            "flex": null,
            "flex_flow": null,
            "grid_area": null,
            "grid_auto_columns": null,
            "grid_auto_flow": null,
            "grid_auto_rows": null,
            "grid_column": null,
            "grid_gap": null,
            "grid_row": null,
            "grid_template_areas": null,
            "grid_template_columns": null,
            "grid_template_rows": null,
            "height": null,
            "justify_content": null,
            "justify_items": null,
            "left": null,
            "margin": null,
            "max_height": null,
            "max_width": null,
            "min_height": null,
            "min_width": null,
            "object_fit": null,
            "object_position": null,
            "order": null,
            "overflow": null,
            "overflow_x": null,
            "overflow_y": null,
            "padding": null,
            "right": null,
            "top": null,
            "visibility": null,
            "width": null
          }
        },
        "ca74b92b01fa4ca7b3afedf452d33e8d": {
          "model_module": "@jupyter-widgets/base",
          "model_name": "LayoutModel",
          "model_module_version": "1.2.0",
          "state": {
            "_model_module": "@jupyter-widgets/base",
            "_model_module_version": "1.2.0",
            "_model_name": "LayoutModel",
            "_view_count": null,
            "_view_module": "@jupyter-widgets/base",
            "_view_module_version": "1.2.0",
            "_view_name": "LayoutView",
            "align_content": null,
            "align_items": null,
            "align_self": null,
            "border": null,
            "bottom": null,
            "display": null,
            "flex": null,
            "flex_flow": null,
            "grid_area": null,
            "grid_auto_columns": null,
            "grid_auto_flow": null,
            "grid_auto_rows": null,
            "grid_column": null,
            "grid_gap": null,
            "grid_row": null,
            "grid_template_areas": null,
            "grid_template_columns": null,
            "grid_template_rows": null,
            "height": null,
            "justify_content": null,
            "justify_items": null,
            "left": null,
            "margin": null,
            "max_height": null,
            "max_width": null,
            "min_height": null,
            "min_width": null,
            "object_fit": null,
            "object_position": null,
            "order": null,
            "overflow": null,
            "overflow_x": null,
            "overflow_y": null,
            "padding": null,
            "right": null,
            "top": null,
            "visibility": null,
            "width": null
          }
        },
        "1d04f08004ce482591f6684f05f34535": {
          "model_module": "@jupyter-widgets/controls",
          "model_name": "DescriptionStyleModel",
          "model_module_version": "1.5.0",
          "state": {
            "_model_module": "@jupyter-widgets/controls",
            "_model_module_version": "1.5.0",
            "_model_name": "DescriptionStyleModel",
            "_view_count": null,
            "_view_module": "@jupyter-widgets/base",
            "_view_module_version": "1.2.0",
            "_view_name": "StyleView",
            "description_width": ""
          }
        },
        "b6321f800cda4e649cb544a695e7761c": {
          "model_module": "@jupyter-widgets/base",
          "model_name": "LayoutModel",
          "model_module_version": "1.2.0",
          "state": {
            "_model_module": "@jupyter-widgets/base",
            "_model_module_version": "1.2.0",
            "_model_name": "LayoutModel",
            "_view_count": null,
            "_view_module": "@jupyter-widgets/base",
            "_view_module_version": "1.2.0",
            "_view_name": "LayoutView",
            "align_content": null,
            "align_items": null,
            "align_self": null,
            "border": null,
            "bottom": null,
            "display": null,
            "flex": null,
            "flex_flow": null,
            "grid_area": null,
            "grid_auto_columns": null,
            "grid_auto_flow": null,
            "grid_auto_rows": null,
            "grid_column": null,
            "grid_gap": null,
            "grid_row": null,
            "grid_template_areas": null,
            "grid_template_columns": null,
            "grid_template_rows": null,
            "height": null,
            "justify_content": null,
            "justify_items": null,
            "left": null,
            "margin": null,
            "max_height": null,
            "max_width": null,
            "min_height": null,
            "min_width": null,
            "object_fit": null,
            "object_position": null,
            "order": null,
            "overflow": null,
            "overflow_x": null,
            "overflow_y": null,
            "padding": null,
            "right": null,
            "top": null,
            "visibility": null,
            "width": null
          }
        },
        "0c134391c16e46e6a590b785889ab58e": {
          "model_module": "@jupyter-widgets/controls",
          "model_name": "ProgressStyleModel",
          "model_module_version": "1.5.0",
          "state": {
            "_model_module": "@jupyter-widgets/controls",
            "_model_module_version": "1.5.0",
            "_model_name": "ProgressStyleModel",
            "_view_count": null,
            "_view_module": "@jupyter-widgets/base",
            "_view_module_version": "1.2.0",
            "_view_name": "StyleView",
            "bar_color": null,
            "description_width": ""
          }
        },
        "8288efd09a6744508e117d8d521c83f2": {
          "model_module": "@jupyter-widgets/base",
          "model_name": "LayoutModel",
          "model_module_version": "1.2.0",
          "state": {
            "_model_module": "@jupyter-widgets/base",
            "_model_module_version": "1.2.0",
            "_model_name": "LayoutModel",
            "_view_count": null,
            "_view_module": "@jupyter-widgets/base",
            "_view_module_version": "1.2.0",
            "_view_name": "LayoutView",
            "align_content": null,
            "align_items": null,
            "align_self": null,
            "border": null,
            "bottom": null,
            "display": null,
            "flex": null,
            "flex_flow": null,
            "grid_area": null,
            "grid_auto_columns": null,
            "grid_auto_flow": null,
            "grid_auto_rows": null,
            "grid_column": null,
            "grid_gap": null,
            "grid_row": null,
            "grid_template_areas": null,
            "grid_template_columns": null,
            "grid_template_rows": null,
            "height": null,
            "justify_content": null,
            "justify_items": null,
            "left": null,
            "margin": null,
            "max_height": null,
            "max_width": null,
            "min_height": null,
            "min_width": null,
            "object_fit": null,
            "object_position": null,
            "order": null,
            "overflow": null,
            "overflow_x": null,
            "overflow_y": null,
            "padding": null,
            "right": null,
            "top": null,
            "visibility": null,
            "width": null
          }
        },
        "eed5f31e085c43b8a75f7f67ec6ee3a7": {
          "model_module": "@jupyter-widgets/controls",
          "model_name": "DescriptionStyleModel",
          "model_module_version": "1.5.0",
          "state": {
            "_model_module": "@jupyter-widgets/controls",
            "_model_module_version": "1.5.0",
            "_model_name": "DescriptionStyleModel",
            "_view_count": null,
            "_view_module": "@jupyter-widgets/base",
            "_view_module_version": "1.2.0",
            "_view_name": "StyleView",
            "description_width": ""
          }
        }
      }
    }
  },
  "nbformat": 4,
  "nbformat_minor": 0
}