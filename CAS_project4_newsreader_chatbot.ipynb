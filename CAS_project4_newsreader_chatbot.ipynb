{
  "cells": [
    {
      "cell_type": "markdown",
      "metadata": {
        "id": "view-in-github",
        "colab_type": "text"
      },
      "source": [
        "<a href=\"https://colab.research.google.com/github/sramponi86/CAS_AIS_Text_Summarization/blob/main/CAS_project4_newsreader_chatbot.ipynb\" target=\"_parent\"><img src=\"https://colab.research.google.com/assets/colab-badge.svg\" alt=\"Open In Colab\"/></a>"
      ]
    },
    {
      "cell_type": "markdown",
      "metadata": {
        "id": "BQdr5vdLyDEP"
      },
      "source": [
        "# The *Newsreader Chatbot*: news retrieval, summarization and question answering\n",
        "\n",
        "In this project, you will build a simple chat-based interface for news consumption, the *Newsreader Chatbot*. This chatbot will feature three modules under the hood:\n",
        "1. a news retrieval system (the corresponding task is generally referred to as **document retrieval**),\n",
        "2. an automatic summarizer (this task is called **summarization** or **summary generation**),\n",
        "3. a question-answering system (the task is simply referred to as **question answering** or, in short, **QA**).\n",
        "\n",
        "In the end, you (the user) will be able to query the *Newsreader Chatbot* with a short sentence indicating the topic you would like to read about. The chatbot will retrieve the most relevant news stories and it will summarise them. You will then be able to select one of the stories and ask questions about it.\n",
        "\n",
        "The main techniques this project will cover are:\n",
        "- *Semantic search*, an approach to information retrieval that relies on text embeddings. You will implement two methods, one based on sentence embeddings and the other based on document embeddings.\n",
        "- *Conditional text generation*, the task of generating a piece of text—for example, a summary or an open-ended answer—given another conditioning piece of text—such as a news story, optionally paired with a question. This task is more generally referred to as Natural Language Generation (NLG) and can serve many use cases, from translation and paraphrasing to storytelling and dialogue response generation. As NLG systems, you will use both general-purpose pre-trained language models and language models specifically fine-tuned on summarization or question answering. You will compare different models using standard NLG evaluation metrics.\n",
        "\n",
        "\n",
        "----\n",
        "Before getting started, let's change the Runtime type to `T4 GPU` (only if you are in Google Colab, using the dropdown menu on the top right). Let's also install and load the necessary libraries and define convenience functions."
      ]
    },
    {
      "cell_type": "code",
      "execution_count": null,
      "metadata": {
        "cellView": "form",
        "id": "Iyev5KxAr3t5",
        "outputId": "6d22d6d2-0fef-43e4-bc69-180628a05112",
        "colab": {
          "base_uri": "https://localhost:8080/"
        }
      },
      "outputs": [
        {
          "output_type": "stream",
          "name": "stdout",
          "text": [
            "Requirement already satisfied: transformers in /usr/local/lib/python3.10/dist-packages (4.38.2)\n",
            "Collecting transformers\n",
            "  Downloading transformers-4.39.3-py3-none-any.whl (8.8 MB)\n",
            "\u001b[2K     \u001b[90m━━━━━━━━━━━━━━━━━━━━━━━━━━━━━━━━━━━━━━━━\u001b[0m \u001b[32m8.8/8.8 MB\u001b[0m \u001b[31m11.6 MB/s\u001b[0m eta \u001b[36m0:00:00\u001b[0m\n",
            "\u001b[?25hCollecting datasets\n",
            "  Downloading datasets-2.18.0-py3-none-any.whl (510 kB)\n",
            "\u001b[2K     \u001b[90m━━━━━━━━━━━━━━━━━━━━━━━━━━━━━━━━━━━━━━━━\u001b[0m \u001b[32m510.5/510.5 kB\u001b[0m \u001b[31m16.8 MB/s\u001b[0m eta \u001b[36m0:00:00\u001b[0m\n",
            "\u001b[?25hRequirement already satisfied: sentencepiece in /usr/local/lib/python3.10/dist-packages (0.1.99)\n",
            "Collecting sentencepiece\n",
            "  Downloading sentencepiece-0.2.0-cp310-cp310-manylinux_2_17_x86_64.manylinux2014_x86_64.whl (1.3 MB)\n",
            "\u001b[2K     \u001b[90m━━━━━━━━━━━━━━━━━━━━━━━━━━━━━━━━━━━━━━━━\u001b[0m \u001b[32m1.3/1.3 MB\u001b[0m \u001b[31m15.3 MB/s\u001b[0m eta \u001b[36m0:00:00\u001b[0m\n",
            "\u001b[?25hCollecting accelerate\n",
            "  Downloading accelerate-0.29.2-py3-none-any.whl (297 kB)\n",
            "\u001b[2K     \u001b[90m━━━━━━━━━━━━━━━━━━━━━━━━━━━━━━━━━━━━━━━━\u001b[0m \u001b[32m297.4/297.4 kB\u001b[0m \u001b[31m23.2 MB/s\u001b[0m eta \u001b[36m0:00:00\u001b[0m\n",
            "\u001b[?25hCollecting evaluate\n",
            "  Downloading evaluate-0.4.1-py3-none-any.whl (84 kB)\n",
            "\u001b[2K     \u001b[90m━━━━━━━━━━━━━━━━━━━━━━━━━━━━━━━━━━━━━━━━\u001b[0m \u001b[32m84.1/84.1 kB\u001b[0m \u001b[31m7.4 MB/s\u001b[0m eta \u001b[36m0:00:00\u001b[0m\n",
            "\u001b[?25hCollecting rouge_score\n",
            "  Downloading rouge_score-0.1.2.tar.gz (17 kB)\n",
            "  Preparing metadata (setup.py) ... \u001b[?25l\u001b[?25hdone\n",
            "Collecting bert_score\n",
            "  Downloading bert_score-0.3.13-py3-none-any.whl (61 kB)\n",
            "\u001b[2K     \u001b[90m━━━━━━━━━━━━━━━━━━━━━━━━━━━━━━━━━━━━━━━━\u001b[0m \u001b[32m61.1/61.1 kB\u001b[0m \u001b[31m4.7 MB/s\u001b[0m eta \u001b[36m0:00:00\u001b[0m\n",
            "\u001b[?25hCollecting sentence-transformers\n",
            "  Downloading sentence_transformers-2.6.1-py3-none-any.whl (163 kB)\n",
            "\u001b[2K     \u001b[90m━━━━━━━━━━━━━━━━━━━━━━━━━━━━━━━━━━━━━━━━\u001b[0m \u001b[32m163.3/163.3 kB\u001b[0m \u001b[31m14.0 MB/s\u001b[0m eta \u001b[36m0:00:00\u001b[0m\n",
            "\u001b[?25hRequirement already satisfied: filelock in /usr/local/lib/python3.10/dist-packages (from transformers) (3.13.3)\n",
            "Requirement already satisfied: huggingface-hub<1.0,>=0.19.3 in /usr/local/lib/python3.10/dist-packages (from transformers) (0.20.3)\n",
            "Requirement already satisfied: numpy>=1.17 in /usr/local/lib/python3.10/dist-packages (from transformers) (1.25.2)\n",
            "Requirement already satisfied: packaging>=20.0 in /usr/local/lib/python3.10/dist-packages (from transformers) (24.0)\n",
            "Requirement already satisfied: pyyaml>=5.1 in /usr/local/lib/python3.10/dist-packages (from transformers) (6.0.1)\n",
            "Requirement already satisfied: regex!=2019.12.17 in /usr/local/lib/python3.10/dist-packages (from transformers) (2023.12.25)\n",
            "Requirement already satisfied: requests in /usr/local/lib/python3.10/dist-packages (from transformers) (2.31.0)\n",
            "Requirement already satisfied: tokenizers<0.19,>=0.14 in /usr/local/lib/python3.10/dist-packages (from transformers) (0.15.2)\n",
            "Requirement already satisfied: safetensors>=0.4.1 in /usr/local/lib/python3.10/dist-packages (from transformers) (0.4.2)\n",
            "Requirement already satisfied: tqdm>=4.27 in /usr/local/lib/python3.10/dist-packages (from transformers) (4.66.2)\n",
            "Requirement already satisfied: pyarrow>=12.0.0 in /usr/local/lib/python3.10/dist-packages (from datasets) (14.0.2)\n",
            "Requirement already satisfied: pyarrow-hotfix in /usr/local/lib/python3.10/dist-packages (from datasets) (0.6)\n",
            "Collecting dill<0.3.9,>=0.3.0 (from datasets)\n",
            "  Downloading dill-0.3.8-py3-none-any.whl (116 kB)\n",
            "\u001b[2K     \u001b[90m━━━━━━━━━━━━━━━━━━━━━━━━━━━━━━━━━━━━━━━━\u001b[0m \u001b[32m116.3/116.3 kB\u001b[0m \u001b[31m4.1 MB/s\u001b[0m eta \u001b[36m0:00:00\u001b[0m\n",
            "\u001b[?25hRequirement already satisfied: pandas in /usr/local/lib/python3.10/dist-packages (from datasets) (2.0.3)\n",
            "Collecting xxhash (from datasets)\n",
            "  Downloading xxhash-3.4.1-cp310-cp310-manylinux_2_17_x86_64.manylinux2014_x86_64.whl (194 kB)\n",
            "\u001b[2K     \u001b[90m━━━━━━━━━━━━━━━━━━━━━━━━━━━━━━━━━━━━━━━━\u001b[0m \u001b[32m194.1/194.1 kB\u001b[0m \u001b[31m4.9 MB/s\u001b[0m eta \u001b[36m0:00:00\u001b[0m\n",
            "\u001b[?25hCollecting multiprocess (from datasets)\n",
            "  Downloading multiprocess-0.70.16-py310-none-any.whl (134 kB)\n",
            "\u001b[2K     \u001b[90m━━━━━━━━━━━━━━━━━━━━━━━━━━━━━━━━━━━━━━━━\u001b[0m \u001b[32m134.8/134.8 kB\u001b[0m \u001b[31m8.3 MB/s\u001b[0m eta \u001b[36m0:00:00\u001b[0m\n",
            "\u001b[?25hRequirement already satisfied: fsspec[http]<=2024.2.0,>=2023.1.0 in /usr/local/lib/python3.10/dist-packages (from datasets) (2023.6.0)\n",
            "Requirement already satisfied: aiohttp in /usr/local/lib/python3.10/dist-packages (from datasets) (3.9.3)\n",
            "Requirement already satisfied: psutil in /usr/local/lib/python3.10/dist-packages (from accelerate) (5.9.5)\n",
            "Requirement already satisfied: torch>=1.10.0 in /usr/local/lib/python3.10/dist-packages (from accelerate) (2.2.1+cu121)\n",
            "Collecting responses<0.19 (from evaluate)\n",
            "  Downloading responses-0.18.0-py3-none-any.whl (38 kB)\n",
            "Requirement already satisfied: absl-py in /usr/local/lib/python3.10/dist-packages (from rouge_score) (1.4.0)\n",
            "Requirement already satisfied: nltk in /usr/local/lib/python3.10/dist-packages (from rouge_score) (3.8.1)\n",
            "Requirement already satisfied: six>=1.14.0 in /usr/local/lib/python3.10/dist-packages (from rouge_score) (1.16.0)\n",
            "Requirement already satisfied: matplotlib in /usr/local/lib/python3.10/dist-packages (from bert_score) (3.7.1)\n",
            "Requirement already satisfied: scikit-learn in /usr/local/lib/python3.10/dist-packages (from sentence-transformers) (1.2.2)\n",
            "Requirement already satisfied: scipy in /usr/local/lib/python3.10/dist-packages (from sentence-transformers) (1.11.4)\n",
            "Requirement already satisfied: Pillow in /usr/local/lib/python3.10/dist-packages (from sentence-transformers) (9.4.0)\n",
            "Requirement already satisfied: aiosignal>=1.1.2 in /usr/local/lib/python3.10/dist-packages (from aiohttp->datasets) (1.3.1)\n",
            "Requirement already satisfied: attrs>=17.3.0 in /usr/local/lib/python3.10/dist-packages (from aiohttp->datasets) (23.2.0)\n",
            "Requirement already satisfied: frozenlist>=1.1.1 in /usr/local/lib/python3.10/dist-packages (from aiohttp->datasets) (1.4.1)\n",
            "Requirement already satisfied: multidict<7.0,>=4.5 in /usr/local/lib/python3.10/dist-packages (from aiohttp->datasets) (6.0.5)\n",
            "Requirement already satisfied: yarl<2.0,>=1.0 in /usr/local/lib/python3.10/dist-packages (from aiohttp->datasets) (1.9.4)\n",
            "Requirement already satisfied: async-timeout<5.0,>=4.0 in /usr/local/lib/python3.10/dist-packages (from aiohttp->datasets) (4.0.3)\n",
            "Requirement already satisfied: typing-extensions>=3.7.4.3 in /usr/local/lib/python3.10/dist-packages (from huggingface-hub<1.0,>=0.19.3->transformers) (4.10.0)\n",
            "Requirement already satisfied: python-dateutil>=2.8.2 in /usr/local/lib/python3.10/dist-packages (from pandas->datasets) (2.8.2)\n",
            "Requirement already satisfied: pytz>=2020.1 in /usr/local/lib/python3.10/dist-packages (from pandas->datasets) (2023.4)\n",
            "Requirement already satisfied: tzdata>=2022.1 in /usr/local/lib/python3.10/dist-packages (from pandas->datasets) (2024.1)\n",
            "Requirement already satisfied: charset-normalizer<4,>=2 in /usr/local/lib/python3.10/dist-packages (from requests->transformers) (3.3.2)\n",
            "Requirement already satisfied: idna<4,>=2.5 in /usr/local/lib/python3.10/dist-packages (from requests->transformers) (3.6)\n",
            "Requirement already satisfied: urllib3<3,>=1.21.1 in /usr/local/lib/python3.10/dist-packages (from requests->transformers) (2.0.7)\n",
            "Requirement already satisfied: certifi>=2017.4.17 in /usr/local/lib/python3.10/dist-packages (from requests->transformers) (2024.2.2)\n",
            "Requirement already satisfied: sympy in /usr/local/lib/python3.10/dist-packages (from torch>=1.10.0->accelerate) (1.12)\n",
            "Requirement already satisfied: networkx in /usr/local/lib/python3.10/dist-packages (from torch>=1.10.0->accelerate) (3.2.1)\n",
            "Requirement already satisfied: jinja2 in /usr/local/lib/python3.10/dist-packages (from torch>=1.10.0->accelerate) (3.1.3)\n",
            "Collecting nvidia-cuda-nvrtc-cu12==12.1.105 (from torch>=1.10.0->accelerate)\n",
            "  Using cached nvidia_cuda_nvrtc_cu12-12.1.105-py3-none-manylinux1_x86_64.whl (23.7 MB)\n",
            "Collecting nvidia-cuda-runtime-cu12==12.1.105 (from torch>=1.10.0->accelerate)\n",
            "  Using cached nvidia_cuda_runtime_cu12-12.1.105-py3-none-manylinux1_x86_64.whl (823 kB)\n",
            "Collecting nvidia-cuda-cupti-cu12==12.1.105 (from torch>=1.10.0->accelerate)\n",
            "  Using cached nvidia_cuda_cupti_cu12-12.1.105-py3-none-manylinux1_x86_64.whl (14.1 MB)\n",
            "Collecting nvidia-cudnn-cu12==8.9.2.26 (from torch>=1.10.0->accelerate)\n",
            "  Using cached nvidia_cudnn_cu12-8.9.2.26-py3-none-manylinux1_x86_64.whl (731.7 MB)\n",
            "Collecting nvidia-cublas-cu12==12.1.3.1 (from torch>=1.10.0->accelerate)\n",
            "  Using cached nvidia_cublas_cu12-12.1.3.1-py3-none-manylinux1_x86_64.whl (410.6 MB)\n",
            "Collecting nvidia-cufft-cu12==11.0.2.54 (from torch>=1.10.0->accelerate)\n",
            "  Using cached nvidia_cufft_cu12-11.0.2.54-py3-none-manylinux1_x86_64.whl (121.6 MB)\n",
            "Collecting nvidia-curand-cu12==10.3.2.106 (from torch>=1.10.0->accelerate)\n",
            "  Using cached nvidia_curand_cu12-10.3.2.106-py3-none-manylinux1_x86_64.whl (56.5 MB)\n",
            "Collecting nvidia-cusolver-cu12==11.4.5.107 (from torch>=1.10.0->accelerate)\n",
            "  Using cached nvidia_cusolver_cu12-11.4.5.107-py3-none-manylinux1_x86_64.whl (124.2 MB)\n",
            "Collecting nvidia-cusparse-cu12==12.1.0.106 (from torch>=1.10.0->accelerate)\n",
            "  Using cached nvidia_cusparse_cu12-12.1.0.106-py3-none-manylinux1_x86_64.whl (196.0 MB)\n",
            "Collecting nvidia-nccl-cu12==2.19.3 (from torch>=1.10.0->accelerate)\n",
            "  Using cached nvidia_nccl_cu12-2.19.3-py3-none-manylinux1_x86_64.whl (166.0 MB)\n",
            "Collecting nvidia-nvtx-cu12==12.1.105 (from torch>=1.10.0->accelerate)\n",
            "  Using cached nvidia_nvtx_cu12-12.1.105-py3-none-manylinux1_x86_64.whl (99 kB)\n",
            "Requirement already satisfied: triton==2.2.0 in /usr/local/lib/python3.10/dist-packages (from torch>=1.10.0->accelerate) (2.2.0)\n",
            "Collecting nvidia-nvjitlink-cu12 (from nvidia-cusolver-cu12==11.4.5.107->torch>=1.10.0->accelerate)\n",
            "  Using cached nvidia_nvjitlink_cu12-12.4.127-py3-none-manylinux2014_x86_64.whl (21.1 MB)\n",
            "Requirement already satisfied: contourpy>=1.0.1 in /usr/local/lib/python3.10/dist-packages (from matplotlib->bert_score) (1.2.1)\n",
            "Requirement already satisfied: cycler>=0.10 in /usr/local/lib/python3.10/dist-packages (from matplotlib->bert_score) (0.12.1)\n",
            "Requirement already satisfied: fonttools>=4.22.0 in /usr/local/lib/python3.10/dist-packages (from matplotlib->bert_score) (4.50.0)\n",
            "Requirement already satisfied: kiwisolver>=1.0.1 in /usr/local/lib/python3.10/dist-packages (from matplotlib->bert_score) (1.4.5)\n",
            "Requirement already satisfied: pyparsing>=2.3.1 in /usr/local/lib/python3.10/dist-packages (from matplotlib->bert_score) (3.1.2)\n",
            "Requirement already satisfied: click in /usr/local/lib/python3.10/dist-packages (from nltk->rouge_score) (8.1.7)\n",
            "Requirement already satisfied: joblib in /usr/local/lib/python3.10/dist-packages (from nltk->rouge_score) (1.3.2)\n",
            "Requirement already satisfied: threadpoolctl>=2.0.0 in /usr/local/lib/python3.10/dist-packages (from scikit-learn->sentence-transformers) (3.4.0)\n",
            "Requirement already satisfied: MarkupSafe>=2.0 in /usr/local/lib/python3.10/dist-packages (from jinja2->torch>=1.10.0->accelerate) (2.1.5)\n",
            "Requirement already satisfied: mpmath>=0.19 in /usr/local/lib/python3.10/dist-packages (from sympy->torch>=1.10.0->accelerate) (1.3.0)\n",
            "Building wheels for collected packages: rouge_score\n",
            "  Building wheel for rouge_score (setup.py) ... \u001b[?25l\u001b[?25hdone\n",
            "  Created wheel for rouge_score: filename=rouge_score-0.1.2-py3-none-any.whl size=24933 sha256=4e31810a89058862b1e06997dcd7e2e7d2dcb69cdd9dd11a8f2f1e31f174a39d\n",
            "  Stored in directory: /root/.cache/pip/wheels/5f/dd/89/461065a73be61a532ff8599a28e9beef17985c9e9c31e541b4\n",
            "Successfully built rouge_score\n",
            "Installing collected packages: sentencepiece, xxhash, nvidia-nvtx-cu12, nvidia-nvjitlink-cu12, nvidia-nccl-cu12, nvidia-curand-cu12, nvidia-cufft-cu12, nvidia-cuda-runtime-cu12, nvidia-cuda-nvrtc-cu12, nvidia-cuda-cupti-cu12, nvidia-cublas-cu12, dill, rouge_score, responses, nvidia-cusparse-cu12, nvidia-cudnn-cu12, multiprocess, nvidia-cusolver-cu12, transformers, datasets, sentence-transformers, evaluate, bert_score, accelerate\n",
            "  Attempting uninstall: sentencepiece\n",
            "    Found existing installation: sentencepiece 0.1.99\n",
            "    Uninstalling sentencepiece-0.1.99:\n",
            "      Successfully uninstalled sentencepiece-0.1.99\n",
            "  Attempting uninstall: transformers\n",
            "    Found existing installation: transformers 4.38.2\n",
            "    Uninstalling transformers-4.38.2:\n",
            "      Successfully uninstalled transformers-4.38.2\n",
            "Successfully installed accelerate-0.29.2 bert_score-0.3.13 datasets-2.18.0 dill-0.3.8 evaluate-0.4.1 multiprocess-0.70.16 nvidia-cublas-cu12-12.1.3.1 nvidia-cuda-cupti-cu12-12.1.105 nvidia-cuda-nvrtc-cu12-12.1.105 nvidia-cuda-runtime-cu12-12.1.105 nvidia-cudnn-cu12-8.9.2.26 nvidia-cufft-cu12-11.0.2.54 nvidia-curand-cu12-10.3.2.106 nvidia-cusolver-cu12-11.4.5.107 nvidia-cusparse-cu12-12.1.0.106 nvidia-nccl-cu12-2.19.3 nvidia-nvjitlink-cu12-12.4.127 nvidia-nvtx-cu12-12.1.105 responses-0.18.0 rouge_score-0.1.2 sentence-transformers-2.6.1 sentencepiece-0.2.0 transformers-4.39.3 xxhash-3.4.1\n"
          ]
        }
      ],
      "source": [
        "# @title Install libraries\n",
        "# @markdown Please execute this cell.\n",
        "\n",
        "# import locale\n",
        "# locale.getpreferredencoding = lambda: \"UTF-8\"\n",
        "\n",
        "!pip install -U transformers datasets sentencepiece accelerate evaluate rouge_score bert_score sentence-transformers"
      ]
    },
    {
      "cell_type": "code",
      "execution_count": null,
      "metadata": {
        "id": "02JNfPK5vA4q"
      },
      "outputs": [],
      "source": [
        "## Generic libraries\n",
        "\n",
        "# Dataframes\n",
        "import pandas as pd\n",
        "\n",
        "# Scientific computing\n",
        "import numpy as np\n",
        "\n",
        "# PyTorch, a machine learning framework\n",
        "import torch\n",
        "\n",
        "# Basic Python tools\n",
        "import itertools\n",
        "from collections import defaultdict\n",
        "\n",
        "# Pretty printing\n",
        "import textwrap\n",
        "\n",
        "# A smart progress meter\n",
        "from tqdm.notebook import trange, tqdm\n",
        "\n",
        "\n",
        "## Project-specific libraries\n",
        "\n",
        "# Evaluation metrics (for document retrieval)\n",
        "from sklearn.metrics import accuracy_score, top_k_accuracy_score\n",
        "\n",
        "# Spacy, a multi-use NLP library -- here, for sentence segmentation\n",
        "from spacy.lang.en import English\n",
        "\n",
        "# A library for sentence embeddings\n",
        "from sentence_transformers import SentenceTransformer, util\n",
        "\n",
        "\n",
        "## HuggingFace libraries\n",
        "\n",
        "# A library for easy-to-use Transformer language models (and more)\n",
        "from transformers import pipeline, AutoModelForCausalLM, AutoTokenizer, T5Tokenizer, T5ForConditionalGeneration, BartForConditionalGeneration, BartTokenizer, AutoModelForQuestionAnswering\n",
        "\n",
        "# A library for ready-to-use NLP evaluation metrics\n",
        "import evaluate\n",
        "\n",
        "# A library to easily import datasets from the HuggingFace hub\n",
        "from datasets import load_dataset\n"
      ]
    },
    {
      "cell_type": "code",
      "execution_count": null,
      "metadata": {
        "id": "GQ6rawS8bwR5"
      },
      "outputs": [],
      "source": [
        "# @title Convenience function for pretty printing\n",
        "# @markdown Please execute this cell.\n",
        "\n",
        "def pprint(string, width=120):\n",
        "  print(textwrap.fill(string, width=width))"
      ]
    },
    {
      "cell_type": "markdown",
      "metadata": {
        "id": "p5oX9R_Oy_iw"
      },
      "source": [
        "## News data: preliminary analysis\n",
        "\n",
        "We have compiled a dataset of over 10,000 CNN news articles for the purpose of this project. It is available through the Hugging Face dataset hub for extra ease of use: [news-qa-summarization](https://huggingface.co/datasets/glnmario/news-qa-summarization). Each article in the dataset is annotated by humans with a summary as well as a list of questions and corresponding answers. We are going to use this dataset for the development and evaluation of the three submodules of the *Newsreader Chatbot*.\n",
        "\n",
        "Let's load the dataset."
      ]
    },
    {
      "cell_type": "code",
      "execution_count": null,
      "metadata": {
        "id": "80RfsHPdxydb",
        "colab": {
          "base_uri": "https://localhost:8080/",
          "height": 237,
          "referenced_widgets": [
            "48295901ed864af29eb254946e93a502",
            "c7a97096f888459c9e6ca0b319386882",
            "b10dbc46fdee4e56a58a9e725eeefc2f",
            "fa8a56b8acd740cc9da988e7633e7194",
            "ee00ef4b004a487593874f467250ed06",
            "8e6b7bac001a4a6e857ffb56debcfaf0",
            "0815b8f34139442096967dea50185760",
            "88a1952f64154a159c6c997a11a0e2f0",
            "ec64ef45254e4a879a003ff5ee2e9154",
            "d59dd55d84254195b07ce3c297fc1a0a",
            "1ea25ea00b7b45e88d1d36b95851720d",
            "657bca763aa94aa89755cefb2b02cb47",
            "35c4da0e6a8e43a098d6512dfb32add4",
            "237d9fa5acd74ef9a41abfdc4142bc89",
            "d27391d4a01d4967aa1a48dcb9d015a6",
            "a91b78eb6b6f4b8197090e8bc42a5b27",
            "1f41fd2b503345d784f904a12d9076eb",
            "b2d2e0e2542b485294bf8f315b36bde8",
            "8f66a044d06147e29707f8b64cd31b0e",
            "b7c16ee709a740c2bb080a995f2c0125",
            "a6fdf9835ad2422fbf89e649ccd38943",
            "c3aba7a639dc48f5b2c74859a19c5647",
            "b3352e9ab2e9462dbb29f574d5536b78",
            "73bf4131eeb04531ab4516bce9b9d8c8",
            "1c8d0e53bba847f4985294eda98fcf46",
            "b30fac917b244bf89c0746003121f5f3",
            "839a48aab54b4116957f327b8aed6f8b",
            "1c8556099a704aa2907074bd0da10311",
            "c04a366eba52425187c12e7ea5bd2150",
            "e50f220daec24d02b1fb2ac70bbcc0ce",
            "0ab1a52315444d2ea81608ebf00352f7",
            "7f44f4011b9d4140afc0097a1c3cadcc",
            "33c54bd07e2a4c598d86b7403103e9be"
          ]
        },
        "outputId": "580a6292-7d3f-4c49-f2d5-468829c1c075"
      },
      "outputs": [
        {
          "output_type": "stream",
          "name": "stderr",
          "text": [
            "/usr/local/lib/python3.10/dist-packages/huggingface_hub/utils/_token.py:88: UserWarning: \n",
            "The secret `HF_TOKEN` does not exist in your Colab secrets.\n",
            "To authenticate with the Hugging Face Hub, create a token in your settings tab (https://huggingface.co/settings/tokens), set it as secret in your Google Colab and restart your session.\n",
            "You will be able to reuse this secret in all of your notebooks.\n",
            "Please note that authentication is recommended but still optional to access public models or datasets.\n",
            "  warnings.warn(\n"
          ]
        },
        {
          "output_type": "display_data",
          "data": {
            "text/plain": [
              "Downloading readme:   0%|          | 0.00/715 [00:00<?, ?B/s]"
            ],
            "application/vnd.jupyter.widget-view+json": {
              "version_major": 2,
              "version_minor": 0,
              "model_id": "48295901ed864af29eb254946e93a502"
            }
          },
          "metadata": {}
        },
        {
          "output_type": "display_data",
          "data": {
            "text/plain": [
              "Downloading data:   0%|          | 0.00/40.7M [00:00<?, ?B/s]"
            ],
            "application/vnd.jupyter.widget-view+json": {
              "version_major": 2,
              "version_minor": 0,
              "model_id": "657bca763aa94aa89755cefb2b02cb47"
            }
          },
          "metadata": {}
        },
        {
          "output_type": "display_data",
          "data": {
            "text/plain": [
              "Generating train split: 0 examples [00:00, ? examples/s]"
            ],
            "application/vnd.jupyter.widget-view+json": {
              "version_major": 2,
              "version_minor": 0,
              "model_id": "b3352e9ab2e9462dbb29f574d5536b78"
            }
          },
          "metadata": {}
        }
      ],
      "source": [
        "dataset = load_dataset(\"glnmario/news-qa-summarization\")"
      ]
    },
    {
      "cell_type": "markdown",
      "metadata": {
        "id": "cBAgOgPZZrdS"
      },
      "source": [
        "The dataset contains a single partition, which is called `train` by default, and consists of four fields:\n",
        "- `story`: the news story\n",
        "- `questions`: a list of questions regarding the news story\n",
        "- `answers`: the list of answers to `questions`\n",
        "- `summary`: a brief summary of the news story"
      ]
    },
    {
      "cell_type": "code",
      "execution_count": null,
      "metadata": {
        "id": "9gWCvEL7ZpkM",
        "colab": {
          "base_uri": "https://localhost:8080/"
        },
        "outputId": "c34887a9-31af-4b07-ceb7-f5d4dd17c68c"
      },
      "outputs": [
        {
          "output_type": "execute_result",
          "data": {
            "text/plain": [
              "DatasetDict({\n",
              "    train: Dataset({\n",
              "        features: ['story', 'questions', 'answers', 'summary'],\n",
              "        num_rows: 10388\n",
              "    })\n",
              "})"
            ]
          },
          "metadata": {},
          "execution_count": 5
        }
      ],
      "source": [
        "dataset"
      ]
    },
    {
      "cell_type": "markdown",
      "metadata": {
        "id": "xdB_j1lAbpmd"
      },
      "source": [
        "Let's take a look at one data point."
      ]
    },
    {
      "cell_type": "code",
      "execution_count": null,
      "metadata": {
        "id": "MsC96wX4a6Yh",
        "colab": {
          "base_uri": "https://localhost:8080/"
        },
        "outputId": "b2e140d0-699c-43fd-93ed-619a4466035b"
      },
      "outputs": [
        {
          "output_type": "stream",
          "name": "stdout",
          "text": [
            "(AOL Autos)  -- At the 2009 Detroit Auto Show, Chrysler, Mercedes-Benz, Toyota and MINI showed the world what electric\n",
            "vehicles of the future will look like. And the future of driving looks fun. The Dodge Circuit EV can blast from 0-to-60\n",
            "mph in around 4 seconds. Those in the know realize that sometime in the future, the vast majority of light cars and\n",
            "trucks in the US will feature electric final drive systems. The motors used in these systems will be powered by\n",
            "batteries, fuel cells, on-board generators, and perhaps even the sun. But this open issue doesn't change the\n",
            "inevitability of this reality. Given our current economic times, reality demands practical, tangible, and achievable\n",
            "ideas of what electric vehicles (or \"EVs\" for short) might actually look like. This is it ... Chrysler Three of the four\n",
            "electric vehicles Chrysler showed in Detroit, Michigan, were shown at other events and even to Washington bureaucrats.\n",
            "Each of these vehicles is a running prototype, not some pie-in-the-sky-we'll-never-build that idea. ENVI is the special\n",
            "group of engineers at Chrysler that develops the company's EVs. To date, the ENVI group has developed four electrically\n",
            "powered models, each quite different from the other: a Dodge Circuit EV sports car (rear-wheel drive), a Chrysler Town &\n",
            "Country minivan (front-wheel-drive), a Jeep Wrangler Unlimited (all-wheel-drive), and now a Jeep Patriot (front-wheel-\n",
            "drive). Chrysler promises to offer at least one of these models in 2010, and three more by 2013. AOL Autos: Dodge\n",
            "Circuit EV photos Chrysler approaches electric vehicles with simple plug-and-play engineering. Every one of their\n",
            "vehicles uses similar electric drive motors (only varying in power output), advanced lithium-ion batteries, and a power\n",
            "management controller. Each plugs in to 110- or 220-volt household outlets for recharging. The Chrysler and both Jeeps\n",
            "use an on-board range-extending battery charger (a generator). This generator automatically turns on after the vehicle's\n",
            "initial batter charge has been spent (usually within a range of 40 miles), supplying extra voltage that give these three\n",
            "vehicles an estimated range of approximately 400 miles. The generator is powered by a small gasoline-powered engine that\n",
            "runs with exceptional efficiency. This technology is similar in concept to what General Motors has shown in their\n",
            "Chevrolet Volt, a vehicle that should be ready for production in 2010. AOL Autos: Cadillac Converj photos The Dodge\n",
            "Circuit carries a larger battery pack and no generator, so its range on the charge it carries is approximately 150-200\n",
            "miles. Its large battery pack combined with compact dimensions and the exceptional torque provided by its electric motor\n",
            "blast the car from zero-to-sixty mph in around four seconds, exceptionally fast for any sports car regardless of engine\n",
            "type. Mercedes-Benz Mercedes-Benz used the 2009 Detroit Auto Show to showcase their Concept BlueZERO vehicles. The\n",
            "Mercedes approach was to develop one efficient body style, and then equip it with three different electric drive\n",
            "packages. AOL Autos: Mercedes Stirling Moss photos Much of the hardware for the all-electric front-wheel-drive\n",
            "propulsion units is built into what Mercedes calls \"sandwich-floor\" architecture that the company uses on several\n",
            "production cars. The design helps keep heavy components mounted low on the chassis for better handling, enhanced safety,\n",
            "and maximized interior room. All three Concept BlueZERO vehicles include electric drive and batteries. The E-Cell uses a\n",
            "large battery pack that is said to deliver a range of 120 miles. The F-Cell utilizes a smaller battery pack, but\n",
            "supplements the vehicle's range with a hydrogen fuel cell. The fuel cell produces electricity to recharge the battery\n",
            "pack that extends cruising range to 240 miles. The E-Cell Plus, with a range of approximately 360 miles, is the distance\n",
            "champion. The key is the on-board generator powered by tiny 1-liter turbo-charged three-cylinder gasoline engine.\n"
          ]
        }
      ],
      "source": [
        "# The news story\n",
        "pprint(dataset['train'][1]['story'])"
      ]
    },
    {
      "cell_type": "code",
      "execution_count": null,
      "metadata": {
        "id": "Gepj7rWrdEwg",
        "colab": {
          "base_uri": "https://localhost:8080/"
        },
        "outputId": "34bf69a3-7d98-4c3e-fbb4-c51553268cb3"
      },
      "outputs": [
        {
          "output_type": "execute_result",
          "data": {
            "text/plain": [
              "['What debuts at the 2009 Detroit Auto Show?',\n",
              " 'Who shows electric cars?',\n",
              " 'Where is the Detroit Auto Show located?']"
            ]
          },
          "metadata": {},
          "execution_count": 7
        }
      ],
      "source": [
        "# The list of questions\n",
        "dataset['train'][1]['questions']"
      ]
    },
    {
      "cell_type": "code",
      "execution_count": null,
      "metadata": {
        "id": "rvE2R-ZWdJ6y",
        "colab": {
          "base_uri": "https://localhost:8080/"
        },
        "outputId": "e88e26e2-f7ea-4679-cc38-cd4664c8a0a2"
      },
      "outputs": [
        {
          "output_type": "execute_result",
          "data": {
            "text/plain": [
              "[['electric vehicles'],\n",
              " ['Chrysler, Mercedes-Benz, Toyota and MINI'],\n",
              " ['Michigan,']]"
            ]
          },
          "metadata": {},
          "execution_count": 8
        }
      ],
      "source": [
        "# The corresponding answers\n",
        "dataset['train'][1]['answers']"
      ]
    },
    {
      "cell_type": "markdown",
      "metadata": {
        "id": "YR_kbMMNcHQf"
      },
      "source": [
        "***Write code to print out the summary.***"
      ]
    },
    {
      "cell_type": "code",
      "execution_count": null,
      "metadata": {
        "id": "6OvnycVbdm0T",
        "colab": {
          "base_uri": "https://localhost:8080/",
          "height": 70
        },
        "outputId": "b8e747af-a8b8-496a-c2eb-95c415aa22eb"
      },
      "outputs": [
        {
          "output_type": "execute_result",
          "data": {
            "text/plain": [
              "'Latest technologies debut at the 2009 Detroit Auto Show .\\nChrysler, Mercedes-Benz, Toyota and MINI show what electric cars of future will be .\\nToyota confirms plans to add as many as 10 new gas/electric hybrid vehicles .\\nThe \"charged\" MINI E can run up to 150 miles on a full battery pack .'"
            ],
            "application/vnd.google.colaboratory.intrinsic+json": {
              "type": "string"
            }
          },
          "metadata": {},
          "execution_count": 9
        }
      ],
      "source": [
        "# The summary\n",
        "dataset['train'][1]['summary']"
      ]
    },
    {
      "cell_type": "markdown",
      "metadata": {
        "id": "gd4kkYXbeaU2"
      },
      "source": [
        "For a more user-friendly dataset exploration, you can use the Hugging Face dataset hub: [news-qa-summarization](https://huggingface.co/datasets/glnmario/news-qa-summarization)."
      ]
    },
    {
      "cell_type": "markdown",
      "metadata": {
        "id": "YrVednFr3a2d"
      },
      "source": [
        "## News retrieval (semantic search)\n",
        "\n",
        "We will start by implementing a document retrieval system based on *semantic search*. Given a database of documents—in our case, news stories—this system takes in as input a natural language query and outputs a short list of documents matching that query.\n",
        "\n",
        "Roughly, a semantic search system works as follows:\n",
        "\n",
        "1. All the documents in the database are transformed and stored as *document embeddings*, that is, vectors of real numbers that represent the content of documents in an abstract, high-dimensional meaning space. (You can think of these as the document-level equivalent of the word embeddings from Project 3.)\n",
        "2. When a user produces a query, the text of the query, too, is embedded in the same abstract meaning space, producing a *query embedding*.\n",
        "3. The documents in the database are ranked according to the geometric (semantic) distance between their respective document embeddings and the query embedding.\n",
        "\n",
        "We will test two retrieval methods: one with paragraph-level embeddings and one with sentence-level embeddings. These two methods vary with respect to how document embeddings are created.\n"
      ]
    },
    {
      "cell_type": "markdown",
      "metadata": {
        "id": "vHP7cJRdm4r5"
      },
      "source": [
        "**Data.** To develop and evaluate the news retrieval system, we will use news stories as documents and questions as queries. *Run the following cell to create a dataset class.*"
      ]
    },
    {
      "cell_type": "code",
      "execution_count": null,
      "metadata": {
        "id": "NLvaUk2Rm1k2"
      },
      "outputs": [],
      "source": [
        "# @title RetrievalDataset class\n",
        "# @markdown Please execute this cell.\n",
        "class RetrievalDataset:\n",
        "\n",
        "  def __init__(self, dataset, num_documents=None):\n",
        "    self.dataset = dataset\n",
        "\n",
        "    if num_documents:\n",
        "      self.num_documents = num_documents\n",
        "      self.documents = self.dataset['train']['story'][:self.num_documents]\n",
        "      self.queries = list(itertools.chain.from_iterable(self.dataset['train']['questions'][:self.num_documents]))\n",
        "      self.num_queries = len(self.queries)\n",
        "    else:\n",
        "      self.documents = self.dataset['train']['story']\n",
        "      self.queries = list(itertools.chain.from_iterable(self.dataset['train']['questions']))\n",
        "      self.num_documents = len(self.documents)\n",
        "      self.num_queries = len(self.queries)\n",
        "\n",
        "    self.true_indices = []\n",
        "    for i, qs in enumerate(self.dataset['train']['questions'][:self.num_documents]):\n",
        "      for _ in qs:\n",
        "        self.true_indices.append(i)\n"
      ]
    },
    {
      "cell_type": "markdown",
      "metadata": {
        "id": "_w1TrIjEpGEC"
      },
      "source": [
        "Let's construct the retrieval dataset using stories as documents and questions as queries. Use only a subset of the news stories (e.g., `num_documents = 500`) as a development set for more manageable runtimes.\n",
        "\n"
      ]
    },
    {
      "cell_type": "code",
      "execution_count": null,
      "metadata": {
        "id": "HFa9xprznVAm"
      },
      "outputs": [],
      "source": [
        "retrieval_dataset = RetrievalDataset(dataset, num_documents=100)"
      ]
    },
    {
      "cell_type": "markdown",
      "metadata": {
        "id": "fN91fOLFqsDw"
      },
      "source": [
        "**Model**. To transform texts (documents or sentences) into embeddings, you will take the nowadays standard approach of using a Transformer language model. For example, you can use the [`multi-qa-MiniLM-L6-cos-v1`](https://huggingface.co/sentence-transformers/multi-qa-MiniLM-L6-cos-v1) Sentence Transformer."
      ]
    },
    {
      "cell_type": "code",
      "execution_count": null,
      "metadata": {
        "id": "ILe-wqAhqA07",
        "colab": {
          "base_uri": "https://localhost:8080/",
          "height": 369,
          "referenced_widgets": [
            "a0ea10228ca846bb8e1c418261ef9f4e",
            "102403993b9c44db8083afef776325c8",
            "6fea26b1e1264bfa88965a2ea6d75276",
            "027094a4af964cf0ba7e36c1f8b86857",
            "ceecabaaaad84440a9ef2a3f135f8f09",
            "ebda2962aeb9485682f8981aafd894d7",
            "75a13face87b4e49b2446f8852fb6c4d",
            "46516321bdf146c88615327ebe655153",
            "cd1ac828c84b44b284c64f90c0118291",
            "17960c7df3c444ba9328aeae709d7abe",
            "b25c504f623346c0992199753e934b85",
            "b7d1863b56f7401b8612f5c249096710",
            "523cda2a30914f588fe92e1f40dd32d5",
            "0f87e0721d63486089f208ada3688413",
            "2235767957a04e689a816223527baeda",
            "841589ce05cd40eea7e03f82126aee01",
            "b1e47e274eb64d919e1970fb344fbdc1",
            "001322e62ffe41acae863a74977637de",
            "b180c6f01fe6429c9ee9532f2cd0e014",
            "c8e038127a5a436a9ab51d5c5ee1c2eb",
            "bf434ef32370491c8064908c68d17a50",
            "499912e76e9049638fc674f5ee04fddd",
            "89ea4cfc5d7e4a82a41fa202e8bdf817",
            "69d74c1b2a8a440291b6e7f920075601",
            "7c0106f8c6664e26abddcc41c79c4684",
            "8417a68ebab24cdd8ff006897f654e62",
            "929c9d6f32e84292b4d89c24992ca26f",
            "645d46d94ebb4a21baa3fd795e00b830",
            "e92f711dfa8b46a68086a44dee538328",
            "5a8ca178413341fbb607aa3d352f5b37",
            "23f8183721764b34b5e2425c60b21504",
            "ed492b5a4df640d7919863ee7178de18",
            "2a124023ba2b41fbb2a8f3faa186b06a",
            "8ed2317bd7554b3790a602a8144d3ab0",
            "4e4f3c9ceefa414295068ddb3440554e",
            "773a862ed31b4c8f9594b2d30721e7ff",
            "5b7aa5ba01b847f89dcf8595951d01bd",
            "ea90c94b398c4bc0a00aa534c55a5581",
            "46878a3b9b594f6d90fe0532c3d82b31",
            "6dc848242c6f481a9a02ec819c658daa",
            "36778219c0ac449b9115ad36b39c2813",
            "e975ba6e1f3a420a99842c6a174ed3c1",
            "dbc29947a7cb4a74a5fd2696c66722d8",
            "f31436617d2b462e8e01eed372780d0e",
            "01bafaf4299148e0a4112ef597609da2",
            "9f3070d814f64c9bb2dce3d2c0078215",
            "5945f65df3af40279445fac332aa4bd1",
            "ea72610bd0bc4f2aaae339b801180e3f",
            "5b3ee04aaf254e42a689a3072caa9d8f",
            "8af76dfd60e74001a79d9b0bb795c52c",
            "a5952152f60949d2826fd9021a145559",
            "02e233ca2b80414899f8852a6fd48c35",
            "11d161e729e544608256a0934819c843",
            "ad04fe4a08fc4d919a1d2a81214061d6",
            "3f92f327146c496585b4e1017dfc7d95",
            "63c84fcd22834777baced9a42b1b3a36",
            "d065dc3e3f774d12a98ff8d9fc7e75eb",
            "5d94083749c148ad8d4aba4f58aa43af",
            "4eea9bfc457e4a0a9b1a623c670c79b5",
            "0b624591161341518d5cba72919155ce",
            "49f431d394034e5f9b9efc05056bcd62",
            "db2aa15ef79b4fb7a30e27dd1f8ab3ea",
            "76e62669076f42568c7b71fbcb690d9e",
            "48b84b4a127b468f9c85d6e60c2b60a8",
            "65d06c7e6df6437982ef8f1d804b749a",
            "55a871cc397d4d06bd4cea11fa9beddd",
            "3355a852b4a345a6b9b0d3df190ffbf1",
            "1a8c0a4938bb4e54bbf6d9f44b563394",
            "c816929dfa12490e848455fbd850a25c",
            "a6086e8f900f47068ca2314653909f4e",
            "66f315fd8c4f4e0e86487a630b639415",
            "4102b1b5cc534771b3ba789875f37fad",
            "056a8d3a23364ae181edb72287b45fe2",
            "373ade967edb49aea02b678d6d5714d3",
            "6cf3a9f9e9a9422ea051f501fd7e36f4",
            "ff21a89b7d804a86912ae7dafdc967b7",
            "6ce2d8d20615407494c2d5110156280d",
            "d19b5a6380784a6197caf09a61e06143",
            "8e7811b00c3145fc867aabf4f866bac1",
            "9849fcff4c5a458eaa93ac8e6ed80d48",
            "6def035bf3494fb5b5604f2b2536ce1e",
            "c208efb484e34c9abf8a23960c318d9f",
            "ea87fb0ddd614e94a1ae49d902509153",
            "d25f904b663f4fdb94f74ba032c1cbb8",
            "4d77a9ba4d644d2fb92986981ade0c07",
            "3df3626a36de4245b61854b046c2268d",
            "1ae0dcff979e49fd868aea15bdb01bd5",
            "c3c71f0ba26f453b97eef3a1ee201949",
            "2d91d04e1d4c4ad6b4a68484dab88f54",
            "aa17000c7f8f4740a1997415861c6cd7",
            "dcf4ee9c7ed54fa3bae0f4f8658a29ce",
            "c528560d0b32452bba2a94a1b3fc9dc1",
            "4fd30e2c78134a1c86326b2e07add78a",
            "cc0bdbbcfded4a73b09ac4b69c140e10",
            "9e3ca2a49d684076990eba5043450878",
            "5d923a4ac420412bad55e0be839a6ec1",
            "13ece3dd30a049f1a65456704688b668",
            "71c610fe9b35416d9edd3fd9edc3c6d0",
            "c7ca9b04dbe943f78ee13397a51d61cc",
            "87d7ae9559bc4ccbbf9b0dff44a3df70",
            "9597258a6f2a4868b0f38012d774a696",
            "c16e3b647bb0483eaaf4b5730b9e7529",
            "ec8aca8cd97a442eb10261c28e6ea849",
            "2db03b0cfced402eada64af274eaccd1",
            "7898b20149504c67a94d905b59c7d913",
            "b1d06d0373a64fe2ab559f57e26ee1d1",
            "abc37a76e90e4e89877a719c8fa13079",
            "78ffc87040074f119b8dad647f34ce7a",
            "4faffe2dd01a42dcb3f0243c24573e7a",
            "cc52502edeb04ad7add22d0ffbd8ac84",
            "38b9fbb095614b158f4b03ed48954929",
            "46edb36806224104be1839d939e8c8d9",
            "c9a5e862acfb46d885239911c545db05",
            "64b29bebce5c470cb050df284f9304f9",
            "e0f7906a28d74881bbc4bc876b8c1c76",
            "beba12bb51db412f9ebd3de286c9ac49",
            "44ff98a660c348e599780f79f16090ce",
            "872beb45c7724c069484298b9f99ba48",
            "ca61214d120849d28fec13b99fbf011a",
            "1593b0d00c764bb8a46ee1c8125d1799",
            "bcf751051d294a4e8dfa44c0c3c44995"
          ]
        },
        "outputId": "ef438eda-33f7-474b-a550-f63d53b3440e"
      },
      "outputs": [
        {
          "output_type": "display_data",
          "data": {
            "text/plain": [
              "modules.json:   0%|          | 0.00/349 [00:00<?, ?B/s]"
            ],
            "application/vnd.jupyter.widget-view+json": {
              "version_major": 2,
              "version_minor": 0,
              "model_id": "a0ea10228ca846bb8e1c418261ef9f4e"
            }
          },
          "metadata": {}
        },
        {
          "output_type": "display_data",
          "data": {
            "text/plain": [
              "config_sentence_transformers.json:   0%|          | 0.00/116 [00:00<?, ?B/s]"
            ],
            "application/vnd.jupyter.widget-view+json": {
              "version_major": 2,
              "version_minor": 0,
              "model_id": "b7d1863b56f7401b8612f5c249096710"
            }
          },
          "metadata": {}
        },
        {
          "output_type": "display_data",
          "data": {
            "text/plain": [
              "README.md:   0%|          | 0.00/11.6k [00:00<?, ?B/s]"
            ],
            "application/vnd.jupyter.widget-view+json": {
              "version_major": 2,
              "version_minor": 0,
              "model_id": "89ea4cfc5d7e4a82a41fa202e8bdf817"
            }
          },
          "metadata": {}
        },
        {
          "output_type": "display_data",
          "data": {
            "text/plain": [
              "sentence_bert_config.json:   0%|          | 0.00/53.0 [00:00<?, ?B/s]"
            ],
            "application/vnd.jupyter.widget-view+json": {
              "version_major": 2,
              "version_minor": 0,
              "model_id": "8ed2317bd7554b3790a602a8144d3ab0"
            }
          },
          "metadata": {}
        },
        {
          "output_type": "display_data",
          "data": {
            "text/plain": [
              "config.json:   0%|          | 0.00/612 [00:00<?, ?B/s]"
            ],
            "application/vnd.jupyter.widget-view+json": {
              "version_major": 2,
              "version_minor": 0,
              "model_id": "01bafaf4299148e0a4112ef597609da2"
            }
          },
          "metadata": {}
        },
        {
          "output_type": "display_data",
          "data": {
            "text/plain": [
              "model.safetensors:   0%|          | 0.00/90.9M [00:00<?, ?B/s]"
            ],
            "application/vnd.jupyter.widget-view+json": {
              "version_major": 2,
              "version_minor": 0,
              "model_id": "63c84fcd22834777baced9a42b1b3a36"
            }
          },
          "metadata": {}
        },
        {
          "output_type": "display_data",
          "data": {
            "text/plain": [
              "tokenizer_config.json:   0%|          | 0.00/383 [00:00<?, ?B/s]"
            ],
            "application/vnd.jupyter.widget-view+json": {
              "version_major": 2,
              "version_minor": 0,
              "model_id": "3355a852b4a345a6b9b0d3df190ffbf1"
            }
          },
          "metadata": {}
        },
        {
          "output_type": "display_data",
          "data": {
            "text/plain": [
              "vocab.txt:   0%|          | 0.00/232k [00:00<?, ?B/s]"
            ],
            "application/vnd.jupyter.widget-view+json": {
              "version_major": 2,
              "version_minor": 0,
              "model_id": "d19b5a6380784a6197caf09a61e06143"
            }
          },
          "metadata": {}
        },
        {
          "output_type": "display_data",
          "data": {
            "text/plain": [
              "tokenizer.json:   0%|          | 0.00/466k [00:00<?, ?B/s]"
            ],
            "application/vnd.jupyter.widget-view+json": {
              "version_major": 2,
              "version_minor": 0,
              "model_id": "2d91d04e1d4c4ad6b4a68484dab88f54"
            }
          },
          "metadata": {}
        },
        {
          "output_type": "display_data",
          "data": {
            "text/plain": [
              "special_tokens_map.json:   0%|          | 0.00/112 [00:00<?, ?B/s]"
            ],
            "application/vnd.jupyter.widget-view+json": {
              "version_major": 2,
              "version_minor": 0,
              "model_id": "87d7ae9559bc4ccbbf9b0dff44a3df70"
            }
          },
          "metadata": {}
        },
        {
          "output_type": "display_data",
          "data": {
            "text/plain": [
              "1_Pooling/config.json:   0%|          | 0.00/190 [00:00<?, ?B/s]"
            ],
            "application/vnd.jupyter.widget-view+json": {
              "version_major": 2,
              "version_minor": 0,
              "model_id": "38b9fbb095614b158f4b03ed48954929"
            }
          },
          "metadata": {}
        }
      ],
      "source": [
        "# Load the language model\n",
        "model_name = \"multi-qa-MiniLM-L6-cos-v1\"\n",
        "model = SentenceTransformer(model_name)\n"
      ]
    },
    {
      "cell_type": "markdown",
      "metadata": {
        "id": "0yvdznzt3eAS"
      },
      "source": [
        "### Paragraph-level embeddings\n",
        "\n",
        "The first method will rely on paragraph-level embeddings. That is, an entire paragraph (e.g., a whole news story) is passed as an input to a language model, the contextualised word embeddings produced by the language model for all the words in the paragraph are extracted, and the average embedding is taken to be the document representation. Luckily, the SentenceTransformer library used in the cell above automates this process for us.\n"
      ]
    },
    {
      "cell_type": "markdown",
      "metadata": {
        "id": "rTuHfWPNeSLs"
      },
      "source": [
        "First, we embed the news stories."
      ]
    },
    {
      "cell_type": "code",
      "execution_count": null,
      "metadata": {
        "id": "f2gFoE2Ppo3F"
      },
      "outputs": [],
      "source": [
        "story_embeddings = model.encode(retrieval_dataset.documents)"
      ]
    },
    {
      "cell_type": "markdown",
      "metadata": {
        "id": "O9HbDvJ3eWwn"
      },
      "source": [
        "Then, we embed an example query."
      ]
    },
    {
      "cell_type": "code",
      "execution_count": null,
      "metadata": {
        "id": "uaZSzQZdtJLu"
      },
      "outputs": [],
      "source": [
        "query_embedding = model.encode('electric vehicles')"
      ]
    },
    {
      "cell_type": "markdown",
      "metadata": {
        "id": "opW_o8oTebLu"
      },
      "source": [
        "Now we can compute the similarity between the query and the story embeddings. We will use the dot product between embedding as a measure of their geometric distance.\n",
        "\n",
        "***Fill in the code below by providing the right arguments to the `dot_score` function.***"
      ]
    },
    {
      "cell_type": "code",
      "execution_count": null,
      "metadata": {
        "id": "144dhiUQtK5g"
      },
      "outputs": [],
      "source": [
        "# Compute semantic similarity as the dot product between embeddings\n",
        "similarity_scores = util.dot_score(story_embeddings,query_embedding)"
      ]
    },
    {
      "cell_type": "markdown",
      "metadata": {
        "id": "JLr9T83ge9vc"
      },
      "source": [
        "Let's inspect the shape and content of the similarity score vector."
      ]
    },
    {
      "cell_type": "code",
      "execution_count": null,
      "metadata": {
        "id": "GOsdWiZze954",
        "colab": {
          "base_uri": "https://localhost:8080/"
        },
        "outputId": "e71be449-a8c0-46f5-de9c-22c34bffd58d"
      },
      "outputs": [
        {
          "output_type": "stream",
          "name": "stdout",
          "text": [
            "torch.Size([100, 1])\n",
            "tensor([[-3.5164e-02],\n",
            "        [ 7.4932e-01],\n",
            "        [ 4.2309e-01],\n",
            "        [ 3.4363e-01],\n",
            "        [ 2.5842e-01],\n",
            "        [ 1.6174e-01],\n",
            "        [ 2.6499e-01],\n",
            "        [ 2.1440e-01],\n",
            "        [ 1.2893e-01],\n",
            "        [ 3.4044e-01],\n",
            "        [ 1.5525e-01],\n",
            "        [ 4.4081e-01],\n",
            "        [ 1.7460e-01],\n",
            "        [ 3.7609e-02],\n",
            "        [ 2.3579e-01],\n",
            "        [ 2.3579e-01],\n",
            "        [ 1.6344e-01],\n",
            "        [ 4.0172e-01],\n",
            "        [ 1.2528e-01],\n",
            "        [ 2.2745e-01],\n",
            "        [ 3.6874e-01],\n",
            "        [ 2.8882e-01],\n",
            "        [ 2.2444e-01],\n",
            "        [ 3.4821e-01],\n",
            "        [ 2.1760e-01],\n",
            "        [ 3.3167e-01],\n",
            "        [ 4.9821e-01],\n",
            "        [ 3.8450e-01],\n",
            "        [ 3.9013e-01],\n",
            "        [ 1.5539e-01],\n",
            "        [ 3.8754e-01],\n",
            "        [ 3.4203e-01],\n",
            "        [ 2.8183e-01],\n",
            "        [ 1.9025e-01],\n",
            "        [ 3.4600e-01],\n",
            "        [ 3.4600e-01],\n",
            "        [ 3.2338e-01],\n",
            "        [-1.0555e-01],\n",
            "        [-4.2203e-02],\n",
            "        [ 3.2657e-02],\n",
            "        [ 1.3123e-01],\n",
            "        [ 6.5636e-02],\n",
            "        [ 6.0612e-03],\n",
            "        [ 8.0774e-02],\n",
            "        [ 2.6421e-01],\n",
            "        [ 1.5992e-01],\n",
            "        [-4.7375e-02],\n",
            "        [-4.7375e-02],\n",
            "        [-1.0589e-01],\n",
            "        [-1.0589e-01],\n",
            "        [ 9.9840e-02],\n",
            "        [-3.8874e-03],\n",
            "        [ 5.7524e-02],\n",
            "        [ 1.0370e-01],\n",
            "        [ 1.3831e-01],\n",
            "        [ 7.9701e-02],\n",
            "        [ 1.9692e-01],\n",
            "        [-3.2610e-02],\n",
            "        [ 7.1756e-04],\n",
            "        [-8.7852e-02],\n",
            "        [-5.2489e-02],\n",
            "        [ 7.0033e-02],\n",
            "        [ 1.3545e-02],\n",
            "        [ 1.0433e-01],\n",
            "        [ 3.3496e-02],\n",
            "        [ 3.3031e-02],\n",
            "        [ 1.6148e-02],\n",
            "        [ 1.2311e-01],\n",
            "        [ 4.0958e-02],\n",
            "        [ 8.6441e-02],\n",
            "        [ 3.3287e-03],\n",
            "        [-5.1825e-02],\n",
            "        [-1.3481e-01],\n",
            "        [-1.3887e-01],\n",
            "        [-1.5210e-01],\n",
            "        [-9.8821e-02],\n",
            "        [-9.5270e-02],\n",
            "        [-1.0855e-01],\n",
            "        [-4.1019e-02],\n",
            "        [ 2.7619e-02],\n",
            "        [-3.0709e-02],\n",
            "        [ 1.4788e-02],\n",
            "        [ 4.2993e-02],\n",
            "        [ 8.7657e-03],\n",
            "        [ 3.6249e-03],\n",
            "        [-1.0694e-01],\n",
            "        [-3.3620e-02],\n",
            "        [ 8.9359e-02],\n",
            "        [ 8.9359e-02],\n",
            "        [-3.3313e-02],\n",
            "        [-1.0157e-02],\n",
            "        [-2.2729e-02],\n",
            "        [-5.6901e-02],\n",
            "        [-5.0940e-02],\n",
            "        [ 8.0547e-02],\n",
            "        [-1.1757e-01],\n",
            "        [ 1.0669e-01],\n",
            "        [-6.1221e-02],\n",
            "        [-4.0795e-02],\n",
            "        [-4.0795e-02]])\n"
          ]
        }
      ],
      "source": [
        "print(similarity_scores.shape)\n",
        "print(similarity_scores)"
      ]
    },
    {
      "cell_type": "markdown",
      "metadata": {
        "id": "QjnCDDs0fHlb"
      },
      "source": [
        "Next, we obtain the indices of the top 3 ranked documents and their respective similarity scores. These are the documents that best match the query according to our paragraph embeddings."
      ]
    },
    {
      "cell_type": "code",
      "execution_count": 48,
      "metadata": {
        "id": "HFsBynVgtN5X",
        "colab": {
          "base_uri": "https://localhost:8080/"
        },
        "outputId": "2e118815-8b4c-4b7c-9922-63db468b3a42"
      },
      "outputs": [
        {
          "output_type": "stream",
          "name": "stdout",
          "text": [
            "Top 3 document ids: tensor([[ 1],\n",
            "        [26],\n",
            "        [11]])\n",
            "Top 3 document similarity scores: tensor([[0.7493],\n",
            "        [0.4982],\n",
            "        [0.4408]])\n"
          ]
        }
      ],
      "source": [
        "# Get the indices of the 3 top ranked documents and their similarity scores\n",
        "top_k_scores, top_k_indices = torch.topk(similarity_scores, 3, dim=0)\n",
        "\n",
        "print(f'Top 3 document ids: {top_k_indices}')\n",
        "print(f'Top 3 document similarity scores: {top_k_scores}')\n"
      ]
    },
    {
      "cell_type": "code",
      "execution_count": 49,
      "metadata": {
        "id": "P8zus-YNx4Pe",
        "colab": {
          "base_uri": "https://localhost:8080/"
        },
        "outputId": "0f253857-1dde-4c00-f3c7-1d9abb86acf2"
      },
      "outputs": [
        {
          "output_type": "stream",
          "name": "stdout",
          "text": [
            "Best matching document:\n",
            "\n",
            "(AOL Autos)  -- At the 2009 Detroit Auto Show, Chrysler, Mercedes-Benz, Toyota and MINI showed the world what electric\n",
            "vehicles of the future will look like. And the future of driving looks fun. The Dodge Circuit EV can blast from 0-to-60\n",
            "mph in around 4 seconds. Those in the know realize that sometime in the future, the vast majority of light cars and\n",
            "trucks in the US will feature electric final drive systems. The motors used in these systems will be powered by\n",
            "batteries, fuel cells, on-board generators, and perhaps even the sun. But this open issue doesn't change the\n",
            "inevitability of this reality. Given our current economic times, reality demands practical, tangible, and achievable\n",
            "ideas of what electric vehicles (or \"EVs\" for short) might actually look like. This is it ... Chrysler Three of the four\n",
            "electric vehicles Chrysler showed in Detroit, Michigan, were shown at other events and even to Washington bureaucrats.\n",
            "Each of these vehicles is a running prototype, not some pie-in-the-sky-we'll-never-build that idea. ENVI is the special\n",
            "group of engineers at Chrysler that develops the company's EVs. To date, the ENVI group has developed four electrically\n",
            "powered models, each quite different from the other: a Dodge Circuit EV sports car (rear-wheel drive), a Chrysler Town &\n",
            "Country minivan (front-wheel-drive), a Jeep Wrangler Unlimited (all-wheel-drive), and now a Jeep Patriot (front-wheel-\n",
            "drive). Chrysler promises to offer at least one of these models in 2010, and three more by 2013. AOL Autos: Dodge\n",
            "Circuit EV photos Chrysler approaches electric vehicles with simple plug-and-play engineering. Every one of their\n",
            "vehicles uses similar electric drive motors (only varying in power output), advanced lithium-ion batteries, and a power\n",
            "management controller. Each plugs in to 110- or 220-volt household outlets for recharging. The Chrysler and both Jeeps\n",
            "use an on-board range-extending battery charger (a generator). This generator automatically turns on after the vehicle's\n",
            "initial batter charge has been spent (usually within a range of 40 miles), supplying extra voltage that give these three\n",
            "vehicles an estimated range of approximately 400 miles. The generator is powered by a small gasoline-powered engine that\n",
            "runs with exceptional efficiency. This technology is similar in concept to what General Motors has shown in their\n",
            "Chevrolet Volt, a vehicle that should be ready for production in 2010. AOL Autos: Cadillac Converj photos The Dodge\n",
            "Circuit carries a larger battery pack and no generator, so its range on the charge it carries is approximately 150-200\n",
            "miles. Its large battery pack combined with compact dimensions and the exceptional torque provided by its electric motor\n",
            "blast the car from zero-to-sixty mph in around four seconds, exceptionally fast for any sports car regardless of engine\n",
            "type. Mercedes-Benz Mercedes-Benz used the 2009 Detroit Auto Show to showcase their Concept BlueZERO vehicles. The\n",
            "Mercedes approach was to develop one efficient body style, and then equip it with three different electric drive\n",
            "packages. AOL Autos: Mercedes Stirling Moss photos Much of the hardware for the all-electric front-wheel-drive\n",
            "propulsion units is built into what Mercedes calls \"sandwich-floor\" architecture that the company uses on several\n",
            "production cars. The design helps keep heavy components mounted low on the chassis for better handling, enhanced safety,\n",
            "and maximized interior room. All three Concept BlueZERO vehicles include electric drive and batteries. The E-Cell uses a\n",
            "large battery pack that is said to deliver a range of 120 miles. The F-Cell utilizes a smaller battery pack, but\n",
            "supplements the vehicle's range with a hydrogen fuel cell. The fuel cell produces electricity to recharge the battery\n",
            "pack that extends cruising range to 240 miles. The E-Cell Plus, with a range of approximately 360 miles, is the distance\n",
            "champion. The key is the on-board generator powered by tiny 1-liter turbo-charged three-cylinder gasoline engine.\n"
          ]
        }
      ],
      "source": [
        "# Print the best matching document\n",
        "print('Best matching document:\\n')\n",
        "best_match_index = top_k_indices[0]\n",
        "pprint(retrieval_dataset.documents[best_match_index])"
      ]
    },
    {
      "cell_type": "markdown",
      "metadata": {
        "id": "NTMMdo3H3r57"
      },
      "source": [
        "#### Putting it all together\n",
        "\n",
        "Now that we have tested all of its components, we can reate a Python class for the document retriever based on paragraph-level document embeddings.\n",
        "\n",
        "***Fill in the code in the cell below.***"
      ]
    },
    {
      "cell_type": "code",
      "execution_count": null,
      "metadata": {
        "id": "ILcyrKi5y0ad"
      },
      "outputs": [],
      "source": [
        "class ParagraphEmbeddingRetriever:\n",
        "\n",
        "  # Initialise the Retriever object\n",
        "  # with a document database and a language model\n",
        "  def __init__(\n",
        "      self,\n",
        "      documents,  # the list of documents in the database\n",
        "      model_name,  # the name of the language model\n",
        "    ):\n",
        "\n",
        "    # Load language model\n",
        "    self.model = SentenceTransformer(\n",
        "        ... # fill in this line\n",
        "    )\n",
        "\n",
        "    # Embed documents\n",
        "    print('Initialization: embedding documents...')\n",
        "    self.doc_embeddings = self.model.encode(\n",
        "        ... # fill in this line\n",
        "    )\n",
        "\n",
        "  # Retrieving function: it takes as input a query and returns\n",
        "  # the top_k (default top_k = 3) matching documents in the database\n",
        "  def retrieve(\n",
        "      self,\n",
        "      query,\n",
        "      top_k=3\n",
        "    ):\n",
        "\n",
        "    # Embed query\n",
        "    query_embedding = self.model.encode(\n",
        "        ... # fill in this line\n",
        "    )\n",
        "\n",
        "    # Compute semantic similarity\n",
        "    similarity_scores = util.dot_score(\n",
        "        ... # fill in this line\n",
        "        ... # fill in this line\n",
        "    )[0]\n",
        "\n",
        "    # Get top k documents and their similarity scores\n",
        "    top_k_scores, top_k_indices = torch.topk(\n",
        "        ... # fill in this line\n",
        "        ... # fill in this line\n",
        "    )\n",
        "    return top_k_indices, top_k_scores, similarity_scores\n"
      ]
    },
    {
      "cell_type": "markdown",
      "metadata": {
        "id": "_PCssQp-WVbY"
      },
      "source": [
        "Let's test our compiled document retriever on the previous example."
      ]
    },
    {
      "cell_type": "code",
      "execution_count": null,
      "metadata": {
        "id": "Gv5vCEhmWc0E"
      },
      "outputs": [],
      "source": [
        "paragraph_retriever = ParagraphEmbeddingRetriever(\n",
        "    documents=retrieval_dataset.documents,\n",
        "    model_name='multi-qa-MiniLM-L6-cos-v1'\n",
        ")\n",
        "\n",
        "top_3_indices, top_3_scores, _ = paragraph_retriever.retrieve(\n",
        "    query='electric vehicles',\n",
        "    top_k=3\n",
        ")\n",
        "\n",
        "print()\n",
        "print(f'Top 3 indices: {top_3_indices.tolist()}')\n",
        "print(f'Their scores: {top_3_scores.tolist()}')\n",
        "print('\\nBest matching document:\\n')\n",
        "\n",
        "best_match_index = top_3_indices[0]\n",
        "pprint(retrieval_dataset.documents[best_match_index])\n"
      ]
    },
    {
      "cell_type": "markdown",
      "metadata": {
        "id": "VZsKTW9l3ijd"
      },
      "source": [
        "### Sentence-level embeddings\n",
        "\n",
        "News stories consist of many sentences. When a single embedding is used to represent them all, the meaning of each sentence is diluted and the final document embedding may become uninformative.\n",
        "\n",
        "The second method you will implement tries to address this issue by representing documents as a set of sentence-level embeddings. It is more computationally expensive, but it can potentially lead to more accurate retrieval.\n",
        "\n",
        "The method works as follows:\n",
        "1. Every document in the database is split into sentences.\n",
        "2. Each sentence in a document is embedded using a language model, and all the sentence embeddings extracted for a document are stored.\n",
        "3. At retrieval time, the query text is embedded and compared to all of the sentence embeddings of each document. Instead of a single similarity score for a given document, this results in a list of similarity scores, one for each sentence in the document.\n",
        "4. To obtain a single number from this list of similarity scores, a summary statistic is used, such as the mean, minimum or maximum.\n",
        "5. The documents are ranked based on this summary similarity score.\n",
        "\n",
        "We can reuse the same language model as an embedding engine."
      ]
    },
    {
      "cell_type": "markdown",
      "metadata": {
        "id": "_hF2_kjkgnxC"
      },
      "source": [
        "***Write a line of code to load the Sentence Transformer.***"
      ]
    },
    {
      "cell_type": "code",
      "execution_count": null,
      "metadata": {
        "id": "hV6i9773UML3"
      },
      "outputs": [],
      "source": [
        "model = ... # fill in this line"
      ]
    },
    {
      "cell_type": "markdown",
      "metadata": {
        "id": "FeKYcPceUhIC"
      },
      "source": [
        "To split documents into sentences, we will use the [spaCy](https://spacy.io/) library with its `sentencizer`, or *sentence segmentation* algorithm."
      ]
    },
    {
      "cell_type": "code",
      "execution_count": null,
      "metadata": {
        "id": "DtBpq8EbUa5R"
      },
      "outputs": [],
      "source": [
        "spacy = English()\n",
        "spacy.add_pipe(\"sentencizer\")\n",
        "\n",
        "def split(text):\n",
        "  \"\"\"\n",
        "  Splits a text into sentences using the Spacy library.\n",
        "\n",
        "  Parameters\n",
        "  ----------\n",
        "  text : str\n",
        "      The text to be split into sentences.\n",
        "\n",
        "  Returns\n",
        "  -------\n",
        "  list\n",
        "      The list of sentences in the text.\n",
        "  \"\"\"\n",
        "  processed_text = spacy(text)\n",
        "  processed_sentences = processed_text.sents\n",
        "\n",
        "  sentences = []\n",
        "  for sentence in processed_sentences:\n",
        "    sentences.append(sentence.text)\n",
        "\n",
        "  return sentences\n"
      ]
    },
    {
      "cell_type": "markdown",
      "metadata": {
        "id": "UmWeHRn0g5MA"
      },
      "source": [
        "Let's test the sentence segmentation algorithm.\n",
        "\n"
      ]
    },
    {
      "cell_type": "code",
      "execution_count": null,
      "metadata": {
        "id": "raqUMJA5g_C2"
      },
      "outputs": [],
      "source": [
        "split('This is a first test sentence. This is the second test sentence. Will the segmentation algorithm detect all sentences correctly?')"
      ]
    },
    {
      "cell_type": "markdown",
      "metadata": {
        "id": "pHMxtHTgVBR5"
      },
      "source": [
        "Now that the sentence segmentation is in place, let's build the sentence-based document retriever step by step.\n",
        "\n",
        "***In the cell below, fill in the line to embed the sentences in a story.***"
      ]
    },
    {
      "cell_type": "code",
      "execution_count": null,
      "metadata": {
        "id": "nE_ZWkrAU2T-"
      },
      "outputs": [],
      "source": [
        "# Embed news stories\n",
        "\n",
        "story_embeddings = []\n",
        "\n",
        "for story in tqdm(retrieval_dataset.documents):\n",
        "\n",
        "  # Split news story into sentences\n",
        "  sentences = split(story)\n",
        "\n",
        "  # Embed sentences\n",
        "  sentence_embeddings = ... # fill in this line\n",
        "\n",
        "  story_embeddings.append(sentence_embeddings)"
      ]
    },
    {
      "cell_type": "markdown",
      "metadata": {
        "id": "nCdKzvsnhfHS"
      },
      "source": [
        "\n",
        "***Fill in the code to embed the query sentence.*** You can use the same query sentence as above, \"electric vehicles\"."
      ]
    },
    {
      "cell_type": "code",
      "execution_count": null,
      "metadata": {
        "id": "fLWHQ8GTV4Qp"
      },
      "outputs": [],
      "source": [
        "# Embed test query\n",
        "query_embedding = ... # fill in this line"
      ]
    },
    {
      "cell_type": "markdown",
      "metadata": {
        "id": "GZyf3Qqlhv7z"
      },
      "source": [
        "Now we can compute the similarity scores between the query embedding and the sentence embeddings. Remember: this will yield multiple similarity scores for each document, one per sentence. So we will summarise this document-specific list of similarity scores using a summary statistic. Here, we test `mean`, `min`, and `max` as summary statistics."
      ]
    },
    {
      "cell_type": "code",
      "execution_count": null,
      "metadata": {
        "id": "aX4wEi7ZZsbQ"
      },
      "outputs": [],
      "source": [
        "# Store the similarity scores obtained with different summary statistics\n",
        "similarity_scores = {\n",
        "    'mean': [],\n",
        "    'max': [],\n",
        "    'min': []\n",
        "}\n",
        "\n",
        "for story_sentence_embeddings in (story_embeddings):\n",
        "    sentence_similarities = util.dot_score(\n",
        "        query_embedding,\n",
        "        story_sentence_embeddings\n",
        "    )\n",
        "    similarity_scores['mean'].append(sentence_similarities.mean())\n",
        "    similarity_scores['min'].append(sentence_similarities.min())\n",
        "    similarity_scores['max'].append(sentence_similarities.max())\n"
      ]
    },
    {
      "cell_type": "markdown",
      "metadata": {
        "id": "thdwzjtSiSmU"
      },
      "source": [
        "Let's retrieve the top 3 stories and their similarity scores.\n",
        "\n",
        "***Fill in the line below by providing a value for the parameter $k$.***"
      ]
    },
    {
      "cell_type": "code",
      "execution_count": null,
      "metadata": {
        "id": "dkzGoXtsaqer"
      },
      "outputs": [],
      "source": [
        "top_3_similarity_scores = dict()\n",
        "top_3_story_indices = dict()\n",
        "\n",
        "for summary_statistic in ['mean', 'min', 'max']:\n",
        "  top_k_scores, top_k_indices = torch.topk(\n",
        "      torch.as_tensor(similarity_scores[summary_statistic]),\n",
        "      ... # fill in this line\n",
        "  )\n",
        "  top_3_similarity_scores[summary_statistic] = top_k_scores, top_k_indices\n"
      ]
    },
    {
      "cell_type": "markdown",
      "metadata": {
        "id": "wT2au0C5jJAK"
      },
      "source": [
        "Let's print out the indices of the top 3 matches based on `mean` sentence similarity."
      ]
    },
    {
      "cell_type": "code",
      "execution_count": null,
      "metadata": {
        "id": "1LqxutwuXehi"
      },
      "outputs": [],
      "source": [
        "top_k_scores_mean, top_k_indices_mean = top_3_similarity_scores['mean']\n",
        "print(f'Top 3 document ids: {top_k_indices_mean}')\n",
        "print(f'Top 3 document similarity scores: {top_k_scores_mean}')\n",
        "print('\\nBest matching document:\\n')\n",
        "\n",
        "best_match_index = top_k_indices_mean[0]\n",
        "pprint(retrieval_dataset.documents[best_match_index])\n"
      ]
    },
    {
      "cell_type": "markdown",
      "metadata": {
        "id": "7zl3hr5yjw2O"
      },
      "source": [
        "***In the nest two cells, write code to inspect the top 3 indices and their scores as well as the best matching document for the `min` and `max` sumamry statistics.***"
      ]
    },
    {
      "cell_type": "code",
      "execution_count": null,
      "metadata": {
        "id": "g-d7yYCDjwVc"
      },
      "outputs": [],
      "source": [
        "top_k_scores_min, top_k_indices_min = ...\n",
        "...\n"
      ]
    },
    {
      "cell_type": "code",
      "execution_count": null,
      "metadata": {
        "id": "DMjW9N1vjwHS"
      },
      "outputs": [],
      "source": [
        "top_k_scores_max, top_k_indices_max = ...\n",
        "...\n"
      ]
    },
    {
      "cell_type": "markdown",
      "metadata": {
        "id": "lBLrkUCAkatk"
      },
      "source": [
        "Do the different strategies produce different results?"
      ]
    },
    {
      "cell_type": "markdown",
      "metadata": {
        "id": "L-QUi_-H3uLx"
      },
      "source": [
        "#### Putting it all together\n",
        "\n",
        "Now that we have tested all of its components, we can reate a Python class for the document retriever based on on sentence-level document embeddings.\n",
        "\n",
        "***Fill in the code in the cell below.***"
      ]
    },
    {
      "cell_type": "code",
      "execution_count": null,
      "metadata": {
        "id": "fYWZc9G5TSha"
      },
      "outputs": [],
      "source": [
        "# SentenceEmbeddingRetriever class\n",
        "\n",
        "class SentenceEmbeddingRetriever:\n",
        "\n",
        "  # Initialise the Retriever object\n",
        "  # with a document database and a language model\n",
        "  def __init__(\n",
        "      self,\n",
        "      documents,\n",
        "      model_name,\n",
        "    ):\n",
        "\n",
        "    # Load language model\n",
        "    self.model = SentenceTransformer(\n",
        "        ... # fill in this line\n",
        "    )\n",
        "\n",
        "    # Load the sentence segmentation algorithm\n",
        "    self.spacy = English()\n",
        "    self.spacy.add_pipe(\"sentencizer\")\n",
        "\n",
        "    # Define function to split document into sentences\n",
        "    def _split(document):\n",
        "      return [sent.text for sent in self.spacy(document).sents]\n",
        "\n",
        "    # Embed documents\n",
        "    self.document_embeddings = []\n",
        "    print('Initialization: embedding documents...')\n",
        "    for document in tqdm(documents):\n",
        "\n",
        "      # Split document into sentences\n",
        "      sentences = _split(\n",
        "          ... # fill in this line\n",
        "      )\n",
        "\n",
        "      # Embed sentences\n",
        "      sentence_embeddings = self.model.encode(\n",
        "          ... # fill in this line\n",
        "      )\n",
        "\n",
        "      self.document_embeddings.append(sentence_embeddings)\n",
        "\n",
        "\n",
        "  # Retrieving function: it takes as input a query and returns\n",
        "  # the top_k (default top_k = 3) matching documents in the database\n",
        "  def retrieve(\n",
        "      self,\n",
        "      query,\n",
        "      mode,\n",
        "      top_k=3\n",
        "  ):\n",
        "\n",
        "    # Embed query\n",
        "    query_embedding = self.model.encode(\n",
        "        ... # fill in this line\n",
        "    )\n",
        "\n",
        "    # Compute sentence-level similarity scores\n",
        "    similarity_scores = []\n",
        "    for doc_sentence_embeddings in self.document_embeddings:\n",
        "      sentence_similarities = util.dot_score(\n",
        "          ... # fill in this line\n",
        "          ... # fill in this line\n",
        "      )[0]\n",
        "\n",
        "      if mode == 'max':\n",
        "        similarity_scores.append(\n",
        "            ... # fill in this line\n",
        "        )\n",
        "      elif mode == 'mean':\n",
        "        similarity_scores.append(\n",
        "            ... # fill in this line\n",
        "        )\n",
        "      elif mode == 'min':\n",
        "        similarity_scores.append(\n",
        "            ... # fill in this line\n",
        "        )\n",
        "\n",
        "    # Transform scores into a tensor, for compatibility\n",
        "    similarity_scores = torch.as_tensor(similarity_scores)\n",
        "\n",
        "    # Get top k documents and their similarity scores\n",
        "    top_k_scores, top_k_indices = torch.topk(\n",
        "      ... # fill in this line\n",
        "      ... # fill in this line\n",
        "    )\n",
        "    return top_k_indices, top_k_scores, similarity_scores\n"
      ]
    },
    {
      "cell_type": "markdown",
      "metadata": {
        "id": "UOOlufGSW4iD"
      },
      "source": [
        "Now let's test it on the previous example. Use `mode=mean` to define the summary statistic in the `retrieve` function.\n",
        "\n",
        "***Fill in the code in the cell below.***"
      ]
    },
    {
      "cell_type": "code",
      "execution_count": null,
      "metadata": {
        "id": "-8NnSXVeW_5R"
      },
      "outputs": [],
      "source": [
        "sentence_retriever = ...  # fill in\n",
        "\n",
        "top_3_indices, top_3_scores, _ = ...  # fill in\n",
        "\n",
        "print()\n",
        "print(f'Top 3 indices: {top_3_indices.tolist()}')\n",
        "print(f'Scores: {top_3_scores.tolist()}')\n",
        "print('\\nBest matching document:\\n')\n",
        "\n",
        "best_match_index = ...   # fill in\n",
        "pprint(retrieval_dataset.documents[best_match_index])\n"
      ]
    },
    {
      "cell_type": "markdown",
      "metadata": {
        "id": "uBCnHCjDWKAV"
      },
      "source": [
        "### Evaluation"
      ]
    },
    {
      "cell_type": "markdown",
      "metadata": {
        "id": "lJG6rLTOXyig"
      },
      "source": [
        "How to tell whether the sentence-based retriever actually works better than the paragraph-based one? And how to pick the best summary statistic within the sentence-based approach?\n",
        "\n",
        "To assess and compare models, we will use *accuracy@k* (or *top-k accuracy*) as an evaluation metric. This metric computes the number of times when the correct document is among the top `k` documents retrieved. This is a generalized version of accuracy, with accuracy@1 being equivalent to the standard notion of accuracy (how often the correct document is the top document retrieved). We use it because in practice, in a retrieval scenario, you most likely want to return multiple hits to the user (think of a Google search) so it can be considered sufficient for the target document to be in the top `k`.\n",
        "\n",
        "How do we know what the target document for a query is? Remember that our dataset includes news, questions, answers, and summaries. To evaluate the news retrieval system, we will use news stories as target documents and take their respective questions as queries."
      ]
    },
    {
      "cell_type": "markdown",
      "metadata": {
        "id": "43ZdkEY6bmYk"
      },
      "source": [
        "For each value of `k` in [`1`, `3`, `5`, `10`] and for each model type in [`paragraph`, `sentence_mean`, `sentence_min`, `sentence_max`], we will compute the top-`k` accuracy of that model type and store it for convenience in the following data structure (i.e., you will be replacing all the zeros with actual accuracy scores)."
      ]
    },
    {
      "cell_type": "code",
      "execution_count": null,
      "metadata": {
        "id": "cBv29_ZXazhW"
      },
      "outputs": [],
      "source": [
        "top_k_accuracy = {\n",
        "    1: {\"paragraph\": 0, \"sentence_mean\": 0, \"sentence_min\": 0,  \"sentence_max\": 0},\n",
        "    3: {\"paragraph\": 0, \"sentence_mean\": 0, \"sentence_min\": 0,  \"sentence_max\": 0},\n",
        "    5: {\"paragraph\": 0, \"sentence_mean\": 0, \"sentence_min\": 0,  \"sentence_max\": 0},\n",
        "   10: {\"paragraph\": 0, \"sentence_mean\": 0, \"sentence_min\": 0,  \"sentence_max\": 0},\n",
        "}"
      ]
    },
    {
      "cell_type": "markdown",
      "metadata": {
        "id": "UImuca6lcCst"
      },
      "source": [
        "Let's start from the paragraph-based model."
      ]
    },
    {
      "cell_type": "code",
      "execution_count": null,
      "metadata": {
        "id": "uvZSAnkycDC3"
      },
      "outputs": [],
      "source": [
        "paragraph_retriever = ParagraphEmbeddingRetriever(\n",
        "    documents=retrieval_dataset.documents,\n",
        "    model_name='multi-qa-MiniLM-L6-cos-v1'\n",
        ")\n",
        "\n",
        "# Collect similarity scores for all the queries in the dataset\n",
        "# (so we can measure top k accuracy for any k we want)\n",
        "all_similarity_scores = []\n",
        "\n",
        "for query in retrieval_dataset.queries:\n",
        "  _, _, similarity_scores = paragraph_retriever.retrieve(\n",
        "      query=query\n",
        "  )\n",
        "  all_similarity_scores.append(similarity_scores)\n",
        "\n",
        "\n",
        "# Now compute accuracy for each value of k\n",
        "for k in [1, 3, 5, 10]:\n",
        "  acc = top_k_accuracy_score(\n",
        "      retrieval_dataset.true_indices,  # these are the target document indices\n",
        "      all_similarity_scores,\n",
        "      k=k\n",
        "  )\n",
        "\n",
        "  top_k_accuracy[k][\"paragraph\"] = acc\n"
      ]
    },
    {
      "cell_type": "markdown",
      "metadata": {
        "id": "OFFZW7qzp2sE"
      },
      "source": [
        "Now evaluate the three versions of the sentence-based retriever. We only need to load it once."
      ]
    },
    {
      "cell_type": "code",
      "execution_count": null,
      "metadata": {
        "id": "jATC3zyip3eD"
      },
      "outputs": [],
      "source": [
        "sentence_retriever = SentenceEmbeddingRetriever(\n",
        "    documents=retrieval_dataset.documents,\n",
        "    model_name='multi-qa-MiniLM-L6-cos-v1'\n",
        ")"
      ]
    },
    {
      "cell_type": "markdown",
      "metadata": {
        "id": "EZnA13l1qFbS"
      },
      "source": [
        "***Fill in the missing lines in the cell below.***"
      ]
    },
    {
      "cell_type": "code",
      "execution_count": null,
      "metadata": {
        "id": "NcPOtte-qECt"
      },
      "outputs": [],
      "source": [
        "for summary_statistic in ['mean', 'min', 'max']:\n",
        "\n",
        "  all_similarity_scores = []\n",
        "\n",
        "  for query in retrieval_dataset.queries:\n",
        "    _, _, similarity_scores = sentence_retriever.retrieve(\n",
        "        query= ...  # fill in this line\n",
        "        mode= ...  # fill in this line\n",
        "    )\n",
        "    all_similarity_scores.append(similarity_scores)\n",
        "\n",
        "\n",
        "  # Now compute accuracy for each value of k\n",
        "\n",
        "  for k in ... : # fill in this line\n",
        "    acc = top_k_accuracy_score(\n",
        "        retrieval_dataset.true_indices,  # these are the target document indices\n",
        "        all_similarity_scores,\n",
        "        k=k\n",
        "    )\n",
        "\n",
        "    # Store the top-k accuracy score in the top_k_accuracy data structure\n",
        "    top_k_accuracy[k][f\"sentence_{summary_statistic}\"] = acc\n"
      ]
    },
    {
      "cell_type": "markdown",
      "metadata": {
        "id": "Zqx4QD8UgSAf"
      },
      "source": [
        "Let's see how the models fair!"
      ]
    },
    {
      "cell_type": "code",
      "execution_count": null,
      "metadata": {
        "id": "sGQ9TXLQgUnL"
      },
      "outputs": [],
      "source": [
        "top_k_accuracy_df = pd.DataFrame(top_k_accuracy)\n",
        "top_k_accuracy_df"
      ]
    },
    {
      "cell_type": "markdown",
      "metadata": {
        "id": "fIVc1IkFgYBq"
      },
      "source": [
        "**[Optional]** In the experiments above, we picked a language model and kept it fixed. However, the language model is itself an experimental variable—and a very important one, as the choice of language model determines the quality of the embeddings.\n",
        "\n",
        "Compare the retrieval systems above against systems based on two alternative language models: [`all-MiniLM-L6-v2`](https://huggingface.co/sentence-transformers/all-MiniLM-L6-v2) and [`msmarco-distilbert-base-v4`](https://huggingface.co/sentence-transformers/msmarco-distilbert-base-v4). For the sentence-based model, you don't need to evaluate all three versions. Pick only the one with the summary statistic that performed best.\n",
        "\n",
        "**[Optional]** ***Write code to reproduce the experiments above using alternative language models.***"
      ]
    },
    {
      "cell_type": "code",
      "execution_count": null,
      "metadata": {
        "id": "OIYaNB5thf95"
      },
      "outputs": [],
      "source": []
    },
    {
      "cell_type": "code",
      "execution_count": null,
      "metadata": {
        "id": "NeTTv-CAhg_u"
      },
      "outputs": [],
      "source": []
    },
    {
      "cell_type": "code",
      "execution_count": null,
      "metadata": {
        "id": "6dPhUvH0rP88"
      },
      "outputs": [],
      "source": []
    },
    {
      "cell_type": "markdown",
      "metadata": {
        "id": "dkCYnFmXhnn-"
      },
      "source": [
        "**[Optional]** In the experiments above, we used news stories as documents and their respective questions as queries. However, it is reasonable to think that summaries might be better proxies of users' queries in some real-world scenarios.\n"
      ]
    },
    {
      "cell_type": "markdown",
      "metadata": {
        "id": "eRWNlqDurpPe"
      },
      "source": [
        "For covenience, we provide a Dataset class analogous to the RetrievalDataset class above"
      ]
    },
    {
      "cell_type": "code",
      "execution_count": null,
      "metadata": {
        "id": "rDjoiYmYiTvK"
      },
      "outputs": [],
      "source": [
        "# @title RetrievalDatasetWithSummaries class\n",
        "# @markdown Please execute this cell.\n",
        "\n",
        "class RetrievalDatasetWithSummaries:\n",
        "\n",
        "  def __init__(self, dataset, num_documents=None):\n",
        "    self.dataset = dataset\n",
        "\n",
        "    if num_documents:\n",
        "      self.num_documents = num_documents\n",
        "      self.documents = self.dataset['train']['story'][:self.num_documents]\n",
        "      self.queries = self.dataset['train']['summary'][:self.num_documents]\n",
        "      self.num_queries = len(self.queries)\n",
        "    else:\n",
        "      self.documents = self.dataset['train']['story']\n",
        "      self.queries = self.dataset['train']['summary']\n",
        "      self.num_documents = len(self.documents)\n",
        "      self.num_queries = len(self.queries)\n",
        "\n",
        "    self.true_indices = []\n",
        "    for i, qs in enumerate(self.dataset['train']['summary'][:self.num_documents]):\n",
        "      for _ in qs:\n",
        "        self.true_indices.append(i)\n"
      ]
    },
    {
      "cell_type": "code",
      "execution_count": null,
      "metadata": {
        "id": "rJPCIluqimz9"
      },
      "outputs": [],
      "source": [
        "retrieval_dataset = RetrievalDatasetWithSummaries(dataset, num_documents=100)"
      ]
    },
    {
      "cell_type": "markdown",
      "metadata": {
        "id": "2IhT7iw8ruiT"
      },
      "source": [
        "**[Optional]** ***Repeat the experiments above using summaries as queries.***"
      ]
    },
    {
      "cell_type": "code",
      "execution_count": null,
      "metadata": {
        "id": "8U7ik_-r_-q1"
      },
      "outputs": [],
      "source": []
    },
    {
      "cell_type": "code",
      "execution_count": null,
      "metadata": {
        "id": "16PurmpJrv_4"
      },
      "outputs": [],
      "source": []
    },
    {
      "cell_type": "code",
      "execution_count": null,
      "metadata": {
        "id": "g9cPbsC4rv2h"
      },
      "outputs": [],
      "source": []
    },
    {
      "cell_type": "markdown",
      "metadata": {
        "id": "SHKNV8Sk__qs"
      },
      "source": [
        "------"
      ]
    },
    {
      "cell_type": "markdown",
      "metadata": {
        "id": "wQD8VVnpzDUc"
      },
      "source": [
        "## Summarization\n",
        "\n",
        "The second module is an automatic summarizer: it takes as input a news story and it generates a short summary.\n",
        "\n",
        "We will test two types of summarizers:\n",
        "1. an instruction fine-tuned (multi-task) language model: this is a language model first pre-trained on the next-word prediction task, then fine-tuned on a dataset of instruction-execution pairs for a large variety of tasks\n",
        "2. a language model fine-tuned specifically for summarization: this is a language model first pre-trained on the next-word prediction task, then fine-tuned on text-summary pairs.\n"
      ]
    },
    {
      "cell_type": "markdown",
      "metadata": {
        "id": "L_v-g6qBzILk"
      },
      "source": [
        "### Instruction fine-tuned summarizer\n",
        "\n",
        "As a multi-task instruction fine-tuned language model, we will use [`google/flan-t5-large`](https://huggingface.co/google/flan-t5-large).\n",
        "\n",
        "This model has been trained on 1.8K tasks, including summarization, phrased as instructions.\n"
      ]
    },
    {
      "cell_type": "code",
      "execution_count": null,
      "metadata": {
        "id": "L5_bn2whx6iF"
      },
      "outputs": [],
      "source": [
        "model_name_t5 = \"google/flan-t5-large\"\n",
        "tokenizer_t5 = T5Tokenizer.from_pretrained(model_name_t5)\n",
        "model_t5 = T5ForConditionalGeneration.from_pretrained(model_name_t5, device_map=\"auto\")\n"
      ]
    },
    {
      "cell_type": "markdown",
      "metadata": {
        "id": "5ehJyEtAnEBS"
      },
      "source": [
        "Let's see it at work on a news story!\n"
      ]
    },
    {
      "cell_type": "code",
      "execution_count": null,
      "metadata": {
        "id": "lnt32s0znIeV"
      },
      "outputs": [],
      "source": [
        "test_news_story = dataset[\"train\"][3][\"story\"]"
      ]
    },
    {
      "cell_type": "markdown",
      "metadata": {
        "id": "AcslTLLUnJ9x"
      },
      "source": [
        "As this is an instruction fine-tuned model, we can simply kindly ask it to summarize the story in plain words:"
      ]
    },
    {
      "cell_type": "code",
      "execution_count": null,
      "metadata": {
        "id": "_dOnKug-nUoA"
      },
      "outputs": [],
      "source": [
        "print('Instruction:\\n')\n",
        "input_text = f\"Summarize: {test_news_story}\"\n",
        "pprint(input_text)"
      ]
    },
    {
      "cell_type": "markdown",
      "metadata": {
        "id": "4AtrSWnU1vyn"
      },
      "source": [
        "Now we tokenize the instruction text."
      ]
    },
    {
      "cell_type": "code",
      "execution_count": null,
      "metadata": {
        "id": "EpIk2-gn1y2E"
      },
      "outputs": [],
      "source": [
        "device = \"cuda\" if torch.cuda.is_available() else \"cpu\"\n",
        "\n",
        "# Tokenize input\n",
        "input_ids = tokenizer_t5(input_text, return_tensors=\"pt\").input_ids.to(device)"
      ]
    },
    {
      "cell_type": "markdown",
      "metadata": {
        "id": "wB7qgQdk16nj"
      },
      "source": [
        "Then, we generate a summary. We set the minimum and maximum length of the summary to 30 and 100 tokens, respectively.\n",
        "\n",
        "***Experiment with different minimum and maximum length values by changing the parameters of the `generate` function below.***"
      ]
    },
    {
      "cell_type": "code",
      "execution_count": null,
      "metadata": {
        "id": "waT8dmzBx7sV"
      },
      "outputs": [],
      "source": [
        "# Generate summary conditioned on instruction and original news story\n",
        "outputs = model_t5.generate(\n",
        "    input_ids,\n",
        "    min_new_tokens=30,   # minimum summary length\n",
        "    max_new_tokens=100,  # maximum summary length\n",
        "    do_sample=False      # so we obtain the same sample every time\n",
        ")\n",
        "\n",
        "print(\"Summary:\\n\")\n",
        "pprint(tokenizer_t5.decode(outputs[0], skip_special_tokens=True))"
      ]
    },
    {
      "cell_type": "markdown",
      "metadata": {
        "id": "inwH99Vozk_T"
      },
      "source": [
        "#### Putting it all together\n",
        "\n",
        "Now that we have tested and understood the components of the summarizer, we can compile them in a Python class.\n",
        "\n",
        "***Fill in the minimum and maximum length based on your experiments in the cell above.***"
      ]
    },
    {
      "cell_type": "code",
      "execution_count": null,
      "metadata": {
        "id": "KxgN48Sgzvjz"
      },
      "outputs": [],
      "source": [
        "class InstructionFinetunedSummarizer:\n",
        "\n",
        "  # Initialize model and tokenizer\n",
        "  def __init__(\n",
        "      self,\n",
        "      model_name=\"google/flan-t5-large\",\n",
        "      device=None\n",
        "  ):\n",
        "    self.model = T5ForConditionalGeneration.from_pretrained(model_name).to(device)\n",
        "    self.tokenizer = T5Tokenizer.from_pretrained(model_name)\n",
        "    self.device = device\n",
        "\n",
        "\n",
        "  # Summarizing function\n",
        "  def summarize(self, input_texts):\n",
        "\n",
        "    # Tokenize texts\n",
        "    summariser_inputs = []\n",
        "    for input_text in input_texts:\n",
        "      summariser_inputs.append(\n",
        "          self.tokenizer(input_text, return_tensors=\"pt\").input_ids.to(self.device)\n",
        "      )\n",
        "\n",
        "    # Generate summaries\n",
        "    outputs = []\n",
        "    for input_ids in summariser_inputs:\n",
        "      outputs.append(\n",
        "        self.model.generate(\n",
        "          input_ids,\n",
        "          min_new_tokens=...   # set this value by experimenting with the cell above\n",
        "          max_new_tokens=...,  # set this value by experimenting with the cell above\n",
        "          do_sample=False\n",
        "        )[0]\n",
        "      )\n",
        "\n",
        "    # Transform token ids into actual words\n",
        "    summaries = self.tokenizer.batch_decode(outputs, skip_special_tokens=True)\n",
        "\n",
        "    return summaries"
      ]
    },
    {
      "cell_type": "markdown",
      "metadata": {
        "id": "OhwwNnyo3jvo"
      },
      "source": [
        "The summarizer is ready! We will evaluate it later, together with the fine-tuned summarizer below."
      ]
    },
    {
      "cell_type": "markdown",
      "metadata": {
        "id": "ViB9AzXgzOfx"
      },
      "source": [
        "### Fine-tuned summarizer\n",
        "\n",
        "As a fine-tuned summarizer, you will use [`facebook/bart-large`](https://huggingface.co/facebook/bart-large-cnn). This is a language model that has been finetuned specifically on summaries of CNN and DailyMail news stories."
      ]
    },
    {
      "cell_type": "markdown",
      "metadata": {
        "id": "pBSgxijn3xiK"
      },
      "source": [
        "Let's load the model using the Hugging Face `pipeline` functionality, which makes the code more concise."
      ]
    },
    {
      "cell_type": "code",
      "execution_count": null,
      "metadata": {
        "id": "ryZy2mWE0EEo"
      },
      "outputs": [],
      "source": [
        "summarizer = pipeline(\"summarization\", model=\"facebook/bart-large-cnn\", tokenizer=\"facebook/bart-large-cnn\")"
      ]
    },
    {
      "cell_type": "markdown",
      "metadata": {
        "id": "bbXehD3R5TW2"
      },
      "source": [
        "Generate a summary for our test news story."
      ]
    },
    {
      "cell_type": "code",
      "execution_count": null,
      "metadata": {
        "id": "_pEz40Fw5Tr_"
      },
      "outputs": [],
      "source": [
        "test_summary = summarizer(test_news_story)[0][\"summary_text\"]\n",
        "\n",
        "print('Summary:\\n')\n",
        "pprint(test_summary)"
      ]
    },
    {
      "cell_type": "markdown",
      "metadata": {
        "id": "yG7HkIpF0J2P"
      },
      "source": [
        "#### Putting it all together\n",
        "\n",
        "The `pipeline` tool already compiles different components together, but let's define a Python class for this fine-tuned summarizer for extra comfort."
      ]
    },
    {
      "cell_type": "code",
      "execution_count": null,
      "metadata": {
        "id": "8knmmmr50FR8"
      },
      "outputs": [],
      "source": [
        "class FinetunedSummarizer:\n",
        "\n",
        "  # Initialize model and tokenizer\n",
        "  def __init__(\n",
        "      self,\n",
        "      model_name=\"facebook/bart-large-cnn\",\n",
        "      device=None\n",
        "    ):\n",
        "    self.summarizer = pipeline(\"summarization\", model=model_name, tokenizer=model_name)\n",
        "    self.device = device\n",
        "    if self.device is None:\n",
        "      self.device = \"cuda\" if torch.cuda.is_available() else \"cpu\"\n",
        "\n",
        "\n",
        "  # Summmarizing function\n",
        "  # It takes texts as input and it returns summaries\n",
        "  def summarize(self, input_texts):\n",
        "    outputs = self.summarizer(input_texts)\n",
        "    summaries = [output[\"summary_text\"] for output in outputs]\n",
        "    return summaries\n"
      ]
    },
    {
      "cell_type": "markdown",
      "metadata": {
        "id": "vDkycZQC0cx9"
      },
      "source": [
        "### Evaluation\n",
        "\n",
        "How good are the summaries produced by these two models? Is the fine-tuned model better, as we would probably expect given its task-specific training data?\n",
        "\n",
        "To assess and compare summarizers, you will use two standard natural language generation (NLG) metrics that are thought to produce good proxies of summary quality:\n",
        "- **BERTScore**: BERTScore leverages contextualised word embeddings extracted from a pre-trained language model and matches words in candidate and reference sentences by cosine similarity. It has been shown to correlate with human judgment on sentence-level and system-level evaluation. BERTScore can be computed as precision, recall, and F1, which can be useful for evaluating different language generation tasks.\n",
        "- **ROUGE**: Recall-Oriented Understudy for Gisting Evaluation (ROUGE) is a set of metrics used for evaluating automatic summarization and machine translation. You will use only ROUGE-L, which measures the longest common subsequence between a generated summary and a reference summary.\n",
        "\n",
        "Both metrics are *reference-based*, i.e., they assess the quality of a summary in terms of its closeness to a reference summary, typically produced by a human. Here, you are going to use the summaries in the dataset as references."
      ]
    },
    {
      "cell_type": "markdown",
      "metadata": {
        "id": "OP4Uyoxi6l65"
      },
      "source": [
        "We define convenience functions for the evaluation metrics."
      ]
    },
    {
      "cell_type": "code",
      "execution_count": null,
      "metadata": {
        "id": "ZNix_cPV0uKX"
      },
      "outputs": [],
      "source": [
        "# @title Evaluation metrics\n",
        "# @markdown Please execute this cell.\n",
        "\n",
        "bertscore = evaluate.load(\"bertscore\")\n",
        "rouge = evaluate.load('rouge')\n",
        "\n",
        "def evaluate_summaries(predictions, references):\n",
        "\n",
        "  # Compute BERTScore\n",
        "  bertscores = bertscore.compute(\n",
        "      predictions=predictions,\n",
        "      references=references,\n",
        "      lang=\"en\"\n",
        "  )\n",
        "\n",
        "  # Take the average BERTScore over all summaries\n",
        "  result_dict = {\n",
        "      f'bertscore_{stat}': np.mean(bertscores[stat]) for stat in bertscores if stat != 'hashcode'\n",
        "  }\n",
        "\n",
        "  # Compute ROUGE (average over all summaries taken automatically)\n",
        "  rouge_scores = rouge.compute(\n",
        "      predictions=predictions,\n",
        "      references=references\n",
        "  )\n",
        "\n",
        "  result_dict['rougeL'] = rouge_scores['rougeL']\n",
        "\n",
        "  return result_dict\n"
      ]
    },
    {
      "cell_type": "markdown",
      "metadata": {
        "id": "ePtzzn2i2QrZ"
      },
      "source": [
        "#### Model comparison\n",
        "\n",
        "Let's compare the instruction fine-tuned model against the summarization fine-tuned one using BERTScore and ROUGE."
      ]
    },
    {
      "cell_type": "markdown",
      "metadata": {
        "id": "7RbYBbRX68M0"
      },
      "source": [
        "Load models and data. We will only use a subset of the data to speed up evaluation. *Feel free to use a larger subset, but beware of the longer runtimes.*"
      ]
    },
    {
      "cell_type": "code",
      "execution_count": null,
      "metadata": {
        "id": "k7U7gBZH0jLH"
      },
      "outputs": [],
      "source": [
        "instruction_model = InstructionFinetunedSummarizer()\n",
        "finetuned_model = FinetunedSummarizer()\n",
        "\n",
        "dev_set_news_stories = dataset['train']['story'][:30]\n",
        "dev_set_summaries = dataset['train']['summary'][:30]"
      ]
    },
    {
      "cell_type": "markdown",
      "metadata": {
        "id": "UHSek_uP7BrX"
      },
      "source": [
        "Generate summaries."
      ]
    },
    {
      "cell_type": "code",
      "execution_count": null,
      "metadata": {
        "id": "SlJuDa3M0ktz"
      },
      "outputs": [],
      "source": [
        "summaries_instruction = instruction_model.summarize(dev_set_news_stories)\n",
        "summaries_finetuned = finetuned_model.summarize(dev_set_news_stories)\n"
      ]
    },
    {
      "cell_type": "markdown",
      "metadata": {
        "id": "BfI6HB5a7EZt"
      },
      "source": [
        "Print out the evaluation results."
      ]
    },
    {
      "cell_type": "code",
      "execution_count": null,
      "metadata": {
        "id": "LnMdVxOJx6YL"
      },
      "outputs": [],
      "source": [
        "instruction_results = evaluate_summaries(summaries_instruction, dev_set_summaries)\n",
        "finetuned_results = evaluate_summaries(summaries_finetuned, dev_set_summaries)\n",
        "\n",
        "print('\\nInstruction Fine-Tuned Summarizer')\n",
        "print(instruction_results)\n",
        "\n",
        "print('\\nFine-Tuned Summarizer')\n",
        "print(finetuned_results)"
      ]
    },
    {
      "cell_type": "markdown",
      "metadata": {
        "id": "UOHZZipe2Kj6"
      },
      "source": [
        "#### Evaluating the evaluation metrics\n",
        "\n",
        "NLG metrics are far from perfect. They act as a proxy for human feedback when this is not available. We well now evaluate the evaluation metrics themselves by testing whether their produced scores correspond to human intuition.\n",
        "\n",
        "***Evaluate a few summaries produced by the fine-tuned model giving them a score from 1 to 4***, where:\n",
        "1. the summary doesn't match the content of the story\n",
        "2. the summary partially matches to content of the story but it doesn't convey the story's main points\n",
        "3. the summary partially matches the content of the story and it conveys the story's main points\n",
        "4. the summary matches the content of the story and it conveys the story's main points\n"
      ]
    },
    {
      "cell_type": "markdown",
      "metadata": {
        "id": "VFe8TYdC_QIY"
      },
      "source": [
        "Here, we print 5 stories and their respective summaries generated by the summary fine-tuned model. Feel free to evaluate more than 5."
      ]
    },
    {
      "cell_type": "code",
      "execution_count": null,
      "metadata": {
        "id": "W0uVoYIpysJQ"
      },
      "outputs": [],
      "source": [
        "# feel free to evaluate more than 5 summaries,\n",
        "# it will give you a better sense of the metrics' flaws\n",
        "N_manual = 5\n",
        "\n",
        "for i in range(N_manual):\n",
        "  pprint(f\"STORY {i+1}:\\n {dev_set_news_stories[i]}\")\n",
        "  print()\n",
        "  pprint(f\"SUMMARY {i+1}: {summaries_finetuned[i]}\")\n",
        "  print('\\n------------------------\\n')"
      ]
    },
    {
      "cell_type": "markdown",
      "metadata": {
        "id": "eMYEN7-0_dtE"
      },
      "source": [
        "***Provide your scores for the summaries in order in the list below.***"
      ]
    },
    {
      "cell_type": "code",
      "execution_count": null,
      "metadata": {
        "id": "DGgsFE6UyxUA"
      },
      "outputs": [],
      "source": [
        "your_scores = [\n",
        "    _, _, _, _, _\n",
        "]"
      ]
    },
    {
      "cell_type": "markdown",
      "metadata": {
        "id": "etJnDxr99wKT"
      },
      "source": [
        "Now let's see what automatic evaluation scores they get. Do they match your judgements?"
      ]
    },
    {
      "cell_type": "code",
      "execution_count": null,
      "metadata": {
        "id": "zI6l7KleyJVR"
      },
      "outputs": [],
      "source": [
        "bertscores = bertscore.compute(\n",
        "  predictions=summaries_finetuned[:N_manual],\n",
        "  references=dev_set_summaries[:N_manual],\n",
        "  lang=\"en\"\n",
        ")\n",
        "\n",
        "rouge_scores = rouge.compute(\n",
        "      predictions=summaries_finetuned[:N_manual],\n",
        "      references=dev_set_summaries[:N_manual],\n",
        "      use_aggregator=False\n",
        ")\n",
        "\n",
        "print('BertScore:')\n",
        "for score_name, score in bertscores.items():\n",
        "  print(f'  {score_name}: {score}')\n",
        "\n",
        "print()\n",
        "print('Rouge:')\n",
        "print(f'  {rouge_scores[\"rougeL\"]}')"
      ]
    },
    {
      "cell_type": "markdown",
      "metadata": {
        "id": "GwGCOr_q_u4q"
      },
      "source": [
        "This is exactly how evaluation metrics are evaluated in NLP research. Human quality judgements are collected and then their correlation with the evaluation metric scores is computed. Here, we do not compute correlations as the number of scores to compare is too low."
      ]
    },
    {
      "cell_type": "markdown",
      "metadata": {
        "id": "4YViVDY8ADJg"
      },
      "source": [
        "------"
      ]
    },
    {
      "cell_type": "markdown",
      "metadata": {
        "id": "GdByYtb02jEv"
      },
      "source": [
        "## Question Answering\n",
        "\n",
        "The third module is a Question Answering system: it takes as input a news story and a question and it generates a short answer.\n",
        "\n",
        "You will test two types of QA systems:\n",
        "1. an instruction fine-tuned (multi-task) language model\n",
        "2. a language model fine-tuned specifically for question answering\n"
      ]
    },
    {
      "cell_type": "markdown",
      "metadata": {
        "id": "JIVtNPCv2ltr"
      },
      "source": [
        "### Instruction Fine-Tuned\n",
        "\n",
        "As a multi-task instruction fine-tuned language model, you will again use [`google/flan-t5-large`](https://huggingface.co/google/flan-t5-large). Question answering is among the 1.8K tasks this model was trained on.\n"
      ]
    },
    {
      "cell_type": "code",
      "execution_count": null,
      "metadata": {
        "id": "aLchXTA3AtNL"
      },
      "outputs": [],
      "source": [
        "model_name_t5 = \"google/flan-t5-large\"\n",
        "tokenizer_t5 = T5Tokenizer.from_pretrained(model_name_t5)\n",
        "model_t5 = T5ForConditionalGeneration.from_pretrained(model_name_t5, device_map=\"auto\")\n"
      ]
    },
    {
      "cell_type": "markdown",
      "metadata": {
        "id": "v5qJ6uaSAtNO"
      },
      "source": [
        "Let's see it at work on a sample question!\n"
      ]
    },
    {
      "cell_type": "code",
      "execution_count": null,
      "metadata": {
        "id": "qrxVfx1pAtNP"
      },
      "outputs": [],
      "source": [
        "test_news_story = dataset[\"train\"][1][\"story\"]"
      ]
    },
    {
      "cell_type": "code",
      "execution_count": null,
      "metadata": {
        "id": "WSbibgjoBgVn"
      },
      "outputs": [],
      "source": [
        "question = \"What will power the motors used in electric cars and trucks?\""
      ]
    },
    {
      "cell_type": "markdown",
      "metadata": {
        "id": "zXoUyh2PAtNP"
      },
      "source": [
        "Again, as this is an instruction fine-tuned model, we can simply provide it with a news story and ask it a question."
      ]
    },
    {
      "cell_type": "code",
      "execution_count": null,
      "metadata": {
        "id": "RkaVwv_eAtNQ"
      },
      "outputs": [],
      "source": [
        "input_text = f\"Context: {test_news_story}\\n Question: {question}\"  # \\n is the newline symbol\n",
        "input_text"
      ]
    },
    {
      "cell_type": "markdown",
      "metadata": {
        "id": "PxKbznLJAPI6"
      },
      "source": [
        "Now let's tokenize the instruction text and pass it to the model for conditional generation.\n",
        "\n",
        "We set the minimum and maximum length of the generated answer to 5 and 30 tokens, respectively.  ***Experiment with different minimum and maximum length values by changing the parameters of the `generate` function below.***"
      ]
    },
    {
      "cell_type": "code",
      "execution_count": null,
      "metadata": {
        "id": "FXjDLGFGAtNQ"
      },
      "outputs": [],
      "source": [
        "# Tokenize input\n",
        "device = \"cuda\" if torch.cuda.is_available() else \"cpu\"\n",
        "input_ids = tokenizer_t5(input_text, return_tensors=\"pt\").input_ids.to(device)\n",
        "\n",
        "# Generate summary conditioned on instruction and original news story\n",
        "outputs = model_t5.generate(\n",
        "    input_ids,\n",
        "    min_new_tokens=5,   # minimum answer length\n",
        "    max_new_tokens=30,  # maximum summary length\n",
        "    do_sample=False     # so we obtain the same sample every time\n",
        ")\n",
        "\n",
        "pprint(tokenizer_t5.decode(outputs[0], skip_special_tokens=True))"
      ]
    },
    {
      "cell_type": "markdown",
      "metadata": {
        "id": "oq4hMHJj2vEM"
      },
      "source": [
        "#### Putting it all together\n",
        "\n",
        "Now that we have tested and understood the components of the QA system, we can compile them in a Python class.\n",
        "\n",
        "***Fill in the minimum and maximum length based on your experiments in the cell above.***"
      ]
    },
    {
      "cell_type": "code",
      "execution_count": null,
      "metadata": {
        "id": "EF0FHXkJCCMv"
      },
      "outputs": [],
      "source": [
        "class InstructionFinetunedQA:\n",
        "\n",
        "  # Initialize model and tokenizer\n",
        "  def __init__(\n",
        "    self,\n",
        "    model_name=\"google/flan-t5-large\",\n",
        "    device=None\n",
        "  ):\n",
        "    self.model = T5ForConditionalGeneration.from_pretrained(model_name).to(device)\n",
        "    self.tokenizer = T5Tokenizer.from_pretrained(model_name)\n",
        "    self.device = device\n",
        "    if self.device is None:\n",
        "      self.device = \"cuda\" if torch.cuda.is_available() else \"cpu\"\n",
        "\n",
        "\n",
        "\n",
        "  # Question answering function\n",
        "  # It takes as input multiple texts and multiple questions\n",
        "  # (one per text) and it returns the corresponding answers\n",
        "  def qa(self, input_texts, questions):\n",
        "    assert len(input_texts) == len(questions)\n",
        "\n",
        "    # Tokenize input text: news stories and questions\n",
        "    qa_inputs = []\n",
        "    for text, question in zip(input_texts, questions):\n",
        "      qa_inputs.append(\n",
        "        self.tokenizer(\n",
        "          f\"Context: {text}\\n Question: {question}\",\n",
        "          return_tensors=\"pt\"\n",
        "        ).input_ids.to(self.device)\n",
        "      )\n",
        "\n",
        "    # Generate answers\n",
        "    outputs = []\n",
        "    for qa_input in qa_inputs:\n",
        "      outputs.append(\n",
        "        self.model.generate(\n",
        "          qa_input,\n",
        "          min_new_tokens=...   # set this value by experimenting with the cell above\n",
        "          max_new_tokens=...,  # set this value by experimenting with the cell above\n",
        "          do_sample=False\n",
        "        )[0]\n",
        "      )\n",
        "\n",
        "    # Transform token ids into actual words\n",
        "    answers = self.tokenizer.batch_decode(outputs, skip_special_tokens=True)\n",
        "\n",
        "    return answers\n",
        "\n"
      ]
    },
    {
      "cell_type": "markdown",
      "metadata": {
        "id": "yEkfNRWE2riO"
      },
      "source": [
        "### Fine-tuned QA\n",
        "\n",
        "As a fine-tuned summarizer, you will use [`deepset/roberta-base-squad2`](https://huggingface.co/deepset/roberta-base-squad2). This is a language model fine-tuned on question-answer pairs."
      ]
    },
    {
      "cell_type": "code",
      "execution_count": null,
      "metadata": {
        "id": "ivZJtUCDFDCD"
      },
      "outputs": [],
      "source": [
        "model_name_qa = \"deepset/roberta-base-squad2\"\n",
        "qa_pipeline = pipeline('question-answering', model=model_name_qa, tokenizer=model_name_qa)"
      ]
    },
    {
      "cell_type": "markdown",
      "metadata": {
        "id": "TyB1XZOnFxVU"
      },
      "source": [
        "Let's test it on the same question as above."
      ]
    },
    {
      "cell_type": "code",
      "execution_count": null,
      "metadata": {
        "id": "U-LZFnPbFyVc"
      },
      "outputs": [],
      "source": [
        "test_news_story = dataset[\"train\"][1][\"story\"]\n",
        "question = \"What will power the motors used in electric cars and trucks?\""
      ]
    },
    {
      "cell_type": "markdown",
      "metadata": {
        "id": "_Nd3eDCbGZ3C"
      },
      "source": [
        "Here, we need to provide text and question in a dictionary but they are used as a single string of text under the hood, just like before. After all, this is a language model too."
      ]
    },
    {
      "cell_type": "code",
      "execution_count": null,
      "metadata": {
        "id": "mdXaZICZF5k0"
      },
      "outputs": [],
      "source": [
        "qa_input = {\n",
        "    'question': question,\n",
        "    'context': test_news_story\n",
        "}\n",
        "\n",
        "qa_output = qa_pipeline(qa_input)\n",
        "\n",
        "pprint(qa_output['answer'])"
      ]
    },
    {
      "cell_type": "markdown",
      "metadata": {
        "id": "6mEryJA22tzf"
      },
      "source": [
        "#### Putting it all together\n",
        "\n",
        "Let's compile the fine-tuned QA system into a Python class for ease of use."
      ]
    },
    {
      "cell_type": "code",
      "execution_count": null,
      "metadata": {
        "id": "axztinI1GC3U"
      },
      "outputs": [],
      "source": [
        "class FinetunedQA:\n",
        "\n",
        "  # Initialize model and tokenizer\n",
        "  def __init__(\n",
        "    self,\n",
        "    model_name=\"deepset/roberta-base-squad2\",\n",
        "    device=None\n",
        "  ):\n",
        "    self.qa_pipeline = pipeline('question-answering', model=model_name, tokenizer=model_name)\n",
        "    self.device = device\n",
        "    if self.device is None:\n",
        "      self.device = \"cuda\" if torch.cuda.is_available() else \"cpu\"\n",
        "\n",
        "\n",
        "\n",
        "  # Question answering function\n",
        "  # It takes as input multiple texts and multiple questions\n",
        "  # (one per text) and it returns the corresponding answers\n",
        "  def qa(self, input_texts, questions):\n",
        "    assert len(input_texts) == len(questions)\n",
        "\n",
        "    # Prepare input: texts + questions\n",
        "    qa_inputs = []\n",
        "    for text, question in zip(input_texts, questions):\n",
        "      qa_inputs.append({\n",
        "        'context': text,\n",
        "        'question': question\n",
        "      })\n",
        "\n",
        "    # Generate answers\n",
        "    outputs = self.qa_pipeline(qa_inputs)\n",
        "\n",
        "    # Deal with the special case where only one\n",
        "    # text-question pair is provided as input\n",
        "    if type(outputs) is dict:\n",
        "      answers = outputs[\"answer\"]\n",
        "    else:\n",
        "      answers = [output[\"answer\"] for output in outputs]\n",
        "\n",
        "    return answers\n"
      ]
    },
    {
      "cell_type": "markdown",
      "metadata": {
        "id": "j3WgYJdw24H3"
      },
      "source": [
        "### Evaluation\n",
        "\n",
        "\n",
        "How good are the questions produced by these two models? Is the fine-tuned model better?\n",
        "\n",
        "To assess and compare QA systems, you will use two reference-based NLG evaluation metrics:\n",
        "- **BERTScore**: Remember, BERTScore leverages contextualised word embeddings extracted from a pre-trained language model and matches words in candidate and reference sentences by cosine similarity. It is a general way to measure the similarity between two pieces of text, so it be useful for evaluating different language generation tasks.\n",
        "- **Exact Match**: Because answers are typically short, it is reasonable to expect them to exactly match the human reference. This is what Exact Match does: it is 1 when the generated answer matches the reference, and 0 otherwise. We will report the relative amount of exact matches across all question-answer pairs.\n"
      ]
    },
    {
      "cell_type": "code",
      "execution_count": null,
      "metadata": {
        "id": "DGCshFTvHFud"
      },
      "outputs": [],
      "source": [
        "# @title Evaluation metrics\n",
        "# @markdown Please execute this cell.\n",
        "\n",
        "bertscore = evaluate.load(\"bertscore\")\n",
        "exact_match = evaluate.load('exact_match')\n",
        "\n",
        "def evaluate_qa(predictions, references):\n",
        "\n",
        "   # Compute BERTScore\n",
        "  bertscores = bertscore.compute(\n",
        "      predictions=predictions,\n",
        "      references=references,\n",
        "      lang=\"en\"\n",
        "  )\n",
        "\n",
        "  # Take the average BERTScore over all summaries\n",
        "  result_dict = {\n",
        "      f'bertscore_{stat}': np.mean(bertscores[stat]) for stat in bertscores if stat != 'hashcode'\n",
        "  }\n",
        "\n",
        "  # Compute percentage of exact matches\n",
        "  exact_match_scores = exact_match.compute(predictions=predictions, references=references)\n",
        "\n",
        "  result_dict['exact_match'] = exact_match_scores['exact_match']\n",
        "\n",
        "  return result_dict"
      ]
    },
    {
      "cell_type": "markdown",
      "metadata": {
        "id": "eLk9pDx_Ic0L"
      },
      "source": [
        "#### Model comparison\n",
        "\n",
        "Let's compare the instruction fine-tuned model against the fine-tuned one."
      ]
    },
    {
      "cell_type": "markdown",
      "metadata": {
        "id": "sUGzrhf5BRyU"
      },
      "source": [
        "Load the models."
      ]
    },
    {
      "cell_type": "code",
      "execution_count": null,
      "metadata": {
        "id": "6aD4toZJIc0N"
      },
      "outputs": [],
      "source": [
        "instruction_model = InstructionFinetunedQA()\n",
        "finetuned_model = FinetunedQA()\n"
      ]
    },
    {
      "cell_type": "markdown",
      "metadata": {
        "id": "YhRYjrBRBV1I"
      },
      "source": [
        "Load the data. Multiple question-answer pairs are available for each story. For simplicity, you'll only use one."
      ]
    },
    {
      "cell_type": "code",
      "execution_count": null,
      "metadata": {
        "id": "79ZJGrJDJK04"
      },
      "outputs": [],
      "source": [
        "dev_set_news_stories = dataset['train']['story']\n",
        "\n",
        "# For each story, take the first question and first answer only\n",
        "dev_set_questions = [dataset['train'][i]['questions'][0] for i in range(len(dev_set_news_stories))]\n",
        "dev_set_answers = [dataset['train'][i]['answers'][0][0] for i in range(len(dev_set_news_stories))]"
      ]
    },
    {
      "cell_type": "markdown",
      "metadata": {
        "id": "XTSd4rzIBbsO"
      },
      "source": [
        "We'll limit the data to a subset of the original dataset consisting of 30 data points. *Feel free to use a larger subset, but beware of the longer runtimes.*"
      ]
    },
    {
      "cell_type": "code",
      "execution_count": null,
      "metadata": {
        "id": "dhiDntAiBlIa"
      },
      "outputs": [],
      "source": [
        "dev_set_news_stories = dev_set_news_stories[:30]\n",
        "dev_set_questions = dev_set_questions[:30]\n",
        "dev_set_answers = dev_set_answers[:3L0]"
      ]
    },
    {
      "cell_type": "markdown",
      "metadata": {
        "id": "HtsV50KYBsv8"
      },
      "source": [
        "Conditionally generate answers."
      ]
    },
    {
      "cell_type": "code",
      "execution_count": null,
      "metadata": {
        "id": "ZIg2mNEOIc0O"
      },
      "outputs": [],
      "source": [
        "answers_instruction = instruction_model.qa(dev_set_news_stories, dev_set_questions)\n",
        "answers_finetuned = finetuned_model.qa(dev_set_news_stories, dev_set_questions)\n"
      ]
    },
    {
      "cell_type": "markdown",
      "metadata": {
        "id": "9FDUTo1dBwVV"
      },
      "source": [
        "Print out the evaluation results."
      ]
    },
    {
      "cell_type": "code",
      "execution_count": null,
      "metadata": {
        "id": "YQiiadQTIc0O"
      },
      "outputs": [],
      "source": [
        "print('Instruction Fine-Tuned QA')\n",
        "print(evaluate_qa(answers_instruction, dev_set_answers))\n",
        "\n",
        "print()\n",
        "\n",
        "print('Fine-Tuned QA')\n",
        "print(evaluate_qa(answers_finetuned, dev_set_answers))"
      ]
    },
    {
      "cell_type": "markdown",
      "metadata": {
        "id": "vqZaSNoEIc0P"
      },
      "source": [
        "#### Evaluating the evaluation metrics\n",
        "\n",
        "Evaluate a few answers produced by the fine-tuned model giving them a score from 1 to 4, where:\n",
        "1. the answer is completely off\n",
        "2. the answer is partially correct but not fluent\n",
        "3. the answer is partially correct but fluent\n",
        "4. the answer is correct and fluent\n",
        "\n",
        "\n",
        "Here, we print 5 stories and their respective question-answer pairs, generated by both humans and the QA fine-tuned model. Feel free to evaluate more than 5.\n"
      ]
    },
    {
      "cell_type": "code",
      "execution_count": null,
      "metadata": {
        "id": "QoHKBE09Ic0P"
      },
      "outputs": [],
      "source": [
        "# feel free to evaluate more than 5 generated answers,\n",
        "# it will give you a better sense of the metrics' flaws\n",
        "N_manual = 5\n",
        "\n",
        "for i in range(N_manual):\n",
        "  pprint(f\"STORY {i+1}: {dev_set_news_stories[i]}\")\n",
        "  print()\n",
        "  pprint(f\"QUESTION {i+1}: {dev_set_questions[i]}\")\n",
        "  print()\n",
        "  pprint(f\"GENERATED ANSWER {i+1}: {answers_finetuned[i]}\")\n",
        "  print()\n",
        "  pprint(f\"HUMAN ANSWER {i+1}: {dev_set_answers[i]}\")\n",
        "  print('\\n------------------------\\n')"
      ]
    },
    {
      "cell_type": "markdown",
      "metadata": {
        "id": "sNa8WEHrCMI2"
      },
      "source": [
        "***Provide your scores for the summaries in order in the list below.***"
      ]
    },
    {
      "cell_type": "code",
      "execution_count": null,
      "metadata": {
        "id": "UEr4Uq8QIc0P"
      },
      "outputs": [],
      "source": [
        "your_scores = [\n",
        "    _, _, _, _, _\n",
        "]"
      ]
    },
    {
      "cell_type": "markdown",
      "metadata": {
        "id": "VpOpwveJIc0Q"
      },
      "source": [
        "Now let's see what BERTScores they get. Do they match your judgements?"
      ]
    },
    {
      "cell_type": "code",
      "execution_count": null,
      "metadata": {
        "id": "OuSuqMBDIc0Q"
      },
      "outputs": [],
      "source": [
        "bertscores = bertscore.compute(\n",
        "  predictions=answers_finetuned[:N_manual],\n",
        "  references=dev_set_answers[:N_manual],\n",
        "  lang=\"en\"\n",
        ")\n",
        "\n",
        "print(f'BertScore: {bertscores}')\n"
      ]
    },
    {
      "cell_type": "markdown",
      "metadata": {
        "id": "-dpOcS0G3zFC"
      },
      "source": [
        "## The *Newsreader Chatbot*\n",
        "\n",
        "Finally all three modules are ready and we can assembled them into our *Newsreader Chatbot*. Enjoy!"
      ]
    },
    {
      "cell_type": "code",
      "execution_count": null,
      "metadata": {
        "id": "UN4xWSzq4Lp8"
      },
      "outputs": [],
      "source": [
        "class NewsReader:\n",
        "\n",
        "  def __init__(self, database_size=500, num_retrieved_articles=3):\n",
        "    self.dataset = load_dataset(\"glnmario/news-qa-summarization\")\n",
        "    self.articles = self.dataset['train']['story'][:database_size]\n",
        "\n",
        "    self.summarizer = FinetunedSummarizer()\n",
        "    self.retriever = SentenceEmbeddingRetriever(self.articles, model_name=\"multi-qa-MiniLM-L6-cos-v1\")\n",
        "    self.answerer = FinetunedQA()\n",
        "\n",
        "    self.num_retrieved_articles = num_retrieved_articles\n",
        "\n",
        "\n",
        "  def _ask_for_article_number_and_show_article(self, message, selected_articles):\n",
        "    target_article_idx = input(message)\n",
        "    while target_article_idx not in map(str, range(1, self.num_retrieved_articles+1)):\n",
        "      target_article_idx = input('\\nPlease just enter the article number.\\n\\n')\n",
        "\n",
        "    selected_article = selected_articles[int(target_article_idx) - 1]\n",
        "    pprint(selected_articles[int(target_article_idx) - 1])\n",
        "    return selected_article\n",
        "\n",
        "\n",
        "  def chat(self):\n",
        "    query = input('What news topic do you want to look for?\\n\\n')\n",
        "    print(f\"\\nOk! I am searching and summarizing news stories about {query}...\")\n",
        "\n",
        "    top_indices, top_scores, _ = self.retriever.retrieve(query, top_k=self.num_retrieved_articles, mode='max')\n",
        "    selected_articles = [self.articles[i] for i in top_indices]\n",
        "    summaries = self.summarizer.summarize(selected_articles)\n",
        "\n",
        "    print('These are summaries of the three news stories that best match your search.\\n')\n",
        "    for i, summary in enumerate(summaries, start=1):\n",
        "      pprint(f'{i}: {summary}')\n",
        "      print()\n",
        "\n",
        "    selected_article = self._ask_for_article_number_and_show_article(\n",
        "        '\\nWhich article would you like to read? Please enter the article number.\\n\\n',\n",
        "        selected_articles\n",
        "    )\n",
        "\n",
        "    question = input('\\n\\nDo you have any questions?\\n\\n')\n",
        "    while question.lower() in ['no', 'no.', 'nope', \"i don't\", 'i do not']:\n",
        "      selected_article = self._ask_for_article_number_and_show_article(\n",
        "          '\\nWould you like to read another article? If so, which one? Please enter the article number.\\n\\n',\n",
        "          selected_articles\n",
        "      )\n",
        "      question = input('\\n\\nDo you have any questions?\\n\\n')\n",
        "\n",
        "    print()\n",
        "    print(self.answerer.qa([selected_article], [question]))\n",
        "\n",
        "    question = input('\\n\\nDo you have another question?\\n\\n')\n",
        "    while question.lower() not in ['no', 'no.', 'nope', \"i don't\", 'i do not']:\n",
        "      print(self.answerer.qa([selected_article], [question]))\n",
        "      question = input('\\n\\nDo you have another question?\\n\\n')\n",
        "\n",
        "\n",
        "    print('\\nI hope I have been helpful. Talk again soon!')\n"
      ]
    },
    {
      "cell_type": "code",
      "execution_count": null,
      "metadata": {
        "id": "4HgsiS084Nja"
      },
      "outputs": [],
      "source": [
        "bot = NewsReader(database_size=10)\n",
        "bot.chat()"
      ]
    },
    {
      "cell_type": "code",
      "execution_count": null,
      "metadata": {
        "id": "Ws3WVyrqc00H"
      },
      "outputs": [],
      "source": []
    }
  ],
  "metadata": {
    "colab": {
      "provenance": [],
      "toc_visible": true,
      "include_colab_link": true
    },
    "kernelspec": {
      "display_name": "Python 3 (ipykernel)",
      "language": "python",
      "name": "python3"
    },
    "language_info": {
      "codemirror_mode": {
        "name": "ipython",
        "version": 3
      },
      "file_extension": ".py",
      "mimetype": "text/x-python",
      "name": "python",
      "nbconvert_exporter": "python",
      "pygments_lexer": "ipython3",
      "version": "3.11.5"
    },
    "widgets": {
      "application/vnd.jupyter.widget-state+json": {
        "48295901ed864af29eb254946e93a502": {
          "model_module": "@jupyter-widgets/controls",
          "model_name": "HBoxModel",
          "model_module_version": "1.5.0",
          "state": {
            "_dom_classes": [],
            "_model_module": "@jupyter-widgets/controls",
            "_model_module_version": "1.5.0",
            "_model_name": "HBoxModel",
            "_view_count": null,
            "_view_module": "@jupyter-widgets/controls",
            "_view_module_version": "1.5.0",
            "_view_name": "HBoxView",
            "box_style": "",
            "children": [
              "IPY_MODEL_c7a97096f888459c9e6ca0b319386882",
              "IPY_MODEL_b10dbc46fdee4e56a58a9e725eeefc2f",
              "IPY_MODEL_fa8a56b8acd740cc9da988e7633e7194"
            ],
            "layout": "IPY_MODEL_ee00ef4b004a487593874f467250ed06"
          }
        },
        "c7a97096f888459c9e6ca0b319386882": {
          "model_module": "@jupyter-widgets/controls",
          "model_name": "HTMLModel",
          "model_module_version": "1.5.0",
          "state": {
            "_dom_classes": [],
            "_model_module": "@jupyter-widgets/controls",
            "_model_module_version": "1.5.0",
            "_model_name": "HTMLModel",
            "_view_count": null,
            "_view_module": "@jupyter-widgets/controls",
            "_view_module_version": "1.5.0",
            "_view_name": "HTMLView",
            "description": "",
            "description_tooltip": null,
            "layout": "IPY_MODEL_8e6b7bac001a4a6e857ffb56debcfaf0",
            "placeholder": "​",
            "style": "IPY_MODEL_0815b8f34139442096967dea50185760",
            "value": "Downloading readme: 100%"
          }
        },
        "b10dbc46fdee4e56a58a9e725eeefc2f": {
          "model_module": "@jupyter-widgets/controls",
          "model_name": "FloatProgressModel",
          "model_module_version": "1.5.0",
          "state": {
            "_dom_classes": [],
            "_model_module": "@jupyter-widgets/controls",
            "_model_module_version": "1.5.0",
            "_model_name": "FloatProgressModel",
            "_view_count": null,
            "_view_module": "@jupyter-widgets/controls",
            "_view_module_version": "1.5.0",
            "_view_name": "ProgressView",
            "bar_style": "success",
            "description": "",
            "description_tooltip": null,
            "layout": "IPY_MODEL_88a1952f64154a159c6c997a11a0e2f0",
            "max": 715,
            "min": 0,
            "orientation": "horizontal",
            "style": "IPY_MODEL_ec64ef45254e4a879a003ff5ee2e9154",
            "value": 715
          }
        },
        "fa8a56b8acd740cc9da988e7633e7194": {
          "model_module": "@jupyter-widgets/controls",
          "model_name": "HTMLModel",
          "model_module_version": "1.5.0",
          "state": {
            "_dom_classes": [],
            "_model_module": "@jupyter-widgets/controls",
            "_model_module_version": "1.5.0",
            "_model_name": "HTMLModel",
            "_view_count": null,
            "_view_module": "@jupyter-widgets/controls",
            "_view_module_version": "1.5.0",
            "_view_name": "HTMLView",
            "description": "",
            "description_tooltip": null,
            "layout": "IPY_MODEL_d59dd55d84254195b07ce3c297fc1a0a",
            "placeholder": "​",
            "style": "IPY_MODEL_1ea25ea00b7b45e88d1d36b95851720d",
            "value": " 715/715 [00:00&lt;00:00, 7.99kB/s]"
          }
        },
        "ee00ef4b004a487593874f467250ed06": {
          "model_module": "@jupyter-widgets/base",
          "model_name": "LayoutModel",
          "model_module_version": "1.2.0",
          "state": {
            "_model_module": "@jupyter-widgets/base",
            "_model_module_version": "1.2.0",
            "_model_name": "LayoutModel",
            "_view_count": null,
            "_view_module": "@jupyter-widgets/base",
            "_view_module_version": "1.2.0",
            "_view_name": "LayoutView",
            "align_content": null,
            "align_items": null,
            "align_self": null,
            "border": null,
            "bottom": null,
            "display": null,
            "flex": null,
            "flex_flow": null,
            "grid_area": null,
            "grid_auto_columns": null,
            "grid_auto_flow": null,
            "grid_auto_rows": null,
            "grid_column": null,
            "grid_gap": null,
            "grid_row": null,
            "grid_template_areas": null,
            "grid_template_columns": null,
            "grid_template_rows": null,
            "height": null,
            "justify_content": null,
            "justify_items": null,
            "left": null,
            "margin": null,
            "max_height": null,
            "max_width": null,
            "min_height": null,
            "min_width": null,
            "object_fit": null,
            "object_position": null,
            "order": null,
            "overflow": null,
            "overflow_x": null,
            "overflow_y": null,
            "padding": null,
            "right": null,
            "top": null,
            "visibility": null,
            "width": null
          }
        },
        "8e6b7bac001a4a6e857ffb56debcfaf0": {
          "model_module": "@jupyter-widgets/base",
          "model_name": "LayoutModel",
          "model_module_version": "1.2.0",
          "state": {
            "_model_module": "@jupyter-widgets/base",
            "_model_module_version": "1.2.0",
            "_model_name": "LayoutModel",
            "_view_count": null,
            "_view_module": "@jupyter-widgets/base",
            "_view_module_version": "1.2.0",
            "_view_name": "LayoutView",
            "align_content": null,
            "align_items": null,
            "align_self": null,
            "border": null,
            "bottom": null,
            "display": null,
            "flex": null,
            "flex_flow": null,
            "grid_area": null,
            "grid_auto_columns": null,
            "grid_auto_flow": null,
            "grid_auto_rows": null,
            "grid_column": null,
            "grid_gap": null,
            "grid_row": null,
            "grid_template_areas": null,
            "grid_template_columns": null,
            "grid_template_rows": null,
            "height": null,
            "justify_content": null,
            "justify_items": null,
            "left": null,
            "margin": null,
            "max_height": null,
            "max_width": null,
            "min_height": null,
            "min_width": null,
            "object_fit": null,
            "object_position": null,
            "order": null,
            "overflow": null,
            "overflow_x": null,
            "overflow_y": null,
            "padding": null,
            "right": null,
            "top": null,
            "visibility": null,
            "width": null
          }
        },
        "0815b8f34139442096967dea50185760": {
          "model_module": "@jupyter-widgets/controls",
          "model_name": "DescriptionStyleModel",
          "model_module_version": "1.5.0",
          "state": {
            "_model_module": "@jupyter-widgets/controls",
            "_model_module_version": "1.5.0",
            "_model_name": "DescriptionStyleModel",
            "_view_count": null,
            "_view_module": "@jupyter-widgets/base",
            "_view_module_version": "1.2.0",
            "_view_name": "StyleView",
            "description_width": ""
          }
        },
        "88a1952f64154a159c6c997a11a0e2f0": {
          "model_module": "@jupyter-widgets/base",
          "model_name": "LayoutModel",
          "model_module_version": "1.2.0",
          "state": {
            "_model_module": "@jupyter-widgets/base",
            "_model_module_version": "1.2.0",
            "_model_name": "LayoutModel",
            "_view_count": null,
            "_view_module": "@jupyter-widgets/base",
            "_view_module_version": "1.2.0",
            "_view_name": "LayoutView",
            "align_content": null,
            "align_items": null,
            "align_self": null,
            "border": null,
            "bottom": null,
            "display": null,
            "flex": null,
            "flex_flow": null,
            "grid_area": null,
            "grid_auto_columns": null,
            "grid_auto_flow": null,
            "grid_auto_rows": null,
            "grid_column": null,
            "grid_gap": null,
            "grid_row": null,
            "grid_template_areas": null,
            "grid_template_columns": null,
            "grid_template_rows": null,
            "height": null,
            "justify_content": null,
            "justify_items": null,
            "left": null,
            "margin": null,
            "max_height": null,
            "max_width": null,
            "min_height": null,
            "min_width": null,
            "object_fit": null,
            "object_position": null,
            "order": null,
            "overflow": null,
            "overflow_x": null,
            "overflow_y": null,
            "padding": null,
            "right": null,
            "top": null,
            "visibility": null,
            "width": null
          }
        },
        "ec64ef45254e4a879a003ff5ee2e9154": {
          "model_module": "@jupyter-widgets/controls",
          "model_name": "ProgressStyleModel",
          "model_module_version": "1.5.0",
          "state": {
            "_model_module": "@jupyter-widgets/controls",
            "_model_module_version": "1.5.0",
            "_model_name": "ProgressStyleModel",
            "_view_count": null,
            "_view_module": "@jupyter-widgets/base",
            "_view_module_version": "1.2.0",
            "_view_name": "StyleView",
            "bar_color": null,
            "description_width": ""
          }
        },
        "d59dd55d84254195b07ce3c297fc1a0a": {
          "model_module": "@jupyter-widgets/base",
          "model_name": "LayoutModel",
          "model_module_version": "1.2.0",
          "state": {
            "_model_module": "@jupyter-widgets/base",
            "_model_module_version": "1.2.0",
            "_model_name": "LayoutModel",
            "_view_count": null,
            "_view_module": "@jupyter-widgets/base",
            "_view_module_version": "1.2.0",
            "_view_name": "LayoutView",
            "align_content": null,
            "align_items": null,
            "align_self": null,
            "border": null,
            "bottom": null,
            "display": null,
            "flex": null,
            "flex_flow": null,
            "grid_area": null,
            "grid_auto_columns": null,
            "grid_auto_flow": null,
            "grid_auto_rows": null,
            "grid_column": null,
            "grid_gap": null,
            "grid_row": null,
            "grid_template_areas": null,
            "grid_template_columns": null,
            "grid_template_rows": null,
            "height": null,
            "justify_content": null,
            "justify_items": null,
            "left": null,
            "margin": null,
            "max_height": null,
            "max_width": null,
            "min_height": null,
            "min_width": null,
            "object_fit": null,
            "object_position": null,
            "order": null,
            "overflow": null,
            "overflow_x": null,
            "overflow_y": null,
            "padding": null,
            "right": null,
            "top": null,
            "visibility": null,
            "width": null
          }
        },
        "1ea25ea00b7b45e88d1d36b95851720d": {
          "model_module": "@jupyter-widgets/controls",
          "model_name": "DescriptionStyleModel",
          "model_module_version": "1.5.0",
          "state": {
            "_model_module": "@jupyter-widgets/controls",
            "_model_module_version": "1.5.0",
            "_model_name": "DescriptionStyleModel",
            "_view_count": null,
            "_view_module": "@jupyter-widgets/base",
            "_view_module_version": "1.2.0",
            "_view_name": "StyleView",
            "description_width": ""
          }
        },
        "657bca763aa94aa89755cefb2b02cb47": {
          "model_module": "@jupyter-widgets/controls",
          "model_name": "HBoxModel",
          "model_module_version": "1.5.0",
          "state": {
            "_dom_classes": [],
            "_model_module": "@jupyter-widgets/controls",
            "_model_module_version": "1.5.0",
            "_model_name": "HBoxModel",
            "_view_count": null,
            "_view_module": "@jupyter-widgets/controls",
            "_view_module_version": "1.5.0",
            "_view_name": "HBoxView",
            "box_style": "",
            "children": [
              "IPY_MODEL_35c4da0e6a8e43a098d6512dfb32add4",
              "IPY_MODEL_237d9fa5acd74ef9a41abfdc4142bc89",
              "IPY_MODEL_d27391d4a01d4967aa1a48dcb9d015a6"
            ],
            "layout": "IPY_MODEL_a91b78eb6b6f4b8197090e8bc42a5b27"
          }
        },
        "35c4da0e6a8e43a098d6512dfb32add4": {
          "model_module": "@jupyter-widgets/controls",
          "model_name": "HTMLModel",
          "model_module_version": "1.5.0",
          "state": {
            "_dom_classes": [],
            "_model_module": "@jupyter-widgets/controls",
            "_model_module_version": "1.5.0",
            "_model_name": "HTMLModel",
            "_view_count": null,
            "_view_module": "@jupyter-widgets/controls",
            "_view_module_version": "1.5.0",
            "_view_name": "HTMLView",
            "description": "",
            "description_tooltip": null,
            "layout": "IPY_MODEL_1f41fd2b503345d784f904a12d9076eb",
            "placeholder": "​",
            "style": "IPY_MODEL_b2d2e0e2542b485294bf8f315b36bde8",
            "value": "Downloading data: 100%"
          }
        },
        "237d9fa5acd74ef9a41abfdc4142bc89": {
          "model_module": "@jupyter-widgets/controls",
          "model_name": "FloatProgressModel",
          "model_module_version": "1.5.0",
          "state": {
            "_dom_classes": [],
            "_model_module": "@jupyter-widgets/controls",
            "_model_module_version": "1.5.0",
            "_model_name": "FloatProgressModel",
            "_view_count": null,
            "_view_module": "@jupyter-widgets/controls",
            "_view_module_version": "1.5.0",
            "_view_name": "ProgressView",
            "bar_style": "success",
            "description": "",
            "description_tooltip": null,
            "layout": "IPY_MODEL_8f66a044d06147e29707f8b64cd31b0e",
            "max": 40685252,
            "min": 0,
            "orientation": "horizontal",
            "style": "IPY_MODEL_b7c16ee709a740c2bb080a995f2c0125",
            "value": 40685252
          }
        },
        "d27391d4a01d4967aa1a48dcb9d015a6": {
          "model_module": "@jupyter-widgets/controls",
          "model_name": "HTMLModel",
          "model_module_version": "1.5.0",
          "state": {
            "_dom_classes": [],
            "_model_module": "@jupyter-widgets/controls",
            "_model_module_version": "1.5.0",
            "_model_name": "HTMLModel",
            "_view_count": null,
            "_view_module": "@jupyter-widgets/controls",
            "_view_module_version": "1.5.0",
            "_view_name": "HTMLView",
            "description": "",
            "description_tooltip": null,
            "layout": "IPY_MODEL_a6fdf9835ad2422fbf89e649ccd38943",
            "placeholder": "​",
            "style": "IPY_MODEL_c3aba7a639dc48f5b2c74859a19c5647",
            "value": " 40.7M/40.7M [00:01&lt;00:00, 28.3MB/s]"
          }
        },
        "a91b78eb6b6f4b8197090e8bc42a5b27": {
          "model_module": "@jupyter-widgets/base",
          "model_name": "LayoutModel",
          "model_module_version": "1.2.0",
          "state": {
            "_model_module": "@jupyter-widgets/base",
            "_model_module_version": "1.2.0",
            "_model_name": "LayoutModel",
            "_view_count": null,
            "_view_module": "@jupyter-widgets/base",
            "_view_module_version": "1.2.0",
            "_view_name": "LayoutView",
            "align_content": null,
            "align_items": null,
            "align_self": null,
            "border": null,
            "bottom": null,
            "display": null,
            "flex": null,
            "flex_flow": null,
            "grid_area": null,
            "grid_auto_columns": null,
            "grid_auto_flow": null,
            "grid_auto_rows": null,
            "grid_column": null,
            "grid_gap": null,
            "grid_row": null,
            "grid_template_areas": null,
            "grid_template_columns": null,
            "grid_template_rows": null,
            "height": null,
            "justify_content": null,
            "justify_items": null,
            "left": null,
            "margin": null,
            "max_height": null,
            "max_width": null,
            "min_height": null,
            "min_width": null,
            "object_fit": null,
            "object_position": null,
            "order": null,
            "overflow": null,
            "overflow_x": null,
            "overflow_y": null,
            "padding": null,
            "right": null,
            "top": null,
            "visibility": null,
            "width": null
          }
        },
        "1f41fd2b503345d784f904a12d9076eb": {
          "model_module": "@jupyter-widgets/base",
          "model_name": "LayoutModel",
          "model_module_version": "1.2.0",
          "state": {
            "_model_module": "@jupyter-widgets/base",
            "_model_module_version": "1.2.0",
            "_model_name": "LayoutModel",
            "_view_count": null,
            "_view_module": "@jupyter-widgets/base",
            "_view_module_version": "1.2.0",
            "_view_name": "LayoutView",
            "align_content": null,
            "align_items": null,
            "align_self": null,
            "border": null,
            "bottom": null,
            "display": null,
            "flex": null,
            "flex_flow": null,
            "grid_area": null,
            "grid_auto_columns": null,
            "grid_auto_flow": null,
            "grid_auto_rows": null,
            "grid_column": null,
            "grid_gap": null,
            "grid_row": null,
            "grid_template_areas": null,
            "grid_template_columns": null,
            "grid_template_rows": null,
            "height": null,
            "justify_content": null,
            "justify_items": null,
            "left": null,
            "margin": null,
            "max_height": null,
            "max_width": null,
            "min_height": null,
            "min_width": null,
            "object_fit": null,
            "object_position": null,
            "order": null,
            "overflow": null,
            "overflow_x": null,
            "overflow_y": null,
            "padding": null,
            "right": null,
            "top": null,
            "visibility": null,
            "width": null
          }
        },
        "b2d2e0e2542b485294bf8f315b36bde8": {
          "model_module": "@jupyter-widgets/controls",
          "model_name": "DescriptionStyleModel",
          "model_module_version": "1.5.0",
          "state": {
            "_model_module": "@jupyter-widgets/controls",
            "_model_module_version": "1.5.0",
            "_model_name": "DescriptionStyleModel",
            "_view_count": null,
            "_view_module": "@jupyter-widgets/base",
            "_view_module_version": "1.2.0",
            "_view_name": "StyleView",
            "description_width": ""
          }
        },
        "8f66a044d06147e29707f8b64cd31b0e": {
          "model_module": "@jupyter-widgets/base",
          "model_name": "LayoutModel",
          "model_module_version": "1.2.0",
          "state": {
            "_model_module": "@jupyter-widgets/base",
            "_model_module_version": "1.2.0",
            "_model_name": "LayoutModel",
            "_view_count": null,
            "_view_module": "@jupyter-widgets/base",
            "_view_module_version": "1.2.0",
            "_view_name": "LayoutView",
            "align_content": null,
            "align_items": null,
            "align_self": null,
            "border": null,
            "bottom": null,
            "display": null,
            "flex": null,
            "flex_flow": null,
            "grid_area": null,
            "grid_auto_columns": null,
            "grid_auto_flow": null,
            "grid_auto_rows": null,
            "grid_column": null,
            "grid_gap": null,
            "grid_row": null,
            "grid_template_areas": null,
            "grid_template_columns": null,
            "grid_template_rows": null,
            "height": null,
            "justify_content": null,
            "justify_items": null,
            "left": null,
            "margin": null,
            "max_height": null,
            "max_width": null,
            "min_height": null,
            "min_width": null,
            "object_fit": null,
            "object_position": null,
            "order": null,
            "overflow": null,
            "overflow_x": null,
            "overflow_y": null,
            "padding": null,
            "right": null,
            "top": null,
            "visibility": null,
            "width": null
          }
        },
        "b7c16ee709a740c2bb080a995f2c0125": {
          "model_module": "@jupyter-widgets/controls",
          "model_name": "ProgressStyleModel",
          "model_module_version": "1.5.0",
          "state": {
            "_model_module": "@jupyter-widgets/controls",
            "_model_module_version": "1.5.0",
            "_model_name": "ProgressStyleModel",
            "_view_count": null,
            "_view_module": "@jupyter-widgets/base",
            "_view_module_version": "1.2.0",
            "_view_name": "StyleView",
            "bar_color": null,
            "description_width": ""
          }
        },
        "a6fdf9835ad2422fbf89e649ccd38943": {
          "model_module": "@jupyter-widgets/base",
          "model_name": "LayoutModel",
          "model_module_version": "1.2.0",
          "state": {
            "_model_module": "@jupyter-widgets/base",
            "_model_module_version": "1.2.0",
            "_model_name": "LayoutModel",
            "_view_count": null,
            "_view_module": "@jupyter-widgets/base",
            "_view_module_version": "1.2.0",
            "_view_name": "LayoutView",
            "align_content": null,
            "align_items": null,
            "align_self": null,
            "border": null,
            "bottom": null,
            "display": null,
            "flex": null,
            "flex_flow": null,
            "grid_area": null,
            "grid_auto_columns": null,
            "grid_auto_flow": null,
            "grid_auto_rows": null,
            "grid_column": null,
            "grid_gap": null,
            "grid_row": null,
            "grid_template_areas": null,
            "grid_template_columns": null,
            "grid_template_rows": null,
            "height": null,
            "justify_content": null,
            "justify_items": null,
            "left": null,
            "margin": null,
            "max_height": null,
            "max_width": null,
            "min_height": null,
            "min_width": null,
            "object_fit": null,
            "object_position": null,
            "order": null,
            "overflow": null,
            "overflow_x": null,
            "overflow_y": null,
            "padding": null,
            "right": null,
            "top": null,
            "visibility": null,
            "width": null
          }
        },
        "c3aba7a639dc48f5b2c74859a19c5647": {
          "model_module": "@jupyter-widgets/controls",
          "model_name": "DescriptionStyleModel",
          "model_module_version": "1.5.0",
          "state": {
            "_model_module": "@jupyter-widgets/controls",
            "_model_module_version": "1.5.0",
            "_model_name": "DescriptionStyleModel",
            "_view_count": null,
            "_view_module": "@jupyter-widgets/base",
            "_view_module_version": "1.2.0",
            "_view_name": "StyleView",
            "description_width": ""
          }
        },
        "b3352e9ab2e9462dbb29f574d5536b78": {
          "model_module": "@jupyter-widgets/controls",
          "model_name": "HBoxModel",
          "model_module_version": "1.5.0",
          "state": {
            "_dom_classes": [],
            "_model_module": "@jupyter-widgets/controls",
            "_model_module_version": "1.5.0",
            "_model_name": "HBoxModel",
            "_view_count": null,
            "_view_module": "@jupyter-widgets/controls",
            "_view_module_version": "1.5.0",
            "_view_name": "HBoxView",
            "box_style": "",
            "children": [
              "IPY_MODEL_73bf4131eeb04531ab4516bce9b9d8c8",
              "IPY_MODEL_1c8d0e53bba847f4985294eda98fcf46",
              "IPY_MODEL_b30fac917b244bf89c0746003121f5f3"
            ],
            "layout": "IPY_MODEL_839a48aab54b4116957f327b8aed6f8b"
          }
        },
        "73bf4131eeb04531ab4516bce9b9d8c8": {
          "model_module": "@jupyter-widgets/controls",
          "model_name": "HTMLModel",
          "model_module_version": "1.5.0",
          "state": {
            "_dom_classes": [],
            "_model_module": "@jupyter-widgets/controls",
            "_model_module_version": "1.5.0",
            "_model_name": "HTMLModel",
            "_view_count": null,
            "_view_module": "@jupyter-widgets/controls",
            "_view_module_version": "1.5.0",
            "_view_name": "HTMLView",
            "description": "",
            "description_tooltip": null,
            "layout": "IPY_MODEL_1c8556099a704aa2907074bd0da10311",
            "placeholder": "​",
            "style": "IPY_MODEL_c04a366eba52425187c12e7ea5bd2150",
            "value": "Generating train split: "
          }
        },
        "1c8d0e53bba847f4985294eda98fcf46": {
          "model_module": "@jupyter-widgets/controls",
          "model_name": "FloatProgressModel",
          "model_module_version": "1.5.0",
          "state": {
            "_dom_classes": [],
            "_model_module": "@jupyter-widgets/controls",
            "_model_module_version": "1.5.0",
            "_model_name": "FloatProgressModel",
            "_view_count": null,
            "_view_module": "@jupyter-widgets/controls",
            "_view_module_version": "1.5.0",
            "_view_name": "ProgressView",
            "bar_style": "success",
            "description": "",
            "description_tooltip": null,
            "layout": "IPY_MODEL_e50f220daec24d02b1fb2ac70bbcc0ce",
            "max": 1,
            "min": 0,
            "orientation": "horizontal",
            "style": "IPY_MODEL_0ab1a52315444d2ea81608ebf00352f7",
            "value": 1
          }
        },
        "b30fac917b244bf89c0746003121f5f3": {
          "model_module": "@jupyter-widgets/controls",
          "model_name": "HTMLModel",
          "model_module_version": "1.5.0",
          "state": {
            "_dom_classes": [],
            "_model_module": "@jupyter-widgets/controls",
            "_model_module_version": "1.5.0",
            "_model_name": "HTMLModel",
            "_view_count": null,
            "_view_module": "@jupyter-widgets/controls",
            "_view_module_version": "1.5.0",
            "_view_name": "HTMLView",
            "description": "",
            "description_tooltip": null,
            "layout": "IPY_MODEL_7f44f4011b9d4140afc0097a1c3cadcc",
            "placeholder": "​",
            "style": "IPY_MODEL_33c54bd07e2a4c598d86b7403103e9be",
            "value": " 10388/0 [00:00&lt;00:00, 29241.92 examples/s]"
          }
        },
        "839a48aab54b4116957f327b8aed6f8b": {
          "model_module": "@jupyter-widgets/base",
          "model_name": "LayoutModel",
          "model_module_version": "1.2.0",
          "state": {
            "_model_module": "@jupyter-widgets/base",
            "_model_module_version": "1.2.0",
            "_model_name": "LayoutModel",
            "_view_count": null,
            "_view_module": "@jupyter-widgets/base",
            "_view_module_version": "1.2.0",
            "_view_name": "LayoutView",
            "align_content": null,
            "align_items": null,
            "align_self": null,
            "border": null,
            "bottom": null,
            "display": null,
            "flex": null,
            "flex_flow": null,
            "grid_area": null,
            "grid_auto_columns": null,
            "grid_auto_flow": null,
            "grid_auto_rows": null,
            "grid_column": null,
            "grid_gap": null,
            "grid_row": null,
            "grid_template_areas": null,
            "grid_template_columns": null,
            "grid_template_rows": null,
            "height": null,
            "justify_content": null,
            "justify_items": null,
            "left": null,
            "margin": null,
            "max_height": null,
            "max_width": null,
            "min_height": null,
            "min_width": null,
            "object_fit": null,
            "object_position": null,
            "order": null,
            "overflow": null,
            "overflow_x": null,
            "overflow_y": null,
            "padding": null,
            "right": null,
            "top": null,
            "visibility": null,
            "width": null
          }
        },
        "1c8556099a704aa2907074bd0da10311": {
          "model_module": "@jupyter-widgets/base",
          "model_name": "LayoutModel",
          "model_module_version": "1.2.0",
          "state": {
            "_model_module": "@jupyter-widgets/base",
            "_model_module_version": "1.2.0",
            "_model_name": "LayoutModel",
            "_view_count": null,
            "_view_module": "@jupyter-widgets/base",
            "_view_module_version": "1.2.0",
            "_view_name": "LayoutView",
            "align_content": null,
            "align_items": null,
            "align_self": null,
            "border": null,
            "bottom": null,
            "display": null,
            "flex": null,
            "flex_flow": null,
            "grid_area": null,
            "grid_auto_columns": null,
            "grid_auto_flow": null,
            "grid_auto_rows": null,
            "grid_column": null,
            "grid_gap": null,
            "grid_row": null,
            "grid_template_areas": null,
            "grid_template_columns": null,
            "grid_template_rows": null,
            "height": null,
            "justify_content": null,
            "justify_items": null,
            "left": null,
            "margin": null,
            "max_height": null,
            "max_width": null,
            "min_height": null,
            "min_width": null,
            "object_fit": null,
            "object_position": null,
            "order": null,
            "overflow": null,
            "overflow_x": null,
            "overflow_y": null,
            "padding": null,
            "right": null,
            "top": null,
            "visibility": null,
            "width": null
          }
        },
        "c04a366eba52425187c12e7ea5bd2150": {
          "model_module": "@jupyter-widgets/controls",
          "model_name": "DescriptionStyleModel",
          "model_module_version": "1.5.0",
          "state": {
            "_model_module": "@jupyter-widgets/controls",
            "_model_module_version": "1.5.0",
            "_model_name": "DescriptionStyleModel",
            "_view_count": null,
            "_view_module": "@jupyter-widgets/base",
            "_view_module_version": "1.2.0",
            "_view_name": "StyleView",
            "description_width": ""
          }
        },
        "e50f220daec24d02b1fb2ac70bbcc0ce": {
          "model_module": "@jupyter-widgets/base",
          "model_name": "LayoutModel",
          "model_module_version": "1.2.0",
          "state": {
            "_model_module": "@jupyter-widgets/base",
            "_model_module_version": "1.2.0",
            "_model_name": "LayoutModel",
            "_view_count": null,
            "_view_module": "@jupyter-widgets/base",
            "_view_module_version": "1.2.0",
            "_view_name": "LayoutView",
            "align_content": null,
            "align_items": null,
            "align_self": null,
            "border": null,
            "bottom": null,
            "display": null,
            "flex": null,
            "flex_flow": null,
            "grid_area": null,
            "grid_auto_columns": null,
            "grid_auto_flow": null,
            "grid_auto_rows": null,
            "grid_column": null,
            "grid_gap": null,
            "grid_row": null,
            "grid_template_areas": null,
            "grid_template_columns": null,
            "grid_template_rows": null,
            "height": null,
            "justify_content": null,
            "justify_items": null,
            "left": null,
            "margin": null,
            "max_height": null,
            "max_width": null,
            "min_height": null,
            "min_width": null,
            "object_fit": null,
            "object_position": null,
            "order": null,
            "overflow": null,
            "overflow_x": null,
            "overflow_y": null,
            "padding": null,
            "right": null,
            "top": null,
            "visibility": null,
            "width": "20px"
          }
        },
        "0ab1a52315444d2ea81608ebf00352f7": {
          "model_module": "@jupyter-widgets/controls",
          "model_name": "ProgressStyleModel",
          "model_module_version": "1.5.0",
          "state": {
            "_model_module": "@jupyter-widgets/controls",
            "_model_module_version": "1.5.0",
            "_model_name": "ProgressStyleModel",
            "_view_count": null,
            "_view_module": "@jupyter-widgets/base",
            "_view_module_version": "1.2.0",
            "_view_name": "StyleView",
            "bar_color": null,
            "description_width": ""
          }
        },
        "7f44f4011b9d4140afc0097a1c3cadcc": {
          "model_module": "@jupyter-widgets/base",
          "model_name": "LayoutModel",
          "model_module_version": "1.2.0",
          "state": {
            "_model_module": "@jupyter-widgets/base",
            "_model_module_version": "1.2.0",
            "_model_name": "LayoutModel",
            "_view_count": null,
            "_view_module": "@jupyter-widgets/base",
            "_view_module_version": "1.2.0",
            "_view_name": "LayoutView",
            "align_content": null,
            "align_items": null,
            "align_self": null,
            "border": null,
            "bottom": null,
            "display": null,
            "flex": null,
            "flex_flow": null,
            "grid_area": null,
            "grid_auto_columns": null,
            "grid_auto_flow": null,
            "grid_auto_rows": null,
            "grid_column": null,
            "grid_gap": null,
            "grid_row": null,
            "grid_template_areas": null,
            "grid_template_columns": null,
            "grid_template_rows": null,
            "height": null,
            "justify_content": null,
            "justify_items": null,
            "left": null,
            "margin": null,
            "max_height": null,
            "max_width": null,
            "min_height": null,
            "min_width": null,
            "object_fit": null,
            "object_position": null,
            "order": null,
            "overflow": null,
            "overflow_x": null,
            "overflow_y": null,
            "padding": null,
            "right": null,
            "top": null,
            "visibility": null,
            "width": null
          }
        },
        "33c54bd07e2a4c598d86b7403103e9be": {
          "model_module": "@jupyter-widgets/controls",
          "model_name": "DescriptionStyleModel",
          "model_module_version": "1.5.0",
          "state": {
            "_model_module": "@jupyter-widgets/controls",
            "_model_module_version": "1.5.0",
            "_model_name": "DescriptionStyleModel",
            "_view_count": null,
            "_view_module": "@jupyter-widgets/base",
            "_view_module_version": "1.2.0",
            "_view_name": "StyleView",
            "description_width": ""
          }
        },
        "a0ea10228ca846bb8e1c418261ef9f4e": {
          "model_module": "@jupyter-widgets/controls",
          "model_name": "HBoxModel",
          "model_module_version": "1.5.0",
          "state": {
            "_dom_classes": [],
            "_model_module": "@jupyter-widgets/controls",
            "_model_module_version": "1.5.0",
            "_model_name": "HBoxModel",
            "_view_count": null,
            "_view_module": "@jupyter-widgets/controls",
            "_view_module_version": "1.5.0",
            "_view_name": "HBoxView",
            "box_style": "",
            "children": [
              "IPY_MODEL_102403993b9c44db8083afef776325c8",
              "IPY_MODEL_6fea26b1e1264bfa88965a2ea6d75276",
              "IPY_MODEL_027094a4af964cf0ba7e36c1f8b86857"
            ],
            "layout": "IPY_MODEL_ceecabaaaad84440a9ef2a3f135f8f09"
          }
        },
        "102403993b9c44db8083afef776325c8": {
          "model_module": "@jupyter-widgets/controls",
          "model_name": "HTMLModel",
          "model_module_version": "1.5.0",
          "state": {
            "_dom_classes": [],
            "_model_module": "@jupyter-widgets/controls",
            "_model_module_version": "1.5.0",
            "_model_name": "HTMLModel",
            "_view_count": null,
            "_view_module": "@jupyter-widgets/controls",
            "_view_module_version": "1.5.0",
            "_view_name": "HTMLView",
            "description": "",
            "description_tooltip": null,
            "layout": "IPY_MODEL_ebda2962aeb9485682f8981aafd894d7",
            "placeholder": "​",
            "style": "IPY_MODEL_75a13face87b4e49b2446f8852fb6c4d",
            "value": "modules.json: 100%"
          }
        },
        "6fea26b1e1264bfa88965a2ea6d75276": {
          "model_module": "@jupyter-widgets/controls",
          "model_name": "FloatProgressModel",
          "model_module_version": "1.5.0",
          "state": {
            "_dom_classes": [],
            "_model_module": "@jupyter-widgets/controls",
            "_model_module_version": "1.5.0",
            "_model_name": "FloatProgressModel",
            "_view_count": null,
            "_view_module": "@jupyter-widgets/controls",
            "_view_module_version": "1.5.0",
            "_view_name": "ProgressView",
            "bar_style": "success",
            "description": "",
            "description_tooltip": null,
            "layout": "IPY_MODEL_46516321bdf146c88615327ebe655153",
            "max": 349,
            "min": 0,
            "orientation": "horizontal",
            "style": "IPY_MODEL_cd1ac828c84b44b284c64f90c0118291",
            "value": 349
          }
        },
        "027094a4af964cf0ba7e36c1f8b86857": {
          "model_module": "@jupyter-widgets/controls",
          "model_name": "HTMLModel",
          "model_module_version": "1.5.0",
          "state": {
            "_dom_classes": [],
            "_model_module": "@jupyter-widgets/controls",
            "_model_module_version": "1.5.0",
            "_model_name": "HTMLModel",
            "_view_count": null,
            "_view_module": "@jupyter-widgets/controls",
            "_view_module_version": "1.5.0",
            "_view_name": "HTMLView",
            "description": "",
            "description_tooltip": null,
            "layout": "IPY_MODEL_17960c7df3c444ba9328aeae709d7abe",
            "placeholder": "​",
            "style": "IPY_MODEL_b25c504f623346c0992199753e934b85",
            "value": " 349/349 [00:00&lt;00:00, 20.1kB/s]"
          }
        },
        "ceecabaaaad84440a9ef2a3f135f8f09": {
          "model_module": "@jupyter-widgets/base",
          "model_name": "LayoutModel",
          "model_module_version": "1.2.0",
          "state": {
            "_model_module": "@jupyter-widgets/base",
            "_model_module_version": "1.2.0",
            "_model_name": "LayoutModel",
            "_view_count": null,
            "_view_module": "@jupyter-widgets/base",
            "_view_module_version": "1.2.0",
            "_view_name": "LayoutView",
            "align_content": null,
            "align_items": null,
            "align_self": null,
            "border": null,
            "bottom": null,
            "display": null,
            "flex": null,
            "flex_flow": null,
            "grid_area": null,
            "grid_auto_columns": null,
            "grid_auto_flow": null,
            "grid_auto_rows": null,
            "grid_column": null,
            "grid_gap": null,
            "grid_row": null,
            "grid_template_areas": null,
            "grid_template_columns": null,
            "grid_template_rows": null,
            "height": null,
            "justify_content": null,
            "justify_items": null,
            "left": null,
            "margin": null,
            "max_height": null,
            "max_width": null,
            "min_height": null,
            "min_width": null,
            "object_fit": null,
            "object_position": null,
            "order": null,
            "overflow": null,
            "overflow_x": null,
            "overflow_y": null,
            "padding": null,
            "right": null,
            "top": null,
            "visibility": null,
            "width": null
          }
        },
        "ebda2962aeb9485682f8981aafd894d7": {
          "model_module": "@jupyter-widgets/base",
          "model_name": "LayoutModel",
          "model_module_version": "1.2.0",
          "state": {
            "_model_module": "@jupyter-widgets/base",
            "_model_module_version": "1.2.0",
            "_model_name": "LayoutModel",
            "_view_count": null,
            "_view_module": "@jupyter-widgets/base",
            "_view_module_version": "1.2.0",
            "_view_name": "LayoutView",
            "align_content": null,
            "align_items": null,
            "align_self": null,
            "border": null,
            "bottom": null,
            "display": null,
            "flex": null,
            "flex_flow": null,
            "grid_area": null,
            "grid_auto_columns": null,
            "grid_auto_flow": null,
            "grid_auto_rows": null,
            "grid_column": null,
            "grid_gap": null,
            "grid_row": null,
            "grid_template_areas": null,
            "grid_template_columns": null,
            "grid_template_rows": null,
            "height": null,
            "justify_content": null,
            "justify_items": null,
            "left": null,
            "margin": null,
            "max_height": null,
            "max_width": null,
            "min_height": null,
            "min_width": null,
            "object_fit": null,
            "object_position": null,
            "order": null,
            "overflow": null,
            "overflow_x": null,
            "overflow_y": null,
            "padding": null,
            "right": null,
            "top": null,
            "visibility": null,
            "width": null
          }
        },
        "75a13face87b4e49b2446f8852fb6c4d": {
          "model_module": "@jupyter-widgets/controls",
          "model_name": "DescriptionStyleModel",
          "model_module_version": "1.5.0",
          "state": {
            "_model_module": "@jupyter-widgets/controls",
            "_model_module_version": "1.5.0",
            "_model_name": "DescriptionStyleModel",
            "_view_count": null,
            "_view_module": "@jupyter-widgets/base",
            "_view_module_version": "1.2.0",
            "_view_name": "StyleView",
            "description_width": ""
          }
        },
        "46516321bdf146c88615327ebe655153": {
          "model_module": "@jupyter-widgets/base",
          "model_name": "LayoutModel",
          "model_module_version": "1.2.0",
          "state": {
            "_model_module": "@jupyter-widgets/base",
            "_model_module_version": "1.2.0",
            "_model_name": "LayoutModel",
            "_view_count": null,
            "_view_module": "@jupyter-widgets/base",
            "_view_module_version": "1.2.0",
            "_view_name": "LayoutView",
            "align_content": null,
            "align_items": null,
            "align_self": null,
            "border": null,
            "bottom": null,
            "display": null,
            "flex": null,
            "flex_flow": null,
            "grid_area": null,
            "grid_auto_columns": null,
            "grid_auto_flow": null,
            "grid_auto_rows": null,
            "grid_column": null,
            "grid_gap": null,
            "grid_row": null,
            "grid_template_areas": null,
            "grid_template_columns": null,
            "grid_template_rows": null,
            "height": null,
            "justify_content": null,
            "justify_items": null,
            "left": null,
            "margin": null,
            "max_height": null,
            "max_width": null,
            "min_height": null,
            "min_width": null,
            "object_fit": null,
            "object_position": null,
            "order": null,
            "overflow": null,
            "overflow_x": null,
            "overflow_y": null,
            "padding": null,
            "right": null,
            "top": null,
            "visibility": null,
            "width": null
          }
        },
        "cd1ac828c84b44b284c64f90c0118291": {
          "model_module": "@jupyter-widgets/controls",
          "model_name": "ProgressStyleModel",
          "model_module_version": "1.5.0",
          "state": {
            "_model_module": "@jupyter-widgets/controls",
            "_model_module_version": "1.5.0",
            "_model_name": "ProgressStyleModel",
            "_view_count": null,
            "_view_module": "@jupyter-widgets/base",
            "_view_module_version": "1.2.0",
            "_view_name": "StyleView",
            "bar_color": null,
            "description_width": ""
          }
        },
        "17960c7df3c444ba9328aeae709d7abe": {
          "model_module": "@jupyter-widgets/base",
          "model_name": "LayoutModel",
          "model_module_version": "1.2.0",
          "state": {
            "_model_module": "@jupyter-widgets/base",
            "_model_module_version": "1.2.0",
            "_model_name": "LayoutModel",
            "_view_count": null,
            "_view_module": "@jupyter-widgets/base",
            "_view_module_version": "1.2.0",
            "_view_name": "LayoutView",
            "align_content": null,
            "align_items": null,
            "align_self": null,
            "border": null,
            "bottom": null,
            "display": null,
            "flex": null,
            "flex_flow": null,
            "grid_area": null,
            "grid_auto_columns": null,
            "grid_auto_flow": null,
            "grid_auto_rows": null,
            "grid_column": null,
            "grid_gap": null,
            "grid_row": null,
            "grid_template_areas": null,
            "grid_template_columns": null,
            "grid_template_rows": null,
            "height": null,
            "justify_content": null,
            "justify_items": null,
            "left": null,
            "margin": null,
            "max_height": null,
            "max_width": null,
            "min_height": null,
            "min_width": null,
            "object_fit": null,
            "object_position": null,
            "order": null,
            "overflow": null,
            "overflow_x": null,
            "overflow_y": null,
            "padding": null,
            "right": null,
            "top": null,
            "visibility": null,
            "width": null
          }
        },
        "b25c504f623346c0992199753e934b85": {
          "model_module": "@jupyter-widgets/controls",
          "model_name": "DescriptionStyleModel",
          "model_module_version": "1.5.0",
          "state": {
            "_model_module": "@jupyter-widgets/controls",
            "_model_module_version": "1.5.0",
            "_model_name": "DescriptionStyleModel",
            "_view_count": null,
            "_view_module": "@jupyter-widgets/base",
            "_view_module_version": "1.2.0",
            "_view_name": "StyleView",
            "description_width": ""
          }
        },
        "b7d1863b56f7401b8612f5c249096710": {
          "model_module": "@jupyter-widgets/controls",
          "model_name": "HBoxModel",
          "model_module_version": "1.5.0",
          "state": {
            "_dom_classes": [],
            "_model_module": "@jupyter-widgets/controls",
            "_model_module_version": "1.5.0",
            "_model_name": "HBoxModel",
            "_view_count": null,
            "_view_module": "@jupyter-widgets/controls",
            "_view_module_version": "1.5.0",
            "_view_name": "HBoxView",
            "box_style": "",
            "children": [
              "IPY_MODEL_523cda2a30914f588fe92e1f40dd32d5",
              "IPY_MODEL_0f87e0721d63486089f208ada3688413",
              "IPY_MODEL_2235767957a04e689a816223527baeda"
            ],
            "layout": "IPY_MODEL_841589ce05cd40eea7e03f82126aee01"
          }
        },
        "523cda2a30914f588fe92e1f40dd32d5": {
          "model_module": "@jupyter-widgets/controls",
          "model_name": "HTMLModel",
          "model_module_version": "1.5.0",
          "state": {
            "_dom_classes": [],
            "_model_module": "@jupyter-widgets/controls",
            "_model_module_version": "1.5.0",
            "_model_name": "HTMLModel",
            "_view_count": null,
            "_view_module": "@jupyter-widgets/controls",
            "_view_module_version": "1.5.0",
            "_view_name": "HTMLView",
            "description": "",
            "description_tooltip": null,
            "layout": "IPY_MODEL_b1e47e274eb64d919e1970fb344fbdc1",
            "placeholder": "​",
            "style": "IPY_MODEL_001322e62ffe41acae863a74977637de",
            "value": "config_sentence_transformers.json: 100%"
          }
        },
        "0f87e0721d63486089f208ada3688413": {
          "model_module": "@jupyter-widgets/controls",
          "model_name": "FloatProgressModel",
          "model_module_version": "1.5.0",
          "state": {
            "_dom_classes": [],
            "_model_module": "@jupyter-widgets/controls",
            "_model_module_version": "1.5.0",
            "_model_name": "FloatProgressModel",
            "_view_count": null,
            "_view_module": "@jupyter-widgets/controls",
            "_view_module_version": "1.5.0",
            "_view_name": "ProgressView",
            "bar_style": "success",
            "description": "",
            "description_tooltip": null,
            "layout": "IPY_MODEL_b180c6f01fe6429c9ee9532f2cd0e014",
            "max": 116,
            "min": 0,
            "orientation": "horizontal",
            "style": "IPY_MODEL_c8e038127a5a436a9ab51d5c5ee1c2eb",
            "value": 116
          }
        },
        "2235767957a04e689a816223527baeda": {
          "model_module": "@jupyter-widgets/controls",
          "model_name": "HTMLModel",
          "model_module_version": "1.5.0",
          "state": {
            "_dom_classes": [],
            "_model_module": "@jupyter-widgets/controls",
            "_model_module_version": "1.5.0",
            "_model_name": "HTMLModel",
            "_view_count": null,
            "_view_module": "@jupyter-widgets/controls",
            "_view_module_version": "1.5.0",
            "_view_name": "HTMLView",
            "description": "",
            "description_tooltip": null,
            "layout": "IPY_MODEL_bf434ef32370491c8064908c68d17a50",
            "placeholder": "​",
            "style": "IPY_MODEL_499912e76e9049638fc674f5ee04fddd",
            "value": " 116/116 [00:00&lt;00:00, 7.74kB/s]"
          }
        },
        "841589ce05cd40eea7e03f82126aee01": {
          "model_module": "@jupyter-widgets/base",
          "model_name": "LayoutModel",
          "model_module_version": "1.2.0",
          "state": {
            "_model_module": "@jupyter-widgets/base",
            "_model_module_version": "1.2.0",
            "_model_name": "LayoutModel",
            "_view_count": null,
            "_view_module": "@jupyter-widgets/base",
            "_view_module_version": "1.2.0",
            "_view_name": "LayoutView",
            "align_content": null,
            "align_items": null,
            "align_self": null,
            "border": null,
            "bottom": null,
            "display": null,
            "flex": null,
            "flex_flow": null,
            "grid_area": null,
            "grid_auto_columns": null,
            "grid_auto_flow": null,
            "grid_auto_rows": null,
            "grid_column": null,
            "grid_gap": null,
            "grid_row": null,
            "grid_template_areas": null,
            "grid_template_columns": null,
            "grid_template_rows": null,
            "height": null,
            "justify_content": null,
            "justify_items": null,
            "left": null,
            "margin": null,
            "max_height": null,
            "max_width": null,
            "min_height": null,
            "min_width": null,
            "object_fit": null,
            "object_position": null,
            "order": null,
            "overflow": null,
            "overflow_x": null,
            "overflow_y": null,
            "padding": null,
            "right": null,
            "top": null,
            "visibility": null,
            "width": null
          }
        },
        "b1e47e274eb64d919e1970fb344fbdc1": {
          "model_module": "@jupyter-widgets/base",
          "model_name": "LayoutModel",
          "model_module_version": "1.2.0",
          "state": {
            "_model_module": "@jupyter-widgets/base",
            "_model_module_version": "1.2.0",
            "_model_name": "LayoutModel",
            "_view_count": null,
            "_view_module": "@jupyter-widgets/base",
            "_view_module_version": "1.2.0",
            "_view_name": "LayoutView",
            "align_content": null,
            "align_items": null,
            "align_self": null,
            "border": null,
            "bottom": null,
            "display": null,
            "flex": null,
            "flex_flow": null,
            "grid_area": null,
            "grid_auto_columns": null,
            "grid_auto_flow": null,
            "grid_auto_rows": null,
            "grid_column": null,
            "grid_gap": null,
            "grid_row": null,
            "grid_template_areas": null,
            "grid_template_columns": null,
            "grid_template_rows": null,
            "height": null,
            "justify_content": null,
            "justify_items": null,
            "left": null,
            "margin": null,
            "max_height": null,
            "max_width": null,
            "min_height": null,
            "min_width": null,
            "object_fit": null,
            "object_position": null,
            "order": null,
            "overflow": null,
            "overflow_x": null,
            "overflow_y": null,
            "padding": null,
            "right": null,
            "top": null,
            "visibility": null,
            "width": null
          }
        },
        "001322e62ffe41acae863a74977637de": {
          "model_module": "@jupyter-widgets/controls",
          "model_name": "DescriptionStyleModel",
          "model_module_version": "1.5.0",
          "state": {
            "_model_module": "@jupyter-widgets/controls",
            "_model_module_version": "1.5.0",
            "_model_name": "DescriptionStyleModel",
            "_view_count": null,
            "_view_module": "@jupyter-widgets/base",
            "_view_module_version": "1.2.0",
            "_view_name": "StyleView",
            "description_width": ""
          }
        },
        "b180c6f01fe6429c9ee9532f2cd0e014": {
          "model_module": "@jupyter-widgets/base",
          "model_name": "LayoutModel",
          "model_module_version": "1.2.0",
          "state": {
            "_model_module": "@jupyter-widgets/base",
            "_model_module_version": "1.2.0",
            "_model_name": "LayoutModel",
            "_view_count": null,
            "_view_module": "@jupyter-widgets/base",
            "_view_module_version": "1.2.0",
            "_view_name": "LayoutView",
            "align_content": null,
            "align_items": null,
            "align_self": null,
            "border": null,
            "bottom": null,
            "display": null,
            "flex": null,
            "flex_flow": null,
            "grid_area": null,
            "grid_auto_columns": null,
            "grid_auto_flow": null,
            "grid_auto_rows": null,
            "grid_column": null,
            "grid_gap": null,
            "grid_row": null,
            "grid_template_areas": null,
            "grid_template_columns": null,
            "grid_template_rows": null,
            "height": null,
            "justify_content": null,
            "justify_items": null,
            "left": null,
            "margin": null,
            "max_height": null,
            "max_width": null,
            "min_height": null,
            "min_width": null,
            "object_fit": null,
            "object_position": null,
            "order": null,
            "overflow": null,
            "overflow_x": null,
            "overflow_y": null,
            "padding": null,
            "right": null,
            "top": null,
            "visibility": null,
            "width": null
          }
        },
        "c8e038127a5a436a9ab51d5c5ee1c2eb": {
          "model_module": "@jupyter-widgets/controls",
          "model_name": "ProgressStyleModel",
          "model_module_version": "1.5.0",
          "state": {
            "_model_module": "@jupyter-widgets/controls",
            "_model_module_version": "1.5.0",
            "_model_name": "ProgressStyleModel",
            "_view_count": null,
            "_view_module": "@jupyter-widgets/base",
            "_view_module_version": "1.2.0",
            "_view_name": "StyleView",
            "bar_color": null,
            "description_width": ""
          }
        },
        "bf434ef32370491c8064908c68d17a50": {
          "model_module": "@jupyter-widgets/base",
          "model_name": "LayoutModel",
          "model_module_version": "1.2.0",
          "state": {
            "_model_module": "@jupyter-widgets/base",
            "_model_module_version": "1.2.0",
            "_model_name": "LayoutModel",
            "_view_count": null,
            "_view_module": "@jupyter-widgets/base",
            "_view_module_version": "1.2.0",
            "_view_name": "LayoutView",
            "align_content": null,
            "align_items": null,
            "align_self": null,
            "border": null,
            "bottom": null,
            "display": null,
            "flex": null,
            "flex_flow": null,
            "grid_area": null,
            "grid_auto_columns": null,
            "grid_auto_flow": null,
            "grid_auto_rows": null,
            "grid_column": null,
            "grid_gap": null,
            "grid_row": null,
            "grid_template_areas": null,
            "grid_template_columns": null,
            "grid_template_rows": null,
            "height": null,
            "justify_content": null,
            "justify_items": null,
            "left": null,
            "margin": null,
            "max_height": null,
            "max_width": null,
            "min_height": null,
            "min_width": null,
            "object_fit": null,
            "object_position": null,
            "order": null,
            "overflow": null,
            "overflow_x": null,
            "overflow_y": null,
            "padding": null,
            "right": null,
            "top": null,
            "visibility": null,
            "width": null
          }
        },
        "499912e76e9049638fc674f5ee04fddd": {
          "model_module": "@jupyter-widgets/controls",
          "model_name": "DescriptionStyleModel",
          "model_module_version": "1.5.0",
          "state": {
            "_model_module": "@jupyter-widgets/controls",
            "_model_module_version": "1.5.0",
            "_model_name": "DescriptionStyleModel",
            "_view_count": null,
            "_view_module": "@jupyter-widgets/base",
            "_view_module_version": "1.2.0",
            "_view_name": "StyleView",
            "description_width": ""
          }
        },
        "89ea4cfc5d7e4a82a41fa202e8bdf817": {
          "model_module": "@jupyter-widgets/controls",
          "model_name": "HBoxModel",
          "model_module_version": "1.5.0",
          "state": {
            "_dom_classes": [],
            "_model_module": "@jupyter-widgets/controls",
            "_model_module_version": "1.5.0",
            "_model_name": "HBoxModel",
            "_view_count": null,
            "_view_module": "@jupyter-widgets/controls",
            "_view_module_version": "1.5.0",
            "_view_name": "HBoxView",
            "box_style": "",
            "children": [
              "IPY_MODEL_69d74c1b2a8a440291b6e7f920075601",
              "IPY_MODEL_7c0106f8c6664e26abddcc41c79c4684",
              "IPY_MODEL_8417a68ebab24cdd8ff006897f654e62"
            ],
            "layout": "IPY_MODEL_929c9d6f32e84292b4d89c24992ca26f"
          }
        },
        "69d74c1b2a8a440291b6e7f920075601": {
          "model_module": "@jupyter-widgets/controls",
          "model_name": "HTMLModel",
          "model_module_version": "1.5.0",
          "state": {
            "_dom_classes": [],
            "_model_module": "@jupyter-widgets/controls",
            "_model_module_version": "1.5.0",
            "_model_name": "HTMLModel",
            "_view_count": null,
            "_view_module": "@jupyter-widgets/controls",
            "_view_module_version": "1.5.0",
            "_view_name": "HTMLView",
            "description": "",
            "description_tooltip": null,
            "layout": "IPY_MODEL_645d46d94ebb4a21baa3fd795e00b830",
            "placeholder": "​",
            "style": "IPY_MODEL_e92f711dfa8b46a68086a44dee538328",
            "value": "README.md: 100%"
          }
        },
        "7c0106f8c6664e26abddcc41c79c4684": {
          "model_module": "@jupyter-widgets/controls",
          "model_name": "FloatProgressModel",
          "model_module_version": "1.5.0",
          "state": {
            "_dom_classes": [],
            "_model_module": "@jupyter-widgets/controls",
            "_model_module_version": "1.5.0",
            "_model_name": "FloatProgressModel",
            "_view_count": null,
            "_view_module": "@jupyter-widgets/controls",
            "_view_module_version": "1.5.0",
            "_view_name": "ProgressView",
            "bar_style": "success",
            "description": "",
            "description_tooltip": null,
            "layout": "IPY_MODEL_5a8ca178413341fbb607aa3d352f5b37",
            "max": 11586,
            "min": 0,
            "orientation": "horizontal",
            "style": "IPY_MODEL_23f8183721764b34b5e2425c60b21504",
            "value": 11586
          }
        },
        "8417a68ebab24cdd8ff006897f654e62": {
          "model_module": "@jupyter-widgets/controls",
          "model_name": "HTMLModel",
          "model_module_version": "1.5.0",
          "state": {
            "_dom_classes": [],
            "_model_module": "@jupyter-widgets/controls",
            "_model_module_version": "1.5.0",
            "_model_name": "HTMLModel",
            "_view_count": null,
            "_view_module": "@jupyter-widgets/controls",
            "_view_module_version": "1.5.0",
            "_view_name": "HTMLView",
            "description": "",
            "description_tooltip": null,
            "layout": "IPY_MODEL_ed492b5a4df640d7919863ee7178de18",
            "placeholder": "​",
            "style": "IPY_MODEL_2a124023ba2b41fbb2a8f3faa186b06a",
            "value": " 11.6k/11.6k [00:00&lt;00:00, 713kB/s]"
          }
        },
        "929c9d6f32e84292b4d89c24992ca26f": {
          "model_module": "@jupyter-widgets/base",
          "model_name": "LayoutModel",
          "model_module_version": "1.2.0",
          "state": {
            "_model_module": "@jupyter-widgets/base",
            "_model_module_version": "1.2.0",
            "_model_name": "LayoutModel",
            "_view_count": null,
            "_view_module": "@jupyter-widgets/base",
            "_view_module_version": "1.2.0",
            "_view_name": "LayoutView",
            "align_content": null,
            "align_items": null,
            "align_self": null,
            "border": null,
            "bottom": null,
            "display": null,
            "flex": null,
            "flex_flow": null,
            "grid_area": null,
            "grid_auto_columns": null,
            "grid_auto_flow": null,
            "grid_auto_rows": null,
            "grid_column": null,
            "grid_gap": null,
            "grid_row": null,
            "grid_template_areas": null,
            "grid_template_columns": null,
            "grid_template_rows": null,
            "height": null,
            "justify_content": null,
            "justify_items": null,
            "left": null,
            "margin": null,
            "max_height": null,
            "max_width": null,
            "min_height": null,
            "min_width": null,
            "object_fit": null,
            "object_position": null,
            "order": null,
            "overflow": null,
            "overflow_x": null,
            "overflow_y": null,
            "padding": null,
            "right": null,
            "top": null,
            "visibility": null,
            "width": null
          }
        },
        "645d46d94ebb4a21baa3fd795e00b830": {
          "model_module": "@jupyter-widgets/base",
          "model_name": "LayoutModel",
          "model_module_version": "1.2.0",
          "state": {
            "_model_module": "@jupyter-widgets/base",
            "_model_module_version": "1.2.0",
            "_model_name": "LayoutModel",
            "_view_count": null,
            "_view_module": "@jupyter-widgets/base",
            "_view_module_version": "1.2.0",
            "_view_name": "LayoutView",
            "align_content": null,
            "align_items": null,
            "align_self": null,
            "border": null,
            "bottom": null,
            "display": null,
            "flex": null,
            "flex_flow": null,
            "grid_area": null,
            "grid_auto_columns": null,
            "grid_auto_flow": null,
            "grid_auto_rows": null,
            "grid_column": null,
            "grid_gap": null,
            "grid_row": null,
            "grid_template_areas": null,
            "grid_template_columns": null,
            "grid_template_rows": null,
            "height": null,
            "justify_content": null,
            "justify_items": null,
            "left": null,
            "margin": null,
            "max_height": null,
            "max_width": null,
            "min_height": null,
            "min_width": null,
            "object_fit": null,
            "object_position": null,
            "order": null,
            "overflow": null,
            "overflow_x": null,
            "overflow_y": null,
            "padding": null,
            "right": null,
            "top": null,
            "visibility": null,
            "width": null
          }
        },
        "e92f711dfa8b46a68086a44dee538328": {
          "model_module": "@jupyter-widgets/controls",
          "model_name": "DescriptionStyleModel",
          "model_module_version": "1.5.0",
          "state": {
            "_model_module": "@jupyter-widgets/controls",
            "_model_module_version": "1.5.0",
            "_model_name": "DescriptionStyleModel",
            "_view_count": null,
            "_view_module": "@jupyter-widgets/base",
            "_view_module_version": "1.2.0",
            "_view_name": "StyleView",
            "description_width": ""
          }
        },
        "5a8ca178413341fbb607aa3d352f5b37": {
          "model_module": "@jupyter-widgets/base",
          "model_name": "LayoutModel",
          "model_module_version": "1.2.0",
          "state": {
            "_model_module": "@jupyter-widgets/base",
            "_model_module_version": "1.2.0",
            "_model_name": "LayoutModel",
            "_view_count": null,
            "_view_module": "@jupyter-widgets/base",
            "_view_module_version": "1.2.0",
            "_view_name": "LayoutView",
            "align_content": null,
            "align_items": null,
            "align_self": null,
            "border": null,
            "bottom": null,
            "display": null,
            "flex": null,
            "flex_flow": null,
            "grid_area": null,
            "grid_auto_columns": null,
            "grid_auto_flow": null,
            "grid_auto_rows": null,
            "grid_column": null,
            "grid_gap": null,
            "grid_row": null,
            "grid_template_areas": null,
            "grid_template_columns": null,
            "grid_template_rows": null,
            "height": null,
            "justify_content": null,
            "justify_items": null,
            "left": null,
            "margin": null,
            "max_height": null,
            "max_width": null,
            "min_height": null,
            "min_width": null,
            "object_fit": null,
            "object_position": null,
            "order": null,
            "overflow": null,
            "overflow_x": null,
            "overflow_y": null,
            "padding": null,
            "right": null,
            "top": null,
            "visibility": null,
            "width": null
          }
        },
        "23f8183721764b34b5e2425c60b21504": {
          "model_module": "@jupyter-widgets/controls",
          "model_name": "ProgressStyleModel",
          "model_module_version": "1.5.0",
          "state": {
            "_model_module": "@jupyter-widgets/controls",
            "_model_module_version": "1.5.0",
            "_model_name": "ProgressStyleModel",
            "_view_count": null,
            "_view_module": "@jupyter-widgets/base",
            "_view_module_version": "1.2.0",
            "_view_name": "StyleView",
            "bar_color": null,
            "description_width": ""
          }
        },
        "ed492b5a4df640d7919863ee7178de18": {
          "model_module": "@jupyter-widgets/base",
          "model_name": "LayoutModel",
          "model_module_version": "1.2.0",
          "state": {
            "_model_module": "@jupyter-widgets/base",
            "_model_module_version": "1.2.0",
            "_model_name": "LayoutModel",
            "_view_count": null,
            "_view_module": "@jupyter-widgets/base",
            "_view_module_version": "1.2.0",
            "_view_name": "LayoutView",
            "align_content": null,
            "align_items": null,
            "align_self": null,
            "border": null,
            "bottom": null,
            "display": null,
            "flex": null,
            "flex_flow": null,
            "grid_area": null,
            "grid_auto_columns": null,
            "grid_auto_flow": null,
            "grid_auto_rows": null,
            "grid_column": null,
            "grid_gap": null,
            "grid_row": null,
            "grid_template_areas": null,
            "grid_template_columns": null,
            "grid_template_rows": null,
            "height": null,
            "justify_content": null,
            "justify_items": null,
            "left": null,
            "margin": null,
            "max_height": null,
            "max_width": null,
            "min_height": null,
            "min_width": null,
            "object_fit": null,
            "object_position": null,
            "order": null,
            "overflow": null,
            "overflow_x": null,
            "overflow_y": null,
            "padding": null,
            "right": null,
            "top": null,
            "visibility": null,
            "width": null
          }
        },
        "2a124023ba2b41fbb2a8f3faa186b06a": {
          "model_module": "@jupyter-widgets/controls",
          "model_name": "DescriptionStyleModel",
          "model_module_version": "1.5.0",
          "state": {
            "_model_module": "@jupyter-widgets/controls",
            "_model_module_version": "1.5.0",
            "_model_name": "DescriptionStyleModel",
            "_view_count": null,
            "_view_module": "@jupyter-widgets/base",
            "_view_module_version": "1.2.0",
            "_view_name": "StyleView",
            "description_width": ""
          }
        },
        "8ed2317bd7554b3790a602a8144d3ab0": {
          "model_module": "@jupyter-widgets/controls",
          "model_name": "HBoxModel",
          "model_module_version": "1.5.0",
          "state": {
            "_dom_classes": [],
            "_model_module": "@jupyter-widgets/controls",
            "_model_module_version": "1.5.0",
            "_model_name": "HBoxModel",
            "_view_count": null,
            "_view_module": "@jupyter-widgets/controls",
            "_view_module_version": "1.5.0",
            "_view_name": "HBoxView",
            "box_style": "",
            "children": [
              "IPY_MODEL_4e4f3c9ceefa414295068ddb3440554e",
              "IPY_MODEL_773a862ed31b4c8f9594b2d30721e7ff",
              "IPY_MODEL_5b7aa5ba01b847f89dcf8595951d01bd"
            ],
            "layout": "IPY_MODEL_ea90c94b398c4bc0a00aa534c55a5581"
          }
        },
        "4e4f3c9ceefa414295068ddb3440554e": {
          "model_module": "@jupyter-widgets/controls",
          "model_name": "HTMLModel",
          "model_module_version": "1.5.0",
          "state": {
            "_dom_classes": [],
            "_model_module": "@jupyter-widgets/controls",
            "_model_module_version": "1.5.0",
            "_model_name": "HTMLModel",
            "_view_count": null,
            "_view_module": "@jupyter-widgets/controls",
            "_view_module_version": "1.5.0",
            "_view_name": "HTMLView",
            "description": "",
            "description_tooltip": null,
            "layout": "IPY_MODEL_46878a3b9b594f6d90fe0532c3d82b31",
            "placeholder": "​",
            "style": "IPY_MODEL_6dc848242c6f481a9a02ec819c658daa",
            "value": "sentence_bert_config.json: 100%"
          }
        },
        "773a862ed31b4c8f9594b2d30721e7ff": {
          "model_module": "@jupyter-widgets/controls",
          "model_name": "FloatProgressModel",
          "model_module_version": "1.5.0",
          "state": {
            "_dom_classes": [],
            "_model_module": "@jupyter-widgets/controls",
            "_model_module_version": "1.5.0",
            "_model_name": "FloatProgressModel",
            "_view_count": null,
            "_view_module": "@jupyter-widgets/controls",
            "_view_module_version": "1.5.0",
            "_view_name": "ProgressView",
            "bar_style": "success",
            "description": "",
            "description_tooltip": null,
            "layout": "IPY_MODEL_36778219c0ac449b9115ad36b39c2813",
            "max": 53,
            "min": 0,
            "orientation": "horizontal",
            "style": "IPY_MODEL_e975ba6e1f3a420a99842c6a174ed3c1",
            "value": 53
          }
        },
        "5b7aa5ba01b847f89dcf8595951d01bd": {
          "model_module": "@jupyter-widgets/controls",
          "model_name": "HTMLModel",
          "model_module_version": "1.5.0",
          "state": {
            "_dom_classes": [],
            "_model_module": "@jupyter-widgets/controls",
            "_model_module_version": "1.5.0",
            "_model_name": "HTMLModel",
            "_view_count": null,
            "_view_module": "@jupyter-widgets/controls",
            "_view_module_version": "1.5.0",
            "_view_name": "HTMLView",
            "description": "",
            "description_tooltip": null,
            "layout": "IPY_MODEL_dbc29947a7cb4a74a5fd2696c66722d8",
            "placeholder": "​",
            "style": "IPY_MODEL_f31436617d2b462e8e01eed372780d0e",
            "value": " 53.0/53.0 [00:00&lt;00:00, 3.28kB/s]"
          }
        },
        "ea90c94b398c4bc0a00aa534c55a5581": {
          "model_module": "@jupyter-widgets/base",
          "model_name": "LayoutModel",
          "model_module_version": "1.2.0",
          "state": {
            "_model_module": "@jupyter-widgets/base",
            "_model_module_version": "1.2.0",
            "_model_name": "LayoutModel",
            "_view_count": null,
            "_view_module": "@jupyter-widgets/base",
            "_view_module_version": "1.2.0",
            "_view_name": "LayoutView",
            "align_content": null,
            "align_items": null,
            "align_self": null,
            "border": null,
            "bottom": null,
            "display": null,
            "flex": null,
            "flex_flow": null,
            "grid_area": null,
            "grid_auto_columns": null,
            "grid_auto_flow": null,
            "grid_auto_rows": null,
            "grid_column": null,
            "grid_gap": null,
            "grid_row": null,
            "grid_template_areas": null,
            "grid_template_columns": null,
            "grid_template_rows": null,
            "height": null,
            "justify_content": null,
            "justify_items": null,
            "left": null,
            "margin": null,
            "max_height": null,
            "max_width": null,
            "min_height": null,
            "min_width": null,
            "object_fit": null,
            "object_position": null,
            "order": null,
            "overflow": null,
            "overflow_x": null,
            "overflow_y": null,
            "padding": null,
            "right": null,
            "top": null,
            "visibility": null,
            "width": null
          }
        },
        "46878a3b9b594f6d90fe0532c3d82b31": {
          "model_module": "@jupyter-widgets/base",
          "model_name": "LayoutModel",
          "model_module_version": "1.2.0",
          "state": {
            "_model_module": "@jupyter-widgets/base",
            "_model_module_version": "1.2.0",
            "_model_name": "LayoutModel",
            "_view_count": null,
            "_view_module": "@jupyter-widgets/base",
            "_view_module_version": "1.2.0",
            "_view_name": "LayoutView",
            "align_content": null,
            "align_items": null,
            "align_self": null,
            "border": null,
            "bottom": null,
            "display": null,
            "flex": null,
            "flex_flow": null,
            "grid_area": null,
            "grid_auto_columns": null,
            "grid_auto_flow": null,
            "grid_auto_rows": null,
            "grid_column": null,
            "grid_gap": null,
            "grid_row": null,
            "grid_template_areas": null,
            "grid_template_columns": null,
            "grid_template_rows": null,
            "height": null,
            "justify_content": null,
            "justify_items": null,
            "left": null,
            "margin": null,
            "max_height": null,
            "max_width": null,
            "min_height": null,
            "min_width": null,
            "object_fit": null,
            "object_position": null,
            "order": null,
            "overflow": null,
            "overflow_x": null,
            "overflow_y": null,
            "padding": null,
            "right": null,
            "top": null,
            "visibility": null,
            "width": null
          }
        },
        "6dc848242c6f481a9a02ec819c658daa": {
          "model_module": "@jupyter-widgets/controls",
          "model_name": "DescriptionStyleModel",
          "model_module_version": "1.5.0",
          "state": {
            "_model_module": "@jupyter-widgets/controls",
            "_model_module_version": "1.5.0",
            "_model_name": "DescriptionStyleModel",
            "_view_count": null,
            "_view_module": "@jupyter-widgets/base",
            "_view_module_version": "1.2.0",
            "_view_name": "StyleView",
            "description_width": ""
          }
        },
        "36778219c0ac449b9115ad36b39c2813": {
          "model_module": "@jupyter-widgets/base",
          "model_name": "LayoutModel",
          "model_module_version": "1.2.0",
          "state": {
            "_model_module": "@jupyter-widgets/base",
            "_model_module_version": "1.2.0",
            "_model_name": "LayoutModel",
            "_view_count": null,
            "_view_module": "@jupyter-widgets/base",
            "_view_module_version": "1.2.0",
            "_view_name": "LayoutView",
            "align_content": null,
            "align_items": null,
            "align_self": null,
            "border": null,
            "bottom": null,
            "display": null,
            "flex": null,
            "flex_flow": null,
            "grid_area": null,
            "grid_auto_columns": null,
            "grid_auto_flow": null,
            "grid_auto_rows": null,
            "grid_column": null,
            "grid_gap": null,
            "grid_row": null,
            "grid_template_areas": null,
            "grid_template_columns": null,
            "grid_template_rows": null,
            "height": null,
            "justify_content": null,
            "justify_items": null,
            "left": null,
            "margin": null,
            "max_height": null,
            "max_width": null,
            "min_height": null,
            "min_width": null,
            "object_fit": null,
            "object_position": null,
            "order": null,
            "overflow": null,
            "overflow_x": null,
            "overflow_y": null,
            "padding": null,
            "right": null,
            "top": null,
            "visibility": null,
            "width": null
          }
        },
        "e975ba6e1f3a420a99842c6a174ed3c1": {
          "model_module": "@jupyter-widgets/controls",
          "model_name": "ProgressStyleModel",
          "model_module_version": "1.5.0",
          "state": {
            "_model_module": "@jupyter-widgets/controls",
            "_model_module_version": "1.5.0",
            "_model_name": "ProgressStyleModel",
            "_view_count": null,
            "_view_module": "@jupyter-widgets/base",
            "_view_module_version": "1.2.0",
            "_view_name": "StyleView",
            "bar_color": null,
            "description_width": ""
          }
        },
        "dbc29947a7cb4a74a5fd2696c66722d8": {
          "model_module": "@jupyter-widgets/base",
          "model_name": "LayoutModel",
          "model_module_version": "1.2.0",
          "state": {
            "_model_module": "@jupyter-widgets/base",
            "_model_module_version": "1.2.0",
            "_model_name": "LayoutModel",
            "_view_count": null,
            "_view_module": "@jupyter-widgets/base",
            "_view_module_version": "1.2.0",
            "_view_name": "LayoutView",
            "align_content": null,
            "align_items": null,
            "align_self": null,
            "border": null,
            "bottom": null,
            "display": null,
            "flex": null,
            "flex_flow": null,
            "grid_area": null,
            "grid_auto_columns": null,
            "grid_auto_flow": null,
            "grid_auto_rows": null,
            "grid_column": null,
            "grid_gap": null,
            "grid_row": null,
            "grid_template_areas": null,
            "grid_template_columns": null,
            "grid_template_rows": null,
            "height": null,
            "justify_content": null,
            "justify_items": null,
            "left": null,
            "margin": null,
            "max_height": null,
            "max_width": null,
            "min_height": null,
            "min_width": null,
            "object_fit": null,
            "object_position": null,
            "order": null,
            "overflow": null,
            "overflow_x": null,
            "overflow_y": null,
            "padding": null,
            "right": null,
            "top": null,
            "visibility": null,
            "width": null
          }
        },
        "f31436617d2b462e8e01eed372780d0e": {
          "model_module": "@jupyter-widgets/controls",
          "model_name": "DescriptionStyleModel",
          "model_module_version": "1.5.0",
          "state": {
            "_model_module": "@jupyter-widgets/controls",
            "_model_module_version": "1.5.0",
            "_model_name": "DescriptionStyleModel",
            "_view_count": null,
            "_view_module": "@jupyter-widgets/base",
            "_view_module_version": "1.2.0",
            "_view_name": "StyleView",
            "description_width": ""
          }
        },
        "01bafaf4299148e0a4112ef597609da2": {
          "model_module": "@jupyter-widgets/controls",
          "model_name": "HBoxModel",
          "model_module_version": "1.5.0",
          "state": {
            "_dom_classes": [],
            "_model_module": "@jupyter-widgets/controls",
            "_model_module_version": "1.5.0",
            "_model_name": "HBoxModel",
            "_view_count": null,
            "_view_module": "@jupyter-widgets/controls",
            "_view_module_version": "1.5.0",
            "_view_name": "HBoxView",
            "box_style": "",
            "children": [
              "IPY_MODEL_9f3070d814f64c9bb2dce3d2c0078215",
              "IPY_MODEL_5945f65df3af40279445fac332aa4bd1",
              "IPY_MODEL_ea72610bd0bc4f2aaae339b801180e3f"
            ],
            "layout": "IPY_MODEL_5b3ee04aaf254e42a689a3072caa9d8f"
          }
        },
        "9f3070d814f64c9bb2dce3d2c0078215": {
          "model_module": "@jupyter-widgets/controls",
          "model_name": "HTMLModel",
          "model_module_version": "1.5.0",
          "state": {
            "_dom_classes": [],
            "_model_module": "@jupyter-widgets/controls",
            "_model_module_version": "1.5.0",
            "_model_name": "HTMLModel",
            "_view_count": null,
            "_view_module": "@jupyter-widgets/controls",
            "_view_module_version": "1.5.0",
            "_view_name": "HTMLView",
            "description": "",
            "description_tooltip": null,
            "layout": "IPY_MODEL_8af76dfd60e74001a79d9b0bb795c52c",
            "placeholder": "​",
            "style": "IPY_MODEL_a5952152f60949d2826fd9021a145559",
            "value": "config.json: 100%"
          }
        },
        "5945f65df3af40279445fac332aa4bd1": {
          "model_module": "@jupyter-widgets/controls",
          "model_name": "FloatProgressModel",
          "model_module_version": "1.5.0",
          "state": {
            "_dom_classes": [],
            "_model_module": "@jupyter-widgets/controls",
            "_model_module_version": "1.5.0",
            "_model_name": "FloatProgressModel",
            "_view_count": null,
            "_view_module": "@jupyter-widgets/controls",
            "_view_module_version": "1.5.0",
            "_view_name": "ProgressView",
            "bar_style": "success",
            "description": "",
            "description_tooltip": null,
            "layout": "IPY_MODEL_02e233ca2b80414899f8852a6fd48c35",
            "max": 612,
            "min": 0,
            "orientation": "horizontal",
            "style": "IPY_MODEL_11d161e729e544608256a0934819c843",
            "value": 612
          }
        },
        "ea72610bd0bc4f2aaae339b801180e3f": {
          "model_module": "@jupyter-widgets/controls",
          "model_name": "HTMLModel",
          "model_module_version": "1.5.0",
          "state": {
            "_dom_classes": [],
            "_model_module": "@jupyter-widgets/controls",
            "_model_module_version": "1.5.0",
            "_model_name": "HTMLModel",
            "_view_count": null,
            "_view_module": "@jupyter-widgets/controls",
            "_view_module_version": "1.5.0",
            "_view_name": "HTMLView",
            "description": "",
            "description_tooltip": null,
            "layout": "IPY_MODEL_ad04fe4a08fc4d919a1d2a81214061d6",
            "placeholder": "​",
            "style": "IPY_MODEL_3f92f327146c496585b4e1017dfc7d95",
            "value": " 612/612 [00:00&lt;00:00, 7.64kB/s]"
          }
        },
        "5b3ee04aaf254e42a689a3072caa9d8f": {
          "model_module": "@jupyter-widgets/base",
          "model_name": "LayoutModel",
          "model_module_version": "1.2.0",
          "state": {
            "_model_module": "@jupyter-widgets/base",
            "_model_module_version": "1.2.0",
            "_model_name": "LayoutModel",
            "_view_count": null,
            "_view_module": "@jupyter-widgets/base",
            "_view_module_version": "1.2.0",
            "_view_name": "LayoutView",
            "align_content": null,
            "align_items": null,
            "align_self": null,
            "border": null,
            "bottom": null,
            "display": null,
            "flex": null,
            "flex_flow": null,
            "grid_area": null,
            "grid_auto_columns": null,
            "grid_auto_flow": null,
            "grid_auto_rows": null,
            "grid_column": null,
            "grid_gap": null,
            "grid_row": null,
            "grid_template_areas": null,
            "grid_template_columns": null,
            "grid_template_rows": null,
            "height": null,
            "justify_content": null,
            "justify_items": null,
            "left": null,
            "margin": null,
            "max_height": null,
            "max_width": null,
            "min_height": null,
            "min_width": null,
            "object_fit": null,
            "object_position": null,
            "order": null,
            "overflow": null,
            "overflow_x": null,
            "overflow_y": null,
            "padding": null,
            "right": null,
            "top": null,
            "visibility": null,
            "width": null
          }
        },
        "8af76dfd60e74001a79d9b0bb795c52c": {
          "model_module": "@jupyter-widgets/base",
          "model_name": "LayoutModel",
          "model_module_version": "1.2.0",
          "state": {
            "_model_module": "@jupyter-widgets/base",
            "_model_module_version": "1.2.0",
            "_model_name": "LayoutModel",
            "_view_count": null,
            "_view_module": "@jupyter-widgets/base",
            "_view_module_version": "1.2.0",
            "_view_name": "LayoutView",
            "align_content": null,
            "align_items": null,
            "align_self": null,
            "border": null,
            "bottom": null,
            "display": null,
            "flex": null,
            "flex_flow": null,
            "grid_area": null,
            "grid_auto_columns": null,
            "grid_auto_flow": null,
            "grid_auto_rows": null,
            "grid_column": null,
            "grid_gap": null,
            "grid_row": null,
            "grid_template_areas": null,
            "grid_template_columns": null,
            "grid_template_rows": null,
            "height": null,
            "justify_content": null,
            "justify_items": null,
            "left": null,
            "margin": null,
            "max_height": null,
            "max_width": null,
            "min_height": null,
            "min_width": null,
            "object_fit": null,
            "object_position": null,
            "order": null,
            "overflow": null,
            "overflow_x": null,
            "overflow_y": null,
            "padding": null,
            "right": null,
            "top": null,
            "visibility": null,
            "width": null
          }
        },
        "a5952152f60949d2826fd9021a145559": {
          "model_module": "@jupyter-widgets/controls",
          "model_name": "DescriptionStyleModel",
          "model_module_version": "1.5.0",
          "state": {
            "_model_module": "@jupyter-widgets/controls",
            "_model_module_version": "1.5.0",
            "_model_name": "DescriptionStyleModel",
            "_view_count": null,
            "_view_module": "@jupyter-widgets/base",
            "_view_module_version": "1.2.0",
            "_view_name": "StyleView",
            "description_width": ""
          }
        },
        "02e233ca2b80414899f8852a6fd48c35": {
          "model_module": "@jupyter-widgets/base",
          "model_name": "LayoutModel",
          "model_module_version": "1.2.0",
          "state": {
            "_model_module": "@jupyter-widgets/base",
            "_model_module_version": "1.2.0",
            "_model_name": "LayoutModel",
            "_view_count": null,
            "_view_module": "@jupyter-widgets/base",
            "_view_module_version": "1.2.0",
            "_view_name": "LayoutView",
            "align_content": null,
            "align_items": null,
            "align_self": null,
            "border": null,
            "bottom": null,
            "display": null,
            "flex": null,
            "flex_flow": null,
            "grid_area": null,
            "grid_auto_columns": null,
            "grid_auto_flow": null,
            "grid_auto_rows": null,
            "grid_column": null,
            "grid_gap": null,
            "grid_row": null,
            "grid_template_areas": null,
            "grid_template_columns": null,
            "grid_template_rows": null,
            "height": null,
            "justify_content": null,
            "justify_items": null,
            "left": null,
            "margin": null,
            "max_height": null,
            "max_width": null,
            "min_height": null,
            "min_width": null,
            "object_fit": null,
            "object_position": null,
            "order": null,
            "overflow": null,
            "overflow_x": null,
            "overflow_y": null,
            "padding": null,
            "right": null,
            "top": null,
            "visibility": null,
            "width": null
          }
        },
        "11d161e729e544608256a0934819c843": {
          "model_module": "@jupyter-widgets/controls",
          "model_name": "ProgressStyleModel",
          "model_module_version": "1.5.0",
          "state": {
            "_model_module": "@jupyter-widgets/controls",
            "_model_module_version": "1.5.0",
            "_model_name": "ProgressStyleModel",
            "_view_count": null,
            "_view_module": "@jupyter-widgets/base",
            "_view_module_version": "1.2.0",
            "_view_name": "StyleView",
            "bar_color": null,
            "description_width": ""
          }
        },
        "ad04fe4a08fc4d919a1d2a81214061d6": {
          "model_module": "@jupyter-widgets/base",
          "model_name": "LayoutModel",
          "model_module_version": "1.2.0",
          "state": {
            "_model_module": "@jupyter-widgets/base",
            "_model_module_version": "1.2.0",
            "_model_name": "LayoutModel",
            "_view_count": null,
            "_view_module": "@jupyter-widgets/base",
            "_view_module_version": "1.2.0",
            "_view_name": "LayoutView",
            "align_content": null,
            "align_items": null,
            "align_self": null,
            "border": null,
            "bottom": null,
            "display": null,
            "flex": null,
            "flex_flow": null,
            "grid_area": null,
            "grid_auto_columns": null,
            "grid_auto_flow": null,
            "grid_auto_rows": null,
            "grid_column": null,
            "grid_gap": null,
            "grid_row": null,
            "grid_template_areas": null,
            "grid_template_columns": null,
            "grid_template_rows": null,
            "height": null,
            "justify_content": null,
            "justify_items": null,
            "left": null,
            "margin": null,
            "max_height": null,
            "max_width": null,
            "min_height": null,
            "min_width": null,
            "object_fit": null,
            "object_position": null,
            "order": null,
            "overflow": null,
            "overflow_x": null,
            "overflow_y": null,
            "padding": null,
            "right": null,
            "top": null,
            "visibility": null,
            "width": null
          }
        },
        "3f92f327146c496585b4e1017dfc7d95": {
          "model_module": "@jupyter-widgets/controls",
          "model_name": "DescriptionStyleModel",
          "model_module_version": "1.5.0",
          "state": {
            "_model_module": "@jupyter-widgets/controls",
            "_model_module_version": "1.5.0",
            "_model_name": "DescriptionStyleModel",
            "_view_count": null,
            "_view_module": "@jupyter-widgets/base",
            "_view_module_version": "1.2.0",
            "_view_name": "StyleView",
            "description_width": ""
          }
        },
        "63c84fcd22834777baced9a42b1b3a36": {
          "model_module": "@jupyter-widgets/controls",
          "model_name": "HBoxModel",
          "model_module_version": "1.5.0",
          "state": {
            "_dom_classes": [],
            "_model_module": "@jupyter-widgets/controls",
            "_model_module_version": "1.5.0",
            "_model_name": "HBoxModel",
            "_view_count": null,
            "_view_module": "@jupyter-widgets/controls",
            "_view_module_version": "1.5.0",
            "_view_name": "HBoxView",
            "box_style": "",
            "children": [
              "IPY_MODEL_d065dc3e3f774d12a98ff8d9fc7e75eb",
              "IPY_MODEL_5d94083749c148ad8d4aba4f58aa43af",
              "IPY_MODEL_4eea9bfc457e4a0a9b1a623c670c79b5"
            ],
            "layout": "IPY_MODEL_0b624591161341518d5cba72919155ce"
          }
        },
        "d065dc3e3f774d12a98ff8d9fc7e75eb": {
          "model_module": "@jupyter-widgets/controls",
          "model_name": "HTMLModel",
          "model_module_version": "1.5.0",
          "state": {
            "_dom_classes": [],
            "_model_module": "@jupyter-widgets/controls",
            "_model_module_version": "1.5.0",
            "_model_name": "HTMLModel",
            "_view_count": null,
            "_view_module": "@jupyter-widgets/controls",
            "_view_module_version": "1.5.0",
            "_view_name": "HTMLView",
            "description": "",
            "description_tooltip": null,
            "layout": "IPY_MODEL_49f431d394034e5f9b9efc05056bcd62",
            "placeholder": "​",
            "style": "IPY_MODEL_db2aa15ef79b4fb7a30e27dd1f8ab3ea",
            "value": "model.safetensors: 100%"
          }
        },
        "5d94083749c148ad8d4aba4f58aa43af": {
          "model_module": "@jupyter-widgets/controls",
          "model_name": "FloatProgressModel",
          "model_module_version": "1.5.0",
          "state": {
            "_dom_classes": [],
            "_model_module": "@jupyter-widgets/controls",
            "_model_module_version": "1.5.0",
            "_model_name": "FloatProgressModel",
            "_view_count": null,
            "_view_module": "@jupyter-widgets/controls",
            "_view_module_version": "1.5.0",
            "_view_name": "ProgressView",
            "bar_style": "success",
            "description": "",
            "description_tooltip": null,
            "layout": "IPY_MODEL_76e62669076f42568c7b71fbcb690d9e",
            "max": 90868376,
            "min": 0,
            "orientation": "horizontal",
            "style": "IPY_MODEL_48b84b4a127b468f9c85d6e60c2b60a8",
            "value": 90868376
          }
        },
        "4eea9bfc457e4a0a9b1a623c670c79b5": {
          "model_module": "@jupyter-widgets/controls",
          "model_name": "HTMLModel",
          "model_module_version": "1.5.0",
          "state": {
            "_dom_classes": [],
            "_model_module": "@jupyter-widgets/controls",
            "_model_module_version": "1.5.0",
            "_model_name": "HTMLModel",
            "_view_count": null,
            "_view_module": "@jupyter-widgets/controls",
            "_view_module_version": "1.5.0",
            "_view_name": "HTMLView",
            "description": "",
            "description_tooltip": null,
            "layout": "IPY_MODEL_65d06c7e6df6437982ef8f1d804b749a",
            "placeholder": "​",
            "style": "IPY_MODEL_55a871cc397d4d06bd4cea11fa9beddd",
            "value": " 90.9M/90.9M [00:00&lt;00:00, 110MB/s]"
          }
        },
        "0b624591161341518d5cba72919155ce": {
          "model_module": "@jupyter-widgets/base",
          "model_name": "LayoutModel",
          "model_module_version": "1.2.0",
          "state": {
            "_model_module": "@jupyter-widgets/base",
            "_model_module_version": "1.2.0",
            "_model_name": "LayoutModel",
            "_view_count": null,
            "_view_module": "@jupyter-widgets/base",
            "_view_module_version": "1.2.0",
            "_view_name": "LayoutView",
            "align_content": null,
            "align_items": null,
            "align_self": null,
            "border": null,
            "bottom": null,
            "display": null,
            "flex": null,
            "flex_flow": null,
            "grid_area": null,
            "grid_auto_columns": null,
            "grid_auto_flow": null,
            "grid_auto_rows": null,
            "grid_column": null,
            "grid_gap": null,
            "grid_row": null,
            "grid_template_areas": null,
            "grid_template_columns": null,
            "grid_template_rows": null,
            "height": null,
            "justify_content": null,
            "justify_items": null,
            "left": null,
            "margin": null,
            "max_height": null,
            "max_width": null,
            "min_height": null,
            "min_width": null,
            "object_fit": null,
            "object_position": null,
            "order": null,
            "overflow": null,
            "overflow_x": null,
            "overflow_y": null,
            "padding": null,
            "right": null,
            "top": null,
            "visibility": null,
            "width": null
          }
        },
        "49f431d394034e5f9b9efc05056bcd62": {
          "model_module": "@jupyter-widgets/base",
          "model_name": "LayoutModel",
          "model_module_version": "1.2.0",
          "state": {
            "_model_module": "@jupyter-widgets/base",
            "_model_module_version": "1.2.0",
            "_model_name": "LayoutModel",
            "_view_count": null,
            "_view_module": "@jupyter-widgets/base",
            "_view_module_version": "1.2.0",
            "_view_name": "LayoutView",
            "align_content": null,
            "align_items": null,
            "align_self": null,
            "border": null,
            "bottom": null,
            "display": null,
            "flex": null,
            "flex_flow": null,
            "grid_area": null,
            "grid_auto_columns": null,
            "grid_auto_flow": null,
            "grid_auto_rows": null,
            "grid_column": null,
            "grid_gap": null,
            "grid_row": null,
            "grid_template_areas": null,
            "grid_template_columns": null,
            "grid_template_rows": null,
            "height": null,
            "justify_content": null,
            "justify_items": null,
            "left": null,
            "margin": null,
            "max_height": null,
            "max_width": null,
            "min_height": null,
            "min_width": null,
            "object_fit": null,
            "object_position": null,
            "order": null,
            "overflow": null,
            "overflow_x": null,
            "overflow_y": null,
            "padding": null,
            "right": null,
            "top": null,
            "visibility": null,
            "width": null
          }
        },
        "db2aa15ef79b4fb7a30e27dd1f8ab3ea": {
          "model_module": "@jupyter-widgets/controls",
          "model_name": "DescriptionStyleModel",
          "model_module_version": "1.5.0",
          "state": {
            "_model_module": "@jupyter-widgets/controls",
            "_model_module_version": "1.5.0",
            "_model_name": "DescriptionStyleModel",
            "_view_count": null,
            "_view_module": "@jupyter-widgets/base",
            "_view_module_version": "1.2.0",
            "_view_name": "StyleView",
            "description_width": ""
          }
        },
        "76e62669076f42568c7b71fbcb690d9e": {
          "model_module": "@jupyter-widgets/base",
          "model_name": "LayoutModel",
          "model_module_version": "1.2.0",
          "state": {
            "_model_module": "@jupyter-widgets/base",
            "_model_module_version": "1.2.0",
            "_model_name": "LayoutModel",
            "_view_count": null,
            "_view_module": "@jupyter-widgets/base",
            "_view_module_version": "1.2.0",
            "_view_name": "LayoutView",
            "align_content": null,
            "align_items": null,
            "align_self": null,
            "border": null,
            "bottom": null,
            "display": null,
            "flex": null,
            "flex_flow": null,
            "grid_area": null,
            "grid_auto_columns": null,
            "grid_auto_flow": null,
            "grid_auto_rows": null,
            "grid_column": null,
            "grid_gap": null,
            "grid_row": null,
            "grid_template_areas": null,
            "grid_template_columns": null,
            "grid_template_rows": null,
            "height": null,
            "justify_content": null,
            "justify_items": null,
            "left": null,
            "margin": null,
            "max_height": null,
            "max_width": null,
            "min_height": null,
            "min_width": null,
            "object_fit": null,
            "object_position": null,
            "order": null,
            "overflow": null,
            "overflow_x": null,
            "overflow_y": null,
            "padding": null,
            "right": null,
            "top": null,
            "visibility": null,
            "width": null
          }
        },
        "48b84b4a127b468f9c85d6e60c2b60a8": {
          "model_module": "@jupyter-widgets/controls",
          "model_name": "ProgressStyleModel",
          "model_module_version": "1.5.0",
          "state": {
            "_model_module": "@jupyter-widgets/controls",
            "_model_module_version": "1.5.0",
            "_model_name": "ProgressStyleModel",
            "_view_count": null,
            "_view_module": "@jupyter-widgets/base",
            "_view_module_version": "1.2.0",
            "_view_name": "StyleView",
            "bar_color": null,
            "description_width": ""
          }
        },
        "65d06c7e6df6437982ef8f1d804b749a": {
          "model_module": "@jupyter-widgets/base",
          "model_name": "LayoutModel",
          "model_module_version": "1.2.0",
          "state": {
            "_model_module": "@jupyter-widgets/base",
            "_model_module_version": "1.2.0",
            "_model_name": "LayoutModel",
            "_view_count": null,
            "_view_module": "@jupyter-widgets/base",
            "_view_module_version": "1.2.0",
            "_view_name": "LayoutView",
            "align_content": null,
            "align_items": null,
            "align_self": null,
            "border": null,
            "bottom": null,
            "display": null,
            "flex": null,
            "flex_flow": null,
            "grid_area": null,
            "grid_auto_columns": null,
            "grid_auto_flow": null,
            "grid_auto_rows": null,
            "grid_column": null,
            "grid_gap": null,
            "grid_row": null,
            "grid_template_areas": null,
            "grid_template_columns": null,
            "grid_template_rows": null,
            "height": null,
            "justify_content": null,
            "justify_items": null,
            "left": null,
            "margin": null,
            "max_height": null,
            "max_width": null,
            "min_height": null,
            "min_width": null,
            "object_fit": null,
            "object_position": null,
            "order": null,
            "overflow": null,
            "overflow_x": null,
            "overflow_y": null,
            "padding": null,
            "right": null,
            "top": null,
            "visibility": null,
            "width": null
          }
        },
        "55a871cc397d4d06bd4cea11fa9beddd": {
          "model_module": "@jupyter-widgets/controls",
          "model_name": "DescriptionStyleModel",
          "model_module_version": "1.5.0",
          "state": {
            "_model_module": "@jupyter-widgets/controls",
            "_model_module_version": "1.5.0",
            "_model_name": "DescriptionStyleModel",
            "_view_count": null,
            "_view_module": "@jupyter-widgets/base",
            "_view_module_version": "1.2.0",
            "_view_name": "StyleView",
            "description_width": ""
          }
        },
        "3355a852b4a345a6b9b0d3df190ffbf1": {
          "model_module": "@jupyter-widgets/controls",
          "model_name": "HBoxModel",
          "model_module_version": "1.5.0",
          "state": {
            "_dom_classes": [],
            "_model_module": "@jupyter-widgets/controls",
            "_model_module_version": "1.5.0",
            "_model_name": "HBoxModel",
            "_view_count": null,
            "_view_module": "@jupyter-widgets/controls",
            "_view_module_version": "1.5.0",
            "_view_name": "HBoxView",
            "box_style": "",
            "children": [
              "IPY_MODEL_1a8c0a4938bb4e54bbf6d9f44b563394",
              "IPY_MODEL_c816929dfa12490e848455fbd850a25c",
              "IPY_MODEL_a6086e8f900f47068ca2314653909f4e"
            ],
            "layout": "IPY_MODEL_66f315fd8c4f4e0e86487a630b639415"
          }
        },
        "1a8c0a4938bb4e54bbf6d9f44b563394": {
          "model_module": "@jupyter-widgets/controls",
          "model_name": "HTMLModel",
          "model_module_version": "1.5.0",
          "state": {
            "_dom_classes": [],
            "_model_module": "@jupyter-widgets/controls",
            "_model_module_version": "1.5.0",
            "_model_name": "HTMLModel",
            "_view_count": null,
            "_view_module": "@jupyter-widgets/controls",
            "_view_module_version": "1.5.0",
            "_view_name": "HTMLView",
            "description": "",
            "description_tooltip": null,
            "layout": "IPY_MODEL_4102b1b5cc534771b3ba789875f37fad",
            "placeholder": "​",
            "style": "IPY_MODEL_056a8d3a23364ae181edb72287b45fe2",
            "value": "tokenizer_config.json: 100%"
          }
        },
        "c816929dfa12490e848455fbd850a25c": {
          "model_module": "@jupyter-widgets/controls",
          "model_name": "FloatProgressModel",
          "model_module_version": "1.5.0",
          "state": {
            "_dom_classes": [],
            "_model_module": "@jupyter-widgets/controls",
            "_model_module_version": "1.5.0",
            "_model_name": "FloatProgressModel",
            "_view_count": null,
            "_view_module": "@jupyter-widgets/controls",
            "_view_module_version": "1.5.0",
            "_view_name": "ProgressView",
            "bar_style": "success",
            "description": "",
            "description_tooltip": null,
            "layout": "IPY_MODEL_373ade967edb49aea02b678d6d5714d3",
            "max": 383,
            "min": 0,
            "orientation": "horizontal",
            "style": "IPY_MODEL_6cf3a9f9e9a9422ea051f501fd7e36f4",
            "value": 383
          }
        },
        "a6086e8f900f47068ca2314653909f4e": {
          "model_module": "@jupyter-widgets/controls",
          "model_name": "HTMLModel",
          "model_module_version": "1.5.0",
          "state": {
            "_dom_classes": [],
            "_model_module": "@jupyter-widgets/controls",
            "_model_module_version": "1.5.0",
            "_model_name": "HTMLModel",
            "_view_count": null,
            "_view_module": "@jupyter-widgets/controls",
            "_view_module_version": "1.5.0",
            "_view_name": "HTMLView",
            "description": "",
            "description_tooltip": null,
            "layout": "IPY_MODEL_ff21a89b7d804a86912ae7dafdc967b7",
            "placeholder": "​",
            "style": "IPY_MODEL_6ce2d8d20615407494c2d5110156280d",
            "value": " 383/383 [00:00&lt;00:00, 13.6kB/s]"
          }
        },
        "66f315fd8c4f4e0e86487a630b639415": {
          "model_module": "@jupyter-widgets/base",
          "model_name": "LayoutModel",
          "model_module_version": "1.2.0",
          "state": {
            "_model_module": "@jupyter-widgets/base",
            "_model_module_version": "1.2.0",
            "_model_name": "LayoutModel",
            "_view_count": null,
            "_view_module": "@jupyter-widgets/base",
            "_view_module_version": "1.2.0",
            "_view_name": "LayoutView",
            "align_content": null,
            "align_items": null,
            "align_self": null,
            "border": null,
            "bottom": null,
            "display": null,
            "flex": null,
            "flex_flow": null,
            "grid_area": null,
            "grid_auto_columns": null,
            "grid_auto_flow": null,
            "grid_auto_rows": null,
            "grid_column": null,
            "grid_gap": null,
            "grid_row": null,
            "grid_template_areas": null,
            "grid_template_columns": null,
            "grid_template_rows": null,
            "height": null,
            "justify_content": null,
            "justify_items": null,
            "left": null,
            "margin": null,
            "max_height": null,
            "max_width": null,
            "min_height": null,
            "min_width": null,
            "object_fit": null,
            "object_position": null,
            "order": null,
            "overflow": null,
            "overflow_x": null,
            "overflow_y": null,
            "padding": null,
            "right": null,
            "top": null,
            "visibility": null,
            "width": null
          }
        },
        "4102b1b5cc534771b3ba789875f37fad": {
          "model_module": "@jupyter-widgets/base",
          "model_name": "LayoutModel",
          "model_module_version": "1.2.0",
          "state": {
            "_model_module": "@jupyter-widgets/base",
            "_model_module_version": "1.2.0",
            "_model_name": "LayoutModel",
            "_view_count": null,
            "_view_module": "@jupyter-widgets/base",
            "_view_module_version": "1.2.0",
            "_view_name": "LayoutView",
            "align_content": null,
            "align_items": null,
            "align_self": null,
            "border": null,
            "bottom": null,
            "display": null,
            "flex": null,
            "flex_flow": null,
            "grid_area": null,
            "grid_auto_columns": null,
            "grid_auto_flow": null,
            "grid_auto_rows": null,
            "grid_column": null,
            "grid_gap": null,
            "grid_row": null,
            "grid_template_areas": null,
            "grid_template_columns": null,
            "grid_template_rows": null,
            "height": null,
            "justify_content": null,
            "justify_items": null,
            "left": null,
            "margin": null,
            "max_height": null,
            "max_width": null,
            "min_height": null,
            "min_width": null,
            "object_fit": null,
            "object_position": null,
            "order": null,
            "overflow": null,
            "overflow_x": null,
            "overflow_y": null,
            "padding": null,
            "right": null,
            "top": null,
            "visibility": null,
            "width": null
          }
        },
        "056a8d3a23364ae181edb72287b45fe2": {
          "model_module": "@jupyter-widgets/controls",
          "model_name": "DescriptionStyleModel",
          "model_module_version": "1.5.0",
          "state": {
            "_model_module": "@jupyter-widgets/controls",
            "_model_module_version": "1.5.0",
            "_model_name": "DescriptionStyleModel",
            "_view_count": null,
            "_view_module": "@jupyter-widgets/base",
            "_view_module_version": "1.2.0",
            "_view_name": "StyleView",
            "description_width": ""
          }
        },
        "373ade967edb49aea02b678d6d5714d3": {
          "model_module": "@jupyter-widgets/base",
          "model_name": "LayoutModel",
          "model_module_version": "1.2.0",
          "state": {
            "_model_module": "@jupyter-widgets/base",
            "_model_module_version": "1.2.0",
            "_model_name": "LayoutModel",
            "_view_count": null,
            "_view_module": "@jupyter-widgets/base",
            "_view_module_version": "1.2.0",
            "_view_name": "LayoutView",
            "align_content": null,
            "align_items": null,
            "align_self": null,
            "border": null,
            "bottom": null,
            "display": null,
            "flex": null,
            "flex_flow": null,
            "grid_area": null,
            "grid_auto_columns": null,
            "grid_auto_flow": null,
            "grid_auto_rows": null,
            "grid_column": null,
            "grid_gap": null,
            "grid_row": null,
            "grid_template_areas": null,
            "grid_template_columns": null,
            "grid_template_rows": null,
            "height": null,
            "justify_content": null,
            "justify_items": null,
            "left": null,
            "margin": null,
            "max_height": null,
            "max_width": null,
            "min_height": null,
            "min_width": null,
            "object_fit": null,
            "object_position": null,
            "order": null,
            "overflow": null,
            "overflow_x": null,
            "overflow_y": null,
            "padding": null,
            "right": null,
            "top": null,
            "visibility": null,
            "width": null
          }
        },
        "6cf3a9f9e9a9422ea051f501fd7e36f4": {
          "model_module": "@jupyter-widgets/controls",
          "model_name": "ProgressStyleModel",
          "model_module_version": "1.5.0",
          "state": {
            "_model_module": "@jupyter-widgets/controls",
            "_model_module_version": "1.5.0",
            "_model_name": "ProgressStyleModel",
            "_view_count": null,
            "_view_module": "@jupyter-widgets/base",
            "_view_module_version": "1.2.0",
            "_view_name": "StyleView",
            "bar_color": null,
            "description_width": ""
          }
        },
        "ff21a89b7d804a86912ae7dafdc967b7": {
          "model_module": "@jupyter-widgets/base",
          "model_name": "LayoutModel",
          "model_module_version": "1.2.0",
          "state": {
            "_model_module": "@jupyter-widgets/base",
            "_model_module_version": "1.2.0",
            "_model_name": "LayoutModel",
            "_view_count": null,
            "_view_module": "@jupyter-widgets/base",
            "_view_module_version": "1.2.0",
            "_view_name": "LayoutView",
            "align_content": null,
            "align_items": null,
            "align_self": null,
            "border": null,
            "bottom": null,
            "display": null,
            "flex": null,
            "flex_flow": null,
            "grid_area": null,
            "grid_auto_columns": null,
            "grid_auto_flow": null,
            "grid_auto_rows": null,
            "grid_column": null,
            "grid_gap": null,
            "grid_row": null,
            "grid_template_areas": null,
            "grid_template_columns": null,
            "grid_template_rows": null,
            "height": null,
            "justify_content": null,
            "justify_items": null,
            "left": null,
            "margin": null,
            "max_height": null,
            "max_width": null,
            "min_height": null,
            "min_width": null,
            "object_fit": null,
            "object_position": null,
            "order": null,
            "overflow": null,
            "overflow_x": null,
            "overflow_y": null,
            "padding": null,
            "right": null,
            "top": null,
            "visibility": null,
            "width": null
          }
        },
        "6ce2d8d20615407494c2d5110156280d": {
          "model_module": "@jupyter-widgets/controls",
          "model_name": "DescriptionStyleModel",
          "model_module_version": "1.5.0",
          "state": {
            "_model_module": "@jupyter-widgets/controls",
            "_model_module_version": "1.5.0",
            "_model_name": "DescriptionStyleModel",
            "_view_count": null,
            "_view_module": "@jupyter-widgets/base",
            "_view_module_version": "1.2.0",
            "_view_name": "StyleView",
            "description_width": ""
          }
        },
        "d19b5a6380784a6197caf09a61e06143": {
          "model_module": "@jupyter-widgets/controls",
          "model_name": "HBoxModel",
          "model_module_version": "1.5.0",
          "state": {
            "_dom_classes": [],
            "_model_module": "@jupyter-widgets/controls",
            "_model_module_version": "1.5.0",
            "_model_name": "HBoxModel",
            "_view_count": null,
            "_view_module": "@jupyter-widgets/controls",
            "_view_module_version": "1.5.0",
            "_view_name": "HBoxView",
            "box_style": "",
            "children": [
              "IPY_MODEL_8e7811b00c3145fc867aabf4f866bac1",
              "IPY_MODEL_9849fcff4c5a458eaa93ac8e6ed80d48",
              "IPY_MODEL_6def035bf3494fb5b5604f2b2536ce1e"
            ],
            "layout": "IPY_MODEL_c208efb484e34c9abf8a23960c318d9f"
          }
        },
        "8e7811b00c3145fc867aabf4f866bac1": {
          "model_module": "@jupyter-widgets/controls",
          "model_name": "HTMLModel",
          "model_module_version": "1.5.0",
          "state": {
            "_dom_classes": [],
            "_model_module": "@jupyter-widgets/controls",
            "_model_module_version": "1.5.0",
            "_model_name": "HTMLModel",
            "_view_count": null,
            "_view_module": "@jupyter-widgets/controls",
            "_view_module_version": "1.5.0",
            "_view_name": "HTMLView",
            "description": "",
            "description_tooltip": null,
            "layout": "IPY_MODEL_ea87fb0ddd614e94a1ae49d902509153",
            "placeholder": "​",
            "style": "IPY_MODEL_d25f904b663f4fdb94f74ba032c1cbb8",
            "value": "vocab.txt: 100%"
          }
        },
        "9849fcff4c5a458eaa93ac8e6ed80d48": {
          "model_module": "@jupyter-widgets/controls",
          "model_name": "FloatProgressModel",
          "model_module_version": "1.5.0",
          "state": {
            "_dom_classes": [],
            "_model_module": "@jupyter-widgets/controls",
            "_model_module_version": "1.5.0",
            "_model_name": "FloatProgressModel",
            "_view_count": null,
            "_view_module": "@jupyter-widgets/controls",
            "_view_module_version": "1.5.0",
            "_view_name": "ProgressView",
            "bar_style": "success",
            "description": "",
            "description_tooltip": null,
            "layout": "IPY_MODEL_4d77a9ba4d644d2fb92986981ade0c07",
            "max": 231508,
            "min": 0,
            "orientation": "horizontal",
            "style": "IPY_MODEL_3df3626a36de4245b61854b046c2268d",
            "value": 231508
          }
        },
        "6def035bf3494fb5b5604f2b2536ce1e": {
          "model_module": "@jupyter-widgets/controls",
          "model_name": "HTMLModel",
          "model_module_version": "1.5.0",
          "state": {
            "_dom_classes": [],
            "_model_module": "@jupyter-widgets/controls",
            "_model_module_version": "1.5.0",
            "_model_name": "HTMLModel",
            "_view_count": null,
            "_view_module": "@jupyter-widgets/controls",
            "_view_module_version": "1.5.0",
            "_view_name": "HTMLView",
            "description": "",
            "description_tooltip": null,
            "layout": "IPY_MODEL_1ae0dcff979e49fd868aea15bdb01bd5",
            "placeholder": "​",
            "style": "IPY_MODEL_c3c71f0ba26f453b97eef3a1ee201949",
            "value": " 232k/232k [00:00&lt;00:00, 4.08MB/s]"
          }
        },
        "c208efb484e34c9abf8a23960c318d9f": {
          "model_module": "@jupyter-widgets/base",
          "model_name": "LayoutModel",
          "model_module_version": "1.2.0",
          "state": {
            "_model_module": "@jupyter-widgets/base",
            "_model_module_version": "1.2.0",
            "_model_name": "LayoutModel",
            "_view_count": null,
            "_view_module": "@jupyter-widgets/base",
            "_view_module_version": "1.2.0",
            "_view_name": "LayoutView",
            "align_content": null,
            "align_items": null,
            "align_self": null,
            "border": null,
            "bottom": null,
            "display": null,
            "flex": null,
            "flex_flow": null,
            "grid_area": null,
            "grid_auto_columns": null,
            "grid_auto_flow": null,
            "grid_auto_rows": null,
            "grid_column": null,
            "grid_gap": null,
            "grid_row": null,
            "grid_template_areas": null,
            "grid_template_columns": null,
            "grid_template_rows": null,
            "height": null,
            "justify_content": null,
            "justify_items": null,
            "left": null,
            "margin": null,
            "max_height": null,
            "max_width": null,
            "min_height": null,
            "min_width": null,
            "object_fit": null,
            "object_position": null,
            "order": null,
            "overflow": null,
            "overflow_x": null,
            "overflow_y": null,
            "padding": null,
            "right": null,
            "top": null,
            "visibility": null,
            "width": null
          }
        },
        "ea87fb0ddd614e94a1ae49d902509153": {
          "model_module": "@jupyter-widgets/base",
          "model_name": "LayoutModel",
          "model_module_version": "1.2.0",
          "state": {
            "_model_module": "@jupyter-widgets/base",
            "_model_module_version": "1.2.0",
            "_model_name": "LayoutModel",
            "_view_count": null,
            "_view_module": "@jupyter-widgets/base",
            "_view_module_version": "1.2.0",
            "_view_name": "LayoutView",
            "align_content": null,
            "align_items": null,
            "align_self": null,
            "border": null,
            "bottom": null,
            "display": null,
            "flex": null,
            "flex_flow": null,
            "grid_area": null,
            "grid_auto_columns": null,
            "grid_auto_flow": null,
            "grid_auto_rows": null,
            "grid_column": null,
            "grid_gap": null,
            "grid_row": null,
            "grid_template_areas": null,
            "grid_template_columns": null,
            "grid_template_rows": null,
            "height": null,
            "justify_content": null,
            "justify_items": null,
            "left": null,
            "margin": null,
            "max_height": null,
            "max_width": null,
            "min_height": null,
            "min_width": null,
            "object_fit": null,
            "object_position": null,
            "order": null,
            "overflow": null,
            "overflow_x": null,
            "overflow_y": null,
            "padding": null,
            "right": null,
            "top": null,
            "visibility": null,
            "width": null
          }
        },
        "d25f904b663f4fdb94f74ba032c1cbb8": {
          "model_module": "@jupyter-widgets/controls",
          "model_name": "DescriptionStyleModel",
          "model_module_version": "1.5.0",
          "state": {
            "_model_module": "@jupyter-widgets/controls",
            "_model_module_version": "1.5.0",
            "_model_name": "DescriptionStyleModel",
            "_view_count": null,
            "_view_module": "@jupyter-widgets/base",
            "_view_module_version": "1.2.0",
            "_view_name": "StyleView",
            "description_width": ""
          }
        },
        "4d77a9ba4d644d2fb92986981ade0c07": {
          "model_module": "@jupyter-widgets/base",
          "model_name": "LayoutModel",
          "model_module_version": "1.2.0",
          "state": {
            "_model_module": "@jupyter-widgets/base",
            "_model_module_version": "1.2.0",
            "_model_name": "LayoutModel",
            "_view_count": null,
            "_view_module": "@jupyter-widgets/base",
            "_view_module_version": "1.2.0",
            "_view_name": "LayoutView",
            "align_content": null,
            "align_items": null,
            "align_self": null,
            "border": null,
            "bottom": null,
            "display": null,
            "flex": null,
            "flex_flow": null,
            "grid_area": null,
            "grid_auto_columns": null,
            "grid_auto_flow": null,
            "grid_auto_rows": null,
            "grid_column": null,
            "grid_gap": null,
            "grid_row": null,
            "grid_template_areas": null,
            "grid_template_columns": null,
            "grid_template_rows": null,
            "height": null,
            "justify_content": null,
            "justify_items": null,
            "left": null,
            "margin": null,
            "max_height": null,
            "max_width": null,
            "min_height": null,
            "min_width": null,
            "object_fit": null,
            "object_position": null,
            "order": null,
            "overflow": null,
            "overflow_x": null,
            "overflow_y": null,
            "padding": null,
            "right": null,
            "top": null,
            "visibility": null,
            "width": null
          }
        },
        "3df3626a36de4245b61854b046c2268d": {
          "model_module": "@jupyter-widgets/controls",
          "model_name": "ProgressStyleModel",
          "model_module_version": "1.5.0",
          "state": {
            "_model_module": "@jupyter-widgets/controls",
            "_model_module_version": "1.5.0",
            "_model_name": "ProgressStyleModel",
            "_view_count": null,
            "_view_module": "@jupyter-widgets/base",
            "_view_module_version": "1.2.0",
            "_view_name": "StyleView",
            "bar_color": null,
            "description_width": ""
          }
        },
        "1ae0dcff979e49fd868aea15bdb01bd5": {
          "model_module": "@jupyter-widgets/base",
          "model_name": "LayoutModel",
          "model_module_version": "1.2.0",
          "state": {
            "_model_module": "@jupyter-widgets/base",
            "_model_module_version": "1.2.0",
            "_model_name": "LayoutModel",
            "_view_count": null,
            "_view_module": "@jupyter-widgets/base",
            "_view_module_version": "1.2.0",
            "_view_name": "LayoutView",
            "align_content": null,
            "align_items": null,
            "align_self": null,
            "border": null,
            "bottom": null,
            "display": null,
            "flex": null,
            "flex_flow": null,
            "grid_area": null,
            "grid_auto_columns": null,
            "grid_auto_flow": null,
            "grid_auto_rows": null,
            "grid_column": null,
            "grid_gap": null,
            "grid_row": null,
            "grid_template_areas": null,
            "grid_template_columns": null,
            "grid_template_rows": null,
            "height": null,
            "justify_content": null,
            "justify_items": null,
            "left": null,
            "margin": null,
            "max_height": null,
            "max_width": null,
            "min_height": null,
            "min_width": null,
            "object_fit": null,
            "object_position": null,
            "order": null,
            "overflow": null,
            "overflow_x": null,
            "overflow_y": null,
            "padding": null,
            "right": null,
            "top": null,
            "visibility": null,
            "width": null
          }
        },
        "c3c71f0ba26f453b97eef3a1ee201949": {
          "model_module": "@jupyter-widgets/controls",
          "model_name": "DescriptionStyleModel",
          "model_module_version": "1.5.0",
          "state": {
            "_model_module": "@jupyter-widgets/controls",
            "_model_module_version": "1.5.0",
            "_model_name": "DescriptionStyleModel",
            "_view_count": null,
            "_view_module": "@jupyter-widgets/base",
            "_view_module_version": "1.2.0",
            "_view_name": "StyleView",
            "description_width": ""
          }
        },
        "2d91d04e1d4c4ad6b4a68484dab88f54": {
          "model_module": "@jupyter-widgets/controls",
          "model_name": "HBoxModel",
          "model_module_version": "1.5.0",
          "state": {
            "_dom_classes": [],
            "_model_module": "@jupyter-widgets/controls",
            "_model_module_version": "1.5.0",
            "_model_name": "HBoxModel",
            "_view_count": null,
            "_view_module": "@jupyter-widgets/controls",
            "_view_module_version": "1.5.0",
            "_view_name": "HBoxView",
            "box_style": "",
            "children": [
              "IPY_MODEL_aa17000c7f8f4740a1997415861c6cd7",
              "IPY_MODEL_dcf4ee9c7ed54fa3bae0f4f8658a29ce",
              "IPY_MODEL_c528560d0b32452bba2a94a1b3fc9dc1"
            ],
            "layout": "IPY_MODEL_4fd30e2c78134a1c86326b2e07add78a"
          }
        },
        "aa17000c7f8f4740a1997415861c6cd7": {
          "model_module": "@jupyter-widgets/controls",
          "model_name": "HTMLModel",
          "model_module_version": "1.5.0",
          "state": {
            "_dom_classes": [],
            "_model_module": "@jupyter-widgets/controls",
            "_model_module_version": "1.5.0",
            "_model_name": "HTMLModel",
            "_view_count": null,
            "_view_module": "@jupyter-widgets/controls",
            "_view_module_version": "1.5.0",
            "_view_name": "HTMLView",
            "description": "",
            "description_tooltip": null,
            "layout": "IPY_MODEL_cc0bdbbcfded4a73b09ac4b69c140e10",
            "placeholder": "​",
            "style": "IPY_MODEL_9e3ca2a49d684076990eba5043450878",
            "value": "tokenizer.json: 100%"
          }
        },
        "dcf4ee9c7ed54fa3bae0f4f8658a29ce": {
          "model_module": "@jupyter-widgets/controls",
          "model_name": "FloatProgressModel",
          "model_module_version": "1.5.0",
          "state": {
            "_dom_classes": [],
            "_model_module": "@jupyter-widgets/controls",
            "_model_module_version": "1.5.0",
            "_model_name": "FloatProgressModel",
            "_view_count": null,
            "_view_module": "@jupyter-widgets/controls",
            "_view_module_version": "1.5.0",
            "_view_name": "ProgressView",
            "bar_style": "success",
            "description": "",
            "description_tooltip": null,
            "layout": "IPY_MODEL_5d923a4ac420412bad55e0be839a6ec1",
            "max": 466247,
            "min": 0,
            "orientation": "horizontal",
            "style": "IPY_MODEL_13ece3dd30a049f1a65456704688b668",
            "value": 466247
          }
        },
        "c528560d0b32452bba2a94a1b3fc9dc1": {
          "model_module": "@jupyter-widgets/controls",
          "model_name": "HTMLModel",
          "model_module_version": "1.5.0",
          "state": {
            "_dom_classes": [],
            "_model_module": "@jupyter-widgets/controls",
            "_model_module_version": "1.5.0",
            "_model_name": "HTMLModel",
            "_view_count": null,
            "_view_module": "@jupyter-widgets/controls",
            "_view_module_version": "1.5.0",
            "_view_name": "HTMLView",
            "description": "",
            "description_tooltip": null,
            "layout": "IPY_MODEL_71c610fe9b35416d9edd3fd9edc3c6d0",
            "placeholder": "​",
            "style": "IPY_MODEL_c7ca9b04dbe943f78ee13397a51d61cc",
            "value": " 466k/466k [00:00&lt;00:00, 20.0MB/s]"
          }
        },
        "4fd30e2c78134a1c86326b2e07add78a": {
          "model_module": "@jupyter-widgets/base",
          "model_name": "LayoutModel",
          "model_module_version": "1.2.0",
          "state": {
            "_model_module": "@jupyter-widgets/base",
            "_model_module_version": "1.2.0",
            "_model_name": "LayoutModel",
            "_view_count": null,
            "_view_module": "@jupyter-widgets/base",
            "_view_module_version": "1.2.0",
            "_view_name": "LayoutView",
            "align_content": null,
            "align_items": null,
            "align_self": null,
            "border": null,
            "bottom": null,
            "display": null,
            "flex": null,
            "flex_flow": null,
            "grid_area": null,
            "grid_auto_columns": null,
            "grid_auto_flow": null,
            "grid_auto_rows": null,
            "grid_column": null,
            "grid_gap": null,
            "grid_row": null,
            "grid_template_areas": null,
            "grid_template_columns": null,
            "grid_template_rows": null,
            "height": null,
            "justify_content": null,
            "justify_items": null,
            "left": null,
            "margin": null,
            "max_height": null,
            "max_width": null,
            "min_height": null,
            "min_width": null,
            "object_fit": null,
            "object_position": null,
            "order": null,
            "overflow": null,
            "overflow_x": null,
            "overflow_y": null,
            "padding": null,
            "right": null,
            "top": null,
            "visibility": null,
            "width": null
          }
        },
        "cc0bdbbcfded4a73b09ac4b69c140e10": {
          "model_module": "@jupyter-widgets/base",
          "model_name": "LayoutModel",
          "model_module_version": "1.2.0",
          "state": {
            "_model_module": "@jupyter-widgets/base",
            "_model_module_version": "1.2.0",
            "_model_name": "LayoutModel",
            "_view_count": null,
            "_view_module": "@jupyter-widgets/base",
            "_view_module_version": "1.2.0",
            "_view_name": "LayoutView",
            "align_content": null,
            "align_items": null,
            "align_self": null,
            "border": null,
            "bottom": null,
            "display": null,
            "flex": null,
            "flex_flow": null,
            "grid_area": null,
            "grid_auto_columns": null,
            "grid_auto_flow": null,
            "grid_auto_rows": null,
            "grid_column": null,
            "grid_gap": null,
            "grid_row": null,
            "grid_template_areas": null,
            "grid_template_columns": null,
            "grid_template_rows": null,
            "height": null,
            "justify_content": null,
            "justify_items": null,
            "left": null,
            "margin": null,
            "max_height": null,
            "max_width": null,
            "min_height": null,
            "min_width": null,
            "object_fit": null,
            "object_position": null,
            "order": null,
            "overflow": null,
            "overflow_x": null,
            "overflow_y": null,
            "padding": null,
            "right": null,
            "top": null,
            "visibility": null,
            "width": null
          }
        },
        "9e3ca2a49d684076990eba5043450878": {
          "model_module": "@jupyter-widgets/controls",
          "model_name": "DescriptionStyleModel",
          "model_module_version": "1.5.0",
          "state": {
            "_model_module": "@jupyter-widgets/controls",
            "_model_module_version": "1.5.0",
            "_model_name": "DescriptionStyleModel",
            "_view_count": null,
            "_view_module": "@jupyter-widgets/base",
            "_view_module_version": "1.2.0",
            "_view_name": "StyleView",
            "description_width": ""
          }
        },
        "5d923a4ac420412bad55e0be839a6ec1": {
          "model_module": "@jupyter-widgets/base",
          "model_name": "LayoutModel",
          "model_module_version": "1.2.0",
          "state": {
            "_model_module": "@jupyter-widgets/base",
            "_model_module_version": "1.2.0",
            "_model_name": "LayoutModel",
            "_view_count": null,
            "_view_module": "@jupyter-widgets/base",
            "_view_module_version": "1.2.0",
            "_view_name": "LayoutView",
            "align_content": null,
            "align_items": null,
            "align_self": null,
            "border": null,
            "bottom": null,
            "display": null,
            "flex": null,
            "flex_flow": null,
            "grid_area": null,
            "grid_auto_columns": null,
            "grid_auto_flow": null,
            "grid_auto_rows": null,
            "grid_column": null,
            "grid_gap": null,
            "grid_row": null,
            "grid_template_areas": null,
            "grid_template_columns": null,
            "grid_template_rows": null,
            "height": null,
            "justify_content": null,
            "justify_items": null,
            "left": null,
            "margin": null,
            "max_height": null,
            "max_width": null,
            "min_height": null,
            "min_width": null,
            "object_fit": null,
            "object_position": null,
            "order": null,
            "overflow": null,
            "overflow_x": null,
            "overflow_y": null,
            "padding": null,
            "right": null,
            "top": null,
            "visibility": null,
            "width": null
          }
        },
        "13ece3dd30a049f1a65456704688b668": {
          "model_module": "@jupyter-widgets/controls",
          "model_name": "ProgressStyleModel",
          "model_module_version": "1.5.0",
          "state": {
            "_model_module": "@jupyter-widgets/controls",
            "_model_module_version": "1.5.0",
            "_model_name": "ProgressStyleModel",
            "_view_count": null,
            "_view_module": "@jupyter-widgets/base",
            "_view_module_version": "1.2.0",
            "_view_name": "StyleView",
            "bar_color": null,
            "description_width": ""
          }
        },
        "71c610fe9b35416d9edd3fd9edc3c6d0": {
          "model_module": "@jupyter-widgets/base",
          "model_name": "LayoutModel",
          "model_module_version": "1.2.0",
          "state": {
            "_model_module": "@jupyter-widgets/base",
            "_model_module_version": "1.2.0",
            "_model_name": "LayoutModel",
            "_view_count": null,
            "_view_module": "@jupyter-widgets/base",
            "_view_module_version": "1.2.0",
            "_view_name": "LayoutView",
            "align_content": null,
            "align_items": null,
            "align_self": null,
            "border": null,
            "bottom": null,
            "display": null,
            "flex": null,
            "flex_flow": null,
            "grid_area": null,
            "grid_auto_columns": null,
            "grid_auto_flow": null,
            "grid_auto_rows": null,
            "grid_column": null,
            "grid_gap": null,
            "grid_row": null,
            "grid_template_areas": null,
            "grid_template_columns": null,
            "grid_template_rows": null,
            "height": null,
            "justify_content": null,
            "justify_items": null,
            "left": null,
            "margin": null,
            "max_height": null,
            "max_width": null,
            "min_height": null,
            "min_width": null,
            "object_fit": null,
            "object_position": null,
            "order": null,
            "overflow": null,
            "overflow_x": null,
            "overflow_y": null,
            "padding": null,
            "right": null,
            "top": null,
            "visibility": null,
            "width": null
          }
        },
        "c7ca9b04dbe943f78ee13397a51d61cc": {
          "model_module": "@jupyter-widgets/controls",
          "model_name": "DescriptionStyleModel",
          "model_module_version": "1.5.0",
          "state": {
            "_model_module": "@jupyter-widgets/controls",
            "_model_module_version": "1.5.0",
            "_model_name": "DescriptionStyleModel",
            "_view_count": null,
            "_view_module": "@jupyter-widgets/base",
            "_view_module_version": "1.2.0",
            "_view_name": "StyleView",
            "description_width": ""
          }
        },
        "87d7ae9559bc4ccbbf9b0dff44a3df70": {
          "model_module": "@jupyter-widgets/controls",
          "model_name": "HBoxModel",
          "model_module_version": "1.5.0",
          "state": {
            "_dom_classes": [],
            "_model_module": "@jupyter-widgets/controls",
            "_model_module_version": "1.5.0",
            "_model_name": "HBoxModel",
            "_view_count": null,
            "_view_module": "@jupyter-widgets/controls",
            "_view_module_version": "1.5.0",
            "_view_name": "HBoxView",
            "box_style": "",
            "children": [
              "IPY_MODEL_9597258a6f2a4868b0f38012d774a696",
              "IPY_MODEL_c16e3b647bb0483eaaf4b5730b9e7529",
              "IPY_MODEL_ec8aca8cd97a442eb10261c28e6ea849"
            ],
            "layout": "IPY_MODEL_2db03b0cfced402eada64af274eaccd1"
          }
        },
        "9597258a6f2a4868b0f38012d774a696": {
          "model_module": "@jupyter-widgets/controls",
          "model_name": "HTMLModel",
          "model_module_version": "1.5.0",
          "state": {
            "_dom_classes": [],
            "_model_module": "@jupyter-widgets/controls",
            "_model_module_version": "1.5.0",
            "_model_name": "HTMLModel",
            "_view_count": null,
            "_view_module": "@jupyter-widgets/controls",
            "_view_module_version": "1.5.0",
            "_view_name": "HTMLView",
            "description": "",
            "description_tooltip": null,
            "layout": "IPY_MODEL_7898b20149504c67a94d905b59c7d913",
            "placeholder": "​",
            "style": "IPY_MODEL_b1d06d0373a64fe2ab559f57e26ee1d1",
            "value": "special_tokens_map.json: 100%"
          }
        },
        "c16e3b647bb0483eaaf4b5730b9e7529": {
          "model_module": "@jupyter-widgets/controls",
          "model_name": "FloatProgressModel",
          "model_module_version": "1.5.0",
          "state": {
            "_dom_classes": [],
            "_model_module": "@jupyter-widgets/controls",
            "_model_module_version": "1.5.0",
            "_model_name": "FloatProgressModel",
            "_view_count": null,
            "_view_module": "@jupyter-widgets/controls",
            "_view_module_version": "1.5.0",
            "_view_name": "ProgressView",
            "bar_style": "success",
            "description": "",
            "description_tooltip": null,
            "layout": "IPY_MODEL_abc37a76e90e4e89877a719c8fa13079",
            "max": 112,
            "min": 0,
            "orientation": "horizontal",
            "style": "IPY_MODEL_78ffc87040074f119b8dad647f34ce7a",
            "value": 112
          }
        },
        "ec8aca8cd97a442eb10261c28e6ea849": {
          "model_module": "@jupyter-widgets/controls",
          "model_name": "HTMLModel",
          "model_module_version": "1.5.0",
          "state": {
            "_dom_classes": [],
            "_model_module": "@jupyter-widgets/controls",
            "_model_module_version": "1.5.0",
            "_model_name": "HTMLModel",
            "_view_count": null,
            "_view_module": "@jupyter-widgets/controls",
            "_view_module_version": "1.5.0",
            "_view_name": "HTMLView",
            "description": "",
            "description_tooltip": null,
            "layout": "IPY_MODEL_4faffe2dd01a42dcb3f0243c24573e7a",
            "placeholder": "​",
            "style": "IPY_MODEL_cc52502edeb04ad7add22d0ffbd8ac84",
            "value": " 112/112 [00:00&lt;00:00, 7.26kB/s]"
          }
        },
        "2db03b0cfced402eada64af274eaccd1": {
          "model_module": "@jupyter-widgets/base",
          "model_name": "LayoutModel",
          "model_module_version": "1.2.0",
          "state": {
            "_model_module": "@jupyter-widgets/base",
            "_model_module_version": "1.2.0",
            "_model_name": "LayoutModel",
            "_view_count": null,
            "_view_module": "@jupyter-widgets/base",
            "_view_module_version": "1.2.0",
            "_view_name": "LayoutView",
            "align_content": null,
            "align_items": null,
            "align_self": null,
            "border": null,
            "bottom": null,
            "display": null,
            "flex": null,
            "flex_flow": null,
            "grid_area": null,
            "grid_auto_columns": null,
            "grid_auto_flow": null,
            "grid_auto_rows": null,
            "grid_column": null,
            "grid_gap": null,
            "grid_row": null,
            "grid_template_areas": null,
            "grid_template_columns": null,
            "grid_template_rows": null,
            "height": null,
            "justify_content": null,
            "justify_items": null,
            "left": null,
            "margin": null,
            "max_height": null,
            "max_width": null,
            "min_height": null,
            "min_width": null,
            "object_fit": null,
            "object_position": null,
            "order": null,
            "overflow": null,
            "overflow_x": null,
            "overflow_y": null,
            "padding": null,
            "right": null,
            "top": null,
            "visibility": null,
            "width": null
          }
        },
        "7898b20149504c67a94d905b59c7d913": {
          "model_module": "@jupyter-widgets/base",
          "model_name": "LayoutModel",
          "model_module_version": "1.2.0",
          "state": {
            "_model_module": "@jupyter-widgets/base",
            "_model_module_version": "1.2.0",
            "_model_name": "LayoutModel",
            "_view_count": null,
            "_view_module": "@jupyter-widgets/base",
            "_view_module_version": "1.2.0",
            "_view_name": "LayoutView",
            "align_content": null,
            "align_items": null,
            "align_self": null,
            "border": null,
            "bottom": null,
            "display": null,
            "flex": null,
            "flex_flow": null,
            "grid_area": null,
            "grid_auto_columns": null,
            "grid_auto_flow": null,
            "grid_auto_rows": null,
            "grid_column": null,
            "grid_gap": null,
            "grid_row": null,
            "grid_template_areas": null,
            "grid_template_columns": null,
            "grid_template_rows": null,
            "height": null,
            "justify_content": null,
            "justify_items": null,
            "left": null,
            "margin": null,
            "max_height": null,
            "max_width": null,
            "min_height": null,
            "min_width": null,
            "object_fit": null,
            "object_position": null,
            "order": null,
            "overflow": null,
            "overflow_x": null,
            "overflow_y": null,
            "padding": null,
            "right": null,
            "top": null,
            "visibility": null,
            "width": null
          }
        },
        "b1d06d0373a64fe2ab559f57e26ee1d1": {
          "model_module": "@jupyter-widgets/controls",
          "model_name": "DescriptionStyleModel",
          "model_module_version": "1.5.0",
          "state": {
            "_model_module": "@jupyter-widgets/controls",
            "_model_module_version": "1.5.0",
            "_model_name": "DescriptionStyleModel",
            "_view_count": null,
            "_view_module": "@jupyter-widgets/base",
            "_view_module_version": "1.2.0",
            "_view_name": "StyleView",
            "description_width": ""
          }
        },
        "abc37a76e90e4e89877a719c8fa13079": {
          "model_module": "@jupyter-widgets/base",
          "model_name": "LayoutModel",
          "model_module_version": "1.2.0",
          "state": {
            "_model_module": "@jupyter-widgets/base",
            "_model_module_version": "1.2.0",
            "_model_name": "LayoutModel",
            "_view_count": null,
            "_view_module": "@jupyter-widgets/base",
            "_view_module_version": "1.2.0",
            "_view_name": "LayoutView",
            "align_content": null,
            "align_items": null,
            "align_self": null,
            "border": null,
            "bottom": null,
            "display": null,
            "flex": null,
            "flex_flow": null,
            "grid_area": null,
            "grid_auto_columns": null,
            "grid_auto_flow": null,
            "grid_auto_rows": null,
            "grid_column": null,
            "grid_gap": null,
            "grid_row": null,
            "grid_template_areas": null,
            "grid_template_columns": null,
            "grid_template_rows": null,
            "height": null,
            "justify_content": null,
            "justify_items": null,
            "left": null,
            "margin": null,
            "max_height": null,
            "max_width": null,
            "min_height": null,
            "min_width": null,
            "object_fit": null,
            "object_position": null,
            "order": null,
            "overflow": null,
            "overflow_x": null,
            "overflow_y": null,
            "padding": null,
            "right": null,
            "top": null,
            "visibility": null,
            "width": null
          }
        },
        "78ffc87040074f119b8dad647f34ce7a": {
          "model_module": "@jupyter-widgets/controls",
          "model_name": "ProgressStyleModel",
          "model_module_version": "1.5.0",
          "state": {
            "_model_module": "@jupyter-widgets/controls",
            "_model_module_version": "1.5.0",
            "_model_name": "ProgressStyleModel",
            "_view_count": null,
            "_view_module": "@jupyter-widgets/base",
            "_view_module_version": "1.2.0",
            "_view_name": "StyleView",
            "bar_color": null,
            "description_width": ""
          }
        },
        "4faffe2dd01a42dcb3f0243c24573e7a": {
          "model_module": "@jupyter-widgets/base",
          "model_name": "LayoutModel",
          "model_module_version": "1.2.0",
          "state": {
            "_model_module": "@jupyter-widgets/base",
            "_model_module_version": "1.2.0",
            "_model_name": "LayoutModel",
            "_view_count": null,
            "_view_module": "@jupyter-widgets/base",
            "_view_module_version": "1.2.0",
            "_view_name": "LayoutView",
            "align_content": null,
            "align_items": null,
            "align_self": null,
            "border": null,
            "bottom": null,
            "display": null,
            "flex": null,
            "flex_flow": null,
            "grid_area": null,
            "grid_auto_columns": null,
            "grid_auto_flow": null,
            "grid_auto_rows": null,
            "grid_column": null,
            "grid_gap": null,
            "grid_row": null,
            "grid_template_areas": null,
            "grid_template_columns": null,
            "grid_template_rows": null,
            "height": null,
            "justify_content": null,
            "justify_items": null,
            "left": null,
            "margin": null,
            "max_height": null,
            "max_width": null,
            "min_height": null,
            "min_width": null,
            "object_fit": null,
            "object_position": null,
            "order": null,
            "overflow": null,
            "overflow_x": null,
            "overflow_y": null,
            "padding": null,
            "right": null,
            "top": null,
            "visibility": null,
            "width": null
          }
        },
        "cc52502edeb04ad7add22d0ffbd8ac84": {
          "model_module": "@jupyter-widgets/controls",
          "model_name": "DescriptionStyleModel",
          "model_module_version": "1.5.0",
          "state": {
            "_model_module": "@jupyter-widgets/controls",
            "_model_module_version": "1.5.0",
            "_model_name": "DescriptionStyleModel",
            "_view_count": null,
            "_view_module": "@jupyter-widgets/base",
            "_view_module_version": "1.2.0",
            "_view_name": "StyleView",
            "description_width": ""
          }
        },
        "38b9fbb095614b158f4b03ed48954929": {
          "model_module": "@jupyter-widgets/controls",
          "model_name": "HBoxModel",
          "model_module_version": "1.5.0",
          "state": {
            "_dom_classes": [],
            "_model_module": "@jupyter-widgets/controls",
            "_model_module_version": "1.5.0",
            "_model_name": "HBoxModel",
            "_view_count": null,
            "_view_module": "@jupyter-widgets/controls",
            "_view_module_version": "1.5.0",
            "_view_name": "HBoxView",
            "box_style": "",
            "children": [
              "IPY_MODEL_46edb36806224104be1839d939e8c8d9",
              "IPY_MODEL_c9a5e862acfb46d885239911c545db05",
              "IPY_MODEL_64b29bebce5c470cb050df284f9304f9"
            ],
            "layout": "IPY_MODEL_e0f7906a28d74881bbc4bc876b8c1c76"
          }
        },
        "46edb36806224104be1839d939e8c8d9": {
          "model_module": "@jupyter-widgets/controls",
          "model_name": "HTMLModel",
          "model_module_version": "1.5.0",
          "state": {
            "_dom_classes": [],
            "_model_module": "@jupyter-widgets/controls",
            "_model_module_version": "1.5.0",
            "_model_name": "HTMLModel",
            "_view_count": null,
            "_view_module": "@jupyter-widgets/controls",
            "_view_module_version": "1.5.0",
            "_view_name": "HTMLView",
            "description": "",
            "description_tooltip": null,
            "layout": "IPY_MODEL_beba12bb51db412f9ebd3de286c9ac49",
            "placeholder": "​",
            "style": "IPY_MODEL_44ff98a660c348e599780f79f16090ce",
            "value": "1_Pooling/config.json: 100%"
          }
        },
        "c9a5e862acfb46d885239911c545db05": {
          "model_module": "@jupyter-widgets/controls",
          "model_name": "FloatProgressModel",
          "model_module_version": "1.5.0",
          "state": {
            "_dom_classes": [],
            "_model_module": "@jupyter-widgets/controls",
            "_model_module_version": "1.5.0",
            "_model_name": "FloatProgressModel",
            "_view_count": null,
            "_view_module": "@jupyter-widgets/controls",
            "_view_module_version": "1.5.0",
            "_view_name": "ProgressView",
            "bar_style": "success",
            "description": "",
            "description_tooltip": null,
            "layout": "IPY_MODEL_872beb45c7724c069484298b9f99ba48",
            "max": 190,
            "min": 0,
            "orientation": "horizontal",
            "style": "IPY_MODEL_ca61214d120849d28fec13b99fbf011a",
            "value": 190
          }
        },
        "64b29bebce5c470cb050df284f9304f9": {
          "model_module": "@jupyter-widgets/controls",
          "model_name": "HTMLModel",
          "model_module_version": "1.5.0",
          "state": {
            "_dom_classes": [],
            "_model_module": "@jupyter-widgets/controls",
            "_model_module_version": "1.5.0",
            "_model_name": "HTMLModel",
            "_view_count": null,
            "_view_module": "@jupyter-widgets/controls",
            "_view_module_version": "1.5.0",
            "_view_name": "HTMLView",
            "description": "",
            "description_tooltip": null,
            "layout": "IPY_MODEL_1593b0d00c764bb8a46ee1c8125d1799",
            "placeholder": "​",
            "style": "IPY_MODEL_bcf751051d294a4e8dfa44c0c3c44995",
            "value": " 190/190 [00:00&lt;00:00, 7.57kB/s]"
          }
        },
        "e0f7906a28d74881bbc4bc876b8c1c76": {
          "model_module": "@jupyter-widgets/base",
          "model_name": "LayoutModel",
          "model_module_version": "1.2.0",
          "state": {
            "_model_module": "@jupyter-widgets/base",
            "_model_module_version": "1.2.0",
            "_model_name": "LayoutModel",
            "_view_count": null,
            "_view_module": "@jupyter-widgets/base",
            "_view_module_version": "1.2.0",
            "_view_name": "LayoutView",
            "align_content": null,
            "align_items": null,
            "align_self": null,
            "border": null,
            "bottom": null,
            "display": null,
            "flex": null,
            "flex_flow": null,
            "grid_area": null,
            "grid_auto_columns": null,
            "grid_auto_flow": null,
            "grid_auto_rows": null,
            "grid_column": null,
            "grid_gap": null,
            "grid_row": null,
            "grid_template_areas": null,
            "grid_template_columns": null,
            "grid_template_rows": null,
            "height": null,
            "justify_content": null,
            "justify_items": null,
            "left": null,
            "margin": null,
            "max_height": null,
            "max_width": null,
            "min_height": null,
            "min_width": null,
            "object_fit": null,
            "object_position": null,
            "order": null,
            "overflow": null,
            "overflow_x": null,
            "overflow_y": null,
            "padding": null,
            "right": null,
            "top": null,
            "visibility": null,
            "width": null
          }
        },
        "beba12bb51db412f9ebd3de286c9ac49": {
          "model_module": "@jupyter-widgets/base",
          "model_name": "LayoutModel",
          "model_module_version": "1.2.0",
          "state": {
            "_model_module": "@jupyter-widgets/base",
            "_model_module_version": "1.2.0",
            "_model_name": "LayoutModel",
            "_view_count": null,
            "_view_module": "@jupyter-widgets/base",
            "_view_module_version": "1.2.0",
            "_view_name": "LayoutView",
            "align_content": null,
            "align_items": null,
            "align_self": null,
            "border": null,
            "bottom": null,
            "display": null,
            "flex": null,
            "flex_flow": null,
            "grid_area": null,
            "grid_auto_columns": null,
            "grid_auto_flow": null,
            "grid_auto_rows": null,
            "grid_column": null,
            "grid_gap": null,
            "grid_row": null,
            "grid_template_areas": null,
            "grid_template_columns": null,
            "grid_template_rows": null,
            "height": null,
            "justify_content": null,
            "justify_items": null,
            "left": null,
            "margin": null,
            "max_height": null,
            "max_width": null,
            "min_height": null,
            "min_width": null,
            "object_fit": null,
            "object_position": null,
            "order": null,
            "overflow": null,
            "overflow_x": null,
            "overflow_y": null,
            "padding": null,
            "right": null,
            "top": null,
            "visibility": null,
            "width": null
          }
        },
        "44ff98a660c348e599780f79f16090ce": {
          "model_module": "@jupyter-widgets/controls",
          "model_name": "DescriptionStyleModel",
          "model_module_version": "1.5.0",
          "state": {
            "_model_module": "@jupyter-widgets/controls",
            "_model_module_version": "1.5.0",
            "_model_name": "DescriptionStyleModel",
            "_view_count": null,
            "_view_module": "@jupyter-widgets/base",
            "_view_module_version": "1.2.0",
            "_view_name": "StyleView",
            "description_width": ""
          }
        },
        "872beb45c7724c069484298b9f99ba48": {
          "model_module": "@jupyter-widgets/base",
          "model_name": "LayoutModel",
          "model_module_version": "1.2.0",
          "state": {
            "_model_module": "@jupyter-widgets/base",
            "_model_module_version": "1.2.0",
            "_model_name": "LayoutModel",
            "_view_count": null,
            "_view_module": "@jupyter-widgets/base",
            "_view_module_version": "1.2.0",
            "_view_name": "LayoutView",
            "align_content": null,
            "align_items": null,
            "align_self": null,
            "border": null,
            "bottom": null,
            "display": null,
            "flex": null,
            "flex_flow": null,
            "grid_area": null,
            "grid_auto_columns": null,
            "grid_auto_flow": null,
            "grid_auto_rows": null,
            "grid_column": null,
            "grid_gap": null,
            "grid_row": null,
            "grid_template_areas": null,
            "grid_template_columns": null,
            "grid_template_rows": null,
            "height": null,
            "justify_content": null,
            "justify_items": null,
            "left": null,
            "margin": null,
            "max_height": null,
            "max_width": null,
            "min_height": null,
            "min_width": null,
            "object_fit": null,
            "object_position": null,
            "order": null,
            "overflow": null,
            "overflow_x": null,
            "overflow_y": null,
            "padding": null,
            "right": null,
            "top": null,
            "visibility": null,
            "width": null
          }
        },
        "ca61214d120849d28fec13b99fbf011a": {
          "model_module": "@jupyter-widgets/controls",
          "model_name": "ProgressStyleModel",
          "model_module_version": "1.5.0",
          "state": {
            "_model_module": "@jupyter-widgets/controls",
            "_model_module_version": "1.5.0",
            "_model_name": "ProgressStyleModel",
            "_view_count": null,
            "_view_module": "@jupyter-widgets/base",
            "_view_module_version": "1.2.0",
            "_view_name": "StyleView",
            "bar_color": null,
            "description_width": ""
          }
        },
        "1593b0d00c764bb8a46ee1c8125d1799": {
          "model_module": "@jupyter-widgets/base",
          "model_name": "LayoutModel",
          "model_module_version": "1.2.0",
          "state": {
            "_model_module": "@jupyter-widgets/base",
            "_model_module_version": "1.2.0",
            "_model_name": "LayoutModel",
            "_view_count": null,
            "_view_module": "@jupyter-widgets/base",
            "_view_module_version": "1.2.0",
            "_view_name": "LayoutView",
            "align_content": null,
            "align_items": null,
            "align_self": null,
            "border": null,
            "bottom": null,
            "display": null,
            "flex": null,
            "flex_flow": null,
            "grid_area": null,
            "grid_auto_columns": null,
            "grid_auto_flow": null,
            "grid_auto_rows": null,
            "grid_column": null,
            "grid_gap": null,
            "grid_row": null,
            "grid_template_areas": null,
            "grid_template_columns": null,
            "grid_template_rows": null,
            "height": null,
            "justify_content": null,
            "justify_items": null,
            "left": null,
            "margin": null,
            "max_height": null,
            "max_width": null,
            "min_height": null,
            "min_width": null,
            "object_fit": null,
            "object_position": null,
            "order": null,
            "overflow": null,
            "overflow_x": null,
            "overflow_y": null,
            "padding": null,
            "right": null,
            "top": null,
            "visibility": null,
            "width": null
          }
        },
        "bcf751051d294a4e8dfa44c0c3c44995": {
          "model_module": "@jupyter-widgets/controls",
          "model_name": "DescriptionStyleModel",
          "model_module_version": "1.5.0",
          "state": {
            "_model_module": "@jupyter-widgets/controls",
            "_model_module_version": "1.5.0",
            "_model_name": "DescriptionStyleModel",
            "_view_count": null,
            "_view_module": "@jupyter-widgets/base",
            "_view_module_version": "1.2.0",
            "_view_name": "StyleView",
            "description_width": ""
          }
        }
      }
    }
  },
  "nbformat": 4,
  "nbformat_minor": 0
}